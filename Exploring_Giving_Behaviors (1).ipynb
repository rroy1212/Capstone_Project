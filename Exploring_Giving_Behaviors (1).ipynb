{
  "nbformat": 4,
  "nbformat_minor": 0,
  "metadata": {
    "colab": {
      "name": "Exploring Giving Behaviors.ipynb",
      "provenance": [],
      "collapsed_sections": []
    },
    "kernelspec": {
      "name": "python3",
      "display_name": "Python 3"
    },
    "accelerator": "GPU"
  },
  "cells": [
    {
      "cell_type": "markdown",
      "metadata": {
        "id": "SCWcGS4o9CC_"
      },
      "source": [
        "Suggested STEPS to take:\r\n",
        "1. Check for meaning of the fields\r\n",
        "2. Check for the data structure\r\n",
        "3. Check for duplicates\r\n",
        "4. Check for missing values\r\n",
        "5. Check for field formats\r\n",
        "6. Check for zero values that shouldn't be there\r\n",
        "e.g. age, text, year\r\n",
        "7. Decide which fields are nominal (categorical), ordinal, dummy, interval or ratio\r\n",
        "8. Check for levels of categorical variables\r\n",
        "9. Check for outliers\r\n",
        "10. Check for inconsistencies\r\n",
        "11. Check for hypen, commas, or period in the wrong places\r\n",
        "\r\n",
        "\r\n"
      ]
    },
    {
      "cell_type": "code",
      "metadata": {
        "id": "xuOx5rxqYOLB"
      },
      "source": [
        "import pandas as pd\r\n",
        "import numpy as np\r\n",
        "import matplotlib.pyplot as plt\r\n",
        "plt.rcParams.update({'figure.max_open_warning': 0})\r\n",
        "%matplotlib inline\r\n",
        "import seaborn as sns"
      ],
      "execution_count": null,
      "outputs": []
    },
    {
      "cell_type": "code",
      "metadata": {
        "colab": {
          "base_uri": "https://localhost:8080/"
        },
        "id": "NXxNUa0HWKC0",
        "outputId": "73857e39-0126-4225-b06e-17553b01c36d"
      },
      "source": [
        "# Making a list of missing value types\r\n",
        "missing_values = [\"-\"]\r\n",
        "df = pd.read_csv(\"Bio_Base_Data.csv\", na_values = missing_values)"
      ],
      "execution_count": null,
      "outputs": [
        {
          "output_type": "stream",
          "text": [
            "/usr/local/lib/python3.6/dist-packages/IPython/core/interactiveshell.py:2718: DtypeWarning: Columns (36) have mixed types.Specify dtype option on import or set low_memory=False.\n",
            "  interactivity=interactivity, compiler=compiler, result=result)\n"
          ],
          "name": "stderr"
        }
      ]
    },
    {
      "cell_type": "code",
      "metadata": {
        "colab": {
          "base_uri": "https://localhost:8080/",
          "height": 378
        },
        "id": "4i_-pTjimmFB",
        "outputId": "36ac8092-ba41-44ec-9c75-5f92fbd59158"
      },
      "source": [
        "df.head()"
      ],
      "execution_count": null,
      "outputs": [
        {
          "output_type": "execute_result",
          "data": {
            "text/html": [
              "<div>\n",
              "<style scoped>\n",
              "    .dataframe tbody tr th:only-of-type {\n",
              "        vertical-align: middle;\n",
              "    }\n",
              "\n",
              "    .dataframe tbody tr th {\n",
              "        vertical-align: top;\n",
              "    }\n",
              "\n",
              "    .dataframe thead th {\n",
              "        text-align: right;\n",
              "    }\n",
              "</style>\n",
              "<table border=\"1\" class=\"dataframe\">\n",
              "  <thead>\n",
              "    <tr style=\"text-align: right;\">\n",
              "      <th></th>\n",
              "      <th>RANDOM_ID</th>\n",
              "      <th>AGE</th>\n",
              "      <th>PROFESSIONAL_SUFFIX</th>\n",
              "      <th>PROFESSIONAL_SUFFIX_IND</th>\n",
              "      <th>GENDER</th>\n",
              "      <th>GENERATION</th>\n",
              "      <th>HH_CAPACITY_RANGE</th>\n",
              "      <th>CAMPAIGN_ROLLUP_CAPACITY</th>\n",
              "      <th>LINK_TO_UT</th>\n",
              "      <th>EX_MEMBER</th>\n",
              "      <th>ETHNICITY</th>\n",
              "      <th>MARITAL_STATUS</th>\n",
              "      <th>MSA</th>\n",
              "      <th>PREF_STATE</th>\n",
              "      <th>PREF_ZIPCODE</th>\n",
              "      <th>DEGREE_GR</th>\n",
              "      <th>DEGREE_CF</th>\n",
              "      <th>DEGREE_GL</th>\n",
              "      <th>DEGREE_JS</th>\n",
              "      <th>DEGREE_CO</th>\n",
              "      <th>DEGREE_EN</th>\n",
              "      <th>DEGREE_LO</th>\n",
              "      <th>DEGREE_AT</th>\n",
              "      <th>DEGREE_NS</th>\n",
              "      <th>DEGREE_ED</th>\n",
              "      <th>DEGREE_LJ</th>\n",
              "      <th>DEGREE_NU</th>\n",
              "      <th>DEGREE_LA</th>\n",
              "      <th>DEGREE_PH</th>\n",
              "      <th>DEGREE_SW</th>\n",
              "      <th>UNDERGRAD_IND</th>\n",
              "      <th>POSTGRAD_IND</th>\n",
              "      <th>FIRST_DEGREE</th>\n",
              "      <th>FIRST_DEGYR</th>\n",
              "      <th>SECOND_DEGREE</th>\n",
              "      <th>SECOND_DEGYR</th>\n",
              "      <th>FINAL_DEGREE</th>\n",
              "      <th>FINAL_DEGYR</th>\n",
              "      <th>NUM_DEGREES</th>\n",
              "      <th>MULTI_DEGREE_CSUS_IND</th>\n",
              "      <th>...</th>\n",
              "      <th>GRP_PROD_PH</th>\n",
              "      <th>GRP_PROD_SW</th>\n",
              "      <th>GRP_PROD_TS</th>\n",
              "      <th>GRP_PROD_UG</th>\n",
              "      <th>GRP_PROD_VS</th>\n",
              "      <th>LAST_GIVING_DATE</th>\n",
              "      <th>FIRST_GIVING_DATE</th>\n",
              "      <th>TOTAL_YRS_GIVEN</th>\n",
              "      <th>GIFT_CNT</th>\n",
              "      <th>GRP_CNT_AF</th>\n",
              "      <th>GRP_CNT_AT</th>\n",
              "      <th>GRP_CNT_BL</th>\n",
              "      <th>GRP_CNT_CF</th>\n",
              "      <th>GRP_CNT_CO</th>\n",
              "      <th>GRP_CNT_CQ</th>\n",
              "      <th>GRP_CNT_DB</th>\n",
              "      <th>GRP_CNT_DM</th>\n",
              "      <th>GRP_CNT_ED</th>\n",
              "      <th>GRP_CNT_EN</th>\n",
              "      <th>GRP_CNT_EX</th>\n",
              "      <th>GRP_CNT_GL</th>\n",
              "      <th>GRP_CNT_GR</th>\n",
              "      <th>GRP_CNT_GS</th>\n",
              "      <th>GRP_CNT_HR</th>\n",
              "      <th>GRP_CNT_HY</th>\n",
              "      <th>GRP_CNT_IX</th>\n",
              "      <th>GRP_CNT_JS</th>\n",
              "      <th>GRP_CNT_JW</th>\n",
              "      <th>GRP_CNT_LA</th>\n",
              "      <th>GRP_CNT_LC</th>\n",
              "      <th>GRP_CNT_LJ</th>\n",
              "      <th>GRP_CNT_LO</th>\n",
              "      <th>GRP_CNT_NS</th>\n",
              "      <th>GRP_CNT_NU</th>\n",
              "      <th>GRP_CNT_PH</th>\n",
              "      <th>GRP_CNT_SW</th>\n",
              "      <th>GRP_CNT_TS</th>\n",
              "      <th>GRP_CNT_UG</th>\n",
              "      <th>GRP_CNT_VS</th>\n",
              "      <th>GRP_PG_CNT</th>\n",
              "    </tr>\n",
              "  </thead>\n",
              "  <tbody>\n",
              "    <tr>\n",
              "      <th>0</th>\n",
              "      <td>0YDDHEX2</td>\n",
              "      <td>NaN</td>\n",
              "      <td>NaN</td>\n",
              "      <td>0</td>\n",
              "      <td>F</td>\n",
              "      <td>NaN</td>\n",
              "      <td>10000.0</td>\n",
              "      <td>K - $10K-$24.9K</td>\n",
              "      <td>Friend</td>\n",
              "      <td>Not a Member</td>\n",
              "      <td>NaN</td>\n",
              "      <td>Married</td>\n",
              "      <td>Midwest States</td>\n",
              "      <td>MI</td>\n",
              "      <td>48640-7230</td>\n",
              "      <td>0</td>\n",
              "      <td>0</td>\n",
              "      <td>0</td>\n",
              "      <td>0</td>\n",
              "      <td>0</td>\n",
              "      <td>0</td>\n",
              "      <td>0</td>\n",
              "      <td>0</td>\n",
              "      <td>0</td>\n",
              "      <td>0</td>\n",
              "      <td>0</td>\n",
              "      <td>0</td>\n",
              "      <td>0</td>\n",
              "      <td>0</td>\n",
              "      <td>0</td>\n",
              "      <td>0</td>\n",
              "      <td>0</td>\n",
              "      <td>NaN</td>\n",
              "      <td>0</td>\n",
              "      <td>NaN</td>\n",
              "      <td>0</td>\n",
              "      <td>NaN</td>\n",
              "      <td>0</td>\n",
              "      <td>0</td>\n",
              "      <td>0</td>\n",
              "      <td>...</td>\n",
              "      <td>0.0</td>\n",
              "      <td>0.0</td>\n",
              "      <td>0.0</td>\n",
              "      <td>0.0</td>\n",
              "      <td>0.0</td>\n",
              "      <td>12-Apr-17</td>\n",
              "      <td>12-Apr-90</td>\n",
              "      <td>17</td>\n",
              "      <td>25</td>\n",
              "      <td>0</td>\n",
              "      <td>0</td>\n",
              "      <td>0</td>\n",
              "      <td>0</td>\n",
              "      <td>0</td>\n",
              "      <td>0</td>\n",
              "      <td>1</td>\n",
              "      <td>0</td>\n",
              "      <td>0</td>\n",
              "      <td>0</td>\n",
              "      <td>2</td>\n",
              "      <td>0</td>\n",
              "      <td>21</td>\n",
              "      <td>0</td>\n",
              "      <td>0</td>\n",
              "      <td>0</td>\n",
              "      <td>0</td>\n",
              "      <td>0</td>\n",
              "      <td>0</td>\n",
              "      <td>0</td>\n",
              "      <td>0</td>\n",
              "      <td>0</td>\n",
              "      <td>0</td>\n",
              "      <td>0</td>\n",
              "      <td>0</td>\n",
              "      <td>0</td>\n",
              "      <td>0</td>\n",
              "      <td>0</td>\n",
              "      <td>0</td>\n",
              "      <td>0</td>\n",
              "      <td>0</td>\n",
              "    </tr>\n",
              "    <tr>\n",
              "      <th>1</th>\n",
              "      <td>HCMY2X37</td>\n",
              "      <td>41.0</td>\n",
              "      <td>NaN</td>\n",
              "      <td>0</td>\n",
              "      <td>F</td>\n",
              "      <td>Gen X</td>\n",
              "      <td>10000.0</td>\n",
              "      <td>K - $10K-$24.9K</td>\n",
              "      <td>Parent</td>\n",
              "      <td>Short-term Member</td>\n",
              "      <td>NaN</td>\n",
              "      <td>Married</td>\n",
              "      <td>Texas MidRange Towns</td>\n",
              "      <td>TX</td>\n",
              "      <td>78404-1734</td>\n",
              "      <td>0</td>\n",
              "      <td>0</td>\n",
              "      <td>0</td>\n",
              "      <td>0</td>\n",
              "      <td>0</td>\n",
              "      <td>0</td>\n",
              "      <td>0</td>\n",
              "      <td>0</td>\n",
              "      <td>0</td>\n",
              "      <td>0</td>\n",
              "      <td>0</td>\n",
              "      <td>0</td>\n",
              "      <td>0</td>\n",
              "      <td>0</td>\n",
              "      <td>0</td>\n",
              "      <td>0</td>\n",
              "      <td>0</td>\n",
              "      <td>NaN</td>\n",
              "      <td>0</td>\n",
              "      <td>NaN</td>\n",
              "      <td>0</td>\n",
              "      <td>NaN</td>\n",
              "      <td>0</td>\n",
              "      <td>0</td>\n",
              "      <td>0</td>\n",
              "      <td>...</td>\n",
              "      <td>0.0</td>\n",
              "      <td>0.0</td>\n",
              "      <td>0.0</td>\n",
              "      <td>0.0</td>\n",
              "      <td>0.0</td>\n",
              "      <td>13-Jul-18</td>\n",
              "      <td>23-Feb-77</td>\n",
              "      <td>25</td>\n",
              "      <td>46</td>\n",
              "      <td>0</td>\n",
              "      <td>0</td>\n",
              "      <td>9</td>\n",
              "      <td>0</td>\n",
              "      <td>0</td>\n",
              "      <td>0</td>\n",
              "      <td>1</td>\n",
              "      <td>0</td>\n",
              "      <td>0</td>\n",
              "      <td>0</td>\n",
              "      <td>6</td>\n",
              "      <td>0</td>\n",
              "      <td>0</td>\n",
              "      <td>0</td>\n",
              "      <td>0</td>\n",
              "      <td>0</td>\n",
              "      <td>0</td>\n",
              "      <td>19</td>\n",
              "      <td>0</td>\n",
              "      <td>6</td>\n",
              "      <td>0</td>\n",
              "      <td>0</td>\n",
              "      <td>0</td>\n",
              "      <td>4</td>\n",
              "      <td>0</td>\n",
              "      <td>0</td>\n",
              "      <td>0</td>\n",
              "      <td>0</td>\n",
              "      <td>0</td>\n",
              "      <td>0</td>\n",
              "      <td>0</td>\n",
              "    </tr>\n",
              "    <tr>\n",
              "      <th>2</th>\n",
              "      <td>S49J7SLC</td>\n",
              "      <td>77.0</td>\n",
              "      <td>NaN</td>\n",
              "      <td>0</td>\n",
              "      <td>F</td>\n",
              "      <td>Boomer</td>\n",
              "      <td>NaN</td>\n",
              "      <td>z - Unknown</td>\n",
              "      <td>Friend</td>\n",
              "      <td>Not a Member</td>\n",
              "      <td>NaN</td>\n",
              "      <td>Married</td>\n",
              "      <td>Texas Small Towns</td>\n",
              "      <td>TX</td>\n",
              "      <td>75757-9374</td>\n",
              "      <td>0</td>\n",
              "      <td>0</td>\n",
              "      <td>0</td>\n",
              "      <td>0</td>\n",
              "      <td>0</td>\n",
              "      <td>0</td>\n",
              "      <td>0</td>\n",
              "      <td>0</td>\n",
              "      <td>0</td>\n",
              "      <td>0</td>\n",
              "      <td>0</td>\n",
              "      <td>0</td>\n",
              "      <td>0</td>\n",
              "      <td>0</td>\n",
              "      <td>0</td>\n",
              "      <td>0</td>\n",
              "      <td>0</td>\n",
              "      <td>NaN</td>\n",
              "      <td>0</td>\n",
              "      <td>NaN</td>\n",
              "      <td>0</td>\n",
              "      <td>NaN</td>\n",
              "      <td>0</td>\n",
              "      <td>0</td>\n",
              "      <td>0</td>\n",
              "      <td>...</td>\n",
              "      <td>0.0</td>\n",
              "      <td>0.0</td>\n",
              "      <td>0.0</td>\n",
              "      <td>0.0</td>\n",
              "      <td>0.0</td>\n",
              "      <td>13-Feb-17</td>\n",
              "      <td>1-Aug-86</td>\n",
              "      <td>4</td>\n",
              "      <td>4</td>\n",
              "      <td>0</td>\n",
              "      <td>0</td>\n",
              "      <td>0</td>\n",
              "      <td>1</td>\n",
              "      <td>0</td>\n",
              "      <td>0</td>\n",
              "      <td>0</td>\n",
              "      <td>0</td>\n",
              "      <td>0</td>\n",
              "      <td>0</td>\n",
              "      <td>2</td>\n",
              "      <td>0</td>\n",
              "      <td>0</td>\n",
              "      <td>0</td>\n",
              "      <td>0</td>\n",
              "      <td>0</td>\n",
              "      <td>0</td>\n",
              "      <td>0</td>\n",
              "      <td>0</td>\n",
              "      <td>0</td>\n",
              "      <td>0</td>\n",
              "      <td>0</td>\n",
              "      <td>0</td>\n",
              "      <td>0</td>\n",
              "      <td>0</td>\n",
              "      <td>0</td>\n",
              "      <td>0</td>\n",
              "      <td>0</td>\n",
              "      <td>0</td>\n",
              "      <td>0</td>\n",
              "      <td>0</td>\n",
              "    </tr>\n",
              "    <tr>\n",
              "      <th>3</th>\n",
              "      <td>KKXN2R59</td>\n",
              "      <td>82.0</td>\n",
              "      <td>NaN</td>\n",
              "      <td>0</td>\n",
              "      <td>M</td>\n",
              "      <td>Silent</td>\n",
              "      <td>50000.0</td>\n",
              "      <td>H - $50K-$99.9K</td>\n",
              "      <td>Alumni</td>\n",
              "      <td>Life Member</td>\n",
              "      <td>NaN</td>\n",
              "      <td>Married</td>\n",
              "      <td>Austin Tx</td>\n",
              "      <td>TX</td>\n",
              "      <td>78737-8535</td>\n",
              "      <td>0</td>\n",
              "      <td>0</td>\n",
              "      <td>0</td>\n",
              "      <td>0</td>\n",
              "      <td>0</td>\n",
              "      <td>1</td>\n",
              "      <td>0</td>\n",
              "      <td>0</td>\n",
              "      <td>0</td>\n",
              "      <td>0</td>\n",
              "      <td>0</td>\n",
              "      <td>0</td>\n",
              "      <td>0</td>\n",
              "      <td>0</td>\n",
              "      <td>0</td>\n",
              "      <td>1</td>\n",
              "      <td>0</td>\n",
              "      <td>BS</td>\n",
              "      <td>1962</td>\n",
              "      <td>NaN</td>\n",
              "      <td>0</td>\n",
              "      <td>NaN</td>\n",
              "      <td>0</td>\n",
              "      <td>1</td>\n",
              "      <td>0</td>\n",
              "      <td>...</td>\n",
              "      <td>0.0</td>\n",
              "      <td>0.0</td>\n",
              "      <td>0.0</td>\n",
              "      <td>0.0</td>\n",
              "      <td>0.0</td>\n",
              "      <td>22-Oct-19</td>\n",
              "      <td>5-Mar-80</td>\n",
              "      <td>30</td>\n",
              "      <td>33</td>\n",
              "      <td>0</td>\n",
              "      <td>0</td>\n",
              "      <td>0</td>\n",
              "      <td>3</td>\n",
              "      <td>0</td>\n",
              "      <td>0</td>\n",
              "      <td>0</td>\n",
              "      <td>0</td>\n",
              "      <td>0</td>\n",
              "      <td>29</td>\n",
              "      <td>0</td>\n",
              "      <td>0</td>\n",
              "      <td>0</td>\n",
              "      <td>0</td>\n",
              "      <td>0</td>\n",
              "      <td>0</td>\n",
              "      <td>0</td>\n",
              "      <td>0</td>\n",
              "      <td>0</td>\n",
              "      <td>0</td>\n",
              "      <td>0</td>\n",
              "      <td>0</td>\n",
              "      <td>0</td>\n",
              "      <td>0</td>\n",
              "      <td>0</td>\n",
              "      <td>0</td>\n",
              "      <td>0</td>\n",
              "      <td>0</td>\n",
              "      <td>0</td>\n",
              "      <td>0</td>\n",
              "      <td>0</td>\n",
              "    </tr>\n",
              "    <tr>\n",
              "      <th>4</th>\n",
              "      <td>3S9EALE1</td>\n",
              "      <td>85.0</td>\n",
              "      <td>NaN</td>\n",
              "      <td>0</td>\n",
              "      <td>M</td>\n",
              "      <td>Silent</td>\n",
              "      <td>NaN</td>\n",
              "      <td>z - Unknown</td>\n",
              "      <td>Alumni</td>\n",
              "      <td>Not a Member</td>\n",
              "      <td>NaN</td>\n",
              "      <td>Unknown</td>\n",
              "      <td>Texas Small Towns</td>\n",
              "      <td>TX</td>\n",
              "      <td>77465-9209</td>\n",
              "      <td>0</td>\n",
              "      <td>0</td>\n",
              "      <td>0</td>\n",
              "      <td>0</td>\n",
              "      <td>0</td>\n",
              "      <td>1</td>\n",
              "      <td>0</td>\n",
              "      <td>0</td>\n",
              "      <td>0</td>\n",
              "      <td>0</td>\n",
              "      <td>0</td>\n",
              "      <td>0</td>\n",
              "      <td>0</td>\n",
              "      <td>0</td>\n",
              "      <td>0</td>\n",
              "      <td>1</td>\n",
              "      <td>0</td>\n",
              "      <td>BS</td>\n",
              "      <td>1958</td>\n",
              "      <td>NaN</td>\n",
              "      <td>0</td>\n",
              "      <td>NaN</td>\n",
              "      <td>0</td>\n",
              "      <td>1</td>\n",
              "      <td>0</td>\n",
              "      <td>...</td>\n",
              "      <td>0.0</td>\n",
              "      <td>0.0</td>\n",
              "      <td>0.0</td>\n",
              "      <td>0.0</td>\n",
              "      <td>0.0</td>\n",
              "      <td>20-Oct-19</td>\n",
              "      <td>16-Aug-12</td>\n",
              "      <td>6</td>\n",
              "      <td>9</td>\n",
              "      <td>0</td>\n",
              "      <td>0</td>\n",
              "      <td>0</td>\n",
              "      <td>0</td>\n",
              "      <td>0</td>\n",
              "      <td>0</td>\n",
              "      <td>0</td>\n",
              "      <td>0</td>\n",
              "      <td>0</td>\n",
              "      <td>9</td>\n",
              "      <td>0</td>\n",
              "      <td>0</td>\n",
              "      <td>0</td>\n",
              "      <td>0</td>\n",
              "      <td>0</td>\n",
              "      <td>0</td>\n",
              "      <td>0</td>\n",
              "      <td>0</td>\n",
              "      <td>0</td>\n",
              "      <td>0</td>\n",
              "      <td>0</td>\n",
              "      <td>0</td>\n",
              "      <td>0</td>\n",
              "      <td>0</td>\n",
              "      <td>0</td>\n",
              "      <td>0</td>\n",
              "      <td>0</td>\n",
              "      <td>0</td>\n",
              "      <td>0</td>\n",
              "      <td>0</td>\n",
              "      <td>0</td>\n",
              "    </tr>\n",
              "  </tbody>\n",
              "</table>\n",
              "<p>5 rows × 120 columns</p>\n",
              "</div>"
            ],
            "text/plain": [
              "  RANDOM_ID   AGE PROFESSIONAL_SUFFIX  ...  GRP_CNT_UG GRP_CNT_VS GRP_PG_CNT\n",
              "0  0YDDHEX2   NaN                 NaN  ...           0          0          0\n",
              "1  HCMY2X37  41.0                 NaN  ...           0          0          0\n",
              "2  S49J7SLC  77.0                 NaN  ...           0          0          0\n",
              "3  KKXN2R59  82.0                 NaN  ...           0          0          0\n",
              "4  3S9EALE1  85.0                 NaN  ...           0          0          0\n",
              "\n",
              "[5 rows x 120 columns]"
            ]
          },
          "metadata": {
            "tags": []
          },
          "execution_count": 5
        }
      ]
    },
    {
      "cell_type": "markdown",
      "metadata": {
        "id": "Sc82lC01yjEY"
      },
      "source": [
        ""
      ]
    },
    {
      "cell_type": "code",
      "metadata": {
        "colab": {
          "base_uri": "https://localhost:8080/"
        },
        "id": "5N-O43H9pozE",
        "outputId": "967759c3-9938-4c8e-d0af-40320c4367aa"
      },
      "source": [
        "df.info()"
      ],
      "execution_count": null,
      "outputs": [
        {
          "output_type": "stream",
          "text": [
            "<class 'pandas.core.frame.DataFrame'>\n",
            "RangeIndex: 91631 entries, 0 to 91630\n",
            "Columns: 120 entries, RANDOM_ID to GRP_PG_CNT\n",
            "dtypes: float64(34), int64(68), object(18)\n",
            "memory usage: 83.9+ MB\n"
          ],
          "name": "stdout"
        }
      ]
    },
    {
      "cell_type": "code",
      "metadata": {
        "colab": {
          "base_uri": "https://localhost:8080/"
        },
        "id": "3RtTsmPQqMvq",
        "outputId": "50ddaf3e-2c48-4559-ba73-df0f99a4f7c1"
      },
      "source": [
        "df.shape"
      ],
      "execution_count": null,
      "outputs": [
        {
          "output_type": "execute_result",
          "data": {
            "text/plain": [
              "(91631, 120)"
            ]
          },
          "metadata": {
            "tags": []
          },
          "execution_count": 7
        }
      ]
    },
    {
      "cell_type": "code",
      "metadata": {
        "colab": {
          "base_uri": "https://localhost:8080/"
        },
        "id": "jhBudjizzsAr",
        "outputId": "82c59fcd-9be9-4fde-a17d-d19de293184e"
      },
      "source": [
        "df.dtypes"
      ],
      "execution_count": null,
      "outputs": [
        {
          "output_type": "execute_result",
          "data": {
            "text/plain": [
              "RANDOM_ID                   object\n",
              "AGE                        float64\n",
              "PROFESSIONAL_SUFFIX         object\n",
              "PROFESSIONAL_SUFFIX_IND      int64\n",
              "GENDER                      object\n",
              "                            ...   \n",
              "GRP_CNT_SW                   int64\n",
              "GRP_CNT_TS                   int64\n",
              "GRP_CNT_UG                   int64\n",
              "GRP_CNT_VS                   int64\n",
              "GRP_PG_CNT                   int64\n",
              "Length: 120, dtype: object"
            ]
          },
          "metadata": {
            "tags": []
          },
          "execution_count": 8
        }
      ]
    },
    {
      "cell_type": "code",
      "metadata": {
        "colab": {
          "base_uri": "https://localhost:8080/"
        },
        "id": "FMC3QCxuprDF",
        "outputId": "6eb15f12-06f1-4ceb-b2f5-24997e6cdbe1"
      },
      "source": [
        "# Check the total number of observations in the dataset\r\n",
        "print('Total number of observations in the dataset are:',df.shape[0])"
      ],
      "execution_count": null,
      "outputs": [
        {
          "output_type": "stream",
          "text": [
            "Total number of observations in the dataset are: 91631\n"
          ],
          "name": "stdout"
        }
      ]
    },
    {
      "cell_type": "code",
      "metadata": {
        "colab": {
          "base_uri": "https://localhost:8080/"
        },
        "id": "pmN52xfen9nM",
        "outputId": "d4bdb292-9bee-46b5-c50a-2a200c1e3d7d"
      },
      "source": [
        "# Check for data structure\r\n",
        "count_obj=0\r\n",
        "count_int=0\r\n",
        "count_float=0\r\n",
        "for name,dtypes in df.dtypes.iteritems():\r\n",
        "  print(name, dtypes)\r\n",
        "  if(dtypes=='object'):\r\n",
        "    count_obj+=1\r\n",
        "  if(dtypes=='int64'):\r\n",
        "    count_int+=1\r\n",
        "  if(dtypes=='float64'):\r\n",
        "    count_float+=1\r\n",
        "    \r\n",
        "\r\n",
        "print('\\nThere are total',count_obj,'columns with object datatype.')\r\n",
        "print('\\nThere are total',count_int,'columns with int64 datatype.')\r\n",
        "print('\\nThere are total',count_float,'columns with float64 datatype.')"
      ],
      "execution_count": null,
      "outputs": [
        {
          "output_type": "stream",
          "text": [
            "RANDOM_ID object\n",
            "AGE float64\n",
            "PROFESSIONAL_SUFFIX object\n",
            "PROFESSIONAL_SUFFIX_IND int64\n",
            "GENDER object\n",
            "GENERATION object\n",
            "HH_CAPACITY_RANGE float64\n",
            "CAMPAIGN_ROLLUP_CAPACITY object\n",
            "LINK_TO_UT object\n",
            "EX_MEMBER object\n",
            "ETHNICITY object\n",
            "MARITAL_STATUS object\n",
            "MSA object\n",
            "PREF_STATE object\n",
            "PREF_ZIPCODE object\n",
            "DEGREE_GR int64\n",
            "DEGREE_CF int64\n",
            "DEGREE_GL int64\n",
            "DEGREE_JS int64\n",
            "DEGREE_CO int64\n",
            "DEGREE_EN int64\n",
            "DEGREE_LO int64\n",
            "DEGREE_AT int64\n",
            "DEGREE_NS int64\n",
            "DEGREE_ED int64\n",
            "DEGREE_LJ int64\n",
            "DEGREE_NU int64\n",
            "DEGREE_LA int64\n",
            "DEGREE_PH int64\n",
            "DEGREE_SW int64\n",
            "UNDERGRAD_IND int64\n",
            "POSTGRAD_IND int64\n",
            "FIRST_DEGREE object\n",
            "FIRST_DEGYR int64\n",
            "SECOND_DEGREE object\n",
            "SECOND_DEGYR int64\n",
            "FINAL_DEGREE object\n",
            "FINAL_DEGYR int64\n",
            "NUM_DEGREES int64\n",
            "MULTI_DEGREE_CSUS_IND int64\n",
            "UT_LAST_DEGREE_MAJOR_TITLE object\n",
            "NUMBER_EXT_DEGREE int64\n",
            "STEM_DEGREE int64\n",
            "IS_ALUMNI int64\n",
            "IS_PARENT_OF_ALUMNI int64\n",
            "CHILD_IS_ENROLLED int64\n",
            "IS_SPOUSE_OF_ALUMI int64\n",
            "SPOUSE_IS_ENROLLED int64\n",
            "CURRENT_UT_EMPLOYEE int64\n",
            "PAST_UT_EMPLOYEE int64\n",
            "CURRENT_FACULTY int64\n",
            "CURRENT_STAFF int64\n",
            "GRP_NONMON_GIFTS int64\n",
            "GRP_PG_PROD float64\n",
            "GRP_PROD float64\n",
            "GRP_PROD_AF float64\n",
            "GRP_PROD_AT float64\n",
            "GRP_PROD_BL float64\n",
            "GRP_PROD_CF float64\n",
            "GRP_PROD_CO float64\n",
            "GRP_PROD_CQ float64\n",
            "GRP_PROD_DB float64\n",
            "GRP_PROD_DM float64\n",
            "GRP_PROD_ED float64\n",
            "GRP_PROD_EN float64\n",
            "GRP_PROD_EX float64\n",
            "GRP_PROD_GL float64\n",
            "GRP_PROD_GR float64\n",
            "GRP_PROD_GS float64\n",
            "GRP_PROD_HR float64\n",
            "GRP_PROD_HY float64\n",
            "GRP_PROD_IX float64\n",
            "GRP_PROD_JS float64\n",
            "GRP_PROD_JW float64\n",
            "GRP_PROD_LA float64\n",
            "GRP_PROD_LC float64\n",
            "GRP_PROD_LJ float64\n",
            "GRP_PROD_LO float64\n",
            "GRP_PROD_NS float64\n",
            "GRP_PROD_NU float64\n",
            "GRP_PROD_PH float64\n",
            "GRP_PROD_SW float64\n",
            "GRP_PROD_TS float64\n",
            "GRP_PROD_UG float64\n",
            "GRP_PROD_VS float64\n",
            "LAST_GIVING_DATE object\n",
            "FIRST_GIVING_DATE object\n",
            "TOTAL_YRS_GIVEN int64\n",
            "GIFT_CNT int64\n",
            "GRP_CNT_AF int64\n",
            "GRP_CNT_AT int64\n",
            "GRP_CNT_BL int64\n",
            "GRP_CNT_CF int64\n",
            "GRP_CNT_CO int64\n",
            "GRP_CNT_CQ int64\n",
            "GRP_CNT_DB int64\n",
            "GRP_CNT_DM int64\n",
            "GRP_CNT_ED int64\n",
            "GRP_CNT_EN int64\n",
            "GRP_CNT_EX int64\n",
            "GRP_CNT_GL int64\n",
            "GRP_CNT_GR int64\n",
            "GRP_CNT_GS int64\n",
            "GRP_CNT_HR int64\n",
            "GRP_CNT_HY int64\n",
            "GRP_CNT_IX int64\n",
            "GRP_CNT_JS int64\n",
            "GRP_CNT_JW int64\n",
            "GRP_CNT_LA int64\n",
            "GRP_CNT_LC int64\n",
            "GRP_CNT_LJ int64\n",
            "GRP_CNT_LO int64\n",
            "GRP_CNT_NS int64\n",
            "GRP_CNT_NU int64\n",
            "GRP_CNT_PH int64\n",
            "GRP_CNT_SW int64\n",
            "GRP_CNT_TS int64\n",
            "GRP_CNT_UG int64\n",
            "GRP_CNT_VS int64\n",
            "GRP_PG_CNT int64\n",
            "\n",
            "There are total 18 columns with object datatype.\n",
            "\n",
            "There are total 68 columns with int64 datatype.\n",
            "\n",
            "There are total 34 columns with float64 datatype.\n"
          ],
          "name": "stdout"
        }
      ]
    },
    {
      "cell_type": "code",
      "metadata": {
        "colab": {
          "base_uri": "https://localhost:8080/",
          "height": 331
        },
        "id": "zJ6vlkRLqXuq",
        "outputId": "a09e6e4f-c601-4a2b-aa2c-5c8c990e27ac"
      },
      "source": [
        "df.describe()"
      ],
      "execution_count": null,
      "outputs": [
        {
          "output_type": "execute_result",
          "data": {
            "text/html": [
              "<div>\n",
              "<style scoped>\n",
              "    .dataframe tbody tr th:only-of-type {\n",
              "        vertical-align: middle;\n",
              "    }\n",
              "\n",
              "    .dataframe tbody tr th {\n",
              "        vertical-align: top;\n",
              "    }\n",
              "\n",
              "    .dataframe thead th {\n",
              "        text-align: right;\n",
              "    }\n",
              "</style>\n",
              "<table border=\"1\" class=\"dataframe\">\n",
              "  <thead>\n",
              "    <tr style=\"text-align: right;\">\n",
              "      <th></th>\n",
              "      <th>AGE</th>\n",
              "      <th>PROFESSIONAL_SUFFIX_IND</th>\n",
              "      <th>HH_CAPACITY_RANGE</th>\n",
              "      <th>DEGREE_GR</th>\n",
              "      <th>DEGREE_CF</th>\n",
              "      <th>DEGREE_GL</th>\n",
              "      <th>DEGREE_JS</th>\n",
              "      <th>DEGREE_CO</th>\n",
              "      <th>DEGREE_EN</th>\n",
              "      <th>DEGREE_LO</th>\n",
              "      <th>DEGREE_AT</th>\n",
              "      <th>DEGREE_NS</th>\n",
              "      <th>DEGREE_ED</th>\n",
              "      <th>DEGREE_LJ</th>\n",
              "      <th>DEGREE_NU</th>\n",
              "      <th>DEGREE_LA</th>\n",
              "      <th>DEGREE_PH</th>\n",
              "      <th>DEGREE_SW</th>\n",
              "      <th>UNDERGRAD_IND</th>\n",
              "      <th>POSTGRAD_IND</th>\n",
              "      <th>FIRST_DEGYR</th>\n",
              "      <th>SECOND_DEGYR</th>\n",
              "      <th>FINAL_DEGYR</th>\n",
              "      <th>NUM_DEGREES</th>\n",
              "      <th>MULTI_DEGREE_CSUS_IND</th>\n",
              "      <th>NUMBER_EXT_DEGREE</th>\n",
              "      <th>STEM_DEGREE</th>\n",
              "      <th>IS_ALUMNI</th>\n",
              "      <th>IS_PARENT_OF_ALUMNI</th>\n",
              "      <th>CHILD_IS_ENROLLED</th>\n",
              "      <th>IS_SPOUSE_OF_ALUMI</th>\n",
              "      <th>SPOUSE_IS_ENROLLED</th>\n",
              "      <th>CURRENT_UT_EMPLOYEE</th>\n",
              "      <th>PAST_UT_EMPLOYEE</th>\n",
              "      <th>CURRENT_FACULTY</th>\n",
              "      <th>CURRENT_STAFF</th>\n",
              "      <th>GRP_NONMON_GIFTS</th>\n",
              "      <th>GRP_PG_PROD</th>\n",
              "      <th>GRP_PROD</th>\n",
              "      <th>GRP_PROD_AF</th>\n",
              "      <th>...</th>\n",
              "      <th>GRP_PROD_NS</th>\n",
              "      <th>GRP_PROD_NU</th>\n",
              "      <th>GRP_PROD_PH</th>\n",
              "      <th>GRP_PROD_SW</th>\n",
              "      <th>GRP_PROD_TS</th>\n",
              "      <th>GRP_PROD_UG</th>\n",
              "      <th>GRP_PROD_VS</th>\n",
              "      <th>TOTAL_YRS_GIVEN</th>\n",
              "      <th>GIFT_CNT</th>\n",
              "      <th>GRP_CNT_AF</th>\n",
              "      <th>GRP_CNT_AT</th>\n",
              "      <th>GRP_CNT_BL</th>\n",
              "      <th>GRP_CNT_CF</th>\n",
              "      <th>GRP_CNT_CO</th>\n",
              "      <th>GRP_CNT_CQ</th>\n",
              "      <th>GRP_CNT_DB</th>\n",
              "      <th>GRP_CNT_DM</th>\n",
              "      <th>GRP_CNT_ED</th>\n",
              "      <th>GRP_CNT_EN</th>\n",
              "      <th>GRP_CNT_EX</th>\n",
              "      <th>GRP_CNT_GL</th>\n",
              "      <th>GRP_CNT_GR</th>\n",
              "      <th>GRP_CNT_GS</th>\n",
              "      <th>GRP_CNT_HR</th>\n",
              "      <th>GRP_CNT_HY</th>\n",
              "      <th>GRP_CNT_IX</th>\n",
              "      <th>GRP_CNT_JS</th>\n",
              "      <th>GRP_CNT_JW</th>\n",
              "      <th>GRP_CNT_LA</th>\n",
              "      <th>GRP_CNT_LC</th>\n",
              "      <th>GRP_CNT_LJ</th>\n",
              "      <th>GRP_CNT_LO</th>\n",
              "      <th>GRP_CNT_NS</th>\n",
              "      <th>GRP_CNT_NU</th>\n",
              "      <th>GRP_CNT_PH</th>\n",
              "      <th>GRP_CNT_SW</th>\n",
              "      <th>GRP_CNT_TS</th>\n",
              "      <th>GRP_CNT_UG</th>\n",
              "      <th>GRP_CNT_VS</th>\n",
              "      <th>GRP_PG_CNT</th>\n",
              "    </tr>\n",
              "  </thead>\n",
              "  <tbody>\n",
              "    <tr>\n",
              "      <th>count</th>\n",
              "      <td>71136.000000</td>\n",
              "      <td>91631.000000</td>\n",
              "      <td>4.484900e+04</td>\n",
              "      <td>91631.000000</td>\n",
              "      <td>91631.000000</td>\n",
              "      <td>91631.000000</td>\n",
              "      <td>91631.000000</td>\n",
              "      <td>91631.000000</td>\n",
              "      <td>91631.000000</td>\n",
              "      <td>91631.000000</td>\n",
              "      <td>91631.000000</td>\n",
              "      <td>91631.000000</td>\n",
              "      <td>91631.000000</td>\n",
              "      <td>91631.000000</td>\n",
              "      <td>91631.000000</td>\n",
              "      <td>91631.000000</td>\n",
              "      <td>91631.000000</td>\n",
              "      <td>91631.000000</td>\n",
              "      <td>91631.000000</td>\n",
              "      <td>91631.000000</td>\n",
              "      <td>91631.000000</td>\n",
              "      <td>91631.000000</td>\n",
              "      <td>91631.000000</td>\n",
              "      <td>91631.000000</td>\n",
              "      <td>91631.000000</td>\n",
              "      <td>91631.000000</td>\n",
              "      <td>91631.000000</td>\n",
              "      <td>91631.000000</td>\n",
              "      <td>91631.000000</td>\n",
              "      <td>91631.000000</td>\n",
              "      <td>91631.000000</td>\n",
              "      <td>91631.000000</td>\n",
              "      <td>91631.000000</td>\n",
              "      <td>91631.000000</td>\n",
              "      <td>91631.000000</td>\n",
              "      <td>91631.000000</td>\n",
              "      <td>91631.000000</td>\n",
              "      <td>91631.000000</td>\n",
              "      <td>91631.000000</td>\n",
              "      <td>91631.000000</td>\n",
              "      <td>...</td>\n",
              "      <td>91631.000000</td>\n",
              "      <td>91631.000000</td>\n",
              "      <td>91631.000000</td>\n",
              "      <td>91631.000000</td>\n",
              "      <td>91631.000000</td>\n",
              "      <td>91631.000000</td>\n",
              "      <td>91631.000000</td>\n",
              "      <td>91631.000000</td>\n",
              "      <td>91631.000000</td>\n",
              "      <td>91631.000000</td>\n",
              "      <td>91631.000000</td>\n",
              "      <td>91631.000000</td>\n",
              "      <td>91631.000000</td>\n",
              "      <td>91631.000000</td>\n",
              "      <td>91631.000000</td>\n",
              "      <td>91631.000000</td>\n",
              "      <td>91631.000000</td>\n",
              "      <td>91631.000000</td>\n",
              "      <td>91631.000000</td>\n",
              "      <td>91631.000000</td>\n",
              "      <td>91631.000000</td>\n",
              "      <td>91631.000000</td>\n",
              "      <td>91631.000000</td>\n",
              "      <td>91631.000000</td>\n",
              "      <td>91631.000000</td>\n",
              "      <td>91631.000000</td>\n",
              "      <td>91631.000000</td>\n",
              "      <td>91631.000000</td>\n",
              "      <td>91631.000000</td>\n",
              "      <td>91631.000000</td>\n",
              "      <td>91631.000000</td>\n",
              "      <td>91631.000000</td>\n",
              "      <td>91631.000000</td>\n",
              "      <td>91631.000000</td>\n",
              "      <td>91631.000000</td>\n",
              "      <td>91631.000000</td>\n",
              "      <td>91631.000000</td>\n",
              "      <td>91631.000000</td>\n",
              "      <td>91631.000000</td>\n",
              "      <td>91631.000000</td>\n",
              "    </tr>\n",
              "    <tr>\n",
              "      <th>mean</th>\n",
              "      <td>52.057144</td>\n",
              "      <td>0.084753</td>\n",
              "      <td>5.446509e+04</td>\n",
              "      <td>0.167771</td>\n",
              "      <td>0.020583</td>\n",
              "      <td>0.009069</td>\n",
              "      <td>0.008087</td>\n",
              "      <td>0.044614</td>\n",
              "      <td>0.078074</td>\n",
              "      <td>0.081392</td>\n",
              "      <td>0.010979</td>\n",
              "      <td>0.071024</td>\n",
              "      <td>0.031812</td>\n",
              "      <td>0.013456</td>\n",
              "      <td>0.013969</td>\n",
              "      <td>0.132848</td>\n",
              "      <td>0.015028</td>\n",
              "      <td>0.010924</td>\n",
              "      <td>0.433620</td>\n",
              "      <td>0.282754</td>\n",
              "      <td>1269.360173</td>\n",
              "      <td>240.548330</td>\n",
              "      <td>23.555129</td>\n",
              "      <td>0.769434</td>\n",
              "      <td>0.070064</td>\n",
              "      <td>0.065971</td>\n",
              "      <td>0.189128</td>\n",
              "      <td>0.636488</td>\n",
              "      <td>0.115158</td>\n",
              "      <td>0.041296</td>\n",
              "      <td>0.193744</td>\n",
              "      <td>0.000120</td>\n",
              "      <td>0.075739</td>\n",
              "      <td>0.189292</td>\n",
              "      <td>0.038000</td>\n",
              "      <td>0.061300</td>\n",
              "      <td>0.027272</td>\n",
              "      <td>4.543710</td>\n",
              "      <td>2034.335711</td>\n",
              "      <td>6.551640</td>\n",
              "      <td>...</td>\n",
              "      <td>160.313983</td>\n",
              "      <td>17.632096</td>\n",
              "      <td>38.237526</td>\n",
              "      <td>13.846934</td>\n",
              "      <td>153.849453</td>\n",
              "      <td>2.024816</td>\n",
              "      <td>42.388781</td>\n",
              "      <td>7.366972</td>\n",
              "      <td>14.155613</td>\n",
              "      <td>0.035010</td>\n",
              "      <td>0.103939</td>\n",
              "      <td>0.252546</td>\n",
              "      <td>0.431546</td>\n",
              "      <td>0.278159</td>\n",
              "      <td>0.015486</td>\n",
              "      <td>0.254892</td>\n",
              "      <td>0.055091</td>\n",
              "      <td>0.242352</td>\n",
              "      <td>0.837664</td>\n",
              "      <td>1.703768</td>\n",
              "      <td>0.081032</td>\n",
              "      <td>1.116162</td>\n",
              "      <td>0.006450</td>\n",
              "      <td>0.057732</td>\n",
              "      <td>0.000567</td>\n",
              "      <td>0.028626</td>\n",
              "      <td>0.092960</td>\n",
              "      <td>0.249239</td>\n",
              "      <td>0.795801</td>\n",
              "      <td>0.034639</td>\n",
              "      <td>0.083913</td>\n",
              "      <td>0.882867</td>\n",
              "      <td>0.800166</td>\n",
              "      <td>0.142725</td>\n",
              "      <td>0.181925</td>\n",
              "      <td>0.100108</td>\n",
              "      <td>4.212897</td>\n",
              "      <td>0.003590</td>\n",
              "      <td>0.300521</td>\n",
              "      <td>0.001048</td>\n",
              "    </tr>\n",
              "    <tr>\n",
              "      <th>std</th>\n",
              "      <td>17.325438</td>\n",
              "      <td>0.278515</td>\n",
              "      <td>7.157145e+05</td>\n",
              "      <td>0.373665</td>\n",
              "      <td>0.141983</td>\n",
              "      <td>0.094799</td>\n",
              "      <td>0.089563</td>\n",
              "      <td>0.206455</td>\n",
              "      <td>0.268289</td>\n",
              "      <td>0.273437</td>\n",
              "      <td>0.104204</td>\n",
              "      <td>0.256866</td>\n",
              "      <td>0.175501</td>\n",
              "      <td>0.115218</td>\n",
              "      <td>0.117363</td>\n",
              "      <td>0.339412</td>\n",
              "      <td>0.121663</td>\n",
              "      <td>0.103947</td>\n",
              "      <td>0.495577</td>\n",
              "      <td>0.450340</td>\n",
              "      <td>959.391588</td>\n",
              "      <td>649.983794</td>\n",
              "      <td>215.693184</td>\n",
              "      <td>0.685452</td>\n",
              "      <td>0.255256</td>\n",
              "      <td>0.318072</td>\n",
              "      <td>0.391613</td>\n",
              "      <td>0.481013</td>\n",
              "      <td>0.319214</td>\n",
              "      <td>0.198975</td>\n",
              "      <td>0.395233</td>\n",
              "      <td>0.010956</td>\n",
              "      <td>0.264581</td>\n",
              "      <td>0.391742</td>\n",
              "      <td>0.191198</td>\n",
              "      <td>0.239881</td>\n",
              "      <td>0.162877</td>\n",
              "      <td>231.514897</td>\n",
              "      <td>3905.714331</td>\n",
              "      <td>154.535205</td>\n",
              "      <td>...</td>\n",
              "      <td>1004.948527</td>\n",
              "      <td>317.158806</td>\n",
              "      <td>506.186057</td>\n",
              "      <td>272.534749</td>\n",
              "      <td>799.592744</td>\n",
              "      <td>112.383106</td>\n",
              "      <td>296.066581</td>\n",
              "      <td>7.987831</td>\n",
              "      <td>23.722997</td>\n",
              "      <td>0.337054</td>\n",
              "      <td>1.209326</td>\n",
              "      <td>1.600068</td>\n",
              "      <td>2.215948</td>\n",
              "      <td>1.578629</td>\n",
              "      <td>0.305949</td>\n",
              "      <td>1.095409</td>\n",
              "      <td>0.375006</td>\n",
              "      <td>1.847637</td>\n",
              "      <td>3.659951</td>\n",
              "      <td>4.833417</td>\n",
              "      <td>1.126658</td>\n",
              "      <td>3.643687</td>\n",
              "      <td>0.109825</td>\n",
              "      <td>0.697610</td>\n",
              "      <td>0.047181</td>\n",
              "      <td>0.378223</td>\n",
              "      <td>1.268367</td>\n",
              "      <td>1.458913</td>\n",
              "      <td>3.167309</td>\n",
              "      <td>0.504114</td>\n",
              "      <td>0.968182</td>\n",
              "      <td>3.888739</td>\n",
              "      <td>3.407889</td>\n",
              "      <td>1.600568</td>\n",
              "      <td>1.838537</td>\n",
              "      <td>1.119766</td>\n",
              "      <td>17.834504</td>\n",
              "      <td>0.094934</td>\n",
              "      <td>0.990039</td>\n",
              "      <td>0.033673</td>\n",
              "    </tr>\n",
              "    <tr>\n",
              "      <th>min</th>\n",
              "      <td>0.000000</td>\n",
              "      <td>0.000000</td>\n",
              "      <td>1.000000e+04</td>\n",
              "      <td>0.000000</td>\n",
              "      <td>0.000000</td>\n",
              "      <td>0.000000</td>\n",
              "      <td>0.000000</td>\n",
              "      <td>0.000000</td>\n",
              "      <td>0.000000</td>\n",
              "      <td>0.000000</td>\n",
              "      <td>0.000000</td>\n",
              "      <td>0.000000</td>\n",
              "      <td>0.000000</td>\n",
              "      <td>0.000000</td>\n",
              "      <td>0.000000</td>\n",
              "      <td>0.000000</td>\n",
              "      <td>0.000000</td>\n",
              "      <td>0.000000</td>\n",
              "      <td>0.000000</td>\n",
              "      <td>0.000000</td>\n",
              "      <td>0.000000</td>\n",
              "      <td>0.000000</td>\n",
              "      <td>0.000000</td>\n",
              "      <td>0.000000</td>\n",
              "      <td>0.000000</td>\n",
              "      <td>0.000000</td>\n",
              "      <td>0.000000</td>\n",
              "      <td>0.000000</td>\n",
              "      <td>0.000000</td>\n",
              "      <td>0.000000</td>\n",
              "      <td>0.000000</td>\n",
              "      <td>0.000000</td>\n",
              "      <td>0.000000</td>\n",
              "      <td>0.000000</td>\n",
              "      <td>0.000000</td>\n",
              "      <td>0.000000</td>\n",
              "      <td>0.000000</td>\n",
              "      <td>0.000000</td>\n",
              "      <td>0.500000</td>\n",
              "      <td>0.000000</td>\n",
              "      <td>...</td>\n",
              "      <td>0.000000</td>\n",
              "      <td>0.000000</td>\n",
              "      <td>0.000000</td>\n",
              "      <td>0.000000</td>\n",
              "      <td>0.000000</td>\n",
              "      <td>0.000000</td>\n",
              "      <td>0.000000</td>\n",
              "      <td>1.000000</td>\n",
              "      <td>1.000000</td>\n",
              "      <td>0.000000</td>\n",
              "      <td>0.000000</td>\n",
              "      <td>0.000000</td>\n",
              "      <td>0.000000</td>\n",
              "      <td>0.000000</td>\n",
              "      <td>0.000000</td>\n",
              "      <td>0.000000</td>\n",
              "      <td>0.000000</td>\n",
              "      <td>0.000000</td>\n",
              "      <td>0.000000</td>\n",
              "      <td>0.000000</td>\n",
              "      <td>0.000000</td>\n",
              "      <td>0.000000</td>\n",
              "      <td>0.000000</td>\n",
              "      <td>0.000000</td>\n",
              "      <td>0.000000</td>\n",
              "      <td>0.000000</td>\n",
              "      <td>0.000000</td>\n",
              "      <td>0.000000</td>\n",
              "      <td>0.000000</td>\n",
              "      <td>0.000000</td>\n",
              "      <td>0.000000</td>\n",
              "      <td>0.000000</td>\n",
              "      <td>0.000000</td>\n",
              "      <td>0.000000</td>\n",
              "      <td>0.000000</td>\n",
              "      <td>0.000000</td>\n",
              "      <td>0.000000</td>\n",
              "      <td>0.000000</td>\n",
              "      <td>0.000000</td>\n",
              "      <td>0.000000</td>\n",
              "    </tr>\n",
              "    <tr>\n",
              "      <th>25%</th>\n",
              "      <td>37.000000</td>\n",
              "      <td>0.000000</td>\n",
              "      <td>1.000000e+04</td>\n",
              "      <td>0.000000</td>\n",
              "      <td>0.000000</td>\n",
              "      <td>0.000000</td>\n",
              "      <td>0.000000</td>\n",
              "      <td>0.000000</td>\n",
              "      <td>0.000000</td>\n",
              "      <td>0.000000</td>\n",
              "      <td>0.000000</td>\n",
              "      <td>0.000000</td>\n",
              "      <td>0.000000</td>\n",
              "      <td>0.000000</td>\n",
              "      <td>0.000000</td>\n",
              "      <td>0.000000</td>\n",
              "      <td>0.000000</td>\n",
              "      <td>0.000000</td>\n",
              "      <td>0.000000</td>\n",
              "      <td>0.000000</td>\n",
              "      <td>0.000000</td>\n",
              "      <td>0.000000</td>\n",
              "      <td>0.000000</td>\n",
              "      <td>0.000000</td>\n",
              "      <td>0.000000</td>\n",
              "      <td>0.000000</td>\n",
              "      <td>0.000000</td>\n",
              "      <td>0.000000</td>\n",
              "      <td>0.000000</td>\n",
              "      <td>0.000000</td>\n",
              "      <td>0.000000</td>\n",
              "      <td>0.000000</td>\n",
              "      <td>0.000000</td>\n",
              "      <td>0.000000</td>\n",
              "      <td>0.000000</td>\n",
              "      <td>0.000000</td>\n",
              "      <td>0.000000</td>\n",
              "      <td>0.000000</td>\n",
              "      <td>100.000000</td>\n",
              "      <td>0.000000</td>\n",
              "      <td>...</td>\n",
              "      <td>0.000000</td>\n",
              "      <td>0.000000</td>\n",
              "      <td>0.000000</td>\n",
              "      <td>0.000000</td>\n",
              "      <td>0.000000</td>\n",
              "      <td>0.000000</td>\n",
              "      <td>0.000000</td>\n",
              "      <td>1.000000</td>\n",
              "      <td>2.000000</td>\n",
              "      <td>0.000000</td>\n",
              "      <td>0.000000</td>\n",
              "      <td>0.000000</td>\n",
              "      <td>0.000000</td>\n",
              "      <td>0.000000</td>\n",
              "      <td>0.000000</td>\n",
              "      <td>0.000000</td>\n",
              "      <td>0.000000</td>\n",
              "      <td>0.000000</td>\n",
              "      <td>0.000000</td>\n",
              "      <td>0.000000</td>\n",
              "      <td>0.000000</td>\n",
              "      <td>0.000000</td>\n",
              "      <td>0.000000</td>\n",
              "      <td>0.000000</td>\n",
              "      <td>0.000000</td>\n",
              "      <td>0.000000</td>\n",
              "      <td>0.000000</td>\n",
              "      <td>0.000000</td>\n",
              "      <td>0.000000</td>\n",
              "      <td>0.000000</td>\n",
              "      <td>0.000000</td>\n",
              "      <td>0.000000</td>\n",
              "      <td>0.000000</td>\n",
              "      <td>0.000000</td>\n",
              "      <td>0.000000</td>\n",
              "      <td>0.000000</td>\n",
              "      <td>0.000000</td>\n",
              "      <td>0.000000</td>\n",
              "      <td>0.000000</td>\n",
              "      <td>0.000000</td>\n",
              "    </tr>\n",
              "    <tr>\n",
              "      <th>50%</th>\n",
              "      <td>52.000000</td>\n",
              "      <td>0.000000</td>\n",
              "      <td>2.500000e+04</td>\n",
              "      <td>0.000000</td>\n",
              "      <td>0.000000</td>\n",
              "      <td>0.000000</td>\n",
              "      <td>0.000000</td>\n",
              "      <td>0.000000</td>\n",
              "      <td>0.000000</td>\n",
              "      <td>0.000000</td>\n",
              "      <td>0.000000</td>\n",
              "      <td>0.000000</td>\n",
              "      <td>0.000000</td>\n",
              "      <td>0.000000</td>\n",
              "      <td>0.000000</td>\n",
              "      <td>0.000000</td>\n",
              "      <td>0.000000</td>\n",
              "      <td>0.000000</td>\n",
              "      <td>0.000000</td>\n",
              "      <td>0.000000</td>\n",
              "      <td>1979.000000</td>\n",
              "      <td>0.000000</td>\n",
              "      <td>0.000000</td>\n",
              "      <td>1.000000</td>\n",
              "      <td>0.000000</td>\n",
              "      <td>0.000000</td>\n",
              "      <td>0.000000</td>\n",
              "      <td>1.000000</td>\n",
              "      <td>0.000000</td>\n",
              "      <td>0.000000</td>\n",
              "      <td>0.000000</td>\n",
              "      <td>0.000000</td>\n",
              "      <td>0.000000</td>\n",
              "      <td>0.000000</td>\n",
              "      <td>0.000000</td>\n",
              "      <td>0.000000</td>\n",
              "      <td>0.000000</td>\n",
              "      <td>0.000000</td>\n",
              "      <td>500.000000</td>\n",
              "      <td>0.000000</td>\n",
              "      <td>...</td>\n",
              "      <td>0.000000</td>\n",
              "      <td>0.000000</td>\n",
              "      <td>0.000000</td>\n",
              "      <td>0.000000</td>\n",
              "      <td>0.000000</td>\n",
              "      <td>0.000000</td>\n",
              "      <td>0.000000</td>\n",
              "      <td>4.000000</td>\n",
              "      <td>5.000000</td>\n",
              "      <td>0.000000</td>\n",
              "      <td>0.000000</td>\n",
              "      <td>0.000000</td>\n",
              "      <td>0.000000</td>\n",
              "      <td>0.000000</td>\n",
              "      <td>0.000000</td>\n",
              "      <td>0.000000</td>\n",
              "      <td>0.000000</td>\n",
              "      <td>0.000000</td>\n",
              "      <td>0.000000</td>\n",
              "      <td>0.000000</td>\n",
              "      <td>0.000000</td>\n",
              "      <td>0.000000</td>\n",
              "      <td>0.000000</td>\n",
              "      <td>0.000000</td>\n",
              "      <td>0.000000</td>\n",
              "      <td>0.000000</td>\n",
              "      <td>0.000000</td>\n",
              "      <td>0.000000</td>\n",
              "      <td>0.000000</td>\n",
              "      <td>0.000000</td>\n",
              "      <td>0.000000</td>\n",
              "      <td>0.000000</td>\n",
              "      <td>0.000000</td>\n",
              "      <td>0.000000</td>\n",
              "      <td>0.000000</td>\n",
              "      <td>0.000000</td>\n",
              "      <td>0.000000</td>\n",
              "      <td>0.000000</td>\n",
              "      <td>0.000000</td>\n",
              "      <td>0.000000</td>\n",
              "    </tr>\n",
              "    <tr>\n",
              "      <th>75%</th>\n",
              "      <td>65.000000</td>\n",
              "      <td>0.000000</td>\n",
              "      <td>5.000000e+04</td>\n",
              "      <td>0.000000</td>\n",
              "      <td>0.000000</td>\n",
              "      <td>0.000000</td>\n",
              "      <td>0.000000</td>\n",
              "      <td>0.000000</td>\n",
              "      <td>0.000000</td>\n",
              "      <td>0.000000</td>\n",
              "      <td>0.000000</td>\n",
              "      <td>0.000000</td>\n",
              "      <td>0.000000</td>\n",
              "      <td>0.000000</td>\n",
              "      <td>0.000000</td>\n",
              "      <td>0.000000</td>\n",
              "      <td>0.000000</td>\n",
              "      <td>0.000000</td>\n",
              "      <td>1.000000</td>\n",
              "      <td>1.000000</td>\n",
              "      <td>2002.000000</td>\n",
              "      <td>0.000000</td>\n",
              "      <td>0.000000</td>\n",
              "      <td>1.000000</td>\n",
              "      <td>0.000000</td>\n",
              "      <td>0.000000</td>\n",
              "      <td>0.000000</td>\n",
              "      <td>1.000000</td>\n",
              "      <td>0.000000</td>\n",
              "      <td>0.000000</td>\n",
              "      <td>0.000000</td>\n",
              "      <td>0.000000</td>\n",
              "      <td>0.000000</td>\n",
              "      <td>0.000000</td>\n",
              "      <td>0.000000</td>\n",
              "      <td>0.000000</td>\n",
              "      <td>0.000000</td>\n",
              "      <td>0.000000</td>\n",
              "      <td>1901.000000</td>\n",
              "      <td>0.000000</td>\n",
              "      <td>...</td>\n",
              "      <td>0.000000</td>\n",
              "      <td>0.000000</td>\n",
              "      <td>0.000000</td>\n",
              "      <td>0.000000</td>\n",
              "      <td>0.000000</td>\n",
              "      <td>0.000000</td>\n",
              "      <td>0.000000</td>\n",
              "      <td>11.000000</td>\n",
              "      <td>16.000000</td>\n",
              "      <td>0.000000</td>\n",
              "      <td>0.000000</td>\n",
              "      <td>0.000000</td>\n",
              "      <td>0.000000</td>\n",
              "      <td>0.000000</td>\n",
              "      <td>0.000000</td>\n",
              "      <td>0.000000</td>\n",
              "      <td>0.000000</td>\n",
              "      <td>0.000000</td>\n",
              "      <td>0.000000</td>\n",
              "      <td>1.000000</td>\n",
              "      <td>0.000000</td>\n",
              "      <td>0.000000</td>\n",
              "      <td>0.000000</td>\n",
              "      <td>0.000000</td>\n",
              "      <td>0.000000</td>\n",
              "      <td>0.000000</td>\n",
              "      <td>0.000000</td>\n",
              "      <td>0.000000</td>\n",
              "      <td>0.000000</td>\n",
              "      <td>0.000000</td>\n",
              "      <td>0.000000</td>\n",
              "      <td>0.000000</td>\n",
              "      <td>0.000000</td>\n",
              "      <td>0.000000</td>\n",
              "      <td>0.000000</td>\n",
              "      <td>0.000000</td>\n",
              "      <td>0.000000</td>\n",
              "      <td>0.000000</td>\n",
              "      <td>0.000000</td>\n",
              "      <td>0.000000</td>\n",
              "    </tr>\n",
              "    <tr>\n",
              "      <th>max</th>\n",
              "      <td>108.000000</td>\n",
              "      <td>1.000000</td>\n",
              "      <td>1.000000e+08</td>\n",
              "      <td>1.000000</td>\n",
              "      <td>1.000000</td>\n",
              "      <td>1.000000</td>\n",
              "      <td>1.000000</td>\n",
              "      <td>1.000000</td>\n",
              "      <td>1.000000</td>\n",
              "      <td>1.000000</td>\n",
              "      <td>1.000000</td>\n",
              "      <td>1.000000</td>\n",
              "      <td>1.000000</td>\n",
              "      <td>1.000000</td>\n",
              "      <td>1.000000</td>\n",
              "      <td>1.000000</td>\n",
              "      <td>1.000000</td>\n",
              "      <td>1.000000</td>\n",
              "      <td>1.000000</td>\n",
              "      <td>1.000000</td>\n",
              "      <td>2020.000000</td>\n",
              "      <td>2020.000000</td>\n",
              "      <td>2020.000000</td>\n",
              "      <td>6.000000</td>\n",
              "      <td>1.000000</td>\n",
              "      <td>5.000000</td>\n",
              "      <td>1.000000</td>\n",
              "      <td>1.000000</td>\n",
              "      <td>1.000000</td>\n",
              "      <td>1.000000</td>\n",
              "      <td>1.000000</td>\n",
              "      <td>1.000000</td>\n",
              "      <td>1.000000</td>\n",
              "      <td>1.000000</td>\n",
              "      <td>1.000000</td>\n",
              "      <td>1.000000</td>\n",
              "      <td>1.000000</td>\n",
              "      <td>20000.000000</td>\n",
              "      <td>25000.000000</td>\n",
              "      <td>20000.000000</td>\n",
              "      <td>...</td>\n",
              "      <td>25000.000000</td>\n",
              "      <td>21875.000000</td>\n",
              "      <td>23779.920000</td>\n",
              "      <td>25000.000000</td>\n",
              "      <td>22329.000000</td>\n",
              "      <td>15000.000000</td>\n",
              "      <td>22000.000000</td>\n",
              "      <td>45.000000</td>\n",
              "      <td>322.000000</td>\n",
              "      <td>20.000000</td>\n",
              "      <td>53.000000</td>\n",
              "      <td>38.000000</td>\n",
              "      <td>154.000000</td>\n",
              "      <td>59.000000</td>\n",
              "      <td>32.000000</td>\n",
              "      <td>68.000000</td>\n",
              "      <td>45.000000</td>\n",
              "      <td>49.000000</td>\n",
              "      <td>118.000000</td>\n",
              "      <td>82.000000</td>\n",
              "      <td>49.000000</td>\n",
              "      <td>107.000000</td>\n",
              "      <td>6.000000</td>\n",
              "      <td>36.000000</td>\n",
              "      <td>12.000000</td>\n",
              "      <td>28.000000</td>\n",
              "      <td>109.000000</td>\n",
              "      <td>42.000000</td>\n",
              "      <td>155.000000</td>\n",
              "      <td>34.000000</td>\n",
              "      <td>72.000000</td>\n",
              "      <td>120.000000</td>\n",
              "      <td>225.000000</td>\n",
              "      <td>73.000000</td>\n",
              "      <td>89.000000</td>\n",
              "      <td>46.000000</td>\n",
              "      <td>261.000000</td>\n",
              "      <td>9.000000</td>\n",
              "      <td>57.000000</td>\n",
              "      <td>2.000000</td>\n",
              "    </tr>\n",
              "  </tbody>\n",
              "</table>\n",
              "<p>8 rows × 102 columns</p>\n",
              "</div>"
            ],
            "text/plain": [
              "                AGE  PROFESSIONAL_SUFFIX_IND  ...    GRP_CNT_VS    GRP_PG_CNT\n",
              "count  71136.000000             91631.000000  ...  91631.000000  91631.000000\n",
              "mean      52.057144                 0.084753  ...      0.300521      0.001048\n",
              "std       17.325438                 0.278515  ...      0.990039      0.033673\n",
              "min        0.000000                 0.000000  ...      0.000000      0.000000\n",
              "25%       37.000000                 0.000000  ...      0.000000      0.000000\n",
              "50%       52.000000                 0.000000  ...      0.000000      0.000000\n",
              "75%       65.000000                 0.000000  ...      0.000000      0.000000\n",
              "max      108.000000                 1.000000  ...     57.000000      2.000000\n",
              "\n",
              "[8 rows x 102 columns]"
            ]
          },
          "metadata": {
            "tags": []
          },
          "execution_count": 11
        }
      ]
    },
    {
      "cell_type": "code",
      "metadata": {
        "colab": {
          "base_uri": "https://localhost:8080/"
        },
        "id": "gZ8peKTGqbqf",
        "outputId": "c9be7ff4-dab2-421e-9bf2-d9be341e1f21"
      },
      "source": [
        "# Check if data has duplicate entries\r\n",
        "\r\n",
        "print(df.shape)\r\n",
        "df = df.drop_duplicates(keep='first')\r\n",
        "print('Shape after dropping the values: ',df.shape)"
      ],
      "execution_count": null,
      "outputs": [
        {
          "output_type": "stream",
          "text": [
            "(91631, 120)\n",
            "Shape after dropping the values:  (91631, 120)\n"
          ],
          "name": "stdout"
        }
      ]
    },
    {
      "cell_type": "markdown",
      "metadata": {
        "id": "oLfKwY8R3x55"
      },
      "source": [
        "No duplicate entries found"
      ]
    },
    {
      "cell_type": "code",
      "metadata": {
        "colab": {
          "base_uri": "https://localhost:8080/"
        },
        "id": "ZRZOdw4y3s6e",
        "outputId": "89b66845-baac-4669-b416-f8b1d918a111"
      },
      "source": [
        "# Check for missing values\r\n",
        "# if it's a larger dataset and the visualization takes too long can do this.\r\n",
        "# % of missing.\r\n",
        "for col in df.columns:\r\n",
        "    nullcount = df[col].isnull().sum()\r\n",
        "    pct_missing = np.mean(df[col].isnull())\r\n",
        "    if(pct_missing>0):\r\n",
        "      print('{} {} - {}%'.format(col, nullcount, round(pct_missing*100)))\r\n",
        "   "
      ],
      "execution_count": null,
      "outputs": [
        {
          "output_type": "stream",
          "text": [
            "AGE 20495 - 22%\n",
            "PROFESSIONAL_SUFFIX 83865 - 92%\n",
            "GENDER 473 - 1%\n",
            "GENERATION 20495 - 22%\n",
            "HH_CAPACITY_RANGE 46782 - 51%\n",
            "EX_MEMBER 319 - 0%\n",
            "ETHNICITY 41541 - 45%\n",
            "MARITAL_STATUS 2305 - 3%\n",
            "PREF_STATE 1434 - 2%\n",
            "PREF_ZIPCODE 507 - 1%\n",
            "FIRST_DEGREE 33309 - 36%\n",
            "SECOND_DEGREE 80592 - 88%\n",
            "FINAL_DEGREE 90551 - 99%\n"
          ],
          "name": "stdout"
        }
      ]
    },
    {
      "cell_type": "code",
      "metadata": {
        "colab": {
          "base_uri": "https://localhost:8080/"
        },
        "id": "yoGsM6Jm_csG",
        "outputId": "d7a17eca-5984-4e7f-8c57-6996a0ebc678"
      },
      "source": [
        "for col in df.columns:\r\n",
        "  print(col)"
      ],
      "execution_count": null,
      "outputs": [
        {
          "output_type": "stream",
          "text": [
            "RANDOM_ID\n",
            "AGE\n",
            "PROFESSIONAL_SUFFIX\n",
            "PROFESSIONAL_SUFFIX_IND\n",
            "GENDER\n",
            "GENERATION\n",
            "HH_CAPACITY_RANGE\n",
            "CAMPAIGN_ROLLUP_CAPACITY\n",
            "LINK_TO_UT\n",
            "EX_MEMBER\n",
            "ETHNICITY\n",
            "MARITAL_STATUS\n",
            "MSA\n",
            "PREF_STATE\n",
            "PREF_ZIPCODE\n",
            "DEGREE_GR\n",
            "DEGREE_CF\n",
            "DEGREE_GL\n",
            "DEGREE_JS\n",
            "DEGREE_CO\n",
            "DEGREE_EN\n",
            "DEGREE_LO\n",
            "DEGREE_AT\n",
            "DEGREE_NS\n",
            "DEGREE_ED\n",
            "DEGREE_LJ\n",
            "DEGREE_NU\n",
            "DEGREE_LA\n",
            "DEGREE_PH\n",
            "DEGREE_SW\n",
            "UNDERGRAD_IND\n",
            "POSTGRAD_IND\n",
            "FIRST_DEGREE\n",
            "FIRST_DEGYR\n",
            "SECOND_DEGREE\n",
            "SECOND_DEGYR\n",
            "FINAL_DEGREE\n",
            "FINAL_DEGYR\n",
            "NUM_DEGREES\n",
            "MULTI_DEGREE_CSUS_IND\n",
            "UT_LAST_DEGREE_MAJOR_TITLE\n",
            "NUMBER_EXT_DEGREE\n",
            "STEM_DEGREE\n",
            "IS_ALUMNI\n",
            "IS_PARENT_OF_ALUMNI\n",
            "CHILD_IS_ENROLLED\n",
            "IS_SPOUSE_OF_ALUMI\n",
            "SPOUSE_IS_ENROLLED\n",
            "CURRENT_UT_EMPLOYEE\n",
            "PAST_UT_EMPLOYEE\n",
            "CURRENT_FACULTY\n",
            "CURRENT_STAFF\n",
            "GRP_NONMON_GIFTS\n",
            "GRP_PG_PROD\n",
            "GRP_PROD\n",
            "GRP_PROD_AF\n",
            "GRP_PROD_AT\n",
            "GRP_PROD_BL\n",
            "GRP_PROD_CF\n",
            "GRP_PROD_CO\n",
            "GRP_PROD_CQ\n",
            "GRP_PROD_DB\n",
            "GRP_PROD_DM\n",
            "GRP_PROD_ED\n",
            "GRP_PROD_EN\n",
            "GRP_PROD_EX\n",
            "GRP_PROD_GL\n",
            "GRP_PROD_GR\n",
            "GRP_PROD_GS\n",
            "GRP_PROD_HR\n",
            "GRP_PROD_HY\n",
            "GRP_PROD_IX\n",
            "GRP_PROD_JS\n",
            "GRP_PROD_JW\n",
            "GRP_PROD_LA\n",
            "GRP_PROD_LC\n",
            "GRP_PROD_LJ\n",
            "GRP_PROD_LO\n",
            "GRP_PROD_NS\n",
            "GRP_PROD_NU\n",
            "GRP_PROD_PH\n",
            "GRP_PROD_SW\n",
            "GRP_PROD_TS\n",
            "GRP_PROD_UG\n",
            "GRP_PROD_VS\n",
            "LAST_GIVING_DATE\n",
            "FIRST_GIVING_DATE\n",
            "TOTAL_YRS_GIVEN\n",
            "GIFT_CNT\n",
            "GRP_CNT_AF\n",
            "GRP_CNT_AT\n",
            "GRP_CNT_BL\n",
            "GRP_CNT_CF\n",
            "GRP_CNT_CO\n",
            "GRP_CNT_CQ\n",
            "GRP_CNT_DB\n",
            "GRP_CNT_DM\n",
            "GRP_CNT_ED\n",
            "GRP_CNT_EN\n",
            "GRP_CNT_EX\n",
            "GRP_CNT_GL\n",
            "GRP_CNT_GR\n",
            "GRP_CNT_GS\n",
            "GRP_CNT_HR\n",
            "GRP_CNT_HY\n",
            "GRP_CNT_IX\n",
            "GRP_CNT_JS\n",
            "GRP_CNT_JW\n",
            "GRP_CNT_LA\n",
            "GRP_CNT_LC\n",
            "GRP_CNT_LJ\n",
            "GRP_CNT_LO\n",
            "GRP_CNT_NS\n",
            "GRP_CNT_NU\n",
            "GRP_CNT_PH\n",
            "GRP_CNT_SW\n",
            "GRP_CNT_TS\n",
            "GRP_CNT_UG\n",
            "GRP_CNT_VS\n",
            "GRP_PG_CNT\n"
          ],
          "name": "stdout"
        }
      ]
    },
    {
      "cell_type": "code",
      "metadata": {
        "colab": {
          "base_uri": "https://localhost:8080/"
        },
        "id": "og1C_pazEsAa",
        "outputId": "87f9b5cd-403e-45a4-e2b7-4a7467af5026"
      },
      "source": [
        "count_age_zero=0\r\n",
        "for i in df.AGE:\r\n",
        "  if(i==0):\r\n",
        "    count_age_zero+=1\r\n",
        "print('Age 0 count is: ',count_age_zero)\r\n"
      ],
      "execution_count": null,
      "outputs": [
        {
          "output_type": "stream",
          "text": [
            "Age 0 count is:  9\n"
          ],
          "name": "stdout"
        }
      ]
    },
    {
      "cell_type": "code",
      "metadata": {
        "id": "LEZdiXGnBclx"
      },
      "source": [
        "check_col = ['FIRST_DEGYR','SECOND_DEGYR','FINAL_DEGYR']"
      ],
      "execution_count": null,
      "outputs": []
    },
    {
      "cell_type": "code",
      "metadata": {
        "colab": {
          "base_uri": "https://localhost:8080/"
        },
        "id": "35EG3rD-A1U7",
        "outputId": "e29fd568-7185-4389-d1c9-cf50a61d9e3c"
      },
      "source": [
        "#-Check for zero values that shouldn't be there e.g. age, text, year\r\n",
        "\r\n",
        "check_col = ['AGE','FIRST_DEGYR','SECOND_DEGYR','FINAL_DEGYR']\r\n",
        "\r\n",
        "for col in check_col:\r\n",
        "  count = 0\r\n",
        "  for i in df[col]:\r\n",
        "    if(i==0):\r\n",
        "      count+=1\r\n",
        "  print('Number of zeroes in ',col,'is -',count)"
      ],
      "execution_count": null,
      "outputs": [
        {
          "output_type": "stream",
          "text": [
            "Number of zeroes in  AGE is - 9\n",
            "Number of zeroes in  FIRST_DEGYR is - 33309\n",
            "Number of zeroes in  SECOND_DEGYR is - 80592\n",
            "Number of zeroes in  FINAL_DEGYR is - 90551\n"
          ],
          "name": "stdout"
        }
      ]
    },
    {
      "cell_type": "code",
      "metadata": {
        "id": "utmMPx38HIG3"
      },
      "source": [
        "\r\n",
        "# GENDER,GENERATION,MSA,LINK_TO_UT,EX_MEMBER,ETHNICITY,MARITAL_STATUS\r\n",
        "\r\n",
        "# Not sure of MSA - Metropolitan statistical areas: Austin, Texas Metro (Dallas, Houston, Ft. Worth-Arlington)\r\n"
      ],
      "execution_count": null,
      "outputs": []
    },
    {
      "cell_type": "code",
      "metadata": {
        "id": "r_l-T1cUJJst"
      },
      "source": [
        "# Decide which fields are nominal (categorical), ordinal, dummy, interval or ratio"
      ],
      "execution_count": null,
      "outputs": []
    },
    {
      "cell_type": "markdown",
      "metadata": {
        "id": "XI59bLSEFyBR"
      },
      "source": [
        "Nominal Scale, also called the categorical variable scale, is defined as a scale used for labeling variables into distinct classifications and doesn’t involve a quantitative value or order."
      ]
    },
    {
      "cell_type": "code",
      "metadata": {
        "colab": {
          "base_uri": "https://localhost:8080/"
        },
        "id": "EKBm3e66-q8L",
        "outputId": "95cb92cd-8889-41dd-ca35-692408ac17ee"
      },
      "source": [
        "#Check for levels of categorical variables\r\n",
        "\r\n",
        "nominal_columns = ['GENDER','GENERATION','LINK_TO_UT','EX_MEMBER','ETHNICITY','MARITAL_STATUS'] \r\n",
        "\r\n",
        "for nm_col in nominal_columns:\r\n",
        "  print(df[nm_col].value_counts(),'\\n')\r\n"
      ],
      "execution_count": null,
      "outputs": [
        {
          "output_type": "stream",
          "text": [
            "M    46373\n",
            "F    44065\n",
            "U      720\n",
            "Name: GENDER, dtype: int64 \n",
            "\n",
            "Boomer    26418\n",
            "Gen X     20573\n",
            "Gen Y     19182\n",
            "Silent     4778\n",
            "G.I.        172\n",
            "2020          9\n",
            "2002          3\n",
            "2007          1\n",
            "Name: GENERATION, dtype: int64 \n",
            "\n",
            "Alumni                 58322\n",
            "Friend                 23516\n",
            "Parent                  7203\n",
            "Student                 1257\n",
            "No Degree, Attended     1251\n",
            "Other                     82\n",
            "Name: LINK_TO_UT, dtype: int64 \n",
            "\n",
            "Not a Member         59451\n",
            "Life Member          16291\n",
            "Lapsed Member        10844\n",
            "Short-term Member     4371\n",
            "Assoc. Life            355\n",
            "Name: EX_MEMBER, dtype: int64 \n",
            "\n",
            "White         38645\n",
            "Asian Am       4768\n",
            "Hisp Am        4764\n",
            "African Am     1794\n",
            "Am Indian       119\n",
            "Name: ETHNICITY, dtype: int64 \n",
            "\n",
            "Unknown      45653\n",
            "Married      39400\n",
            "Single        1491\n",
            "Widowed       1399\n",
            "Divorced      1366\n",
            "Separated       17\n",
            "Name: MARITAL_STATUS, dtype: int64 \n",
            "\n"
          ],
          "name": "stdout"
        }
      ]
    },
    {
      "cell_type": "markdown",
      "metadata": {
        "id": "fcYwnEXFL3fX"
      },
      "source": [
        "Ordinal Scale is defined as a variable measurement scale used to simply depict the order of variables and not the difference between each of the variables."
      ]
    },
    {
      "cell_type": "code",
      "metadata": {
        "id": "u0dc6UNn-rWi"
      },
      "source": [
        "#HH_CAPACITY_RANGE ---> ordinal, interval,ratio or nominal"
      ],
      "execution_count": null,
      "outputs": []
    },
    {
      "cell_type": "code",
      "metadata": {
        "colab": {
          "base_uri": "https://localhost:8080/"
        },
        "id": "zIybFXCVLaaL",
        "outputId": "3804a9a0-2169-426c-f5e8-2296407d1456"
      },
      "source": [
        "df['HH_CAPACITY_RANGE'].value_counts()"
      ],
      "execution_count": null,
      "outputs": [
        {
          "output_type": "execute_result",
          "data": {
            "text/plain": [
              "10000.0        16578\n",
              "25000.0        15323\n",
              "50000.0         6705\n",
              "100000.0        4331\n",
              "250000.0        1300\n",
              "500000.0         427\n",
              "1000000.0        147\n",
              "5000000.0         33\n",
              "25000000.0         3\n",
              "100000000.0        2\n",
              "Name: HH_CAPACITY_RANGE, dtype: int64"
            ]
          },
          "metadata": {
            "tags": []
          },
          "execution_count": 15
        }
      ]
    },
    {
      "cell_type": "markdown",
      "metadata": {
        "id": "vUTXHy5lMYzO"
      },
      "source": [
        "Interval Scale is defined as a numerical scale where the order of the variables is known as well as the difference between these variables."
      ]
    },
    {
      "cell_type": "code",
      "metadata": {
        "colab": {
          "base_uri": "https://localhost:8080/"
        },
        "id": "PD94d3V2LeII",
        "outputId": "9b00eeb6-9372-4091-df0b-b2473fc2a02f"
      },
      "source": [
        "df['CAMPAIGN_ROLLUP_CAPACITY'].value_counts()"
      ],
      "execution_count": null,
      "outputs": [
        {
          "output_type": "execute_result",
          "data": {
            "text/plain": [
              "z - Unknown          39788\n",
              "K - $10K-$24.9K      16579\n",
              "J - $25K-$49.9K      13570\n",
              "H - $50K-$99.9K       6714\n",
              "S - $0                6395\n",
              "G - $100K-$999.9K     6151\n",
              "I - $25K-$99.9K       1775\n",
              "N - $2.5K-$9.9K        247\n",
              "F - $1M-$4.9M          187\n",
              "L - < $10K             133\n",
              "P - < $2.5k             36\n",
              "E - $5M-$9.9M           25\n",
              "D - $10M-$24.9M         18\n",
              "C - $25M-$49.9M          7\n",
              "B - > $50M+              3\n",
              "A - >$100M+              3\n",
              "Name: CAMPAIGN_ROLLUP_CAPACITY, dtype: int64"
            ]
          },
          "metadata": {
            "tags": []
          },
          "execution_count": 16
        }
      ]
    },
    {
      "cell_type": "code",
      "metadata": {
        "id": "88ENk103MhVv"
      },
      "source": [
        "l = ['GRP_NONMON_GIFTS','GRP_PG_PROD','GRP_PROD','GRP_PROD_AF','GRP_PROD_AT','GRP_PROD_BL','GRP_PROD_CF']\r\n",
        "\r\n",
        "# Total Household gift amount from different departments/Schools"
      ],
      "execution_count": null,
      "outputs": []
    },
    {
      "cell_type": "markdown",
      "metadata": {
        "id": "UjB0ls1RMBkt"
      },
      "source": [
        "Check for Outliers in the data"
      ]
    },
    {
      "cell_type": "markdown",
      "metadata": {
        "id": "hwA1aUHoUqos"
      },
      "source": [
        ""
      ]
    },
    {
      "cell_type": "code",
      "metadata": {
        "colab": {
          "base_uri": "https://localhost:8080/",
          "height": 1000
        },
        "id": "MHAudBgyHxH0",
        "outputId": "c04fbea1-fd94-4966-8767-4f1428297baa"
      },
      "source": [
        "# Check for outliers\r\n",
        "# feature_names -- names of columns that might have outlier in the data\r\n",
        "\r\n",
        "feature_names = ['AGE','GRP_PROD_CF','GRP_PROD_CO','GRP_PROD_CQ','GRP_PROD_DB','GRP_PROD_DM','GRP_PROD_ED','GRP_PROD_EN','GRP_PROD_EX','GRP_PROD_GL','GRP_PROD_GR',\r\n",
        "                 'GRP_PROD_GS','GRP_PROD_HR','GRP_PROD_HY','GRP_PROD_IX','GRP_PROD_JS','GRP_PROD_JW','GRP_PROD_LA','GRP_PROD_LC','GRP_PROD_LJ','GRP_PROD_LO','GRP_PROD_NS',\r\n",
        "                 'GRP_PROD_NU','GRP_PROD_PH','GRP_PROD_SW','GRP_PROD_TS','GRP_PROD_UG','GRP_PROD_VS']\r\n",
        "\r\n",
        "for i in range(len(feature_names)-1):\r\n",
        "    figure = plt.figure()\r\n",
        "    ax = sns.boxplot(x=feature_names[i], data=df)\r\n"
      ],
      "execution_count": null,
      "outputs": [
        {
          "output_type": "display_data",
          "data": {
            "image/png": "[encoded data removed]",
            "text/plain": [
              "<Figure size 432x288 with 1 Axes>"
            ]
          },
          "metadata": {
            "tags": [],
            "needs_background": "light"
          }
        },
        {
          "output_type": "display_data",
          "data": {
            "image/png": "[encoded data removed]",
            "text/plain": [
              "<Figure size 432x288 with 1 Axes>"
            ]
          },
          "metadata": {
            "tags": [],
            "needs_background": "light"
          }
        },
        {
          "output_type": "display_data",
          "data": {
            "image/png": "[encoded data removed]",
            "text/plain": [
              "<Figure size 432x288 with 1 Axes>"
            ]
          },
          "metadata": {
            "tags": [],
            "needs_background": "light"
          }
        },
        {
          "output_type": "display_data",
          "data": {
            "image/png": "[encoded data removed]",
            "text/plain": [
              "<Figure size 432x288 with 1 Axes>"
            ]
          },
          "metadata": {
            "tags": [],
            "needs_background": "light"
          }
        },
        {
          "output_type": "display_data",
          "data": {
            "image/png": "[encoded data removed]",
            "text/plain": [
              "<Figure size 432x288 with 1 Axes>"
            ]
          },
          "metadata": {
            "tags": [],
            "needs_background": "light"
          }
        },
        {
          "output_type": "display_data",
          "data": {
            "image/png": "[encoded data removed]",
            "text/plain": [
              "<Figure size 432x288 with 1 Axes>"
            ]
          },
          "metadata": {
            "tags": [],
            "needs_background": "light"
          }
        },
        {
          "output_type": "display_data",
          "data": {
            "image/png": "[encoded data removed]",
            "text/plain": [
              "<Figure size 432x288 with 1 Axes>"
            ]
          },
          "metadata": {
            "tags": [],
            "needs_background": "light"
          }
        },
        {
          "output_type": "display_data",
          "data": {
            "image/png": "[encoded data removed]",
            "text/plain": [
              "<Figure size 432x288 with 1 Axes>"
            ]
          },
          "metadata": {
            "tags": [],
            "needs_background": "light"
          }
        },
        {
          "output_type": "display_data",
          "data": {
            "image/png": "[encoded data removed]",
            "text/plain": [
              "<Figure size 432x288 with 1 Axes>"
            ]
          },
          "metadata": {
            "tags": [],
            "needs_background": "light"
          }
        },
        {
          "output_type": "display_data",
          "data": {
            "image/png": "[encoded data removed]",
            "text/plain": [
              "<Figure size 432x288 with 1 Axes>"
            ]
          },
          "metadata": {
            "tags": [],
            "needs_background": "light"
          }
        },
        {
          "output_type": "display_data",
          "data": {
            "image/png": "[encoded data removed]",
            "text/plain": [
              "<Figure size 432x288 with 1 Axes>"
            ]
          },
          "metadata": {
            "tags": [],
            "needs_background": "light"
          }
        },
        {
          "output_type": "display_data",
          "data": {
            "image/png": "[encoded data removed]",
            "text/plain": [
              "<Figure size 432x288 with 1 Axes>"
            ]
          },
          "metadata": {
            "tags": [],
            "needs_background": "light"
          }
        },
        {
          "output_type": "display_data",
          "data": {
            "image/png": "[encoded data removed]",
            "text/plain": [
              "<Figure size 432x288 with 1 Axes>"
            ]
          },
          "metadata": {
            "tags": [],
            "needs_background": "light"
          }
        },
        {
          "output_type": "display_data",
          "data": {
            "image/png": "[encoded data removed]",
            "text/plain": [
              "<Figure size 432x288 with 1 Axes>"
            ]
          },
          "metadata": {
            "tags": [],
            "needs_background": "light"
          }
        },
        {
          "output_type": "display_data",
          "data": {
            "image/png": "[encoded data removed]",
            "text/plain": [
              "<Figure size 432x288 with 1 Axes>"
            ]
          },
          "metadata": {
            "tags": [],
            "needs_background": "light"
          }
        },
        {
          "output_type": "display_data",
          "data": {
            "image/png": "[encoded data removed]",
            "text/plain": [
              "<Figure size 432x288 with 1 Axes>"
            ]
          },
          "metadata": {
            "tags": [],
            "needs_background": "light"
          }
        },
        {
          "output_type": "display_data",
          "data": {
            "image/png": "[encoded data removed]",
            "text/plain": [
              "<Figure size 432x288 with 1 Axes>"
            ]
          },
          "metadata": {
            "tags": [],
            "needs_background": "light"
          }
        },
        {
          "output_type": "display_data",
          "data": {
            "image/png": "[encoded data removed]",
            "text/plain": [
              "<Figure size 432x288 with 1 Axes>"
            ]
          },
          "metadata": {
            "tags": [],
            "needs_background": "light"
          }
        },
        {
          "output_type": "display_data",
          "data": {
            "image/png": "[encoded data removed]",
            "text/plain": [
              "<Figure size 432x288 with 1 Axes>"
            ]
          },
          "metadata": {
            "tags": [],
            "needs_background": "light"
          }
        },
        {
          "output_type": "display_data",
          "data": {
            "image/png": "[encoded data removed]",
            "text/plain": [
              "<Figure size 432x288 with 1 Axes>"
            ]
          },
          "metadata": {
            "tags": [],
            "needs_background": "light"
          }
        },
        {
          "output_type": "display_data",
          "data": {
            "image/png": "[encoded data removed]",
            "text/plain": [
              "<Figure size 432x288 with 1 Axes>"
            ]
          },
          "metadata": {
            "tags": [],
            "needs_background": "light"
          }
        },
        {
          "output_type": "display_data",
          "data": {
            "image/png": "[encoded data removed]",
            "text/plain": [
              "<Figure size 432x288 with 1 Axes>"
            ]
          },
          "metadata": {
            "tags": [],
            "needs_background": "light"
          }
        },
        {
          "output_type": "display_data",
          "data": {
            "image/png": "[encoded data removed]",
            "text/plain": [
              "<Figure size 432x288 with 1 Axes>"
            ]
          },
          "metadata": {
            "tags": [],
            "needs_background": "light"
          }
        },
        {
          "output_type": "display_data",
          "data": {
            "image/png": "[encoded data removed]",
            "text/plain": [
              "<Figure size 432x288 with 1 Axes>"
            ]
          },
          "metadata": {
            "tags": [],
            "needs_background": "light"
          }
        },
        {
          "output_type": "display_data",
          "data": {
            "image/png": "[encoded data removed]",
            "text/plain": [
              "<Figure size 432x288 with 1 Axes>"
            ]
          },
          "metadata": {
            "tags": [],
            "needs_background": "light"
          }
        },
        {
          "output_type": "display_data",
          "data": {
            "image/png": "[encoded data removed]",
            "text/plain": [
              "<Figure size 432x288 with 1 Axes>"
            ]
          },
          "metadata": {
            "tags": [],
            "needs_background": "light"
          }
        },
        {
          "output_type": "display_data",
          "data": {
            "image/png": "[encoded data removed]",
            "text/plain": [
              "<Figure size 432x288 with 1 Axes>"
            ]
          },
          "metadata": {
            "tags": [],
            "needs_background": "light"
          }
        }
      ]
    },
    {
      "cell_type": "code",
      "metadata": {
        "id": "i0ck-_GzHxkx"
      },
      "source": [
        "# Getting the observation points that are oulier in the data"
      ],
      "execution_count": null,
      "outputs": []
    },
    {
      "cell_type": "code",
      "metadata": {
        "id": "Fvv2HEQyH0J4"
      },
      "source": [
        "def Zscore_outlier(df):\r\n",
        "    out=[]\r\n",
        "    m = np.mean(df)\r\n",
        "    sd = np.std(df)\r\n",
        "    for i in df: \r\n",
        "        z = (i-m)/sd\r\n",
        "        if np.abs(z) > 3: \r\n",
        "            out.append(i)\r\n",
        "    print(\"Outliers:\",out,'\\n')"
      ],
      "execution_count": null,
      "outputs": []
    },
    {
      "cell_type": "code",
      "metadata": {
        "colab": {
          "base_uri": "https://localhost:8080/"
        },
        "id": "WpwNrhyyLcEZ",
        "outputId": "3eaf7d53-7b55-42a3-964f-b1dc044e648b"
      },
      "source": [
        "for col in feature_names:\r\n",
        "  print(col,'\\n')\r\n",
        "  Zscore_outlier(df[col])\r\n",
        "  \r\n"
      ],
      "execution_count": null,
      "outputs": [
        {
          "output_type": "stream",
          "text": [
            "AGE \n",
            "\n",
            "Outliers: [0.0, 0.0, 0.0, 0.0, 0.0, 0.0, 0.0, 0.0, 0.0, 105.0, 105.0, 105.0, 107.0, 105.0, 107.0, 106.0, 105.0, 108.0] \n",
            "\n",
            "GRP_PROD_CF \n",
            "\n",
            "Outliers: [17000.0, 18500.0, 17500.0, 4480.0, 6040.0, 2650.0, 2895.0, 15900.0, 3000.0, 5000.0, 5000.0, 6000.0, 3000.0, 6879.0, 3655.0, 3896.0, 4500.0, 8100.0, 3000.0, 3000.0, 15000.0, 4500.0, 6600.0, 4480.0, 8400.0, 12000.0, 3850.0, 3600.0, 3000.0, 4352.0, 6250.0, 2988.0, 3920.0, 12552.0, 3000.0, 5880.0, 2900.0, 3170.0, 12000.0, 4600.0, 2800.0, 2500.0, 6000.0, 3894.25, 18762.0, 11604.47, 3345.0, 4875.0, 14738.0, 4826.0, 8600.0, 13050.0, 7486.0, 5000.0, 3900.0, 20000.0, 24102.0, 3175.0, 4812.0, 2720.0, 6600.0, 2700.0, 22500.0, 3000.0, 4600.0, 6000.0, 6600.0, 6340.0, 5000.0, 8376.0, 5858.0, 9550.0, 5000.0, 2772.0, 9850.0, 2925.0, 10900.0, 5050.0, 5000.0, 5900.0, 6830.0, 6200.0, 3180.0, 7630.0, 3564.0, 7024.18, 15000.0, 6699.0, 6900.0, 2504.0, 4000.0, 6217.59, 11372.0, 4200.0, 2872.0, 3170.0, 3180.0, 2816.0, 2870.0, 3456.0, 10604.0, 3124.0, 7480.0, 4300.0, 4200.0, 2988.0, 6217.59, 13840.0, 7772.0, 6600.0, 2700.0, 4148.0, 6000.0, 3080.0, 12650.0, 11831.0, 12650.0, 5100.0, 3000.0, 2556.0, 2956.0, 2545.0, 21600.0, 6406.0, 6699.0, 8000.0, 22200.0, 4972.0, 5000.0, 4504.0, 6530.0, 3600.0, 12600.0, 5203.0, 18000.0, 11572.0, 4123.0, 4748.0, 4972.0, 10116.0, 4422.0, 4968.0, 5450.0, 2556.0, 5342.0, 4168.0, 2908.0, 2746.0, 3800.0, 3484.0, 3540.0, 3878.0, 3540.0, 3375.0, 2500.0, 9850.0, 4700.0, 5000.0, 3748.0, 2500.0, 12876.0, 4500.0, 9586.0, 13840.0, 8000.0, 2504.0, 4892.0, 3544.0, 13350.0, 6250.0, 3544.0, 4900.0, 3000.0, 10000.0, 22000.0, 3000.0, 6879.0, 3270.0, 7584.0, 5954.0, 5200.0, 10292.0, 10076.0, 3272.0, 2788.0, 7600.0, 5954.0, 5200.0, 2624.0, 22500.0, 3072.0, 2960.0, 6562.5, 5800.0, 8376.0, 13334.0, 9000.0, 14000.0, 7975.0, 9000.0, 4000.0, 12220.0, 12500.0, 3572.0, 3500.0, 11500.0, 2581.0, 6200.0, 6200.0, 6406.0, 3456.0, 3992.0, 6875.0, 8800.0, 8000.0, 3000.0, 2483.0, 10776.0, 12220.0, 2500.0, 9500.0, 3726.0, 12600.0, 9036.0, 14000.0, 3400.0, 18000.0, 22500.0, 24102.0, 8000.0, 5820.0, 8941.66, 15700.0, 5000.0, 6000.0, 4790.0, 16000.0, 18500.0, 4492.0, 6055.0, 3628.0, 17354.0, 12520.0, 8860.0, 3522.71, 2544.0, 12600.0, 4164.0, 11604.47, 11670.0, 2500.0, 2638.0, 8000.0, 2656.0, 2945.0, 6275.0, 23140.0, 19735.0, 2515.0, 3348.0, 9337.0, 11200.0, 3510.0, 7376.0, 4600.0, 2944.0, 2872.0, 2648.0, 3272.0, 5500.0, 5500.0, 11700.0, 16400.0, 21600.0, 5800.0, 2910.0, 6575.0, 11700.0, 4125.0, 7480.0, 4875.0, 6055.0, 4564.0, 2700.0, 4812.0, 4924.0, 8000.0, 2638.0, 4600.0, 5000.0, 2875.0, 8892.0, 10705.0, 15848.06, 10000.0, 4890.0, 6146.0, 8319.0, 5350.0, 7220.0, 4440.0, 2827.0, 13075.3, 3650.0, 9860.0, 6000.0, 3800.0, 11691.0, 6900.0, 3715.0, 5678.0, 2680.72, 6422.0, 5340.0, 4030.0, 2945.0, 3412.0, 5900.0, 9014.0, 8953.0, 4350.0, 2631.0, 3250.0, 5000.0, 21600.0, 2500.0, 4975.0, 3292.0, 2975.0, 10225.0, 6650.0, 3208.0, 5175.0, 3412.0, 3000.0, 3000.0, 8700.0, 4280.0, 5900.0, 2875.0, 3970.0, 5000.0, 3411.0, 4400.0, 3500.0, 12696.0, 14128.0, 4968.0, 3510.0, 4175.0, 6476.0, 4500.0, 2500.0, 3400.0, 10000.0, 5700.0, 2580.0, 17100.0, 3450.0, 2986.0, 6660.0, 3575.0, 14250.0, 5490.0, 2866.0, 18800.0, 2650.0, 3158.0, 18800.0, 15000.0, 2900.0, 5100.0, 4691.33, 19835.0, 2500.0, 3692.0, 3692.0, 4500.0, 5200.0, 5000.0, 5890.0, 5200.0, 7480.0, 7047.0, 3100.0, 6660.0, 9900.0, 6300.0, 4929.0, 4555.0, 7626.0, 3250.0, 7200.0, 3165.0, 7780.0, 3630.0, 7275.0, 14100.0, 3292.0, 2650.0, 3522.71, 2772.0, 9689.0, 10111.0, 2972.0, 9290.0, 4000.0, 8450.0, 10111.0, 3423.5, 3630.0, 3896.0, 2750.0, 9200.0, 3411.0, 2750.0, 2759.0, 4246.0, 5312.0, 6100.0, 12300.0, 2944.0, 11200.0, 2895.0, 4100.0, 8300.0, 20100.0, 6875.0, 3655.0, 3320.0, 4975.0, 2867.0, 6400.0, 2500.0, 6000.0, 2883.0, 15055.0, 4892.0, 4700.0, 3450.0, 12900.0, 6422.0, 12817.0, 3976.32, 3508.0, 10200.0, 10225.0, 17600.0, 14780.0, 3060.0, 6281.0, 4400.0, 6780.0, 5200.0, 3200.0, 3380.0, 4000.0, 2576.0, 2525.0, 3072.0, 4350.0, 15000.0, 3976.32, 18624.0, 4820.0, 6200.0, 4544.0, 3600.0, 11450.0, 6040.0, 12750.0, 4200.0, 8100.0, 7200.0, 20000.0, 4500.0, 6075.0, 4235.0, 2752.0, 9500.0, 10150.0, 4200.0, 2479.0, 10000.0, 3000.0, 2990.0, 2904.0, 4850.0, 4500.0, 2630.0, 3850.0, 3200.0, 8100.0, 18624.0, 17833.98, 2752.0, 8062.34, 5490.0, 4455.0, 3400.0, 3400.0, 2750.0, 2883.0, 2986.0, 13050.0, 7393.0, 2925.0, 7047.0, 2504.0, 3000.0, 23500.0, 5288.8, 3250.0, 5340.0, 6475.0, 4400.0, 4750.0, 12900.0, 3072.0, 8304.0, 3500.0, 2925.0, 7500.0, 5600.0, 3650.0, 11400.0, 12600.0, 12500.0, 6475.0, 10700.0, 5700.0, 4128.85, 4500.0, 4450.0, 3072.0, 5600.0, 3250.0, 23500.0, 3000.0, 20000.0, 3141.0, 12500.0, 12500.0, 4492.0, 2580.0, 9750.0, 4951.0, 9175.0, 6476.0, 3800.0, 5300.0, 13435.0, 3065.0, 2903.0, 7626.0, 4932.0, 12750.0, 5250.0, 13435.0, 4600.0, 10700.0, 5412.0, 3000.0, 2975.0, 2750.0, 7975.0, 2625.0, 2500.0, 2603.0, 8062.34, 15900.0, 4200.0, 2801.0, 9689.0, 5175.0, 10000.0, 2628.0, 13500.0, 9000.0, 3600.0, 3000.0, 5017.0, 7200.0, 4425.0, 4951.0, 4200.0, 4450.0, 3394.0, 15500.0, 6580.0, 19835.0, 5000.0, 3600.0, 8100.0, 5200.0, 2650.0, 6212.5, 4100.0, 4072.0, 6210.0, 3165.0, 2984.0, 9668.0, 3748.0, 4700.0, 5200.0, 4000.0, 3050.0, 6200.0, 10565.0, 3140.0, 2624.0, 2584.0, 7275.0, 5890.0, 11450.0, 3060.0, 3208.0, 5625.0, 3262.0, 5000.0, 22212.0, 3552.0, 10220.0, 3386.0, 4350.0, 11400.0, 3575.0, 3050.0, 7200.0, 5900.0, 6000.0, 3158.0, 6300.0, 6000.0, 9575.0, 7500.0, 7500.0, 4685.0, 15055.0, 4850.0, 3675.0, 2750.0, 2900.0, 10565.0, 12575.0, 9900.0, 20100.0, 7800.0, 4932.0, 6212.5, 11831.0, 12000.0, 6725.35, 2935.0, 2650.0, 2504.0, 8450.0, 5412.0, 5820.0, 5175.0, 14450.0, 2650.0, 8660.0, 3195.0, 3146.0, 3575.0, 2656.0, 14520.0, 6210.0, 14520.0, 2984.0, 3000.0, 4892.0, 3200.0, 2625.0, 18762.0, 5350.0, 11001.41, 2956.0, 3100.0, 7800.0, 3625.0, 5080.0, 20076.47, 10776.0, 10116.0, 3726.0, 3320.0, 2875.0, 4200.0, 15100.0, 6225.0, 3140.0, 19735.0, 2500.0, 13000.0, 5000.0, 4912.0, 4016.0, 4924.0, 4826.0, 4334.0, 4211.0, 2504.0, 8972.0, 17600.0, 2483.0, 2600.0, 2614.0, 2910.0, 5700.0, 5100.0, 5200.0, 2600.0, 5800.0, 11040.0, 2800.0, 8640.0, 17100.0, 3550.0, 2867.0, 5350.0, 4246.0, 4490.0, 2500.0, 5984.0, 3520.0, 11628.0, 3345.0, 7985.0, 4690.0, 4504.0, 3764.0, 3375.0, 14738.0, 9096.0, 3850.0, 4972.0, 3955.0, 5984.0, 15100.0, 12696.0, 7744.0, 3208.0, 2470.0, 12817.0, 7376.0, 4750.0, 2740.0, 8892.0, 6135.0, 3606.0, 5600.0, 21454.0, 3124.0, 4128.85, 2990.0, 3606.0, 5312.0, 9000.0, 2700.0, 2720.0, 21600.0, 2500.0, 3552.0, 3225.0, 2500.0, 7747.0, 7160.0, 3100.0, 20076.47, 4942.0, 7744.0, 7132.0, 9650.0, 10220.0, 12575.0, 15500.0, 3141.0, 2750.0, 6400.0, 6000.0, 2571.0, 3764.0, 4164.0, 4016.0, 13075.3, 15700.0, 2515.0, 3048.0, 12876.0, 2624.0, 3572.0, 4200.0, 4430.0, 4892.0, 4942.0, 2700.0, 7160.0, 6108.0, 8941.66, 8660.0, 8972.0, 15826.0, 4700.0, 6562.5, 6160.0, 3400.0, 9586.0, 3700.0, 2672.0, 3800.0] \n",
            "\n",
            "GRP_PROD_CO \n",
            "\n",
            "Outliers: [2895.0, 2359.5, 5000.0, 2450.0, 8662.0, 4260.0, 5000.0, 20120.94, 3000.0, 2500.0, 5000.0, 2600.0, 2250.0, 10100.0, 9389.0, 3010.88, 3850.0, 4550.0, 4550.0, 2000.0, 3250.0, 3100.0, 2000.0, 6250.0, 2000.0, 2000.0, 2000.0, 5000.0, 3870.0, 2500.0, 2500.0, 3250.0, 1780.0, 4100.0, 5250.0, 2500.0, 3525.0, 4100.0, 5000.0, 4090.0, 1850.0, 1500.0, 1500.0, 1500.0, 2670.0, 5000.0, 2000.0, 2250.0, 3500.0, 20120.94, 20308.74, 1500.0, 15000.0, 2000.0, 3726.5, 2250.0, 9300.0, 10000.0, 1800.0, 6000.0, 2500.0, 3180.0, 7500.0, 1500.0, 2330.0, 5000.0, 2500.0, 2100.0, 2100.0, 9350.0, 9300.0, 1500.0, 2750.0, 3000.0, 3470.0, 2000.0, 5000.0, 1500.0, 1650.0, 5100.0, 5000.0, 2500.0, 2439.65, 1765.0, 5000.0, 5000.0, 2121.0, 2000.0, 1550.0, 3200.0, 9800.0, 1740.0, 5000.0, 1530.0, 1680.0, 4000.0, 3750.0, 1500.0, 9350.0, 5000.0, 5000.0, 1850.0, 6000.0, 2575.0, 2000.0, 6500.0, 5100.0, 2100.0, 3100.0, 1385.0, 1750.0, 2625.0, 4000.0, 2050.0, 1765.0, 2000.0, 6250.0, 4500.0, 5700.0, 2625.0, 10016.0, 2000.0, 2000.0, 2150.0, 5000.0, 1500.0, 3100.0, 1800.0, 10000.0, 2100.0, 2500.0, 2985.0, 4595.0, 1480.0, 3206.0, 2000.0, 2355.0, 7000.0, 1750.0, 3580.0, 5000.0, 4678.0, 2600.0, 12000.0, 4025.0, 1442.31, 5000.0, 9800.0, 2000.0, 14350.0, 3000.0, 2950.0, 1436.0, 2400.0, 2650.0, 1950.0, 3900.0, 7000.0, 1450.0, 2758.81, 1595.0, 1480.0, 1588.0, 5000.0, 5000.0, 1375.0, 5000.0, 1750.0, 1875.0, 1950.0, 2500.0, 4287.0, 21025.0, 2000.0, 4550.0, 1900.0, 1519.0, 1500.0, 3870.0, 1505.0, 4431.0, 11626.0, 1570.0, 1550.0, 11750.0, 1505.0, 3944.45, 1575.0, 6000.0, 15500.0, 2853.0, 12117.0, 1613.0, 1875.0, 1741.0, 2526.0, 3530.0, 2125.0, 2300.0, 2875.0, 1525.0, 1425.0, 1600.0, 2050.0, 6500.0, 1650.0, 2048.0, 2000.0, 11697.0, 1550.0, 3470.0, 3850.0, 1741.0, 3900.0, 17092.0, 1850.0, 3108.0, 3355.0, 1606.66, 1600.0, 5504.0, 2800.0, 2275.0, 4150.0, 1503.0, 1375.0, 1960.0, 1950.0, 1525.0, 1527.0, 21025.0, 4000.0, 6820.0, 3326.0, 7500.0, 3910.0, 2050.0, 2050.0, 6500.0, 4025.0, 1500.0, 13000.0, 1608.89, 3655.0, 1958.0, 2275.0, 2450.0, 1958.0, 2280.0, 2500.0, 1818.0, 1600.0, 4595.0, 2275.0, 8335.0, 1750.0, 4260.0, 1619.0, 7552.0, 9685.0, 2311.0, 6000.0, 2165.0, 2527.0, 2895.0, 17040.0, 17040.0, 8515.0, 3500.0, 3500.0, 2850.0, 1475.0, 1929.0, 3150.0, 2500.0, 1725.0, 7890.0, 1800.0, 1898.5, 5798.5, 1852.0, 2012.0, 8880.0, 1503.0, 1450.0, 2050.0, 2260.0, 3000.0, 1400.0, 5760.0, 5100.0, 1725.0, 5000.0, 1865.0, 1680.0, 9700.0, 11134.0, 1500.0, 2750.0, 2103.0, 1615.0, 5100.0, 5125.0, 2616.0, 1831.0, 3500.0, 2180.0, 5077.5, 2450.0, 1450.0, 12500.0, 3226.0, 1751.0, 3326.0, 4500.0, 4450.0, 2200.0, 1868.0, 5000.0, 9300.0, 12642.22, 3575.0, 1439.0, 4170.0, 4150.0, 3675.0, 1800.0, 2210.0, 2108.0, 1652.0, 5934.65, 1562.0, 2750.0, 3306.0, 2725.0, 1995.0, 1366.0, 1518.0, 3325.0, 1800.0, 6801.0, 2250.0, 2200.0, 2000.0, 1467.5, 10000.0, 7000.0, 5338.5, 3080.0, 2250.0, 12212.22, 7450.0, 1623.0, 3600.0, 1891.0, 3149.0, 9300.0, 3000.0, 1608.89, 4175.0, 8025.0, 2500.0, 3250.0, 5555.0, 9685.0, 1510.0, 2600.0, 4166.42, 11387.0, 14350.0, 3000.0, 3000.0, 1718.0, 2100.0, 1450.0, 4750.0, 3600.0, 2575.0, 5600.0, 9000.0, 1825.0, 5165.0, 3000.0, 11387.0, 3226.0, 1738.0, 4431.0, 1785.0, 1493.0, 3306.0, 1480.0, 8662.0, 3525.0, 1726.0, 2605.0, 2725.0, 7796.0, 4166.42, 3605.0, 8025.0, 6350.0, 10000.0, 4275.0, 1780.0, 8470.0, 1512.0, 5485.0, 3900.0, 2000.0, 1362.0, 2725.0, 2000.0, 1645.88, 1362.0, 2775.0, 1625.0, 1500.0, 5205.0, 1525.0, 1435.0, 1543.0, 1395.0, 3575.0, 2980.0, 2944.0, 3545.0, 1469.5, 3500.0, 1700.0, 9100.0, 2576.0, 2950.0, 1475.0, 1562.0, 1625.0, 3206.0, 12642.22, 1670.0, 20308.74, 4287.0, 1750.0, 1520.0, 1650.0, 5550.0, 2475.0, 2210.0, 2750.0, 1767.0, 1519.0, 2000.0, 5205.0, 1865.0, 2500.0, 4375.0, 1751.0, 4549.0, 1582.0, 9389.0, 5485.0, 3900.0, 1950.0, 4369.0, 3900.0, 1465.0, 5605.0, 2100.0, 1550.0, 5000.0, 3395.0, 1510.0, 1575.0, 1800.0, 6551.85, 1589.0, 1439.0, 1801.0, 2153.0, 3180.0, 1500.0, 5000.0, 2300.0, 10000.0, 8470.0, 1595.0, 2150.0, 1500.0, 2070.0, 2250.0, 2650.0, 3000.0, 2500.0, 1738.0, 2000.0, 7000.0, 2500.0, 9100.0, 2000.0, 1450.0, 1650.0, 2180.0, 2000.0, 2527.0, 1500.0, 2400.0, 3750.0, 1570.0, 2000.0, 1995.0, 4000.0, 2600.0, 3000.0, 2100.0, 10100.0, 7450.0, 2750.0, 2550.0, 1935.0, 7000.0, 1827.0, 1375.0, 5125.0, 1950.0, 1600.0, 1443.0, 1440.0, 2260.0, 2359.5, 1613.0, 4300.0, 2300.0, 7890.0, 3394.0, 2733.0, 1801.0, 5700.0, 3035.0, 4925.0, 5000.0, 1610.0, 3190.0, 1675.08, 1891.0, 1850.0, 5600.0, 3000.0, 17092.0, 11134.0, 3035.0, 7552.0, 1850.0, 1767.0, 2040.0, 2000.0, 2575.0, 5000.0, 5980.0, 1518.0, 4549.0, 2250.0, 2725.0, 2100.0, 2466.0, 4450.0, 2250.0, 2850.0, 2750.0, 3331.0, 1725.0, 2070.0, 2000.0, 1436.0, 5000.0, 1479.0, 1500.0, 2000.0, 2371.0, 5225.0, 3200.0, 5000.0, 1645.88, 3835.0, 2000.0, 3600.0, 2550.0, 10016.0, 3944.45, 3100.0, 1670.0, 2250.0, 12500.0, 21851.28, 2830.0, 9700.0, 10400.0, 1740.0, 1975.0, 5031.46, 2830.0, 2355.0, 21851.28, 2500.0, 5000.0, 1500.0] \n",
            "\n",
            "GRP_PROD_CQ \n",
            "\n",
            "Outliers: [500.0, 500.0, 660.0, 500.0, 500.0, 450.0, 1000.0, 2600.0, 500.0, 550.0, 700.0, 550.0, 2000.0, 750.0, 1000.0, 550.0, 1000.0, 815.0, 2600.0, 2600.0, 20250.0, 3850.0, 2053.0, 1913.0, 2600.0, 2700.0, 2941.25, 839.0, 500.0, 500.0, 1000.0, 500.0, 1000.0, 718.0, 600.0, 600.0, 500.0, 5455.0, 5597.75, 550.0, 550.0, 500.0, 500.0, 5275.0, 542.0, 16600.0, 550.0, 1650.0, 2250.0, 950.0, 1000.0, 1000.0, 750.0, 1000.0, 525.0, 16600.0, 4000.0, 1600.0, 1500.0, 950.0, 700.0, 600.0, 600.0, 500.0, 525.0, 450.0, 500.0, 1200.0, 630.0, 7500.0, 450.0, 450.0, 12170.0, 525.0, 600.0, 525.0, 600.0, 500.0, 1000.0, 1600.0, 1575.0, 475.0, 2500.0, 700.0, 1650.0, 1000.0, 500.0, 500.0, 450.0, 7500.0, 4500.0, 7500.0, 1075.0, 450.0, 500.0, 10151.0, 2000.0, 4500.0, 1000.0, 2000.0, 700.0, 750.0, 1200.0, 675.0, 2000.0, 1000.0, 1075.0, 500.0, 1300.0, 2053.0, 1600.0, 850.0, 2500.0, 5597.75, 475.0, 850.0, 685.0, 500.0, 3850.0, 815.0, 3585.0, 3585.0, 1300.0, 450.0, 1300.0, 600.0] \n",
            "\n",
            "GRP_PROD_DB \n",
            "\n",
            "Outliers: [2000.0, 2100.0, 1810.0, 5629.0, 4750.0, 8500.0, 10500.0, 7500.0, 1786.0, 2000.0, 3500.0, 2000.0, 3500.0, 1350.0, 3050.0, 2000.0, 10500.0, 3000.0, 1500.0, 1600.0, 2833.36, 10000.0, 1500.0, 2000.0, 1500.0, 2200.0, 4000.0, 2000.0, 1250.0, 3136.0, 1500.0, 1250.0, 3000.0, 1618.0, 2002.0, 4000.0, 8000.0, 1500.0, 10500.0, 7500.0, 2812.5, 1400.0, 1850.0, 3136.0, 4050.0, 4000.0, 1400.0, 3000.0, 20000.0, 1400.0, 1450.0, 2500.0, 4750.0, 2500.0, 1500.0, 6550.0, 13887.33, 5000.0, 6550.0, 5180.0, 2100.0, 4500.0, 1500.09, 2000.0, 1833.34, 3000.0, 3000.0, 2100.0, 1500.0, 1675.0, 1350.0, 1250.0, 1175.0, 4050.0, 9500.0, 1500.0, 3950.0, 4350.0, 2260.0, 1350.0, 1300.0, 1500.0, 3503.0, 1182.0, 8530.0, 3500.0, 1215.0, 1215.0, 16000.0, 1200.0, 8500.0, 1350.0, 1600.0, 7371.0, 4996.06, 2200.0, 1124.0, 4671.5, 1700.0, 7500.0, 1500.0, 1750.0, 1505.0, 1250.0, 1224.0, 3000.0, 6143.0, 1372.0, 1250.0, 3420.0, 1500.0, 2500.0, 1500.0, 1200.0, 1372.0, 1500.0, 1250.0, 20000.0, 1368.0, 1250.0, 10100.0, 2833.36, 2000.0, 5000.0, 3500.0, 8402.5, 1900.0, 1600.0, 7140.0, 1835.0, 3720.0, 2450.0, 1175.0, 1150.0, 8175.0, 9000.0, 1150.0, 2190.0, 2750.0, 1120.0, 11000.0, 11600.0, 1350.0, 3500.0, 1275.0, 1275.0, 2100.0, 2250.0, 4800.0, 3250.0, 1500.0, 3750.0, 1127.0, 2500.0, 2400.0, 1540.0, 1295.0, 1500.0, 11600.0, 8000.0, 1300.0, 1540.0, 1300.0, 1500.0, 3050.0, 8000.0, 1195.0, 2150.0, 1519.0, 1469.0, 1350.0, 1500.0, 2600.0, 2750.0, 1500.0, 1625.0, 1150.0, 1300.0, 1350.0, 2000.0, 1500.0, 1368.0, 5000.0, 1200.0, 2000.0, 1666.67, 1300.0, 1200.0, 1140.0, 2200.0, 5450.0, 1900.0, 4030.0, 19000.0, 9200.0, 1250.0, 3350.0, 1500.0, 2000.0, 2000.0, 2000.0, 2000.0, 1850.0, 5000.0, 1650.0, 1217.0, 8500.0, 2000.0, 3000.0, 1868.0, 10000.0, 1500.0, 1163.0, 3500.0, 1125.0, 1300.0, 5900.0, 3500.0, 2150.0, 1255.0, 5000.0, 1875.0, 1124.0, 1650.0, 4750.0, 1222.0, 2500.0, 1127.0, 3000.0, 1810.0, 1750.0, 1500.0, 5220.75, 1485.0, 10835.19, 1250.0, 2500.0, 2000.0, 2000.0, 3000.0, 1324.0, 2000.0, 2000.0, 2500.0, 2000.0, 1150.0, 1550.0, 5500.0, 1750.0, 1450.0, 4000.0, 1250.0, 5220.75, 7450.0, 1500.0, 5537.0, 1325.0, 3000.0, 2812.5, 10625.0, 2000.0, 1150.0, 3500.0, 2000.0, 5000.0, 8250.0, 5000.0, 1200.0, 1600.0, 2200.0, 1300.0, 4000.0, 1195.0, 2000.0, 2500.0, 2127.0, 1150.0, 5900.0, 5000.0, 1500.0, 2605.0, 10500.0, 2750.0, 3000.0, 5500.0, 2260.0, 2300.0, 5050.0, 1700.0, 6000.0, 1410.0, 1339.0, 8000.0, 6500.0, 1600.0, 13887.33, 2675.0, 2750.0, 1300.0, 1873.0, 2050.0, 7000.0, 1200.0, 3750.0, 5180.0, 3750.0, 2000.0, 1410.0, 1250.0, 1800.0, 2013.0, 2000.0, 1350.0, 1750.0, 3000.0, 1475.0, 1300.0, 10100.0, 1500.0, 1600.0, 2000.0, 11000.0, 10500.0, 2000.0, 1500.0, 4000.0, 2450.0, 2200.0, 1750.0, 1421.0, 2000.0, 2650.0, 1350.0, 6250.0, 11765.0, 2500.0, 3500.0, 2667.0, 4350.0, 5000.0, 1500.0, 2000.0, 3425.0, 1500.0, 1800.0, 1600.0, 1200.0, 2000.0, 1400.0, 1250.0, 2000.0, 1200.0, 7000.0, 1250.0, 4900.0, 5000.0, 2750.0, 6000.0, 7500.0, 2000.0, 2000.0, 12900.0, 2000.0, 4200.0, 4000.0, 1165.0, 2000.0, 1325.0, 9200.0, 1500.0, 7075.0, 6500.0, 6068.97, 8000.0, 1138.62, 1600.0, 1500.0, 5000.0, 2750.0, 2500.0, 1500.0, 2000.0, 1500.0, 3000.0, 1114.99, 1652.5, 1652.5, 1750.0, 1700.0, 1250.0, 2000.0, 1873.0, 1150.0, 3000.0, 3000.0, 1750.0, 5000.0, 1200.0, 3000.0, 1625.0, 2000.0, 7500.0, 3000.0, 3000.0, 2000.0, 1125.0, 2975.07, 11000.0, 2500.0, 2000.0, 1174.0, 2000.0, 2000.0, 4500.0, 2190.0, 8500.0, 3720.0, 2250.0, 1261.75, 3000.0, 1500.0, 1600.0, 5000.0, 1150.0, 11600.0, 2000.0, 1375.0, 1255.0, 6500.0, 1500.0, 1150.0, 2000.0, 4750.0, 1250.0, 2000.0, 4000.0, 1250.0, 8500.0, 2000.0, 1250.0, 2000.0, 2100.0, 1833.34, 1400.0, 3000.0, 1250.0, 1565.0, 4500.0, 2000.0, 1700.0, 1329.0, 1210.0, 3100.0, 1550.0, 2000.0, 3350.0, 2000.0, 1500.0, 2000.0, 12395.0, 2025.0, 1500.0, 2000.0, 6500.0, 1165.0, 2050.0, 1700.0, 2006.0, 1154.0, 2500.0, 6250.0, 3500.0, 11600.0, 1250.0, 1513.0, 1525.0, 1250.0, 1500.0, 5629.0, 3000.0, 4500.0, 1250.0, 2127.0, 1500.0, 1786.0, 11765.0, 2000.0, 2100.0, 2600.0, 3000.0, 1550.0, 2000.0, 1114.99, 1500.0, 1250.0, 8450.0, 6068.97, 1750.0, 4000.0, 1150.0, 2000.0, 2500.0, 2000.0, 4100.0, 1250.0, 4000.0, 1555.0, 2667.0, 2650.0, 1513.0, 1400.0, 1250.0, 1125.0, 1350.0, 1250.0, 1625.0, 1520.0, 1250.0, 1500.09, 1240.0, 2500.0, 1339.0, 2500.0, 2500.0, 2100.0, 1150.0, 3000.0, 3503.0, 1350.0, 2000.0, 1125.0, 2600.0, 5093.0, 2750.0, 2000.0, 8000.0, 8250.0, 7500.0, 1500.0, 1222.0, 3235.0, 2000.0, 1900.0, 1485.0, 2500.0, 3050.0, 2750.0, 2050.0, 1625.0, 2600.0, 2000.0, 1150.0, 1350.0, 8000.0, 1550.0, 1250.0, 1666.67, 10500.0, 1300.0, 1150.0, 8500.0, 4000.0, 1500.0, 1261.75, 1240.0, 2000.0, 3750.0, 5000.0, 3750.0, 1150.0, 1138.62, 4000.0, 4900.0, 3000.0, 1150.0, 6143.0, 1525.0, 10625.0, 6000.0, 1650.0, 2000.0, 12900.0] \n",
            "\n",
            "GRP_PROD_DM \n",
            "\n",
            "Outliers: [1000.0, 1000.0, 25000.0, 10203.0, 2500.0, 1000.0, 5000.0, 1000.0, 9000.0, 6000.0, 1200.0, 1000.0, 3401.0, 1800.0, 2000.0, 2000.0, 1000.0, 1000.0, 2500.0, 2000.0, 1000.0, 1000.0, 1000.0, 1000.0, 1000.0, 2000.0, 1000.0, 1000.0, 5000.0, 5000.0, 5100.0, 1000.0, 15000.0, 25000.0, 1500.0, 2000.0, 1000.0, 1200.0, 5000.0, 1000.0, 12000.0, 1000.0, 1000.0, 1001.0, 2000.0, 8750.0, 20000.0, 4125.0, 1500.0, 2000.0, 1350.0, 2500.0, 1000.0, 5000.0, 2100.0, 3750.0, 4500.0, 820.0, 1000.0, 2500.0, 10000.0, 2500.0, 3240.0, 900.0, 2500.0, 5000.0, 2500.0, 2250.0, 4000.0, 1000.0, 7500.24, 4650.0, 2500.0, 2500.0, 850.0, 5500.0, 4294.43, 2500.0, 2100.0, 4294.43, 1500.0, 5000.0, 2500.0, 900.0, 1835.0, 1650.0, 2400.04, 2400.04, 2500.0, 1275.0, 1350.0, 900.0, 3240.0, 3500.0, 5000.0, 1000.0, 900.0, 3000.0, 2500.0, 2500.08, 2000.0, 21800.0, 1000.0, 1750.0, 1050.0, 5000.0, 4125.0, 5000.0, 2000.0, 1000.0, 2500.0, 900.0, 1000.0, 1000.0, 1500.0, 3100.0, 5000.0, 2000.0, 3250.0, 3000.0, 1000.0, 3460.0, 1640.0, 6300.0, 850.0, 1200.0, 1000.0, 1500.0, 2000.0, 1050.0, 2100.0, 3000.0, 13500.0, 2300.0, 5987.0, 3460.0, 3200.0, 5000.0, 1790.0, 1100.0, 1640.0, 1000.0, 1095.0, 1275.0, 5250.0, 992.04, 2500.08, 4390.0, 1190.0, 1100.0, 1100.0, 10000.0, 2500.0, 2500.0, 5000.0, 3100.0, 1000.0, 1500.0, 2500.0, 1000.0, 2000.0, 7500.0, 5000.0, 1790.0, 1000.0, 2500.0, 1500.0, 2100.0, 2500.0, 1000.0, 2100.0, 983.4, 1000.0, 983.4, 900.0, 900.0, 1000.0, 2000.0, 1100.0, 2500.0, 2500.0, 900.0, 1500.0, 7482.56, 2500.0, 2500.0, 1000.0, 900.0, 3337.5, 3337.5, 905.0, 6000.0, 5000.0, 5100.0, 2200.0, 1000.0, 2125.0, 1500.0, 1000.0, 1000.0, 4625.0, 1000.0, 1320.17, 1300.0, 2500.0, 1000.0, 1220.0, 2200.0, 1000.0, 2500.0, 2500.0, 7000.0, 1250.0, 1500.0, 1050.0, 1950.0, 2500.0, 1700.0, 2200.0, 2100.0, 2100.0, 1375.0, 900.0, 2500.0, 4625.0, 1500.0, 17000.0, 2500.0, 1250.0, 950.0, 2125.0, 1000.0, 2125.0, 3000.0, 1000.0, 1050.0, 1000.0, 4445.0, 2000.0, 1220.0, 3750.0, 2500.0, 2500.0, 1000.0, 4500.0, 2500.0, 2000.0, 1500.0, 4000.0, 1000.0, 2130.0, 3000.0, 2500.0, 1000.0, 1000.0, 1120.08, 1100.0, 3300.0, 2500.0, 1365.0, 900.0, 1050.0, 2500.0, 12600.0, 13500.0, 915.0, 1350.0, 1000.0, 1100.0, 1000.0, 1000.0, 2125.0, 1000.0, 2100.0, 2125.0, 3850.0, 3850.0, 3000.0, 1120.08, 5000.0, 3000.0, 1000.0, 1000.0, 1500.0, 5000.0, 2125.0, 7482.56, 2000.0, 3000.0, 2000.0, 1500.0, 2000.0, 4445.0, 1300.0, 1000.0, 8000.0, 5000.0, 1500.0, 2125.0, 2125.0, 900.0, 1320.17, 1000.0, 900.0, 1000.0, 1000.0, 3450.0, 10000.0, 1375.0, 850.0, 2500.0, 1000.0, 2500.0, 1000.0, 960.0, 8750.0, 2000.0, 3300.0, 1500.0, 1000.0, 5100.0, 5000.0, 2000.0, 10000.0, 2000.0, 2500.0, 2000.0, 4125.0, 5000.0, 2000.0] \n",
            "\n",
            "GRP_PROD_ED \n",
            "\n",
            "Outliers: [1177.0, 4437.5, 5000.0, 8437.45, 1200.0, 15186.88, 1500.0, 2250.0, 8000.0, 8000.0, 2000.0, 4000.0, 6000.0, 2500.0, 3350.0, 5000.0, 6000.0, 1200.0, 2000.0, 2136.0, 4600.0, 2000.0, 1500.0, 1891.0, 4000.0, 1300.0, 6450.0, 2950.0, 2000.0, 3500.0, 18000.0, 1895.0, 1173.0, 15250.0, 11600.0, 1450.0, 10602.0, 8420.0, 8420.0, 4400.0, 15186.88, 2650.0, 3000.0, 8290.83, 1260.0, 4690.0, 3500.0, 6000.0, 4000.0, 13000.0, 3200.0, 1175.0, 2490.0, 2100.0, 1385.0, 10250.0, 2000.0, 16060.0, 3275.0, 7500.0, 1525.0, 3225.0, 2000.0, 1550.0, 5000.0, 1414.0, 2260.08, 2700.0, 3610.0, 4250.0, 3900.0, 2104.0, 1596.0, 3250.0, 3250.0, 2526.0, 1260.0, 2608.0, 3200.0, 4200.0, 1775.0, 1600.0, 1709.25, 3627.0, 2062.5, 2100.0, 4690.0, 1900.0, 3725.0, 1405.0, 2600.0, 1410.0, 1398.0, 2262.0, 2883.0, 2175.0, 1200.0, 1275.0, 1435.0, 6025.0, 3175.0, 1275.0, 3610.0, 8900.0, 2883.0, 3300.0, 1580.0, 2615.0, 2375.0, 2435.0, 1225.0, 14775.0, 2345.0, 2140.0, 1830.0, 1397.0, 5408.92, 1900.0, 2453.91, 11600.0, 2542.0, 5250.0, 1645.0, 11980.0, 1416.0, 1370.0, 4165.0, 2885.0, 5759.0, 2080.0, 1762.0, 1540.0, 1185.0, 14670.0, 6025.0, 1895.0, 2615.0, 3125.0, 1435.0, 1252.0, 2350.0, 1414.0, 13850.0, 1250.0, 1300.0, 3875.0, 1198.0, 1305.0, 3610.0, 1975.0, 5000.0, 2818.0, 3815.0, 2625.0, 1555.0, 9110.0, 9110.0, 1325.0, 1783.0, 1442.0, 1900.0, 2750.0, 1900.0, 1442.0, 2490.0, 1215.0, 1435.0, 1450.0, 11980.0, 1853.0, 4151.0, 1355.0, 2885.0, 8567.0, 1325.0, 1969.0, 17160.0, 5250.0, 1897.0, 12454.67, 3205.0, 1450.0, 11775.0, 2542.0, 2828.0, 1715.0, 1482.0, 3103.0, 2950.0, 1447.0, 1835.0, 1495.0, 1200.0, 1350.0, 1340.0, 2630.0, 1640.0, 1792.0, 1983.0, 3025.0, 1660.0, 1370.0, 2000.0, 1637.0, 1918.0, 1804.0, 1370.0, 4450.0, 1725.0, 2723.0, 1241.0, 1250.0, 1614.0, 1495.0, 3362.0, 1415.0, 3259.85, 2671.0, 1710.0, 1485.0, 4555.0, 2283.0, 1210.0, 13500.0, 1310.0, 2000.0, 2650.0, 6021.0, 2855.0, 4751.0, 2750.0, 7850.0, 2683.0, 1200.0, 1202.0, 1625.0, 1510.0, 3200.0, 4775.0, 2500.0, 1525.0, 2122.0, 4950.0, 1460.0, 4165.0, 1891.0, 1315.0, 1890.0, 3875.0, 1300.0, 1555.0, 1835.0, 1362.0, 1482.0, 1378.0, 2669.0, 1550.0, 1900.0, 1660.0, 3005.0, 2295.0, 2601.0, 1954.0, 2260.0, 2425.0, 2752.0, 1460.0, 1327.0, 1757.0, 18205.0, 2765.0, 2825.0, 1900.0, 1225.0, 21500.0, 2470.0, 1575.0, 1660.0, 4090.0, 1300.0, 1336.0, 1550.0, 4975.0, 1671.44, 1925.0, 8500.0, 1400.0, 5320.0, 1525.0, 2453.91, 1510.0, 2630.0, 2825.0, 1500.0, 2325.0, 11375.0, 3372.0, 4975.0, 3279.0, 6400.0, 4980.0, 5505.0, 2260.0, 1835.0, 1600.0, 1340.0, 1565.0, 3162.5, 1800.0, 1350.0, 4217.0, 2100.0, 1629.0, 1250.0, 3875.0, 2000.0, 2015.0, 1700.0, 2800.0, 1550.0, 1375.0, 1650.0, 2867.0, 1930.0, 1554.0, 2513.0, 1500.0, 6000.0, 1378.0, 1700.0, 2295.0, 1487.0, 1327.0, 4751.0, 4090.0, 1325.0, 1425.0, 4400.0, 2450.0, 3085.0, 3162.5, 1725.0, 4900.0, 2195.0, 3350.0, 2750.0, 2104.0, 1260.0, 9250.0, 5505.0, 1217.0, 1500.0, 2000.0, 1890.0, 3825.0, 1300.0, 1625.0, 1600.0, 1175.0, 2425.0, 6021.0, 3085.0, 1560.0, 14775.0, 1765.0, 3225.0, 2122.0, 2750.0, 3176.0, 18205.0, 7170.0, 4600.0, 2325.0, 9900.0, 2750.0, 3739.0, 17406.0, 3610.0, 1173.0, 1875.0, 4700.0, 1565.0, 1385.0, 1565.0, 1950.0, 1575.0, 1977.0, 1954.0, 2450.0, 2723.0, 2100.0, 4980.0, 2224.0, 2625.0, 2677.0, 1660.0, 2080.0, 1550.0, 5000.0, 1650.0, 5320.0, 1854.0, 1930.0, 2470.0, 5918.0, 3552.0, 6500.0, 1425.0, 17845.0, 1804.0, 5193.56, 2683.0, 1853.0, 2063.0, 1750.0, 1275.0, 5250.0, 2615.0, 2200.0, 1198.0, 3739.0, 1740.0, 2300.0, 2750.0, 13500.0, 1750.0, 1275.0, 2058.0, 4950.0, 1440.0, 4886.0, 1430.0, 9250.0, 6450.0, 1892.0, 2733.0, 2283.0, 1867.0, 1510.0, 1900.0, 2935.0, 12100.0, 1350.0, 12100.0, 1185.0, 3467.0, 2700.0, 1700.0, 1370.0, 1614.0, 18000.0, 4700.0, 8290.83, 1800.0, 15250.0, 1336.0, 3259.85, 2752.0, 6000.0, 3786.0, 1362.0, 2475.0, 3635.0, 2510.0, 2140.0, 2733.0, 11650.0, 1650.0, 1450.0, 1775.0, 4775.0, 1555.0, 1830.0, 1671.44, 1554.0, 2510.0, 1969.0, 2450.0, 1854.0, 1629.0, 1983.0, 13500.0, 9900.0, 4250.0, 1200.0, 3467.0, 1241.0, 1551.0, 1202.0, 1215.0, 1435.0, 2410.0, 1880.0, 3175.0, 1450.0, 2800.0, 6400.0, 17160.0, 5759.0, 1425.0, 17845.0, 3786.0, 2513.0, 2015.0, 1260.0, 1783.0, 5000.0, 1400.0, 11000.0, 2175.0, 2063.0, 2000.0, 1553.0, 2500.0, 2500.0, 6500.0, 1300.0] \n",
            "\n",
            "GRP_PROD_EN \n",
            "\n",
            "Outliers: [6500.0, 5000.0, 5000.0, 5548.64, 3900.0, 4250.0, 5000.0, 7042.0, 5000.0, 4100.0, 5000.0, 5000.0, 10000.0, 16000.0, 16000.0, 5000.0, 11700.0, 25000.0, 20000.0, 3850.0, 10000.0, 4000.0, 5225.0, 7002.0, 5150.0, 10000.0, 25000.0, 9494.03, 25000.0, 4000.0, 4500.0, 4425.0, 3890.0, 9235.0, 5300.0, 10960.0, 13350.0, 25000.0, 5800.0, 5650.0, 4300.0, 15000.0, 4000.0, 4600.0, 10000.0, 13300.0, 4600.0, 4500.0, 5225.0, 11288.0, 23818.02, 5395.2, 5000.0, 10000.0, 10743.0, 20000.0, 10200.0, 9375.0, 3850.0, 5000.0, 3719.0, 3712.8, 4000.0, 6000.0, 6909.21, 7100.0, 3775.0, 4250.0, 6350.0, 16635.3, 7100.0, 6909.21, 4000.0, 7000.0, 24937.0, 13000.0, 13000.0, 5000.0, 6101.0, 9600.0, 5350.0, 4000.0, 4000.0, 5000.0, 5389.0, 10200.0, 5000.0, 15000.0, 5100.0, 16000.0, 5750.0, 16417.14, 5023.0, 6775.0, 5750.0, 5250.0, 3935.0, 3725.0, 5300.0, 20075.0, 6125.0, 10615.0, 7225.0, 18600.0, 8850.0, 3850.0, 7050.0, 23268.63, 11890.0, 11000.0, 4000.0, 5250.0, 3900.0, 5000.0, 5230.0, 10000.0, 23225.0, 7907.0, 6000.0, 4400.0, 5000.0, 5050.0, 5000.0, 5080.0, 5080.0, 5630.0, 14000.0, 5225.0, 5389.0, 11400.0, 5250.0, 4100.0, 3725.0, 5350.0, 19051.0, 7250.0, 12308.84, 5462.0, 6700.0, 6950.0, 6250.0, 6890.0, 14660.0, 4100.0, 7000.0, 25000.0, 10500.0, 4570.0, 6325.0, 15825.0, 16600.0, 8910.0, 7500.0, 4300.0, 4300.0, 5201.83, 7700.0, 10930.0, 5030.34, 14000.0, 20974.2, 7950.0, 7450.0, 6200.0, 8025.0, 3935.0, 4100.0, 9325.0, 20992.0, 4150.0, 9600.0, 4000.0, 4350.0, 5850.0, 5315.0, 7050.0, 20700.0, 4450.0, 4200.0, 8325.0, 20870.1, 4950.0, 20640.0, 16300.0, 3800.0, 12000.0, 21800.0, 5554.0, 7000.0, 6325.0, 6100.0, 16600.0, 5200.0, 4400.0, 13250.0, 21625.0, 3810.0, 5225.0, 5300.0, 23100.0, 4000.0, 16050.0, 4990.0, 18235.0, 4925.0, 6175.0, 10795.0, 4375.0, 11650.0, 12800.0, 11901.0, 12250.0, 15200.0, 4603.0, 4042.0, 3750.0, 10125.0, 4665.0, 5950.0, 3850.0, 4250.0, 5915.0, 8425.0, 9375.0, 15435.0, 4800.0, 4000.0, 5185.0, 6125.0, 3790.0, 4800.0, 10480.0, 13900.0, 8300.0, 9675.0, 16475.0, 5400.0, 5100.0, 7000.0, 20000.0, 4850.0, 6047.0, 5100.0, 4900.0, 21250.0, 21250.0, 6250.0, 7050.0, 23818.02, 8925.0, 3850.0, 5025.0, 10200.0, 8075.0, 12900.0, 6315.0, 9000.0, 4125.0, 14775.0, 6000.0, 15135.0, 8050.0, 4600.0, 14550.0, 6000.0, 10000.0, 4200.0, 7875.0, 7880.0, 4613.01, 6452.0, 9582.59, 9600.0, 9000.0, 3725.0, 9575.0, 3850.0, 6500.0, 18850.0, 4315.0, 6070.0, 12400.0, 18018.33, 6350.0, 3935.0, 5775.0, 15125.0, 13250.0, 4900.0, 4635.0, 6000.0, 16595.0, 4100.0, 6000.0, 7225.0, 4000.0, 4850.0, 4900.0, 9175.0, 3940.0, 3775.0, 5125.0, 7025.0, 18875.0, 4775.0, 5510.0, 3775.0, 5660.0, 3750.0, 9040.0, 21800.0, 4825.0, 8925.0, 6000.0, 6000.0, 5800.0, 3825.0, 4111.0, 11901.0, 5675.0, 18128.0, 9494.03, 4900.0, 21000.0, 9769.0, 6260.0, 6000.0, 18128.0, 4200.0, 6865.0, 10225.0, 12075.0, 3800.0, 4000.0, 7250.0, 3700.0, 5600.0, 5626.0, 4210.0, 5550.0, 7050.0, 5550.0, 6750.0, 4260.0, 8700.0, 4260.0, 3850.0, 6350.0, 4111.0, 5195.0, 3800.0, 8360.0, 6600.0, 16000.0, 16965.0, 8000.0, 8190.12, 3670.0, 11251.25, 5600.0, 6501.0, 18900.0, 18900.0, 3940.0, 9375.0, 4809.0, 3750.0, 19163.0, 15800.0, 3940.0, 6124.0, 5296.89, 4995.0, 4025.0, 7450.0, 4410.0, 5000.0, 4080.0, 6500.0, 5001.0, 21995.0, 6950.0, 15543.49, 6500.0, 20075.0, 5000.0, 4475.0, 5200.0, 6175.0, 9600.0, 22525.0, 10652.0, 15500.0, 6917.34, 9600.0, 7675.0, 12100.0, 3950.0, 12308.84, 6475.0, 5150.0, 5700.0, 7474.0, 4100.0, 6550.0, 6850.0, 16875.0, 4375.0, 4952.0, 10000.0, 6865.0, 4325.0, 3925.0, 16900.0, 21995.0, 5640.0, 7050.0, 14660.0, 7865.0, 7845.0, 11018.8, 3876.0, 13850.0, 4250.0, 4560.0, 3750.0, 7250.0, 5895.0, 3977.0, 4250.0, 6437.8, 20251.0, 7057.12, 3820.0, 6525.0, 11000.0, 7050.0, 5200.0, 6650.0, 10300.0, 9819.08, 7225.0, 3675.0, 8300.0, 6555.0, 10930.0, 7900.0, 19372.0, 7500.0, 8000.0, 3800.0, 6250.0, 12850.0, 13276.0, 13385.0, 7500.0, 4165.0, 3750.0, 5050.0, 7907.0, 6750.0, 6600.0, 5000.0, 9350.75, 16475.0, 4100.0, 5675.0, 6025.0, 3800.0, 4079.6, 8291.31, 20425.0, 15780.0, 4030.0, 4000.0, 20640.0, 4993.0, 4700.0, 7474.0, 11500.0, 4150.0, 6775.0, 5165.0, 4225.0, 5320.0, 4350.0, 10000.0, 3820.0, 7057.12, 6975.0, 12150.0, 7250.0, 3719.0, 8725.0, 10500.0, 13785.0, 9725.0, 6101.0, 19500.0, 4137.0, 17170.0, 16270.0, 5775.0, 7065.0, 4952.0, 5725.0, 7735.0, 8725.0, 7850.0, 4422.6, 3707.0, 14150.18, 13643.0, 23025.0, 22525.0, 3850.0, 4362.0, 9000.0, 7250.0, 5320.0, 12169.0, 4625.0, 12000.0, 9675.0, 3700.0, 9600.0, 9334.0, 7926.0, 5500.0, 6900.0, 7300.0, 10925.0, 6150.0, 15825.0, 6500.0, 10950.0, 7528.0, 6000.0, 6350.0, 17075.0, 8000.0, 5785.0, 6452.0, 12235.0, 5925.0, 8300.0, 5100.0, 4070.0, 11400.0, 4050.0, 5030.0, 4000.0, 5736.0, 4000.0, 4600.0, 4100.0, 7791.0, 17275.0, 5000.0, 4000.0, 3725.0, 23000.0, 4500.0, 7125.0, 18261.25, 3950.0, 6720.0, 18537.8, 7850.0, 4225.0, 5090.0, 10100.0, 10400.0, 6025.0, 5000.0, 4499.0, 6953.15, 17375.0, 6225.0, 6225.0, 7025.0, 10652.0, 15110.0, 14000.0, 10500.0, 7700.0, 15500.0, 4275.0, 5550.0, 4035.0, 22055.0, 7865.0, 17650.0, 7085.8, 11050.0, 4450.0, 10375.0, 4650.0, 12005.0, 5000.0, 4350.0, 5250.0, 8300.0, 10000.0, 13296.0, 5350.0, 5795.0, 10410.0, 4560.0, 7500.0, 5025.0, 8475.0, 4665.0, 17100.0, 10185.0, 5500.0, 4500.0, 5100.0, 11400.0, 5650.0, 8850.0, 3850.0, 6865.0, 11770.0, 6200.0, 4275.0, 4555.0, 5500.0, 8325.0, 4720.0, 4625.0, 8000.0, 10116.0, 5000.0, 5640.0, 6675.0, 16550.0, 8360.0, 4800.0, 17471.95, 5050.0, 4150.0, 8750.0, 16975.0, 17200.0, 5125.0, 3977.0, 4925.0, 8000.0, 5000.0, 6516.72, 5125.0, 3900.0, 15200.0, 5700.0, 4545.0, 22960.0, 18600.0, 12850.0, 7042.0, 5000.0, 10150.0, 4900.0, 12225.0, 5000.0, 12225.0, 5566.0, 4080.0, 4700.0, 8000.0, 5175.0, 6550.0, 10500.0, 4325.0, 4825.0, 5000.0, 6200.0, 3692.0, 3725.0, 5230.0, 7575.0, 3960.0, 3960.0, 11400.0, 12445.0, 7300.0, 5000.0, 3750.0, 13750.0, 4394.0, 4250.0, 5795.0, 4425.0, 6100.0, 7975.0, 7050.0, 5650.0, 16564.81, 4186.62, 5000.0, 6516.72, 4745.0, 7474.0, 13000.0, 4200.0, 4525.0, 7002.0, 8190.12, 5462.0, 6775.0, 6075.0, 5900.0, 7400.0, 9675.0, 5500.0, 10325.0, 5396.11, 4500.0, 4150.0, 9819.08, 6275.0, 3700.0, 5400.0, 7950.0, 4142.0, 19150.0, 6000.0, 4350.0, 4239.0, 6550.0, 21816.0, 18100.0, 3700.0, 6536.0, 3725.0, 9900.0, 4499.0, 6350.0, 6950.0, 10400.0, 16650.0, 4570.0, 13300.0, 4500.0, 9450.0, 15000.0, 4015.0, 3900.0, 6150.0, 10150.0, 15825.0, 13400.0, 6400.0, 12300.0, 8850.0, 8213.0, 6425.0, 13350.0, 4350.0, 13850.0, 6536.0, 3750.0, 14050.0, 10000.0, 19150.0, 17100.0, 3850.0, 4675.0, 7107.47, 4200.0, 5960.0, 4450.0, 5450.0, 10400.0, 6075.0, 5775.0, 6200.0, 6800.0, 5342.0, 5000.0, 13050.0, 8250.0, 4250.0, 6070.0, 4475.0, 4025.0, 5725.0, 6150.0, 4225.0, 22142.35, 5200.0, 6600.0, 4935.0, 4184.0, 6125.0, 14425.0, 4725.0, 9142.0, 5000.0, 4775.0, 7250.0, 4717.5, 6075.0, 7111.3, 5141.96, 5168.0, 4325.0, 3700.0, 5500.0, 10795.0, 5265.0, 4517.0, 3750.0, 6125.0, 6325.0, 3750.0, 3940.0, 4900.0, 16270.0, 4115.0, 7850.0, 12125.0, 7450.0, 4075.0, 5630.0, 4920.0, 6550.0, 8801.7, 5300.0, 4675.0, 5000.0, 4985.0, 21816.0, 11060.0, 3725.0, 8205.0, 8475.0, 5975.0, 10100.0, 4100.0, 10150.0, 4000.0, 5000.0, 5785.0, 14283.0, 8150.0, 4975.0, 12005.0, 10700.0, 9760.0, 5650.0, 16417.14, 4950.0, 4100.0, 5168.0, 21200.0, 6090.0, 18031.0, 4098.0, 12150.0, 5550.0, 5936.0, 23826.0, 4800.0, 13296.0, 4105.0, 23826.0, 19500.0, 5600.0, 6675.0, 4125.0, 16000.0, 4150.0, 10690.0, 14425.0, 4900.0, 10950.0, 4434.58, 5100.0, 11092.0, 21139.96, 7750.0, 5100.0, 5650.0, 4850.0, 5200.0, 14000.0, 4100.0, 17275.0, 6750.0, 5296.89, 3700.0, 14250.0, 8250.0, 10380.0, 5400.0, 6535.0, 10743.0, 4050.0, 5000.0, 5165.0, 6250.0, 8702.0, 4239.0, 4750.0, 7584.0, 4050.0, 5379.0, 3925.0, 9685.0, 5100.0, 4695.0, 11135.0, 9582.59, 7875.0, 18500.0, 10950.0, 5500.0, 6200.0, 10000.0, 5700.0, 17085.0, 3725.0, 9475.0, 8100.0, 9184.0, 16875.0, 23003.84, 15000.0, 8325.0, 6650.0, 7150.0, 5900.0, 4060.0, 7065.0, 7000.0, 10600.0, 11000.0, 11890.0, 10375.0, 11303.0, 4425.0, 4000.0, 23025.0, 9300.0, 7111.3, 4550.0, 4000.0, 15000.0, 9760.0, 8750.2, 19000.0, 3725.0, 10096.88, 11925.0, 6501.0, 6025.0, 6200.0, 16205.0, 10000.0, 5645.0, 7000.0, 3760.0, 7845.0, 6850.0, 15000.0, 4360.0, 6075.0, 10050.0, 7485.0, 5925.0, 3700.0, 5000.0, 5350.0, 6890.0, 4250.0, 4190.0, 5945.0, 4250.0, 16000.0, 5775.0, 9350.0, 5800.0, 4300.0, 7260.0, 3935.0, 23034.0, 4434.58, 3925.0, 6351.0, 9335.0, 3935.0, 17260.0, 8545.0, 6953.15, 7926.0, 4950.0, 5900.0, 8545.0, 5750.0, 4325.0, 3700.0, 5950.0, 20350.0, 4797.2, 4500.0, 20101.0, 4200.0, 12775.0, 4200.0, 8125.0, 4913.0, 14775.0, 8000.0, 6600.0, 4790.0, 4070.0, 6950.0, 3935.0, 16410.0, 6075.0, 21675.0, 4400.0, 15000.0, 3850.0, 4850.0, 12169.0, 4553.34, 25000.0, 12575.0, 8050.0, 6125.0, 12000.0, 4100.0, 20425.0, 7250.0, 14850.0, 10375.0, 5586.0, 4360.0, 4750.0, 18537.8, 5300.0, 4355.0, 11050.0, 5800.0, 5425.0, 10400.0, 11000.0, 6155.8, 4875.0, 13643.0, 11092.0, 7333.0, 6425.0, 7250.0, 8650.0, 4875.0, 4150.0, 5150.0, 5315.0, 4170.0, 4250.0, 8925.0, 5000.0, 5845.41, 13200.0, 4300.0, 9235.0, 7675.0, 5170.0, 13228.84, 6050.0, 5900.0, 3810.0, 6375.0, 7450.0, 7700.0, 12350.0, 8201.05, 6200.0, 8800.0, 3960.0, 3960.0, 20075.0, 4900.0, 4050.0, 7000.0, 4995.0, 13850.0, 9575.0, 10315.0, 4150.0, 3750.0, 4375.0, 10170.0, 4315.0, 3766.0, 5141.96, 20535.0, 5225.0, 5250.0, 10925.0, 4325.0, 4186.62, 4250.0, 21050.0, 13300.0, 4095.0, 6325.0, 18500.0, 11500.0, 5000.0, 4098.0, 9265.0, 20625.0, 6400.0, 5775.0, 7200.0, 5500.0, 3925.0, 3995.0, 7037.23, 10000.0, 4760.0, 3995.0, 6575.0, 9500.0, 6075.0, 3729.17, 5800.0, 8800.0, 3900.0, 8050.0, 3925.0, 5350.0, 12775.0, 4300.0, 10050.0, 6900.0, 7474.0, 8150.0, 16000.0, 8050.0, 6500.0, 6535.0, 5750.0, 4900.0, 6100.0, 16595.0, 10380.0, 3925.0, 6720.0, 4990.0, 9700.0, 8000.0, 12800.0, 7630.0, 7037.23, 10528.0, 5342.0, 16635.3, 4900.0, 5050.12, 6350.0, 15900.0, 7100.0, 3725.0, 9210.0, 7750.0, 5300.0, 10990.91, 10170.0, 13885.0, 7800.0, 10250.0, 4250.0, 5400.0, 4988.0, 6506.0, 4070.0, 10300.0, 5750.0, 3670.0, 10475.0, 10475.0, 5000.0, 5755.0, 3760.0, 4627.0, 4285.68, 6315.0, 4597.5, 5160.0, 6501.0, 4375.0, 5000.0, 4300.0, 17475.0, 4000.0, 5050.12, 4250.0, 4875.0, 7150.0, 4800.0, 4700.0, 6150.0, 11800.0, 15300.0, 7750.0, 16000.0, 12350.0, 4825.0, 20000.0, 3940.0, 3700.0, 22075.0, 3700.0, 14500.0, 7200.0, 19163.0, 7750.0, 12235.0, 12850.0, 4100.0, 5936.0, 7200.0, 4553.34, 6550.0, 5775.0, 3750.0, 12575.0, 10480.0, 7485.0, 4800.0, 15825.0, 23225.0, 7200.0, 5195.0, 8475.0, 11770.0, 20535.0, 6425.0, 3750.0, 5000.0, 11100.0, 4000.0, 10960.0, 4310.0, 18700.0, 5030.34, 9350.75] \n",
            "\n",
            "GRP_PROD_EX \n",
            "\n",
            "Outliers: [2650.0, 2504.0, 5285.0, 3145.0, 1818.0, 2500.0, 9505.0, 2025.0, 2500.0, 1850.0, 5100.0, 1710.0, 1750.0, 1760.0, 2700.0, 4440.0, 1950.0, 1900.0, 4000.0, 2243.0, 1850.0, 2600.0, 8144.0, 2000.0, 2302.0, 2099.0, 2500.0, 5100.0, 2000.0, 2800.0, 7986.0, 7000.0, 7000.0, 3264.0, 1805.0, 14050.0, 1901.0, 1700.0, 3110.0, 2253.0, 7690.0, 7001.0, 2000.0, 2000.0, 1876.0, 2387.0, 6500.0, 10947.8, 2143.0, 5320.0, 1850.0, 4997.0, 13000.0, 4040.0, 7500.0, 7500.0, 3148.0, 1760.0, 4425.0, 2341.0, 2585.0, 3520.0, 1688.0, 2440.0, 3000.0, 5600.0, 6512.0, 2245.6, 4000.0, 4000.0, 4966.0, 2760.0, 2620.0, 2738.0, 1889.0, 5440.0, 2945.0, 3110.0, 1752.0, 3056.0, 1952.0, 4040.0, 5568.0, 2870.0, 2340.0, 4104.67, 15000.0, 13485.0, 6080.0, 2925.0, 1915.0, 1915.0, 2625.0, 4925.0, 5467.2, 4925.0, 6876.0, 1780.0, 1660.0, 2365.0, 2416.0, 2291.0, 1917.12, 2500.0, 9290.0, 3950.0, 1728.4, 2000.0, 3000.0, 3120.0, 1850.0, 3573.0, 3000.0, 2200.0, 1920.0, 2400.0, 3000.0, 2505.0, 3260.0, 1840.0, 3318.0, 5600.0, 1870.0, 2060.0, 2431.0, 6250.0, 4161.0, 5000.0, 9290.0, 1741.0, 7690.0, 1925.0, 2275.0, 1920.0, 3801.0, 8240.0, 2510.0, 1665.0, 1710.0, 1855.0, 10230.54, 2383.0, 4485.0, 3000.0, 1741.0, 1920.0, 2266.0, 2110.0, 5674.0, 1875.0, 4966.0, 1995.0, 1790.0, 1735.0, 1875.0, 4000.0, 1900.0, 2025.0, 1995.0, 3199.0, 1656.0, 1931.0, 1850.0, 1730.0, 1706.0, 1975.0, 3300.0, 1900.0, 7744.0, 2350.0, 3000.0, 4000.0, 3040.0, 2625.0, 6760.0, 1889.0, 4215.0, 3602.7, 1800.0, 2404.0, 3975.0, 1735.0, 1840.0, 3090.0, 2080.0, 3432.08, 6760.0, 2048.0, 2780.0, 2620.0, 1885.0, 2400.0, 2021.0, 2450.0, 3083.0, 2100.0, 1864.0, 1800.0, 2270.0, 2342.0, 1796.0, 1665.0, 1787.5, 1675.0, 1732.0, 2640.8, 6400.0, 2000.0, 2254.0, 20000.0, 2772.0, 1685.0, 2825.0, 4088.0, 3141.0, 3435.0, 2197.0, 2470.0, 3025.0, 5100.0, 2000.0, 2040.0, 2640.0, 5470.0, 5140.0, 2030.0, 2030.0, 1708.0, 1757.0, 1795.0, 1766.0, 1680.0, 1815.0, 2430.0, 1815.0, 1966.0, 2000.0, 2580.0, 2373.0, 2000.0, 1770.0, 2243.0, 2065.0, 1715.0, 5148.0, 3698.0, 5016.0, 1840.0, 1700.0, 2350.0, 2140.0, 2180.0, 2500.0, 3060.0, 2025.0, 1920.0, 1920.0, 2870.0, 6250.0, 1660.0, 2095.0, 2585.0, 1950.0, 2100.0, 4600.0, 2176.0, 5285.0, 5100.0, 1782.0, 2289.0, 1700.0, 7986.0, 2275.0, 1693.6, 6280.0, 3126.0, 10610.0, 6197.0, 2980.0, 4296.0, 1850.0, 3060.0, 6080.0, 1646.3, 2099.0, 2110.0, 4215.0, 2266.0, 3150.0, 3285.0, 1833.0, 3975.0, 6396.0, 2000.0, 2170.0, 3355.0, 2445.0, 2000.0, 2025.0, 5060.0, 2583.31, 2100.0, 1696.0, 4645.0, 5662.5, 5560.0, 8800.0, 2550.0, 2198.0, 3285.0, 2000.0, 2750.0, 6145.0, 3490.0, 2920.0, 9064.0, 5335.0, 1766.0, 2440.0, 13040.0, 2750.0, 2230.0, 1715.0, 6450.0, 4095.0, 2710.0, 5600.0, 3083.0, 3121.0, 1903.0, 3100.0, 1757.0, 4200.0, 2302.0, 6575.0, 5050.0, 3349.67, 3150.0, 14050.0, 4880.0, 2020.0, 2795.0, 2026.0, 10947.8, 2031.0, 1845.0, 2035.0, 2606.0, 1699.0, 3050.0, 4150.0, 1800.0, 4300.0, 1805.0, 2620.0, 2068.0, 1796.0, 7615.0, 3150.0, 2708.0, 13768.0, 3520.0, 1650.0, 2715.0, 2025.0, 6480.0, 6848.0, 2025.0, 1885.0, 3776.0, 2738.0, 1727.5, 5362.0, 4015.0, 3560.0, 9470.0, 2622.0, 1910.0, 2975.0, 2090.87, 5210.0, 1660.0, 2266.0, 1756.0, 8196.0, 2750.0, 6256.0, 2940.0, 1685.0, 9220.0, 6396.0, 1990.0, 5600.0, 2585.0, 4870.0, 1800.0, 1665.0, 2325.0, 2143.0, 1852.0, 1850.0, 6275.0, 13485.0, 4081.0, 1960.0, 1824.0, 1780.0, 1732.8, 2170.0, 1900.0, 10125.0, 3241.0, 2473.0, 3801.0, 2500.0, 1676.0, 3675.0, 2020.0, 2945.0, 2720.0, 2390.0, 2176.0, 2175.0, 1740.0, 3130.0, 1688.0, 2220.0, 3540.0, 6760.0, 2473.0, 1876.0, 2964.0, 1965.0, 4375.0, 2190.0, 1950.0, 3335.0, 1687.0, 1920.0, 2715.0, 1818.0, 1816.0, 2025.0, 2970.0, 3602.7, 2119.6, 4826.0, 2065.0, 5700.0, 1760.0, 9505.0, 8144.0, 9064.0, 3148.0, 1699.0, 3500.0, 15000.0, 1798.0, 10610.0, 5105.0, 1748.0, 1805.0, 3260.0, 1873.0, 2805.0, 9470.0, 2700.0, 3432.08, 2540.0, 3000.0, 1746.0, 5487.0, 1870.0, 3125.0, 5050.0, 2040.0, 8240.0, 5020.5, 2000.0, 9700.0, 2004.0, 2995.0, 1766.0, 6906.0, 1735.0, 2600.0, 2136.64, 2100.0, 2579.0, 3764.0, 2025.0, 2089.0, 1688.0, 1765.0, 3230.0, 2870.0, 1903.0, 1713.0, 3975.0, 5566.0, 2275.0, 7744.0, 2905.0, 2400.0, 1732.0, 5522.0, 3000.0, 1650.0, 5085.0, 2175.0, 5750.0, 1850.0, 3700.0, 2071.0, 2090.0, 3141.0, 2620.0, 1670.0, 2775.0, 1960.0, 1760.0, 5285.0, 1805.0, 2755.0, 12670.0, 1945.0, 3495.0, 3600.0, 2495.0, 1975.0, 1750.0, 2145.0, 2250.0, 1688.0, 3646.0, 3121.0, 2600.0, 1975.0, 10125.0, 2000.0, 5200.0, 3850.0, 2355.0, 5600.0, 2230.0, 3600.0, 3000.0, 1780.0, 3124.0, 5280.0, 1649.6, 1816.0, 2030.0, 3032.0, 2350.0, 6280.0, 2023.8, 2150.0, 2057.0, 1785.0, 5214.0, 2075.0, 1718.0, 6268.72, 1655.0, 1725.0, 6268.72, 2790.0, 4604.0, 6197.0, 2075.0, 2170.0, 1680.0, 1780.0, 2025.0, 5100.0, 6080.0, 3570.0, 1840.0, 1675.0, 1704.0, 1738.63, 6000.0, 1672.0, 2275.0, 4870.0, 3601.6, 1785.0, 1705.0, 2500.0, 1920.0, 2025.0, 2630.0, 5200.0, 3211.0, 2035.0, 2850.0, 2500.0, 1785.0, 5210.0, 4081.0, 1885.0, 5943.0, 2505.0, 3230.0, 1732.8, 3540.0, 1990.0, 1718.0, 2127.0, 1760.0, 15050.0, 2390.0, 2375.0, 5140.0, 3360.0, 3130.0, 2500.0, 4104.67, 1897.0, 5840.0, 2435.0, 3335.0, 1710.0, 2800.0, 2030.0, 4527.0, 2440.0, 2710.0, 2499.0, 1980.0, 2755.0, 1750.0, 1752.0, 3500.0, 1737.0, 2500.0, 2932.0, 1950.0, 1960.0, 4425.0, 9457.0, 1780.0, 3070.0, 1655.0, 2575.0, 1680.0, 2720.0, 1700.0, 2150.0, 1750.0, 2095.0, 2500.0, 2930.0, 14720.0, 2058.0, 1779.5, 2100.0, 1650.0, 3435.0, 2250.0, 1656.0, 2800.0, 1790.0, 7500.0, 3600.0, 2750.0, 3050.0, 2450.0, 13200.0, 1661.0, 1820.0, 1800.0, 3902.0, 2080.0, 2326.0, 1790.0, 1755.0, 7717.0, 3776.0, 3080.0, 5399.0, 2900.0, 1735.0, 7500.0, 1705.0, 2045.0, 1977.0, 1800.0, 2425.0, 2750.0, 10000.0, 2652.0, 10260.0, 3646.0, 4100.0, 3166.0, 10000.0, 10000.0, 2310.0, 1873.0, 2730.0, 5566.0, 8038.79, 2652.0, 1790.0, 3315.0, 3490.0, 4875.0, 6848.0, 13808.0, 2373.0, 6480.0, 2772.0, 4997.0, 7250.0, 5906.0, 3000.0, 2925.0, 2550.0, 2420.0, 3490.0, 2119.6, 3680.0, 2600.0, 1710.0, 3095.0, 1865.0, 1865.0, 2089.0, 8800.0, 2650.0, 8196.0, 2030.0, 2345.0, 11795.0, 7162.0, 3750.29, 2600.0, 1660.0, 1900.0, 3195.0, 3470.0, 3650.0, 5600.0, 2560.0, 1718.0, 2560.0, 5943.0, 2708.0, 2560.0, 2800.0, 2583.31, 5000.0, 6080.0, 2341.0, 6891.0, 1760.0, 2675.0, 2325.0, 4810.0, 10100.0, 5750.0, 5320.0, 3349.67, 2450.0, 2230.0, 2489.0, 1920.0, 1836.0, 1900.0, 3980.0, 2305.0, 1742.0, 4469.0, 2038.0, 10000.0, 5100.0, 2120.0, 2850.0, 3759.0, 10500.0, 2180.0, 12980.0, 1678.0, 1805.0, 6000.0, 1746.0, 2127.0, 5800.0, 2720.0, 2100.0, 16816.0, 4350.0, 6000.0, 4456.0, 2500.0, 1708.0, 1760.0, 3390.0, 3126.0, 1833.0, 1760.0, 2980.0, 6512.0, 2350.0, 3200.0, 2000.0, 5214.0, 2014.4, 12000.0, 1929.0, 6800.0, 13040.0, 2718.0, 4456.0, 7500.0, 7250.0, 4315.0, 13808.0, 5568.0, 2930.0, 1950.0, 1842.0, 2500.0, 3264.0, 1750.0, 2000.0, 1760.0, 11004.0, 2220.0, 3056.0, 10775.0, 2387.0, 1760.0, 2366.0, 1689.0, 1660.0, 3000.0, 20000.0, 1845.0, 4440.0, 2250.0, 5800.0, 1825.0, 4315.0, 1863.0, 4810.0, 2920.0, 2255.0, 3000.0, 1760.0, 3288.0, 4154.0, 1901.0, 2500.0, 1968.0, 1674.0, 4090.0, 2140.0, 1700.0, 1674.0, 10000.0, 7500.0, 1890.0, 1900.0, 3285.0, 2750.0, 2945.0, 5600.0, 4080.5, 1840.0, 4027.0, 4027.0, 3050.0, 3215.0, 4055.0, 1825.0, 2995.0, 6400.0, 10250.0, 2350.0, 1850.0, 3980.0, 5000.0, 5700.0, 1845.0, 3042.0, 4088.0, 2110.0, 1684.0, 1705.0, 2048.0, 15000.0, 2755.0, 1824.0, 2445.0, 2718.0, 2550.0, 1693.6, 5674.0, 2275.0, 2795.0, 1672.0, 4875.0, 2198.0, 5285.0, 2435.0, 3950.0, 3145.0, 1760.0, 2620.0, 1779.5, 3090.0, 2366.0, 2857.0, 10100.0, 1750.0, 1670.0, 1840.0, 2270.0, 2021.0, 3601.6, 3866.0, 14720.0, 2195.0, 2630.0, 2420.0, 4168.0, 1806.67, 1711.0, 6906.0, 2000.0, 2375.0, 2575.0, 1842.0, 2580.0, 3080.0, 6256.0, 2030.0, 11795.0, 3166.0, 2964.0, 4704.0, 3390.0, 4130.0, 2932.0, 2560.0, 3765.0, 1800.0, 3600.0, 2500.0, 3145.0, 1661.0, 2025.0, 1766.0, 2425.0, 1920.0, 3124.0] \n",
            "\n",
            "GRP_PROD_GL \n",
            "\n",
            "Outliers: [3725.0, 1925.0, 1860.0, 7014.92, 1000.0, 1600.0, 3750.0, 14400.0, 1275.0, 1027.0, 860.0, 1000.0, 2250.0, 3350.0, 1200.0, 2800.0, 1050.0, 1250.0, 1060.0, 2718.0, 1860.0, 11500.0, 4995.0, 1000.0, 1475.0, 1275.0, 11500.0, 2827.0, 1345.0, 810.0, 725.0, 1650.0, 1043.0, 1364.0, 2125.0, 730.0, 1000.0, 9600.0, 14100.0, 1456.0, 1620.0, 872.0, 1533.0, 760.0, 1900.0, 2942.0, 2580.0, 3775.0, 1950.0, 1125.0, 1000.0, 14100.0, 1085.0, 5425.0, 2050.0, 2210.0, 1100.0, 3032.98, 1650.0, 1175.0, 2702.0, 1853.0, 858.0, 1550.0, 925.0, 1000.0, 2000.0, 1100.0, 1375.0, 2000.0, 750.0, 925.0, 825.0, 3500.0, 1975.0, 1075.0, 1450.0, 1450.0, 1125.0, 863.0, 11537.0, 2475.0, 1674.0, 890.0, 7014.92, 1720.0, 1018.0, 810.0, 1100.0, 1456.0, 1800.0, 789.0, 6318.0, 1550.0, 1925.0, 945.0, 1125.0, 740.0, 925.0, 1018.0, 1975.0, 725.0, 1110.0, 4225.0, 1850.0, 1225.0, 2868.0, 7233.0, 6790.0, 1725.0, 2666.0, 1100.0, 1420.0, 1535.0, 867.0, 1728.0, 2545.0, 1735.0, 860.0, 1560.0, 4618.0, 1790.0, 2475.0, 13617.0, 1750.0, 746.0, 1545.0, 4000.0, 1654.0, 860.0, 2029.0, 990.0, 3850.0, 995.0, 785.0, 974.0, 1328.0, 1774.0, 995.0, 853.0, 1690.0, 1150.0, 895.0, 6318.0, 2718.0, 860.0, 1320.0, 2000.0, 3000.0, 2020.0, 1058.0, 974.0, 17849.96, 1225.0, 4600.0, 2220.0, 3410.0, 1550.0, 1058.0, 1850.0, 12875.0, 4600.0, 1750.0, 1550.0, 925.0, 878.0, 2060.0, 2750.0, 4700.0, 2180.0, 1270.0, 14371.03, 2791.0, 7233.0, 760.0, 3750.0, 2750.0, 825.0, 2400.0, 2180.0, 1815.0, 1270.0, 2800.0, 3950.0, 1590.0, 730.0, 6790.0, 819.0, 6276.0, 1085.0, 1800.0, 745.0, 1052.0, 1027.0, 1168.0, 955.0, 1150.0, 1290.0, 4212.0, 800.0, 1050.0, 10980.0, 1080.0, 880.0, 4000.0, 2700.0, 1043.0, 1675.0, 1850.0, 16287.0, 3500.0, 2350.0, 1475.0, 2235.0, 1075.0, 14400.0, 1025.0, 800.0, 1800.0, 725.0, 2233.0, 4700.0, 855.0, 1690.0, 1360.0, 1853.0, 825.0, 2000.0, 5175.0, 1925.0, 1000.0, 1180.0, 1554.0, 1150.0, 878.0, 1000.0, 1000.0, 895.0, 880.0, 863.0, 3410.0, 700.0, 855.0, 750.0, 1875.0, 1485.0, 918.0, 2495.0, 1485.0, 1142.0, 14460.0, 2702.0, 3775.0, 1725.0, 800.0, 1160.0, 1200.0, 1120.0, 1043.0, 1616.0, 1805.0, 4212.0, 3725.0, 11279.9, 1130.0, 710.0, 2060.0, 1790.0, 2342.0, 1875.0, 955.0, 1654.0, 1535.0, 2000.0, 1130.0, 2010.0, 842.0, 1120.0, 14371.03, 4000.0, 4000.0, 1085.0, 5500.8, 3416.69, 3350.0] \n",
            "\n",
            "GRP_PROD_GR \n",
            "\n",
            "Outliers: [5785.0, 5000.0, 10150.21, 4460.0, 5055.0, 5000.0, 5000.0, 11047.0, 4321.0, 5000.0, 9275.0, 10335.0, 25000.0, 16200.0, 5000.0, 5000.0, 10000.0, 5075.0, 5000.0, 12500.0, 12500.0, 5000.0, 5000.0, 5000.0, 5000.0, 20000.0, 5000.0, 10000.0, 25000.0, 7238.0, 3801.0, 5001.0, 6500.0, 20000.0, 20000.0, 10000.0, 5000.0, 5000.0, 10000.0, 10400.0, 7555.0, 7500.0, 15060.0, 10000.0, 3925.0, 5000.0, 5250.0, 4050.0, 5840.0, 15900.0, 4000.0, 20000.0, 4460.0, 8000.0, 3900.0, 10000.0, 10000.0, 25000.0, 5000.0, 5000.0, 4238.99, 10000.0, 10000.0, 5000.0, 21700.0, 20000.0, 5000.0, 10500.0, 4500.0, 5250.0, 6243.0, 5000.0, 4290.0, 4952.0, 5000.0, 10700.0, 4661.0, 25000.0, 5000.0, 10000.0, 5000.0, 3973.44, 5602.0, 7500.0, 7500.0, 7150.0, 10000.0, 10000.0, 13500.0, 4700.0, 20000.0, 9000.0, 4300.0, 7600.0, 9008.23, 4921.2, 6250.0, 5100.0, 10000.0, 5498.0, 7725.0, 4222.74, 3973.44, 10000.0, 5001.0, 4500.0, 4650.0, 10000.0, 10014.5, 6658.0, 15000.0, 5001.0, 4004.5, 5500.0, 5000.0, 5000.0, 4500.0, 15000.0, 15250.0, 15250.0, 10000.0, 3760.0, 5175.0, 3925.0, 10000.0, 8000.0, 17500.0, 8650.0, 15000.0, 20000.0, 8200.0, 5416.9, 5001.0, 5001.0, 8500.0, 14300.0, 5785.0, 10000.0, 5000.0, 8500.0, 5600.0, 9000.0, 6250.0, 3750.0, 3915.0, 5500.0, 7000.0, 25000.0, 7900.0, 20070.0, 6475.0, 13500.0, 8000.0, 3700.0, 6000.0, 4057.0, 4515.0, 4025.0, 4001.0, 5000.0, 7968.0, 5250.0, 7915.0, 8800.0, 3750.0, 15000.0, 10050.0, 6113.0, 25000.0, 5000.0, 20000.0, 5925.0, 11000.0, 15000.0, 11500.0, 4638.0, 15000.0, 4027.0, 8715.54, 4000.0, 15000.0, 5016.0, 6324.98, 7001.0, 20125.0, 6155.0, 6012.0, 5000.0, 4300.0, 14335.91, 4550.0, 6000.0, 11000.0, 6005.0, 7625.0, 10000.0, 4500.0, 5250.0, 11000.0, 3714.0, 5884.0, 8092.92, 7023.0, 8715.54, 4270.0, 5250.0, 8250.0, 8250.0, 5050.0, 4250.0, 11000.0, 3736.0, 6000.0, 3700.0, 6066.0, 4535.33, 10500.0, 10450.0, 10450.0, 21500.0, 7152.0, 12975.0, 4200.0, 12975.0, 3740.0, 6050.0, 3750.0, 11800.0, 7000.0, 6500.0, 11000.0, 7555.0, 4241.0, 5150.0, 6761.0, 5050.0, 3914.0, 16150.0, 18450.0, 3959.66, 5005.0, 6475.09, 8915.0, 3795.08, 9415.16, 4000.0, 5250.0, 7600.0, 3850.0, 10500.0, 12000.0, 5350.0, 4004.5, 14335.91, 7327.09, 8500.0, 5350.0, 5319.0, 7578.4, 3945.0, 4200.06, 5000.0, 8905.0, 6086.56, 4554.0, 4554.0, 13000.0, 4051.12, 4700.0, 5251.0, 4100.0, 7150.0, 3700.0, 3728.0, 3728.0, 5000.0, 13987.75, 4400.0, 5600.0, 5600.0, 3801.0, 12519.25, 4100.0, 7000.0, 6955.5, 7075.0, 7858.0, 8050.0, 4916.0, 3925.0, 4935.0, 3674.0, 4638.0, 10600.0, 18600.0, 6000.0, 7839.0, 15060.0, 3666.45, 5850.0, 20362.88, 6100.0, 12000.0, 3710.0, 12250.0, 6293.0, 10000.0, 3872.0, 7220.0, 21385.09, 5137.5, 4175.0, 11279.0, 6721.0, 6260.0, 12450.0, 4175.0, 6320.0, 4500.0, 5765.0, 6650.0, 4400.0, 8350.0, 3872.0, 4124.42, 12775.0, 6950.0, 4300.0, 6721.0, 4475.0, 24554.94, 15413.0, 5175.0, 7250.0, 14125.0, 10650.0, 3825.0, 5010.0, 18450.0, 6250.0, 10148.0, 18725.0, 5070.0, 21385.09, 8525.0, 11690.0, 9475.0, 4290.0, 3775.5, 8400.0, 5425.0, 3730.0, 7900.0, 10000.0, 8830.0, 20500.0, 4300.0, 5500.0, 10654.71, 15350.0, 8650.0, 13025.0, 4238.99, 4010.0, 3806.7, 5855.0, 6805.0, 17140.9, 3740.0, 4175.0, 16250.0, 7249.99, 5705.0, 10650.0, 5200.0, 4500.0, 8625.0, 10390.0, 16226.0, 3900.0, 4910.0, 3750.0, 4800.0, 15413.0, 6950.0, 5050.0, 13955.0, 6675.0, 20535.0, 12450.0, 17971.0, 5725.0, 9300.0, 9158.33, 6200.0, 8745.0, 16069.0, 3925.0, 5424.4, 11005.0, 7375.0, 3700.0, 7858.0, 6620.0, 4050.0, 9250.0, 5460.0, 6850.0, 4000.0, 4850.0, 5460.0, 16226.0, 4119.67, 15250.0, 5000.0, 4300.0, 11600.0, 9450.0, 16150.0, 4800.0, 3786.5, 4688.0, 9345.0, 4160.02, 4550.0, 4225.0, 11725.0, 6415.0, 15402.25, 8750.0, 6000.0, 21750.0, 8679.33, 7108.0, 4795.0, 5327.0, 4275.0, 10465.54, 4967.5, 3947.5, 3950.0, 14400.0, 5125.0, 4826.0, 10500.0, 20175.0, 4688.0, 6750.0, 17520.0, 4460.0, 5050.0, 8750.02, 3787.0, 3700.0, 7238.0, 11650.0, 7500.0, 8435.0, 8800.0, 21200.0, 5500.0, 5500.0, 5600.0, 5475.0, 17225.0, 5272.36, 7525.0, 17900.0, 4585.0, 10124.8, 4275.0, 4770.0, 5250.0, 5055.0, 5775.0, 5250.0, 10000.0, 10124.8, 10150.21, 10000.0, 7925.0, 3950.0, 3675.0, 5275.0, 7077.0, 5500.0, 20070.0, 12585.0, 5650.0, 10850.0, 4275.0, 4395.0, 6425.0, 5335.0, 12585.0, 4185.3, 7600.0, 5260.0, 4321.0, 6250.0, 9625.0, 6730.0, 3725.0, 7450.0, 4448.0, 8400.0, 6350.0, 15400.0, 3700.0, 14300.0, 6937.0, 10835.0, 20500.0, 9800.0, 4300.0, 10000.0, 10175.0, 6150.0, 11205.63, 5700.0, 10650.0, 10650.0, 6079.0, 5000.0, 4150.0, 4069.25, 8050.0, 3870.0, 4618.0, 9400.0, 8982.0, 7125.0, 5735.0, 5125.0, 4100.0, 12500.0, 3705.0, 4542.0, 5492.0, 15500.0, 5750.0, 5000.0, 4000.0, 8435.0, 5000.0, 13575.0, 7625.0, 5785.0, 3800.0, 3700.0, 6800.0, 3860.0, 20535.0, 4300.0, 3750.0, 3760.0, 10000.0, 8925.0, 5200.0, 12750.0, 8050.0, 13100.0, 20000.0, 7500.0, 3875.0, 15500.0, 20175.0, 4000.0, 5735.0, 4876.0, 8375.0, 4450.0, 7220.0, 5750.0, 4500.0, 4025.0, 11430.0, 10000.0, 4450.0, 5150.0, 11155.0, 7000.0, 6425.0, 6000.0, 6730.0, 18300.9, 8000.0, 11690.0, 5900.0, 15747.5, 19125.0, 3801.0, 6119.56, 6258.0, 4335.0, 16250.0, 4975.0, 11500.0, 4700.0, 6895.0, 20726.0, 4975.0, 5750.0, 19225.0, 4805.0, 6500.0, 5420.5, 16075.0, 10335.0, 13328.0, 4097.0, 10200.0, 5000.0, 6350.0, 7176.0, 7249.99, 15000.0, 8125.0, 4051.12, 15120.0, 5275.0, 4780.0, 4935.0, 10100.0, 7850.0, 3850.0, 6500.0, 7500.0, 3875.0, 3794.0, 7218.34, 7500.0, 5925.0, 3860.0, 5405.0, 4000.0, 24525.0, 4250.0, 15600.0, 5407.0, 10000.0, 4200.0, 13500.0, 20750.0, 7077.0, 5000.0, 20100.0, 5380.0, 3750.0, 16500.0, 16125.0, 9050.0, 4082.0, 6320.0, 16500.0, 6014.0, 4350.0, 4639.0, 4234.0, 5000.0, 5000.0, 7218.34, 4069.25, 8775.0, 5950.0, 5152.0, 11215.0, 3725.0, 10529.96, 7000.0, 11775.0, 23800.0, 3924.0, 4500.0, 5711.0, 20125.0, 5500.0, 11005.0, 15250.0, 5000.0, 3725.0, 5108.0, 4400.0, 3675.0, 8650.0, 3725.0, 21873.0, 11500.0, 4800.2, 8800.0, 6155.0, 14684.0, 7150.0, 3801.0, 3814.0, 4100.0, 4500.0, 5500.0, 9881.0, 4000.0, 15850.0, 6208.0, 7775.0, 7775.0, 4792.0, 17750.0, 5000.0, 10000.0, 6475.0, 9400.0, 5350.0, 17850.0, 4112.5, 4000.0, 5250.0, 8208.0, 6119.56, 15000.0, 5050.0, 3784.0, 5250.0, 8050.0, 12450.0, 4252.0, 9337.25, 8650.0, 6250.0, 8675.0, 4160.02, 8087.5, 4125.0, 4235.0, 4149.0, 7175.0, 11111.0, 4250.0, 5125.0, 5137.5, 4000.0, 4268.0, 5100.0, 4055.0, 4000.0, 11205.63, 4999.0, 14775.0, 12425.0, 13975.0, 3750.0, 11430.0, 17500.0, 9235.0, 4700.0, 4930.0, 7125.0, 5117.0, 7968.0, 3796.0, 7500.0, 9070.0, 9479.35, 4275.0, 5240.0, 4125.0, 12200.0, 8400.0, 4711.0, 4375.0, 10050.0, 19775.0, 4000.0, 11810.0, 5725.0, 11289.0, 10000.0, 4880.0, 3708.0, 10700.0, 4000.0, 6805.0, 12375.0, 10050.0, 13150.0, 5000.0, 6550.0, 10476.0, 7125.0, 4040.0, 6937.0, 4150.0, 10600.0, 9800.0, 5700.0, 17825.86, 10000.0, 6250.0, 5000.0, 5000.0, 4445.0, 9550.0, 3925.0, 16125.0, 6819.0, 8000.0, 10350.0, 5815.0, 4455.0, 13150.0, 3950.0, 3806.7, 3875.0, 6550.0, 5240.0, 7050.0, 20225.0, 5400.0, 6618.0, 5100.0, 3914.0, 7000.0, 5001.0, 6725.0, 11358.33, 3750.0, 7000.0, 12000.0, 4580.0, 4961.67, 5096.0, 13987.75, 8550.0, 8250.0, 3945.0, 12425.0, 3825.0, 15900.0, 4460.0, 17000.0, 6658.0, 10000.0, 7650.0, 16861.0, 6298.0, 5325.0, 10000.0, 4100.0, 7850.0, 8330.0, 5420.5, 5650.0, 12519.75, 9337.25, 6250.0, 18575.0, 5453.0, 9800.0, 5250.0, 4118.0, 5450.0, 11203.58, 5467.0, 12500.0, 4000.0, 7075.0, 13100.0, 5275.0, 12296.0, 6100.0, 3675.0, 4450.1, 5175.0, 5000.0, 7500.0, 17200.0, 8500.0, 18082.31, 5300.0, 3875.0, 5602.0, 16100.0, 6750.0, 7000.0, 6100.0, 5000.0, 10775.0, 16250.0, 4829.0, 10050.0, 4000.0, 5180.0, 7500.0, 4250.0, 9800.0, 15000.0, 5000.0, 12650.0, 7500.0, 4752.0, 6618.0, 9625.0, 8675.0, 5000.0, 3800.0, 4225.0, 3985.0, 9750.0, 6900.0, 5560.0, 5075.0, 4450.0, 3991.0, 10000.0, 5000.0, 3750.0, 9750.0, 15350.0, 4611.0, 14750.0, 3730.0, 5050.0, 6225.0, 5000.0, 6725.0, 6750.0, 5475.0, 5425.0, 13150.0, 7500.0, 10850.0, 5000.0, 6800.0, 5750.0, 4112.5, 10050.0, 4252.0, 19125.0, 6250.0, 7500.0, 5000.0, 4450.0, 5525.0, 11450.0, 4668.0, 3750.0, 5735.0, 5250.0, 3833.69, 12750.0, 21200.0, 8125.0, 5500.0, 12600.0, 12000.0, 6293.0, 4095.0, 7176.0, 6568.0, 10365.0, 5010.0, 4025.0, 5031.0, 21700.0, 5000.0, 4183.33, 8250.0, 5005.0, 11725.0, 10300.0, 4755.0, 3700.0, 10752.0, 13274.0, 18943.0, 11358.33, 3844.0, 5000.0, 4450.0, 6243.0, 9700.0, 5268.48, 10035.0, 3669.0, 5105.0, 12650.0, 3975.0, 10175.0, 5975.0, 5380.0, 10400.0, 4550.0, 4700.0, 4700.0, 4400.0, 5000.0, 7100.0, 4500.0, 4500.0, 12519.75, 8330.0, 4375.0, 4025.0, 5050.0, 4365.0, 7575.0, 5492.0, 11475.0, 3915.0, 4000.0, 9300.0, 4200.0, 6050.0, 5117.0, 4082.0, 5407.0, 4916.0, 8650.0, 6415.0, 6150.0, 5925.0, 5425.0, 4825.0, 20175.0, 4058.0, 5950.2, 4700.0, 3760.35, 5410.0, 3900.0, 3979.0, 10850.0, 5300.0, 6258.0, 4950.0, 3725.0, 8400.0, 4000.0, 5405.0, 12850.0, 7050.0, 6000.0, 9475.0, 4500.0, 4100.0, 13610.0, 4825.0, 8905.0, 15850.0, 5250.0, 6450.0, 4900.0, 10000.0, 3725.0, 5300.0, 4056.0, 13500.0, 4250.0, 12525.0, 6925.0, 4711.0, 4241.0, 5825.0, 9235.0, 14400.0, 4500.0, 5200.0, 5775.0, 6650.0, 3945.0, 23500.0, 9275.0, 5000.0, 7048.0, 17100.0, 5050.0, 4100.0, 5100.0, 9325.0, 10450.0, 10000.0, 6819.0, 4095.0, 7075.0, 6625.0, 15350.0, 10000.0, 4000.0, 5965.0, 4000.0, 3750.0, 5450.0, 6350.0, 4780.0, 4000.0, 13500.0, 4175.0, 5319.0, 3675.0, 5400.0, 6736.0, 7500.0, 5425.0, 5467.0, 4565.0, 5785.0, 6250.0, 7900.0, 5200.0, 5000.0, 4850.0, 4800.0, 4905.0, 6500.0, 3800.0, 5000.0, 3750.0, 3666.45, 4500.0, 10000.0, 5410.0, 4175.0, 6208.0, 5200.0, 3879.0, 10650.0, 5135.0, 20000.0, 5950.2, 4639.0, 9300.0, 6588.0, 5000.0, 4079.0, 3925.0, 7500.0, 7000.0, 4500.0, 11240.0, 6625.0, 7320.0, 12575.0, 4900.0, 3742.0, 10000.0, 5191.6, 4350.0, 5425.0, 5525.0, 11775.0, 12425.0, 10000.0, 3728.0, 4395.0, 7535.0, 13975.0, 8005.0, 10500.0, 6452.5, 11047.0, 5000.0, 11600.0, 5100.0, 5683.5, 5591.0, 4001.0, 11240.0, 9000.0, 5725.0, 5840.0, 5040.0, 9532.65, 7000.0, 5105.0, 20000.0, 4905.0, 6150.0, 4650.0, 5543.0, 6620.0, 5900.0, 17525.0, 6350.0, 4900.0, 8452.0, 17650.0, 15402.25, 16180.0, 20500.0, 11276.0, 18600.0, 3975.0, 5875.0, 10200.0, 6000.0, 6740.0, 11289.0, 3975.0, 9008.23, 5300.0, 10600.0, 3959.66, 5750.0, 6320.0, 7383.0, 24750.0, 5250.0, 5025.0, 5498.0, 4950.0, 14684.0, 17850.0, 8652.96, 5100.0, 5411.0, 4058.0, 4775.0, 4049.9, 6582.5, 17918.0, 7152.0, 7725.0, 6250.0, 12725.0, 10529.96, 5475.0, 4595.0, 11000.0, 4526.0, 7017.0, 4550.0, 10075.0, 5200.0, 4200.0, 8925.0, 10030.0, 3800.0, 4900.0, 14573.0, 4825.0, 6582.5, 3887.5, 5835.0, 4285.0, 5050.0, 3749.0, 5300.0, 4420.0, 9400.0, 5000.0, 8800.0, 12425.0, 5475.0, 3825.0, 10075.0, 7375.0, 5936.55, 11203.58, 5175.0, 6050.0, 10000.0, 4296.43, 7578.4, 5032.0, 7075.0, 5560.0, 23550.0, 6920.0, 6800.0, 3900.0, 9479.35, 5800.0, 11567.0, 6219.0, 11567.0, 5557.0, 4050.0, 5100.0, 3750.0, 5000.0, 4500.0, 18000.0, 4801.0, 10250.0, 20726.0, 6500.0, 5900.0, 5550.0, 4800.0, 6100.0, 7450.0, 4661.0, 4100.0, 4130.0, 4650.0, 7500.0, 4750.0, 7760.0, 8000.0, 9620.79, 5050.0, 5120.0, 4250.0, 5000.0, 10000.0, 8000.0, 4350.0, 6000.0, 4500.0, 5905.0, 10100.0, 6955.5, 8775.0, 12450.0, 9800.0, 6086.56, 12500.0, 3800.0, 7915.0, 12525.0, 4001.0, 5750.0, 23500.68, 11725.0, 9325.0, 9070.0, 11800.0, 7050.0, 5000.0, 10000.0, 13150.0, 12390.0, 5001.0, 4650.0, 14850.0, 10030.0, 3750.0, 4450.0, 5725.0, 11276.0, 4910.0, 5905.0, 5000.0, 8250.0, 6324.98] \n",
            "\n",
            "GRP_PROD_GS \n",
            "\n",
            "Outliers: [2000.0, 1910.0, 500.0, 1000.0, 500.0, 1136.66, 500.0, 500.0, 500.0, 660.0, 500.0, 9000.0, 9000.0, 10000.0, 250.0, 875.0, 4410.0, 500.0, 250.0, 500.0, 500.0, 250.0, 250.0, 550.0, 550.0, 550.0, 500.0, 4410.0, 1910.0, 300.0, 300.0, 400.0, 400.0, 250.0, 1136.66, 875.0, 550.0, 300.0, 300.0, 1151.0, 1910.0, 1000.0, 250.0, 250.0, 500.0, 350.0, 4120.0, 1910.0, 2310.0, 2000.0, 2310.0, 300.0, 250.0, 250.0, 350.0, 400.0, 300.0, 300.0, 375.0, 250.0, 1000.0, 250.0, 1000.0, 1910.0, 6000.0, 1000.0, 375.0, 4800.0, 500.0, 6000.0, 2000.0, 1000.0, 600.0, 250.0, 1910.0, 500.0, 500.0, 575.0, 575.0, 2000.0, 500.0, 600.0, 325.0, 2000.0, 500.0, 2000.0, 500.0, 1000.0, 10000.0, 2000.0, 499.92, 500.0] \n",
            "\n",
            "GRP_PROD_HR \n",
            "\n",
            "Outliers: [550.0, 1243.0, 500.0, 1121.0, 1000.0, 1320.0, 500.0, 1000.0, 10037.0, 687.0, 535.95, 750.0, 850.0, 550.0, 500.0, 1794.0, 626.0, 1800.0, 891.0, 12500.0, 2097.0, 671.0, 1913.0, 753.0, 553.0, 1500.0, 12500.0, 999.0, 662.0, 1358.0, 2191.0, 1807.0, 1021.0, 2100.0, 1681.0, 1001.0, 1000.0, 2000.0, 662.0, 1913.0, 1001.0, 1854.0, 850.0, 715.0, 4515.0, 502.0, 750.0, 1854.0, 715.0, 650.0, 1196.0, 671.0, 1021.0, 1500.0, 2019.04, 553.0, 805.0, 805.0, 500.0, 2019.04, 646.0, 891.0, 2937.0, 532.0, 571.0, 2937.0, 616.0, 650.0, 678.0, 1817.0, 846.0, 4515.0, 612.0, 14000.0, 2000.0, 1034.0, 612.0, 793.0, 861.0, 1817.0, 500.0, 849.0, 696.0, 526.0, 820.0, 1164.0, 529.0, 1000.0, 4142.0, 678.0, 1136.95, 559.0, 750.0, 1303.65, 2200.0, 2255.0, 1272.5, 1361.0, 497.0, 3750.0, 729.0, 502.0, 861.0, 1272.5, 918.0, 1000.0, 549.0, 2255.0, 918.0, 1465.0, 671.0, 4142.0, 549.0, 502.0, 1980.0, 636.0, 497.0, 1063.0, 552.0, 1465.0, 1681.0, 784.0, 926.0, 575.0, 722.0, 2200.0, 1040.0, 7633.0, 1517.0, 521.0, 1517.0, 5000.0, 753.0, 850.0, 500.0, 710.0, 1011.0, 496.0, 662.0, 9690.0, 1000.0, 686.0, 531.0, 800.0, 725.0, 1303.65, 500.0, 1865.0, 9957.0, 750.0, 689.0, 1000.0, 662.0, 527.0, 2000.0, 728.0, 500.0, 8733.0, 999.0, 636.0, 631.0, 800.0, 1126.0, 793.0, 646.0, 5000.0, 2918.0, 500.0, 605.0, 2000.0, 1398.0, 2259.0, 662.0, 503.0, 2000.0, 4092.0, 470.0, 728.0, 609.0, 1500.0, 575.0, 507.0, 1121.0, 514.0, 945.0, 2332.0, 1325.0, 1011.0, 1398.0, 2000.0, 571.0, 777.0, 801.0, 535.95, 723.0, 521.0, 1243.0, 2955.0, 1466.0, 527.0, 777.0, 1050.0, 689.0, 846.0, 2259.0, 1980.0, 9690.0, 507.0, 2955.0, 3400.0, 513.0, 640.0, 968.0, 631.0, 669.0, 968.0, 2800.0, 1516.0, 1000.0, 621.0, 2850.0, 1144.0, 1466.0, 6051.0, 686.0, 596.0, 1713.0, 1000.0, 2850.0, 825.0, 555.0, 513.0, 2827.0, 1625.0, 710.0, 7633.0, 1157.0, 1369.0, 7000.0, 587.0, 681.0, 814.0, 2332.0, 550.0, 616.0, 723.0, 2307.0, 1164.0, 500.0, 503.0, 550.0, 672.0, 611.0, 621.0, 800.0, 502.0, 8733.0, 1500.0, 1127.0, 814.0, 1713.0, 600.0, 997.0, 587.0, 611.0, 596.0, 853.0, 1369.0, 491.0, 596.0, 669.0, 1000.0, 526.0, 1224.0, 1034.0, 800.0, 1126.0, 671.0, 605.0, 3902.0, 945.0, 662.0, 866.0, 1516.0, 729.0, 750.0, 559.0, 700.0, 474.0, 728.0, 500.0, 1095.0, 1136.95, 678.08, 2800.0, 596.0, 1829.0, 900.0, 966.0, 532.0, 3050.0, 900.0, 850.0, 538.0, 1400.0, 2000.0, 550.0, 926.0, 1361.0, 850.0, 1500.0, 590.0, 800.0, 469.0, 866.0, 641.0, 616.0, 725.0, 1049.0, 966.0, 3050.0, 1095.0, 529.0, 1000.0, 2560.0, 662.0, 1320.0, 570.0, 609.0, 2560.0, 696.0, 2191.0, 687.0, 11354.0, 1201.0, 846.0, 997.0, 1127.0, 1000.0, 1433.0, 3902.0, 1090.0, 850.0, 1358.0, 1794.0, 2238.0, 500.0, 700.0, 616.0, 2238.0, 1807.0, 2827.0, 550.0, 500.0, 2100.0] \n",
            "\n",
            "GRP_PROD_HY \n",
            "\n",
            "Outliers: [100.0, 50.0, 400.0, 50.0, 100.0, 50.0, 100.0, 50.0, 100.0, 100.0, 50.0, 300.0, 250.0, 100.0, 50.0, 50.0, 100.0, 100.0, 50.0, 50.0, 2450.0, 33.33, 350.0, 50.0, 100.0, 100.0, 50.0, 50.0, 28.0] \n",
            "\n",
            "GRP_PROD_IX \n",
            "\n",
            "Outliers: [645.0, 500.0, 500.0, 1000.0, 1640.0, 750.0, 950.0, 1375.0, 500.18, 2724.8, 1050.0, 5000.0, 750.0, 564.0, 1010.0, 12300.0, 7983.33, 750.0, 2520.0, 2250.0, 5000.0, 1150.0, 1572.0, 1100.0, 1000.0, 5500.0, 1000.0, 5000.0, 560.0, 1050.0, 4000.0, 1500.0, 2400.0, 600.0, 535.0, 2500.0, 12300.0, 5250.0, 1572.0, 2500.0, 687.5, 7606.25, 1869.1, 8046.25, 4000.0, 1005.0, 5000.0, 5106.0, 1100.0, 1005.0, 5250.0, 1150.0, 750.0, 685.0, 1750.0, 564.0, 4895.12, 500.0, 1100.0, 1000.0, 2001.0, 2973.51, 5250.0, 1250.0, 617.0, 2000.0, 5500.0, 1225.2, 550.0, 5284.29, 3080.0, 500.0, 750.0, 500.0, 1635.0, 630.0, 535.0, 2500.0, 500.0, 500.01, 800.0, 2875.0, 500.0, 1000.0, 1425.0, 1100.0, 1250.0, 5284.29, 4050.0, 1993.04, 2500.0, 1350.0, 600.0, 1800.0, 6000.0, 600.0, 1150.0, 5500.0, 500.0, 1000.0, 550.0, 2450.0, 5000.0, 1000.0, 4510.0, 1050.0, 1100.0, 500.0, 617.0, 2000.0, 2250.0, 3080.0, 2724.8, 1100.0, 950.0, 1000.0, 500.0, 900.0, 5000.0, 1770.0, 750.0, 1000.0, 7350.0, 1000.0, 2700.0, 750.0, 2600.0, 4400.0, 780.0, 1250.0, 600.0, 615.0, 500.0, 4341.25, 3786.25, 3786.25, 1575.0, 2001.0, 3610.0, 1500.0, 700.0, 580.0, 6700.0, 750.0, 1000.0, 1993.04, 4341.25, 1220.0, 1060.0, 500.0, 2000.0, 500.0, 590.0, 2700.0, 5250.0, 1750.0, 523.0, 1175.0, 800.0, 2090.0, 1550.0, 5000.0, 605.0, 900.0, 500.0, 2300.0, 1350.0, 3610.0, 7350.0, 2090.0, 5250.0, 1150.0, 1175.0, 750.0, 500.0, 500.0, 1000.0, 1575.0, 1550.0, 500.0, 5265.0, 2162.0, 1000.0, 6000.0, 550.0, 1100.0, 780.0, 5250.0, 1770.0, 1640.0, 8046.25, 700.0, 500.18, 10000.0, 1500.0, 2500.0, 5000.0, 1000.0, 590.0, 1000.0, 1800.0, 800.0, 600.0, 500.0, 650.0, 600.0, 1760.0, 630.0, 5265.0, 10000.0, 2000.0, 5000.0, 2600.0, 550.0, 2500.0, 500.0, 1500.0, 5826.87, 1500.0, 4895.12, 550.0, 5500.0, 615.0, 7983.33, 5000.0, 500.0, 2162.0] \n",
            "\n",
            "GRP_PROD_JS \n",
            "\n",
            "Outliers: [1625.0, 2005.0, 1500.0, 1850.0, 6150.0, 2500.0, 1250.0, 2850.0, 2174.25, 1400.0, 1800.0, 14000.0, 5000.0, 3500.0, 4300.0, 16375.0, 1488.0, 1500.0, 5700.0, 20000.0, 11444.0, 1731.0, 1400.0, 8250.0, 10550.0, 13090.0, 10500.0, 1305.0, 9447.46, 11895.0, 2050.0, 13500.0, 3000.0, 1245.0, 12631.0, 15050.0, 5350.0, 1400.0, 1597.0, 6200.0, 1500.0, 8250.0, 1250.0, 2550.0, 15000.0, 8500.0, 1416.0, 5408.07, 5000.0, 1650.0, 2700.0, 4215.0, 1800.0, 3000.0, 1750.0, 3380.0, 9450.0, 2850.0, 1305.0, 1857.0, 7370.0, 2905.0, 16375.0, 2850.0, 1875.0, 3805.0, 22122.5, 9420.32, 1300.0, 1600.0, 6590.0, 7944.0, 1875.0, 6300.0, 5400.0, 3260.0, 4335.0, 2200.0, 5350.0, 5500.0, 7475.0, 4215.0, 5675.0, 4250.0, 1416.0, 3000.0, 6525.0, 1525.0, 7944.0, 16071.3, 1595.0, 4029.8, 4250.0, 1620.0, 1250.0, 2000.0, 3100.0, 4500.0, 1600.0, 2250.0, 1900.0, 6425.0, 1345.0, 1745.0, 1766.17, 4250.0, 7000.0, 1300.0, 1300.0, 1300.0, 1520.0, 2300.0, 1250.0, 2695.0, 1731.0, 5400.0, 2450.0, 2050.0, 12525.0, 10382.0, 5304.0, 10382.0, 1705.0, 1700.0, 11400.0, 6200.0, 5051.0, 5051.0, 23315.0, 5500.0, 2859.25, 2200.0, 2200.0, 2000.0, 5592.0, 1245.0, 1400.0, 4350.0, 3100.0, 15500.0, 3050.0, 6037.5, 1488.0, 5209.66, 11895.0, 6425.0, 3250.0, 7500.0, 5695.0, 5000.0, 5180.0, 9447.46, 17000.0, 5408.07, 2550.0, 2900.0, 3475.0, 1564.0, 8465.0, 1910.0, 2150.0, 8200.0, 11444.0, 2050.0, 1420.0, 6435.0, 1485.0, 2688.0, 2875.0, 7500.0, 1250.0, 10500.0, 7600.0, 3000.0, 5100.0, 5350.0, 13025.0, 1420.0, 1625.0, 1250.0, 14000.0, 23000.0, 2650.0, 21500.0, 1675.0, 3000.0, 3167.5, 1670.0, 1650.0, 2250.0, 1500.0, 2050.0, 2000.0, 1910.0, 1610.0, 1400.0, 10865.0, 6060.0, 1330.0, 2550.0, 4475.0, 1355.0, 1500.0, 2350.0, 2360.0, 6060.0, 1350.0, 5035.0, 3100.0, 2195.0, 2500.0, 1650.0, 2075.0, 11620.0, 2600.0, 1766.17, 15925.0, 2000.0, 1400.0, 1400.0, 7370.0, 5000.0, 4300.0, 1708.24, 5700.0, 2300.0, 1497.0, 3250.0, 3490.0, 5890.0, 4475.0, 5123.0, 1745.0, 13025.0, 11620.0, 1705.0, 6435.0, 4550.0, 9950.0, 3475.0, 5695.0, 2000.0, 3805.0, 1895.2, 4809.0, 1295.0, 3000.0, 1541.0, 1850.0, 1350.0, 5400.0, 1250.0, 2600.0, 2200.0, 5300.0, 5675.0, 1875.0, 1295.0, 4117.71, 2859.25, 7937.5, 7937.5, 8000.0, 1750.0, 10375.0, 23315.0, 2380.0, 5180.0, 1892.0, 10500.0, 1453.0, 1615.0, 19854.06, 4200.0, 3125.0, 5400.0, 1597.0, 1725.0, 9105.0, 5000.0, 1595.0, 1350.0, 12200.0, 2425.0, 5490.0, 3100.0, 4092.0, 10000.0, 5592.0, 10500.0, 2000.0, 2150.0, 2352.0, 2352.0, 2075.0, 4809.0, 5880.0, 9420.32, 15500.0, 1460.0, 4200.0, 3370.0, 9550.0, 1285.0, 19000.0, 1275.0, 13090.0, 3100.0, 15500.0, 14500.0, 2200.0, 13500.0, 2450.0, 4000.0, 4000.0, 1485.0] \n",
            "\n",
            "GRP_PROD_JW \n",
            "\n",
            "Outliers: [1405.0, 3639.01, 4970.0, 1800.0, 907.0, 1295.0, 1536.04, 3455.0, 8330.0, 8330.0, 1344.0, 1339.5, 2750.0, 1295.0, 833.0, 800.0, 889.0, 2320.01, 886.0, 904.75, 17709.0, 1150.0, 1216.01, 2935.0, 997.01, 923.0, 1459.01, 1605.01, 821.05, 946.02, 4000.0, 16600.0, 780.0, 1344.0, 4000.0, 911.0, 911.0, 1166.01, 784.0, 775.0, 5452.0, 1000.0, 1209.0, 924.01, 1512.01, 1401.0, 974.01, 2720.01, 1819.26, 799.01, 854.0, 1270.0, 1496.52, 888.01, 10323.01, 12133.0, 767.01, 1326.0, 864.01, 1453.01, 1584.07, 1027.01, 790.01, 1150.0, 1638.01, 3093.01, 1342.01, 2947.0, 766.01, 1000.0, 1432.76, 3545.01, 1310.0, 940.01, 909.02, 948.02, 3146.02, 10323.01, 956.0, 6000.0, 2935.0, 1645.52, 940.01, 746.0, 746.0, 2963.0, 1009.64, 1146.01, 1645.52, 799.01, 1291.0, 821.05, 1584.07, 1049.0, 934.0, 1003.02, 879.0, 2030.01, 1903.0, 926.04, 902.0, 799.0, 6000.0, 968.0, 11822.01, 3093.01, 924.01, 1342.01, 829.0, 1277.04, 1401.0, 1326.0, 1327.0, 906.0, 9416.75, 1192.0, 1036.0, 792.0, 2117.01, 1406.01, 754.0, 756.0, 13346.0, 800.0, 1034.0, 1429.0, 13346.0, 1246.0, 1325.0, 770.0, 4543.0, 2220.0, 801.0, 875.0, 1000.0, 1370.0, 2726.0, 928.01, 841.02, 15192.56, 2000.0, 889.0, 1638.01, 1405.0, 871.0, 767.01, 1348.0, 3000.0, 1011.0, 2013.03, 7206.0, 6886.0, 1625.0, 6283.01, 969.01, 879.0, 1579.0, 861.0, 3500.0, 1173.0, 1064.0, 776.0, 1088.75, 2963.0, 751.01, 962.0, 806.0, 1135.0, 780.0, 798.01, 1625.0, 1620.0, 1135.0, 1319.0, 1007.51, 1182.0, 5200.0, 1453.01, 3639.01, 908.01, 825.5, 2282.01, 1368.8, 861.02, 1487.01, 861.02, 1140.0, 775.0, 15784.0, 1426.02, 13430.0, 1496.52, 800.0, 2280.0, 2801.02, 1319.0, 2801.02, 895.01, 926.04, 742.0, 1982.04, 803.0, 1800.0, 1122.01, 1832.0, 1903.0, 886.0, 6886.0, 801.0, 4970.0, 1023.01, 780.0, 7800.0, 3000.0, 11038.01, 900.0, 2896.01, 1776.01, 750.0, 1507.0, 766.0, 2442.02, 1636.01, 1166.01, 4084.01, 800.0, 800.0, 753.06, 990.02, 1023.01, 841.0, 1656.5, 1783.0, 4620.01, 1636.01, 1018.0, 800.0, 748.0, 6465.0, 1325.0, 2220.0, 834.01, 1605.01, 6478.02, 1071.0, 806.0, 1577.0, 920.0, 750.0, 1500.0, 1200.0, 2225.0, 766.0, 1297.0, 3454.02, 888.01, 904.75, 1611.0, 861.0, 800.0, 752.0, 1049.0, 1415.0, 3000.0, 7206.0, 900.0, 765.01, 950.01, 753.06, 1187.02, 1823.01, 1046.0, 2737.0, 1819.26, 930.01, 2224.0, 6478.02, 1459.01, 820.0, 1310.0, 1823.01, 950.0, 953.0, 825.5, 1246.0, 946.02, 800.0, 750.0, 1084.0, 1067.0, 1064.04, 997.01, 1072.02, 875.0, 1783.0, 1011.0, 899.0, 1710.0, 782.01, 1507.0, 1095.0, 926.01, 1214.0, 786.0, 4620.01, 811.03, 3545.01, 770.01, 2947.0, 1202.01, 771.01, 3200.0, 1056.01, 2282.01, 953.0, 11038.01, 1001.51, 909.0, 1047.01, 988.0, 3200.0, 748.0, 2611.02, 767.51, 2280.0, 1388.01, 876.0, 2253.0, 886.08, 1186.01, 810.0, 2368.0, 1071.0, 5625.05, 833.0, 962.0, 1018.0, 990.02, 810.0, 771.01, 2368.0, 767.51, 2720.01, 4274.01, 3000.0, 1925.0, 926.01, 779.01, 1141.0, 871.0, 820.0, 803.0, 1071.0, 900.0, 1023.0, 818.0, 1611.0, 1093.03, 1047.01, 1925.0, 930.01, 775.0, 7800.0, 1000.0, 3000.0, 754.0, 1187.02, 1007.51, 2253.0, 784.0, 1034.0, 1021.5, 1209.0, 1053.0, 950.0, 869.5, 3698.01, 15192.56, 1327.0, 2491.0, 876.0, 956.0, 1904.0, 974.01, 779.01, 1348.0, 864.01, 1033.0, 2000.0, 1587.0, 1365.0, 988.0, 929.0, 1587.0, 1656.5, 2030.01, 1406.01, 5100.0, 2200.0, 3455.0, 893.0, 1500.0, 938.0, 779.06, 3698.01, 2380.07, 770.01, 899.0, 1426.02, 5200.0, 1173.0, 909.0, 742.0, 1003.02, 976.0, 1067.0, 1948.0, 886.08, 826.01, 1102.0, 1750.0, 969.01, 2224.0, 1512.01, 5452.0, 1579.0, 900.0, 4084.01, 1021.5, 1577.0, 1714.01, 1140.0, 786.0, 1399.01, 1186.01, 909.02, 907.0, 1714.01, 2726.0, 1194.0, 776.0, 1269.02, 790.01, 1053.0, 895.01, 3683.01, 1536.04, 752.0, 1691.0, 1273.5, 1273.5, 1187.02, 938.0, 1033.0, 5030.0, 1064.04, 5151.01, 828.01, 766.01, 1099.01, 17709.0, 1100.03, 968.0, 923.0, 934.0, 756.0] \n",
            "\n",
            "GRP_PROD_LA \n",
            "\n",
            "Outliers: [23182.74, 13100.0, 12125.0, 2665.0, 5725.5, 5000.0, 5000.0, 4500.0, 12500.0, 4700.0, 6560.0, 4500.0, 10000.0, 4049.84, 6000.0, 8000.0, 10000.0, 5000.0, 9148.0, 14905.0, 3875.0, 5000.0, 2627.08, 3002.81, 5090.0, 20000.0, 15000.0, 4500.0, 3000.0, 3500.0, 4000.0, 3673.42, 3673.42, 4500.0, 2600.0, 10000.0, 3108.0, 20126.0, 6500.0, 9470.0, 3125.0, 8800.0, 5650.0, 5000.0, 7000.0, 6675.0, 6000.0, 3100.0, 13480.0, 5000.0, 2886.4, 4500.0, 2650.0, 4500.0, 2750.0, 10000.0, 11696.4, 23000.0, 2950.0, 3000.0, 3850.0, 12000.0, 10170.0, 3000.0, 9197.5, 7000.0, 3000.0, 2700.0, 5045.0, 6500.0, 9712.01, 4986.0, 10400.0, 10050.0, 8575.0, 13480.0, 3250.0, 3650.0, 5000.0, 7000.0, 10704.0, 3600.0, 3250.0, 14250.0, 7500.0, 7165.0, 4700.0, 8750.0, 3000.0, 2850.0, 6000.0, 14662.01, 3025.0, 7485.0, 9775.0, 12500.0, 12500.0, 2650.0, 3000.0, 2662.0, 11375.0, 18500.0, 9864.0, 5650.0, 6750.0, 9500.0, 6505.0, 12850.0, 3587.0, 7237.7, 6602.0, 3000.0, 2850.0, 5000.0, 2750.0, 9498.0, 6500.0, 2692.0, 9498.0, 5320.0, 3185.0, 7000.0, 6588.07, 2978.0, 5320.0, 6000.0, 4150.0, 12897.0, 6170.0, 3905.0, 2750.0, 22950.0, 14100.0, 3100.0, 10415.0, 10415.0, 2750.0, 10000.0, 10065.8, 3500.0, 3250.0, 3500.0, 5000.0, 5000.0, 12550.0, 6000.0, 2855.0, 3750.0, 4150.0, 12185.0, 5000.0, 2659.0, 4025.0, 13340.0, 10500.0, 5000.0, 4160.0, 5002.0, 5000.0, 4200.0, 3000.0, 3650.0, 3115.0, 3575.0, 12365.0, 6000.0, 5650.0, 4115.0, 4200.0, 18500.0, 3446.0, 3446.0, 6190.0, 4600.0, 9055.0, 6000.0, 10517.0, 4405.0, 6910.0, 3575.0, 3000.0, 11000.0, 3954.0, 3300.0, 4575.0, 5800.0, 9350.0, 10150.0, 4135.0, 3200.0, 3725.0, 4950.7, 18310.0, 9537.2, 3388.0, 2950.0, 21987.1, 3450.0, 5000.0, 3620.0, 4100.0, 5354.0, 2720.0, 5100.0, 3755.0, 3000.0, 5674.0, 3550.0, 13690.0, 5354.0, 10295.8, 13042.98, 3600.0, 14100.0, 2600.0, 4150.0, 4500.0, 10065.8, 2650.0, 6675.0, 15750.0, 2600.0, 10050.0, 5010.0, 3115.0, 3108.0, 2650.0, 5000.0, 2950.0, 4600.0, 6837.6, 7510.0, 5193.0, 3450.0, 2950.0, 4115.0, 3893.67, 4215.0, 4000.0, 4999.0, 4700.0, 3394.0, 5674.0, 2815.0, 2760.0, 2899.0, 7640.0, 4155.0, 4999.0, 5650.0, 6555.75, 3500.0, 7775.0, 12185.0, 3200.0, 3748.0, 3600.0, 3300.0, 4335.0, 5700.0, 4063.0, 3351.0, 2675.0, 2650.0, 4100.0, 3260.0, 5235.0, 6000.0, 2687.0, 4525.0, 3400.0, 2810.0, 3300.0, 3750.0, 3000.0, 4540.0, 5035.0, 2650.0, 6325.0, 12190.0, 6650.0, 9853.0, 8820.0, 24000.0, 4155.0, 4956.0, 4870.0, 3895.0, 2625.0, 2739.0, 14050.66, 3800.0, 6000.0, 4765.0, 5338.0, 12150.0, 3000.0, 2739.0, 2590.0, 7408.33, 3100.0, 3700.0, 14570.0, 5000.0, 2915.0, 3815.0, 12575.0, 8782.3, 2665.0, 6300.0, 3957.0, 4600.0, 10704.0, 8481.0, 3000.0, 6650.0, 4588.0, 3748.0, 14662.01, 12150.0, 4588.0, 4350.0, 6425.0, 3100.0, 6784.5, 6350.0, 4200.0, 3490.0, 7850.0, 2765.0, 9460.0, 3595.0, 2600.0, 3688.0, 5000.0, 9255.0, 5821.0, 4675.0, 7675.0, 3000.0, 4100.0, 7675.0, 8267.2, 5441.76, 3388.0, 2908.0, 17065.0, 3200.0, 15815.0, 2930.0, 3000.0, 4325.0, 5050.0, 3192.0, 3334.0, 6985.0, 2991.0, 2925.0, 10100.0, 7980.0, 2713.0, 9165.1, 3200.0, 7250.0, 3850.0, 5100.0, 8750.0, 2936.0, 3000.0, 4500.0, 13100.0, 3970.0, 3175.0, 2700.0, 2899.0, 6350.0, 4650.0, 3880.0, 2630.0, 3250.0, 14607.99, 6820.0, 3500.0, 6395.0, 6350.0, 6000.0, 4712.0, 3347.0, 14575.0, 4000.0, 10115.0, 10625.0, 12025.0, 13475.0, 4251.0, 5500.0, 18750.0, 4365.0, 2980.0, 4700.0, 3865.0, 2590.0, 3500.0, 4125.0, 3300.0, 3437.0, 6625.0, 6190.0, 2600.0, 2770.01, 4375.0, 3585.0, 6950.0, 8887.0, 10035.0, 12180.0, 3300.0, 7830.0, 7100.0, 3550.0, 3393.0, 2688.0, 3050.0, 2797.0, 6434.6, 2846.0, 3250.0, 2600.0, 3925.0, 4305.0, 5185.0, 3260.0, 3925.0, 2724.0, 4384.0, 4500.0, 3600.0, 2700.0, 18080.0, 5000.0, 7700.0, 4535.0, 2673.0, 10494.0, 2650.0, 9470.0, 8805.0, 3736.5, 4000.0, 4450.0, 3200.0, 4150.0, 4150.0, 3902.0, 4372.0, 2992.0, 5100.0, 10025.0, 3200.0, 4535.0, 16735.0, 4650.0, 2800.0, 4365.0, 9197.5, 2832.0, 4362.0, 5000.0, 4000.0, 14050.66, 2677.0, 8390.0, 4640.0, 6675.0, 2687.0, 3905.0, 5150.0, 6613.04, 9580.0, 8969.5, 4325.0, 13475.0, 2975.0, 6253.0, 3000.0, 20126.0, 4675.0, 15815.0, 5352.0, 3351.0, 4025.0, 9337.7, 2785.0, 2785.0, 4100.0, 7000.0, 4125.0, 4100.0, 6667.0, 13042.98, 2750.0, 6985.0, 6525.0, 3650.0, 5600.0, 4095.0, 3060.0, 7900.0, 19750.0, 20050.0, 5045.0, 4990.0, 3587.0, 2950.0, 5510.0, 6850.0, 12876.4, 10573.0, 10170.0, 2932.0, 14570.0, 18080.0, 7165.0, 2617.0, 7080.0, 6364.0, 2630.0, 2770.01, 6800.0, 10035.0, 4135.0, 13070.0, 2951.0, 9295.0, 5000.0, 4000.0, 3601.0, 5800.0, 4970.0, 2600.0, 2975.0, 2775.0, 3060.0, 8110.0, 4100.0, 3000.0, 4260.0, 5800.0, 2736.0, 3050.0, 3309.0, 3250.0, 5454.5, 5000.0, 3675.0, 2750.0, 7460.0, 3385.0, 3200.0, 9500.0, 14543.0, 5600.0, 11375.0, 10932.4, 3800.0, 3848.0, 2835.0, 7250.0, 12897.0, 5850.0, 4560.0, 4485.0, 4200.0, 5260.0, 5050.0, 5425.0, 7125.0, 8525.0, 5650.0, 5090.0, 5525.0, 3225.0, 9350.0, 7000.0, 10000.0, 21320.0, 4372.0, 7775.0, 4485.0, 10932.4, 20025.0, 4900.0, 4956.0, 13957.8, 3688.0, 3500.0, 3834.0, 2719.0, 4305.0, 6505.0, 6135.0, 3950.0, 3525.0, 14250.0, 6800.0, 13750.0, 3300.0, 15235.0, 3300.0, 3690.0, 3650.0, 4800.0, 13285.0, 3175.0, 3952.0, 4200.0, 3787.5, 3150.0, 10310.0, 6465.0, 3305.0, 2883.0, 6130.0, 3975.0, 2636.23, 6200.0, 4630.0, 2750.0, 4115.0, 6575.0, 6910.0, 7000.0, 18730.0, 2677.0, 2947.0, 8910.0, 3557.7, 6500.0, 10000.0, 9550.0, 3877.0, 9750.0, 4535.0, 3060.0, 3905.0, 24625.0, 4100.0, 5875.0, 9850.0, 3200.0, 3395.0, 7485.0, 4405.0, 18730.0, 2900.0, 13285.0, 7100.0, 17000.0, 8000.0, 18100.0, 4900.0, 15650.0, 3250.0, 6613.04, 3902.0, 3500.0, 3501.0, 4251.0, 5128.5, 5725.5, 3000.0, 7830.0, 4535.0, 4100.0, 3787.5, 9550.0, 2600.0, 10494.0, 6200.0, 3175.0, 3000.0, 6364.0, 3395.0, 6560.0, 23182.74, 8145.0, 3437.0, 14905.0, 17218.3, 10500.0, 3200.0, 4902.0, 3877.0, 4153.0, 3450.0, 3865.0, 4325.0, 11550.0, 4640.0, 17501.0, 3486.0, 7800.0, 5350.0, 3590.0, 3500.0, 2650.0, 5050.0, 6135.0, 6200.0, 10400.0, 4540.0, 4500.0, 3185.0, 3000.0, 6055.0, 5128.5, 10695.0, 3330.0, 2700.0, 15000.0, 3500.0, 2800.0, 3276.0, 7770.0, 13957.8, 3437.0, 2979.0, 3850.0, 3744.0, 4295.0, 16000.0, 14543.0, 8525.0, 6449.0, 5260.0, 4283.0, 2618.0, 7890.0, 4543.0, 9775.0, 13003.0, 2991.0, 6784.5, 4560.0, 3500.0, 5875.66, 5700.0, 4042.0, 3725.0, 5590.0, 4049.0, 6434.6, 2995.0, 4325.0, 3770.0, 2900.0, 6139.0, 9750.0, 2650.0, 3350.0, 8500.0, 3200.0, 2692.0, 6750.0, 2903.0, 7925.74, 16055.5, 3736.5, 2765.0, 3600.0, 4000.0, 9337.7, 4712.0, 4990.0, 4575.0, 2797.0, 3957.0, 7300.0, 2662.0, 4100.0, 4712.5, 4800.0, 13520.0, 6610.0, 2990.0, 14355.0, 3500.0, 8910.0, 3950.0, 2890.0, 2855.0, 3800.0, 3615.0, 3115.0, 2750.0, 3865.0, 3450.0, 2900.0, 3100.0, 5125.0, 20050.0, 12000.0, 5320.0, 4153.0, 8575.0, 9864.0, 3100.0, 2944.0, 2926.0, 4500.0, 9140.0, 3445.0, 3600.0, 5875.0, 4475.0, 12850.0, 2625.0, 21817.6, 6222.0, 5320.0, 6055.0, 12500.0, 3600.0, 3225.0, 3080.0, 2978.0, 2805.0, 22975.0, 5110.0, 4400.0, 5000.0, 4295.0, 3525.0, 5942.6, 4405.0, 5850.0, 2925.0, 9140.0, 3000.0, 2659.0, 6625.0, 2868.0, 4140.0, 3834.0, 2750.0, 2800.0, 8220.05, 6200.0, 2759.0, 3120.0, 4904.0, 3920.0, 3800.0, 20200.0, 5000.0, 2900.0, 5441.76, 7700.0, 2900.0, 5487.96, 5350.0, 2733.0, 6460.0, 13930.24, 4260.0, 2900.0, 4144.99, 5220.0, 2700.0, 4490.0, 4165.0, 6750.0, 3117.0, 4520.0, 5275.0, 9500.0, 8160.0, 15235.0, 5525.0, 3675.0, 2718.0, 15214.0, 2750.0, 7800.0, 9460.0, 13140.0, 4050.0, 11745.0, 6672.0, 2815.0, 7695.0, 7575.0, 2625.0, 2950.0, 2660.0, 7990.0, 6046.0, 2719.0, 21817.6, 4165.0, 2975.0, 3250.0, 5100.0, 3060.0, 6425.0, 2618.0, 4800.0, 4904.0, 5000.0, 5590.0, 17218.3, 14642.26, 9295.0, 7100.0, 3905.0, 2995.0, 3850.0, 4900.0, 7850.0, 5050.0, 12180.0, 5875.66, 6465.0, 3601.0, 10532.8, 7595.0, 7300.0, 4970.0, 4165.0, 2688.0, 4490.0, 6588.07, 4525.0, 3300.0, 4335.0, 4165.0, 4400.0, 3750.0, 5220.0, 2600.0, 10625.0, 3620.0, 2750.0, 4110.0, 3185.0, 15000.0, 8840.0, 3750.0, 3000.0, 5193.0, 3850.0, 7800.0, 7800.0, 8840.0, 3455.0, 3800.0, 3050.0, 14575.0, 3334.0, 11500.0, 2805.0, 3200.0, 6695.0, 8145.0, 21000.0, 3250.0, 3120.0, 2805.0, 4550.0, 3500.0, 6575.0, 2724.0, 6407.35, 6837.6, 24000.0, 21987.1, 2725.0, 6575.0, 6000.0, 8782.3, 4267.0, 3675.0, 2944.0, 4986.0, 6407.35, 6695.0, 12200.0, 2725.0, 7100.0, 7500.0, 14743.37, 2600.0, 3575.0, 10310.0, 4200.0, 5000.0, 5550.0, 11696.4, 3600.0, 18750.0, 2900.0, 7460.0, 2805.0, 14630.0, 8110.0, 13140.0] \n",
            "\n",
            "GRP_PROD_LC \n",
            "\n",
            "Outliers: [9893.78, 6485.0, 8500.0, 1000.0, 5015.0, 4750.0, 2500.0, 1275.0, 1275.0, 925.0, 1095.0, 3252.0, 2280.0, 1000.0, 1243.0, 2040.0, 850.0, 3810.0, 3810.0, 4999.0, 810.0, 6499.0, 8100.0, 975.0, 1050.0, 785.0, 775.0, 3099.0, 1216.0, 2800.0, 2100.0, 1050.0, 10400.42, 7665.0, 760.0, 5192.0, 3700.0, 733.34, 12475.0, 3850.0, 4500.0, 1250.0, 1935.0, 5818.0, 1600.0, 5818.0, 1500.0, 9243.0, 1210.0, 2500.0, 1531.0, 5373.0, 10000.0, 965.0, 2087.0, 4000.0, 1010.0, 4500.0, 2087.0, 1050.0, 800.0, 1500.0, 810.0, 1216.0, 3732.0, 3000.0, 1010.0, 1245.0, 7500.0, 9243.0, 850.0, 1216.0, 1665.0, 2250.0, 4470.0, 3050.0, 3200.0, 10462.0, 2250.0, 1000.0, 2500.0, 2000.0, 750.0, 1150.0, 2800.0, 1000.0, 1000.0, 1600.0, 2573.0, 1935.0, 2825.0, 800.0, 1515.0, 1250.0, 2600.0, 1261.0, 4895.0, 1075.0, 2460.0, 5650.0, 1105.0, 1375.0, 3732.0, 5373.0, 975.0, 790.0, 1000.0, 2500.0, 3130.0, 1000.0, 950.0, 4150.0, 865.0, 865.0, 1190.0, 790.0, 10764.98, 2465.0, 2280.0, 6640.0, 925.0, 833.0, 7665.0, 15050.0, 850.0, 4269.0, 3001.0, 850.0, 1333.0, 1000.0, 900.0, 7500.0, 790.0, 2000.0, 1250.0, 7300.0, 4150.0, 1333.0, 765.0, 1250.0, 900.0, 6000.0, 3050.0, 2430.0, 5000.0, 750.0, 12970.0, 1515.0, 6499.0, 1000.0, 1160.0, 3000.0, 1875.0, 1000.0, 2200.0, 5000.0, 4161.0, 1531.0, 1160.0, 2650.0, 7990.0, 1180.0, 985.0, 3500.0, 1240.0, 1101.0, 3700.0, 2465.0, 3415.0, 3415.0, 1000.0, 2000.0, 5145.0, 9500.0, 1565.0, 3000.0, 1000.0, 1000.0, 750.0, 8500.0, 900.0, 5000.0, 3200.0, 1000.0, 800.0, 4161.0, 850.0, 1075.0, 5000.0, 810.0, 725.0, 5000.0, 15100.0, 1000.0, 1400.0, 5000.0, 760.0, 4525.0, 3500.0, 10000.0, 1000.0, 5855.0, 4000.0, 5855.0, 750.0, 5000.0, 3500.0, 2545.0, 950.0, 4269.0, 5145.0, 1190.0, 1143.34, 1750.0, 5051.0, 800.0, 910.0, 1750.0, 8871.0, 775.0, 1150.0, 910.0, 1243.0, 6640.0, 3130.0, 21488.0, 9893.78, 2300.0, 3460.0, 833.0, 1250.0, 2975.0, 10764.98, 810.0, 1200.0, 2040.0, 5015.0, 1150.0, 9500.0, 1500.0, 3300.0, 705.0, 4895.0, 3000.0, 3000.0, 1750.0, 1000.0, 3099.0, 1500.0, 750.0, 2650.0, 1500.0, 4999.0, 1143.34] \n",
            "\n",
            "GRP_PROD_LJ \n",
            "\n",
            "Outliers: [1000.0, 1000.0, 25000.0, 1500.0, 1500.0, 5775.0, 1400.0, 1000.0, 1000.0, 2500.0, 5750.0, 2500.0, 2000.0, 1000.0, 2000.0, 3040.0, 2000.0, 1550.0, 1000.0, 15000.0, 1500.0, 1050.0, 1000.0, 3045.0, 1000.0, 1000.0, 2197.5, 900.0, 950.0, 1045.0, 2555.0, 15000.0, 1500.0, 5000.0, 996.65, 1400.0, 1000.0, 1000.0, 1350.0, 21250.0, 2750.0, 1500.0, 1000.0, 1140.0, 2550.0, 3040.0, 1900.0, 1400.0, 1055.0, 1000.0, 2001.0, 1000.0, 2530.0, 1000.0, 2750.0, 8300.0, 4875.0, 3870.0, 2001.0, 1500.0, 1000.0, 3500.0, 1650.0, 2750.0, 3600.0, 4004.55, 1200.0, 1000.0, 4000.0, 4350.0, 3250.0, 1000.0, 1300.0, 3210.0, 1170.0, 5392.0, 5460.0, 2455.0, 6805.0, 1775.0, 1448.0, 1425.0, 1000.0, 13760.0, 10810.0, 10810.0, 1775.0, 955.0, 2150.0, 975.0, 2950.0, 1000.0, 2291.47, 3600.0, 1640.0, 2600.0, 5235.0, 1000.0, 1000.0, 1170.03, 1075.0, 4830.0, 950.0, 1532.0, 1185.0, 900.0, 2715.0, 2325.0, 1100.0, 1904.0, 2950.0, 3085.0, 1360.0, 1675.0, 4348.74, 10912.5, 2300.0, 1520.0, 1520.0, 2350.0, 1000.0, 1357.0, 1975.46, 1200.0, 1400.0, 20100.0, 5050.0, 3106.25, 4395.0, 1650.0, 1630.0, 2454.0, 1500.0, 1682.53, 1950.0, 951.0, 1150.0, 7385.0, 1000.0, 1870.0, 5235.0, 1075.0, 2350.0, 925.0, 1000.0, 1995.0, 13760.0, 1185.0, 1230.0, 2470.0, 2110.0, 1000.0, 5700.0, 11501.79, 3475.0, 5950.0, 7700.0, 910.0, 2025.0, 1356.2, 18245.0, 1390.0, 2615.0, 9425.0, 4500.0, 5950.0, 1350.0, 1240.0, 4250.0, 1150.0, 3695.0, 1000.0, 1850.0, 1260.0, 1620.0, 2200.0, 1285.0, 3870.0, 930.0, 2350.0, 11396.0, 1100.0, 2200.0, 8140.0, 5200.0, 1100.0, 9330.0, 8140.0, 4600.0, 1070.0, 1000.0, 3950.0, 1980.0, 1000.0, 1250.0, 1005.0, 1000.0, 1500.0, 1575.0, 2110.0, 1450.0, 1735.0, 1000.0, 3100.0, 2350.0, 4368.0, 2367.0, 5000.0, 2500.0, 2550.0, 1995.0, 4497.0, 1025.0, 5000.0, 4397.0, 2930.0, 900.0, 4000.0, 1687.0, 2500.0, 2000.0, 1085.0, 1000.0, 2000.0, 1720.0, 1660.0, 1650.0, 1075.0, 7798.14, 1300.0, 5000.0, 6425.0, 1904.0, 1025.0, 1500.0, 1000.0, 1500.0, 5460.0, 895.0, 3500.0, 2000.0, 1000.0, 3539.35, 1500.0, 1600.0, 1500.0, 11125.0, 1000.0, 1000.0, 1335.0, 1000.0, 1000.0, 951.0, 1675.0, 1150.0, 1085.0, 5100.0, 3250.0, 6275.0, 1295.0, 9330.0, 5200.0, 900.0, 1415.0, 1532.0, 7010.0, 4263.0, 1052.0, 3267.5, 1075.0, 1950.0, 1925.0, 5000.0, 1500.0, 1780.0, 1240.0, 1000.0, 1100.0, 5000.0, 3382.0, 4875.0, 5700.0, 1477.0, 3539.35, 2500.0, 2425.0, 1025.0, 2735.0, 4397.0, 3907.0, 1052.0, 3400.0, 2197.5, 1967.0, 1000.0, 11500.0, 1050.0, 6500.0, 2000.0, 1100.0, 5000.0, 2250.0, 1500.0, 1000.0, 1630.0, 2367.0, 1927.0, 1560.0, 1025.0, 1000.0, 2530.0, 1000.0, 2825.0, 1500.0, 5300.0, 5000.0, 1425.34, 3900.0, 2455.0, 1448.0, 1365.0, 2004.0, 13850.0, 1967.0, 1110.0, 1000.0, 8250.0, 2291.47, 1435.0, 1400.0, 1470.0, 2930.0, 5775.0, 1000.0, 1885.0, 1170.0, 1925.0, 1690.0, 3400.0, 2185.0, 1100.0, 1005.0, 5000.0, 1125.0, 13237.0, 6550.0, 1400.0, 1900.0, 1125.0, 1150.0, 3020.0, 3000.0, 5500.0, 1000.0, 4395.0, 3950.0, 1000.0, 3400.0, 5710.0, 1780.0, 1435.0, 2400.0, 1565.0, 1945.0, 2360.0, 1425.0, 2175.0, 1000.0, 1016.0, 1025.0, 1000.0, 1000.0, 1250.0, 1153.0, 4348.74, 11097.0, 951.0, 6500.0, 8300.0, 1500.0, 1025.0, 2500.0, 1000.0, 1050.0, 13850.0, 2325.0, 4350.0] \n",
            "\n",
            "GRP_PROD_LO \n",
            "\n",
            "Outliers: [11450.0, 21000.0, 21000.0, 5000.0, 4310.0, 4135.0, 4650.0, 25000.0, 25000.0, 17875.0, 6500.0, 5000.0, 10000.0, 5250.0, 20500.0, 5275.0, 5475.0, 25000.0, 6575.0, 5000.0, 8800.0, 5000.0, 5000.0, 5000.0, 5000.0, 7900.0, 5000.0, 9800.0, 5157.39, 5000.0, 5000.0, 5000.0, 5000.0, 5000.0, 5000.0, 10515.0, 25000.0, 16250.0, 6100.0, 10000.0, 11000.0, 10000.0, 10200.0, 25000.0, 17000.0, 5000.0, 5000.0, 5000.0, 7550.0, 12500.0, 8385.0, 11388.0, 5000.0, 5000.0, 5500.0, 8468.0, 8044.07, 8427.5, 5000.0, 10835.0, 6275.0, 25000.0, 25000.0, 22500.0, 25000.0, 25000.0, 5000.0, 17500.0, 5000.0, 20000.0, 5500.0, 4515.36, 5250.0, 17450.0, 24298.19, 15825.0, 11450.0, 8600.0, 12370.0, 5500.0, 6350.0, 5600.0, 8700.0, 8280.5, 4750.0, 5100.0, 7500.0, 6500.0, 10000.0, 10000.0, 24150.0, 5000.0, 7655.0, 4125.0, 13575.0, 4565.0, 12550.0, 7600.0, 17000.0, 4494.72, 5100.0, 10550.0, 11275.0, 5475.0, 11287.5, 7975.0, 5900.0, 11275.0, 13200.0, 5550.0, 5025.0, 4550.0, 5650.0, 5450.0, 14525.0, 21135.0, 15252.5, 6200.0, 8600.0, 7100.0, 4850.0, 10975.0, 7027.69, 6360.0, 4960.0, 14100.0, 11450.0, 9325.0, 7935.3, 6081.72, 12325.0, 7660.0, 25000.0, 5100.0, 4775.0, 21825.0, 13650.0, 4650.0, 14900.0, 5175.0, 15200.0, 5000.0, 8310.0, 5650.2, 6860.0, 8310.0, 5650.2, 5350.0, 6100.0, 15100.0, 5020.0, 7500.0, 15100.0, 8950.0, 8500.0, 17575.0, 14150.0, 5750.0, 4800.0, 6175.0, 10888.28, 6650.0, 12150.0, 7000.0, 5809.0, 5809.0, 6075.0, 12415.0, 12500.0, 6250.0, 6315.0, 4523.75, 5900.0, 8001.0, 10575.0, 7246.06, 5232.5, 4875.0, 7400.0, 24298.19, 14525.0, 5750.0, 9525.0, 7725.0, 12200.0, 11363.0, 10350.0, 16029.84, 5975.0, 5900.0, 6275.0, 8752.91, 7325.0, 4300.0, 5000.0, 15450.0, 25000.0, 10265.0, 25000.0, 8725.0, 4990.0, 7450.0, 7935.0, 6780.0, 4650.0, 8600.0, 4360.0, 5125.0, 13120.0, 6494.0, 5500.0, 7925.0, 14920.0, 10575.0, 4100.0, 11105.0, 4550.0, 4470.0, 7840.0, 5100.0, 5600.0, 10650.0, 24360.0, 9185.0, 7840.0, 7500.0, 8925.0, 11710.0, 15250.0, 6250.0, 13894.0, 6921.0, 6035.0, 12399.74, 10800.0, 17950.0, 18850.0, 6025.0, 6545.0, 17775.0, 8640.0, 6845.0, 6921.0, 6225.0, 18850.0, 16420.0, 4843.0, 8512.9, 8512.9, 7400.0, 5975.0, 20350.0, 6035.0, 6845.0, 7105.0, 14900.0, 5291.0, 4625.0, 8652.9, 4300.0, 4720.0, 17500.0, 4350.0, 21650.0, 4650.0, 9925.0, 4350.0, 21000.0, 19785.0, 9225.0, 5250.0, 8200.0, 19610.0, 5229.0, 5525.0, 5100.0, 7400.0, 12550.0, 4100.0, 4500.0, 4231.7, 7770.0, 16750.0, 6005.0, 4700.0, 5550.0, 6292.0, 11075.0, 5000.0, 11200.0, 22900.0, 9500.36, 5150.0, 5496.0, 22300.0, 4997.0, 17000.0, 4155.0, 5250.0, 18800.0, 6275.0, 4850.0, 7027.44, 16500.0, 9225.0, 6515.0, 5675.0, 6850.0, 4600.0, 8874.0, 7600.0, 6780.0, 4500.0, 5450.0, 4430.0, 6035.0, 17025.0, 18300.0, 10628.0, 5450.0, 8753.54, 7202.0, 9750.0, 18300.0, 6950.0, 5500.0, 15825.0, 22200.0, 9595.0, 14475.0, 5000.0, 5352.0, 23850.0, 4900.0, 4500.0, 7750.0, 4900.0, 8810.0, 6500.0, 5410.0, 17025.0, 4900.0, 5152.25, 12675.0, 14300.0, 6960.0, 11550.0, 14205.0, 5550.0, 15000.0, 13675.0, 6075.0, 5795.0, 9700.0, 5450.0, 6869.0, 13800.0, 8725.0, 15475.0, 21950.0, 4460.0, 15250.0, 4650.0, 6600.0, 8645.0, 4720.0, 6370.0, 11525.0, 6000.0, 15200.0, 12977.0, 12910.0, 11875.0, 7187.5, 19025.0, 10375.0, 5496.0, 4300.0, 6600.0, 4220.0, 6430.0, 8410.3, 18350.0, 5710.0, 10050.0, 9025.0, 5800.0, 6600.0, 4450.0, 5900.0, 17225.0, 17225.0, 11125.0, 5125.0, 6855.0, 18830.0, 4850.0, 4150.0, 4460.0, 18830.0, 4930.0, 19800.0, 9800.0, 13840.0, 8150.0, 17260.0, 4820.0, 13110.0, 11287.5, 6375.0, 6375.0, 4990.0, 7775.0, 5759.0, 5100.0, 5025.0, 5625.0, 7000.0, 7055.0, 4350.0, 5560.0, 18100.62, 17500.0, 6100.0, 6700.0, 6200.0, 8550.0, 5920.0, 6250.0, 8550.0, 4725.0, 8468.0, 13617.0, 9185.0, 16300.0, 7550.0, 9605.0, 22325.0, 24622.0, 14100.0, 10875.0, 4400.0, 15175.0, 14525.0, 4400.0, 5400.0, 9855.0, 6650.0, 10434.99, 5540.0, 5100.0, 16625.0, 4100.0, 6250.0, 16300.0, 5450.0, 19085.0, 5300.0, 6005.0, 10875.0, 7105.0, 6620.0, 4250.0, 10550.0, 4475.0, 4790.0, 13575.0, 10600.0, 8385.0, 4250.0, 5360.0, 15220.0, 9950.0, 9950.0, 9500.0, 5229.0, 6950.0, 5000.0, 7542.0, 18850.0, 10475.0, 7325.0, 4175.0, 12825.0, 5600.07, 9500.0, 4960.0, 6150.0, 14455.0, 4125.0, 8225.0, 4620.0, 16025.0, 4780.0, 7450.0, 20550.0, 12845.0, 13775.0, 9750.0, 12650.0, 15966.06, 16025.0, 5710.0, 8510.0, 7300.0, 10575.0, 5650.0, 5000.0, 19250.0, 5225.0, 8250.0, 6350.0, 4250.0, 4300.0, 5900.0, 5000.0, 5375.0, 5835.0, 9515.0, 6750.0, 6320.0, 5795.0, 7950.0, 7100.0, 8550.0, 17475.0, 13750.0, 9060.0, 12825.0, 6685.0, 5152.25, 4600.0, 6075.0, 7250.0, 9020.0, 6600.0, 5510.0, 11530.0, 5800.0, 4250.0, 4250.0, 4125.0, 4320.0, 7950.0, 5099.0, 5650.0, 5475.0, 5100.0, 17950.0, 4718.0, 6825.0, 6350.0, 8500.0, 9685.0, 4155.0, 7000.0, 21150.0, 12459.79, 9750.0, 4565.0, 17000.0, 6775.0, 9900.0, 10100.0, 5570.0, 10000.0, 6500.0, 10125.0, 5000.0, 6775.0, 6550.0, 10075.0, 8600.0, 12000.0, 5000.0, 7500.0, 6285.0, 4125.0, 9020.0, 9500.0, 19750.0, 8275.0, 16325.0, 14920.0, 5850.0, 4870.0, 4550.0, 16050.0, 16250.0, 18700.0, 18710.0, 4766.0, 14150.0, 10225.0, 5232.5, 14100.0, 13350.0, 6060.0, 9588.0, 10120.0, 5450.0, 7200.0, 12850.0, 18075.0, 4135.0, 11363.0, 9515.0, 4806.5, 4150.0, 6300.0, 6000.0, 4625.0, 4350.0, 11100.0, 5300.0, 12749.68, 7450.0, 18500.0, 5250.0, 10434.99, 4997.0, 6050.0, 10100.0, 5750.0, 14735.0, 5050.0, 5600.0, 10000.0, 6250.0, 4336.0, 6200.0, 6535.0, 8285.0, 10200.0, 7600.0, 11668.0, 6405.0, 8400.0, 4775.0, 13671.0, 11460.0, 17850.0, 18800.0, 16625.0, 4800.0, 9340.0, 6750.0, 6900.0, 4820.0, 5054.0, 7375.0, 4593.0, 6500.0, 8300.0, 10350.0, 12550.0, 5100.0, 5000.0, 8955.0, 4718.0, 5475.0, 10862.74, 6100.0, 5665.0, 12750.0, 7875.0, 5099.0, 6735.0, 4250.0, 5660.0, 10770.0, 4175.0, 5000.0, 5875.0, 4575.0, 14475.0, 15350.0, 7042.0, 6250.0, 5125.0, 7479.0, 9588.0, 8725.0, 5551.0, 6685.0, 14110.21, 4900.0, 6275.0, 5065.0, 5280.0, 7165.0, 6300.0, 8900.0, 5350.0, 10100.0, 5500.0, 8450.0, 5000.0, 6650.0, 6413.0, 4500.0, 6050.0, 7797.0, 4720.0, 6110.0, 9505.0, 6175.0, 10915.0, 5700.0, 11100.0, 13650.0, 9200.0, 5150.0, 5777.0, 4525.0, 4055.0, 9200.0, 11100.0, 6275.0, 13675.0, 6350.0, 7000.0, 4960.0, 6292.0, 5525.0, 9075.0, 11560.0, 5828.2, 7627.52, 5875.0, 6275.0, 6085.0, 10575.0, 5250.0, 6000.0, 4300.0, 5800.0, 23050.0, 5100.0, 10097.0, 11200.0, 4940.0, 15885.0, 20600.0, 6350.0, 11125.0, 4600.0, 5800.0, 7600.0, 10325.0, 7700.0, 14935.0, 4889.0, 10925.0, 4100.0, 7520.0, 17600.0, 4675.0, 7650.0, 10600.0, 5650.0, 4220.0, 7972.0, 17650.0, 10000.0, 4350.0, 6150.0, 14235.0, 4450.0, 8800.0, 7640.0, 5000.0, 7400.0, 6150.0, 7318.75, 16450.0, 19700.0, 5450.0, 4135.0, 6850.0, 5000.0, 4336.0, 5950.0, 8310.0, 19400.0, 15252.5, 19100.0, 10000.0, 4175.0, 5100.0, 9275.0, 9400.0, 4675.0, 15100.0, 8550.0, 10000.0, 5810.0, 10571.13, 10835.0, 15200.0, 4800.0, 8450.0, 5900.0, 13525.0, 5875.0, 6950.0, 6850.0, 9663.0, 6385.0, 5750.0, 8780.0, 6310.0, 4300.0, 4400.0, 9525.0, 7375.0, 10000.0, 6500.0, 6110.0, 6250.0, 23850.0, 5600.0, 15300.0, 12589.96, 6350.0, 13675.0, 4800.0, 7400.0, 5625.0, 4725.0, 15550.0, 4900.0, 13125.0, 12490.0, 6320.0, 4940.0, 6762.0, 5750.0, 18075.0, 6600.0, 22125.0, 16750.0, 12647.25, 4525.0, 4155.0, 4150.0, 5000.0, 4525.0, 16650.0, 4585.0, 17775.0, 9470.0, 10292.36, 8700.0, 5500.0, 7150.0, 10235.0, 7250.0, 14250.0, 20325.0, 15200.0, 14250.0, 4075.0, 19450.0, 6500.0, 6500.0, 6350.0, 13125.0, 22325.0, 4422.0, 4889.0, 8068.18, 14000.0, 4795.0, 6750.0, 6000.0, 4600.0, 7000.0, 5850.0, 8000.0, 4574.0, 21000.0, 11525.0, 10096.7, 6460.0, 4125.0, 10425.0, 4100.0, 4550.0, 6000.0, 10575.0, 7900.0, 7150.0, 4998.0, 7450.0, 10350.0, 15100.0, 6050.0, 4400.0, 4125.0, 7575.0, 14200.0, 4400.0, 7335.0, 8025.0, 5250.0, 9325.0, 4750.0, 4500.0, 13110.0, 6762.0, 5700.0, 4700.0, 6430.0, 7202.0, 24150.0, 7450.0, 7640.0, 11775.0, 5975.0, 16725.0, 5350.0, 22850.0, 17650.0, 11303.0, 12415.0, 13075.0, 5300.0, 13617.0, 5360.0, 7060.0, 21725.0, 20000.0, 4900.0, 5200.0, 5200.0, 7350.0, 8550.0, 5025.0, 8410.3, 5935.0, 4120.0, 10000.0, 5600.0, 17000.0, 11534.58, 8700.0, 17505.0, 5875.0, 11668.0, 18850.0, 4150.0, 11450.0, 16420.0, 10000.0, 5075.0, 12200.0, 15000.0, 5660.0, 8200.0, 6735.0, 8740.0, 21825.0, 7775.0, 12370.0, 7335.0, 4623.0, 9825.0, 5500.0, 4400.0, 8000.0, 17500.0, 17500.0, 6650.0, 8860.0, 6081.72, 8860.0, 5025.0, 8750.0, 10000.0, 6460.0, 6385.0, 5000.0, 4500.0, 7535.0, 7100.0, 7055.0, 14135.0, 4725.0, 11851.0, 5750.0, 6150.0, 6525.0, 22300.0, 6620.0, 12200.0, 8752.91, 14000.0, 11075.0, 4700.0, 13115.3, 5248.0, 10120.0, 8550.0, 5600.0, 4500.0, 5653.0, 5125.0, 18075.0, 4585.0, 5750.0, 11775.0, 5650.0, 4960.0, 11650.0, 4430.0, 7025.0, 21975.0, 5600.0, 8570.0, 6050.0, 18700.0, 8450.0, 6450.0, 18054.0, 8350.0, 8027.99, 19400.0, 4525.0, 6025.0, 18685.0, 6750.0, 15735.0, 18873.18, 4700.0, 4790.0, 11380.0, 4175.0, 11700.0, 6575.0, 23900.0, 5200.0, 5125.0, 9075.0, 9350.0, 23750.0, 4220.0, 18873.18, 11875.0, 5100.0, 8000.0, 25000.0, 8427.5, 6600.0, 6515.0, 4650.0, 14235.0, 5200.0, 5225.0, 13830.0, 11733.3, 15325.0, 9855.0, 4215.0, 11534.58, 23900.0, 12647.25, 4065.0, 5100.0, 6500.0, 6545.0, 7900.0, 4685.0, 5000.0, 21725.0, 7400.0, 17550.0, 7479.0, 6250.0, 8600.0, 13800.0, 11937.5, 11937.5, 4675.0, 7542.0, 5150.0, 4100.0, 8350.0, 13300.0, 6258.6, 6750.0, 12325.0, 10500.0, 19600.0, 15375.0, 5500.0, 4100.0, 6200.0, 4220.0, 4525.0, 4795.0, 15890.0, 20600.0, 11685.0, 4095.0, 4720.0, 7000.0, 5000.0, 5600.0, 13250.0, 7975.0, 15100.0, 4675.0, 9750.0, 5777.0, 5100.0, 19450.0, 5248.0, 13200.0, 5810.0, 6950.0, 14635.0, 12375.0, 8995.0, 6550.0, 13650.0, 7000.0, 6300.0, 6350.0, 4750.0, 4475.0, 5180.0, 9025.0, 4750.0, 5100.0, 7850.0, 19610.0, 9800.0, 16029.84, 17997.0, 6705.0, 6314.0, 21975.0, 6275.0, 19250.0, 18054.0, 6550.0, 5800.0, 14500.0, 4870.0, 13000.0, 6850.0, 4850.0, 8645.0, 4750.0, 10900.0, 5551.0, 10650.0, 6275.0, 4545.0, 4843.0, 6750.0, 9060.0, 4494.72, 12035.0, 5400.0, 5525.0, 12886.31, 8400.0, 5000.0, 9950.0, 4475.0, 12845.0, 8925.0, 6340.0, 10260.0, 4250.0, 6340.0, 4380.0, 11388.0, 25000.0, 17875.0, 4465.0, 10650.0, 6525.0, 5985.0, 7655.0, 8044.07, 4600.0, 4310.0, 17325.0, 4500.0, 8500.0, 5925.0, 4600.0, 21135.0, 4125.0, 18630.0, 17575.0, 5000.0, 10225.0, 8285.0, 8955.0, 5500.0, 18200.0, 7000.0, 8550.0, 5352.0, 8874.0, 11100.0, 6310.0, 9505.0, 11710.0, 18710.0, 6405.0, 6315.0, 13830.0, 9685.0, 5800.0, 6075.0, 12977.0, 5900.0, 8400.0, 18685.0, 7277.0, 13966.0, 5000.0, 8320.0, 5653.0, 6795.0, 21920.53, 4300.0, 17850.0, 6475.0, 4095.0, 7150.0, 4850.0, 14100.0, 11100.0, 4150.0, 14110.21, 6360.0, 4525.0, 7785.0, 6860.0, 24946.0, 4400.0, 19750.0, 4750.0, 6600.0, 18075.0, 6750.0, 4750.0, 17550.0, 4155.0, 8025.0, 5170.0, 8000.0, 8027.99, 9400.0, 5828.2, 9050.0, 10950.0, 11560.0, 4135.0, 10375.0, 4150.0, 10600.0, 5150.0, 19100.0, 16100.0, 17825.0, 10097.0, 5050.0, 10571.13, 5000.0, 5450.0, 5400.0, 7950.0, 7500.0, 23300.0, 9500.36, 7000.0] \n",
            "\n",
            "GRP_PROD_NS \n",
            "\n",
            "Outliers: [22250.0, 12625.0, 21255.03, 4466.66, 3200.0, 17817.0, 7750.0, 5400.0, 4495.0, 3233.0, 3500.0, 5769.59, 4250.0, 7400.0, 22916.0, 4476.0, 3934.0, 3525.0, 7855.0, 5000.0, 6810.0, 4000.0, 4000.0, 5084.4, 4000.0, 3748.27, 10535.0, 5000.0, 4000.0, 5333.32, 3400.0, 6000.0, 8000.0, 5000.0, 10500.0, 3500.0, 4000.0, 5700.0, 7500.0, 4000.0, 4000.0, 3500.0, 5100.0, 3300.0, 5000.0, 4680.0, 3291.67, 10000.0, 5600.0, 14000.0, 3319.0, 6000.0, 12950.0, 4000.0, 5000.0, 3800.0, 3650.0, 20025.0, 6450.0, 5250.0, 5000.0, 3250.0, 3672.6, 3250.0, 17585.0, 10256.02, 4666.67, 4500.0, 6712.17, 7005.94, 3375.0, 3978.61, 10500.0, 20125.0, 4500.0, 14000.0, 5123.0, 3750.0, 4900.0, 4550.0, 5975.0, 5000.0, 8000.0, 16667.0, 6032.76, 7500.0, 7000.0, 3400.0, 7375.1, 11881.0, 6200.0, 3750.0, 4200.0, 3500.0, 6250.0, 3600.0, 3224.13, 3393.04, 5494.13, 14000.0, 3673.13, 3673.13, 4000.0, 9934.0, 3300.0, 4811.3, 10300.0, 12000.0, 3500.0, 4100.0, 5000.0, 6006.29, 7060.0, 6250.0, 11750.0, 21255.03, 6000.0, 8545.0, 9000.0, 7000.0, 4427.81, 10535.0, 5000.0, 17070.0, 10050.0, 3574.0, 7350.0, 5850.0, 11925.0, 5283.84, 3748.27, 5750.0, 8395.0, 6000.0, 8500.0, 4500.0, 4000.0, 3500.0, 3750.0, 4441.02, 4806.0, 4248.27, 9500.0, 13108.98, 3500.0, 25000.0, 4800.0, 6500.0, 6000.0, 7500.0, 16000.0, 3750.0, 10000.0, 15100.0, 6500.0, 6050.0, 5794.0, 10000.0, 10300.0, 9500.0, 12500.0, 11250.0, 20974.0, 4000.0, 8500.0, 12575.0, 6694.0, 4000.0, 4450.0, 3199.0, 11196.0, 3190.0, 9658.9, 8567.8, 3783.8, 7200.0, 13108.98, 5604.75, 5000.0, 3500.0, 15000.0, 5000.0, 5166.65, 9125.0, 3344.0, 4000.0, 3450.0, 5000.0, 4000.0, 6445.0, 7394.0, 6550.0, 10750.0, 10500.0, 3303.6, 4280.0, 7500.0, 5650.0, 11500.0, 12575.0, 8000.0, 5769.59, 8800.0, 4755.0, 5000.0, 16000.0, 17000.0, 3323.0, 3750.0, 10725.0, 10500.84, 16500.0, 6506.29, 3383.53, 6998.39, 11500.0, 13463.0, 21500.0, 5511.0, 17000.0, 10500.0, 7264.0, 3500.0, 16450.0, 5350.0, 14700.0, 16450.0, 7500.0, 7000.0, 14700.0, 6694.0, 20000.0, 4669.0, 5000.0, 3424.0, 5859.0, 14257.5, 8000.0, 12000.0, 4345.0, 5000.0, 6750.0, 4500.0, 3950.0, 3444.0, 12801.0, 20974.0, 4400.0, 3200.0, 5000.0, 15021.0, 5000.0, 4495.0, 6006.29, 22916.0, 3295.0, 3350.0, 10376.0, 3750.0, 8500.0, 5000.0, 9600.0, 7056.0, 10050.0, 4603.0, 21267.0, 6446.0, 5797.0, 4100.0, 12000.0, 14050.0, 5000.0, 6924.0, 7052.0, 5000.0, 5500.0, 6000.0, 5000.0, 4427.81, 6150.0, 5000.0, 8117.0, 4269.5, 5850.0, 3650.0, 5000.0, 11000.0, 8000.0, 3840.0, 3250.0, 4839.0, 3785.0, 6900.0, 10400.0, 10400.0, 6000.0, 7767.0, 5366.0, 5248.98, 7009.0, 6000.0, 5075.0, 7375.1, 6850.0, 3750.0, 4603.0, 3774.0, 10822.71, 11555.86, 7740.0, 5236.5, 15250.0, 3850.0, 5129.0, 4000.0, 10352.0, 3350.0, 5100.0, 6176.0, 11265.0, 8307.36, 9125.0, 19925.0, 8000.0, 9355.08, 22250.0, 7500.0, 16500.6, 24602.0, 4176.91, 3800.0, 5650.0, 9935.0, 5000.0, 3260.0, 14000.0, 7700.0, 6000.0, 17585.0, 8334.0, 5227.0, 3860.0, 8180.0, 6055.0, 4280.0, 4000.0, 4000.0, 5500.0, 4769.75, 3525.0, 15000.0, 15000.0, 5070.5, 8260.0, 7626.0, 5396.0, 7431.6, 3750.0, 4443.0, 14350.0, 13455.0, 12000.0, 11050.0, 5227.0, 5100.0, 5125.0, 8535.0, 5482.0, 12000.0, 8117.0, 5366.0, 5450.0, 3520.0, 3352.1, 3287.0, 5980.5, 6400.0, 3550.0, 6000.0, 6800.0, 6200.0, 4550.0, 3580.0, 6000.0, 6419.0, 4446.0, 3737.0, 10093.0, 7500.0, 16111.33, 5310.0, 4800.0, 4300.0, 4900.0, 3525.0, 3319.0, 7430.0, 5000.0, 5292.0, 5350.0, 4800.0, 11850.0, 4665.0, 5500.0, 4280.0, 12364.0, 6050.0, 5328.3, 5300.0, 8000.0, 6000.0, 6055.0, 5300.0, 3415.0, 10750.0, 9700.0, 3260.0, 4825.0, 4800.0, 16735.0, 21875.0, 5000.0, 4140.0, 8356.0, 9166.65, 13625.0, 3949.0, 3550.0, 18535.0, 3400.0, 12000.0, 15545.0, 18535.0, 4850.0, 5500.0, 3250.0, 5000.0, 7052.0, 4820.0, 4850.0, 5150.0, 5350.0, 13500.0, 5975.0, 4500.0, 5000.0, 5989.0, 7450.0, 10750.0, 14257.5, 5079.0, 5975.0, 4000.0, 5020.4, 25000.0, 5300.0, 10000.0, 3220.0, 3883.0, 8530.0, 8356.0, 5100.0, 4300.0, 11626.0, 4586.0, 6300.0, 4344.0, 4695.0, 9230.0, 3234.0, 3998.0, 4825.0, 4344.0, 5465.0, 3998.0, 7250.0, 5500.0, 4912.0, 6500.0, 11196.0, 16500.6, 5100.0, 8800.0, 5711.0, 11626.0, 3892.0, 5109.0, 21825.0, 21825.0, 6411.0, 6520.0, 8305.0, 14770.0, 10300.0, 4750.0, 5445.0, 5267.0, 4350.0, 3225.0, 10824.0, 3406.0, 4000.0, 8150.0, 3900.0, 12000.0, 6250.0, 12000.0, 4725.0, 3875.0, 3344.0, 4769.0, 5635.0, 3900.0, 5840.0, 4699.0, 3976.0, 3448.0, 3985.0, 5716.33, 10625.72, 4775.0, 11555.86, 3489.07, 6900.0, 3350.0, 3760.0, 4550.0, 5775.0, 6750.0, 3630.0, 3287.0, 6150.0, 3854.0, 3350.0, 10000.0, 5975.0, 19200.0, 7750.0, 4740.0, 6500.0, 5000.0, 10450.0, 3715.0, 10666.72, 6850.0, 3450.0, 4000.0, 15693.0, 5820.0, 4650.0, 7200.0, 7394.0, 3582.0, 4450.0, 15000.0, 4000.0, 4550.0, 11000.0, 3400.0, 3450.0, 3900.0, 5015.0, 7568.0, 3450.0, 5945.0, 3617.0, 5000.0, 3220.0, 6000.0, 12627.0, 8020.0, 3780.0, 5015.0, 4800.0, 3260.0, 3500.0, 16275.0, 5000.0, 3758.0, 4769.0, 4906.0, 11100.0, 6959.0, 9550.0, 3560.0, 5600.0, 3560.0, 19350.0, 5400.0, 3475.0, 3210.0, 5360.0, 4161.0, 8300.0, 15869.0, 3650.0, 19500.0, 6900.0, 5000.0, 12461.0, 23719.13, 8100.0, 4755.0, 7710.0, 4250.0, 18254.09, 18254.09, 4180.0, 7440.0, 3492.0, 3765.77, 3500.0, 4072.91, 5500.0, 5144.0, 3702.0, 12000.0, 7125.0, 4166.5, 7313.0, 4839.0, 12100.0, 5156.99, 4437.0, 18446.0, 9273.0, 5925.0, 3750.0, 4837.0, 4525.0, 4219.0, 4072.91, 6750.0, 10750.0, 3785.0, 3470.0, 6100.0, 5000.0, 5840.0, 15746.93, 3750.0, 4490.0, 9501.0, 4207.61, 4307.0, 6300.0, 12850.0, 10672.0, 6550.0, 4743.0, 5155.0, 7956.07, 3750.0, 4555.0, 3280.0, 13150.0, 14642.0, 3850.0, 10634.0, 6725.0, 14450.0, 5070.5, 8000.0, 11200.0, 3350.0, 4710.0, 22551.0, 4685.0, 9500.0, 8600.0, 4600.0, 20500.0, 3470.0, 3774.0, 6605.0, 4425.0, 8950.0, 7717.6, 3819.56, 18000.0, 4750.0, 3400.0, 6400.0, 6100.0, 7540.0, 6550.0, 6400.0, 6400.0, 4750.0, 3230.0, 13000.0, 12975.0, 16500.0, 3350.0, 15900.0, 4750.0, 4419.0, 4992.54, 6785.0, 4810.0, 4144.0, 5144.0, 8700.0, 10050.0, 9800.0, 13260.0, 7588.0, 4750.0, 7180.0, 6150.0, 3368.0, 7855.0, 14642.0, 7050.0, 3501.0, 4850.0, 3960.0, 5079.0, 3600.0, 6500.0, 4000.0, 13210.0, 4800.0, 6563.0, 4120.0, 4000.0, 4880.0, 4425.0, 3320.0, 5000.0, 9300.0, 3376.0, 3500.0, 16500.0, 5075.0, 6050.0, 3450.0, 3351.0, 4437.0, 5859.0, 5275.0, 10597.93, 5711.0, 4708.5, 8750.0, 3325.0, 4500.0, 14000.0, 3463.0, 4075.0, 5349.87, 13550.0, 3750.0, 6750.0, 13160.0, 4500.0, 4490.0, 7451.09, 5498.0, 4196.0, 3240.5, 4750.0, 6850.0, 8900.0, 4525.0, 5450.0, 4180.0, 3190.0, 4906.0, 4555.0, 3325.0, 11500.0, 3974.0, 4500.0, 6120.57, 6887.0, 3780.0, 4207.61, 4800.0, 4575.0, 3833.0, 8356.0, 5325.0, 4669.0, 14550.0, 5608.0, 6050.0, 5560.0, 3650.0, 15545.0, 5950.0, 19200.0, 19500.0, 4345.0, 3450.0, 4880.0, 9700.0, 3833.0, 3750.0, 15000.0, 4800.0, 3976.0, 12350.0, 19350.0, 7093.5, 10597.93, 5000.0, 16560.5, 19000.0, 18550.0, 13463.0, 13275.01, 12950.0, 4578.0, 3200.0, 6231.0, 5950.0, 10666.72, 6331.0, 9273.0, 4663.45, 10003.0, 16551.0, 5109.0, 3250.0, 5560.0, 4005.24, 3892.05, 3447.0, 5419.0, 4837.0, 7540.0, 5817.8, 5677.0, 4725.0, 23800.0, 17817.0, 4695.0, 11660.65, 5350.0, 7440.0, 12850.0, 5000.0, 3500.0, 8600.0, 3901.0, 15250.0, 4806.0, 5500.0, 6100.0, 6400.0, 16632.0, 18750.0, 11850.0, 13550.0, 7767.0, 17369.0, 5975.0, 3650.0, 4535.0, 5000.0, 3200.0, 6750.0, 4640.0, 4219.0, 4300.0, 3450.0, 4566.0, 9750.0, 6032.76, 3566.0, 5800.0, 7185.0, 3415.0, 4000.0, 8600.0, 5687.0, 6603.68, 8300.0, 9910.88, 5275.0, 7451.09, 5000.0, 7300.0, 6250.0, 6445.0, 7716.0, 7035.0, 9557.0, 6250.0, 5850.0, 3846.0, 5560.0, 5500.0, 6100.0, 6750.0, 4029.25, 12060.0, 9200.0, 6603.68, 4370.0, 5745.0, 15100.0, 8500.0, 14667.0, 3320.0, 3500.0, 7956.07, 17000.0, 12975.0, 6072.0, 4180.0, 6150.0, 10725.0, 3582.0, 5250.0, 5156.99, 12850.0, 4161.0, 6777.27, 19300.0, 10000.0, 4200.0, 5313.0, 3474.0, 6446.0, 4350.0, 9200.0, 10500.0, 4769.75, 3489.07, 9086.0, 13000.0, 8500.0, 5820.0, 3819.56, 10400.0, 4000.0, 5000.0, 10000.0, 9002.5, 3620.0, 11750.0, 3424.0, 4920.0, 4025.0, 6050.0, 9750.0, 9500.0, 3352.1, 13120.0, 6185.0, 5800.0, 4775.0, 11660.65, 3702.0, 4845.0, 6100.0, 3929.64, 20500.0, 7137.0, 4700.0, 7000.0, 7180.0, 5350.0, 4025.0, 8500.0, 4870.0, 10000.0, 17435.0, 13003.18, 15000.0, 5349.87, 8535.0, 7300.0, 4586.0, 4146.0, 12625.0, 6520.0, 5920.0, 5419.0, 8000.0, 3226.8, 14584.0, 3620.0, 5745.0, 4000.0, 3500.0, 6725.0, 4000.0, 11050.0, 9500.0, 17083.0, 8600.0, 5250.0, 10500.0, 5065.0, 3901.0, 6419.0, 10352.0, 6923.0, 3550.0, 4286.5, 4950.0, 15875.0, 11100.0, 7960.0, 8180.0, 16575.0, 4566.0, 7716.0, 11881.0, 7056.0, 5608.0, 3974.0, 3474.0, 4191.1, 3418.0, 4191.1, 3750.0, 15571.0, 9800.0, 8000.0, 6176.0, 10822.71, 6492.0, 6959.0, 4845.0, 17435.0, 3617.0, 4640.0, 11500.0, 5236.5, 4275.0, 13500.0, 6000.0, 4500.0, 3375.0, 20125.0, 4500.0, 4290.0, 20025.0, 7951.0, 6024.15, 5600.0, 15375.0, 9000.0, 5500.0, 7264.0, 10000.0, 4125.0, 13050.0, 9000.0, 5000.0, 16667.0, 9200.0, 6000.0, 14050.0, 3300.0, 5250.0, 7000.0, 16000.0, 4917.0, 5830.0, 3325.0, 15000.0, 3679.0, 3665.0, 4575.0, 8350.0, 13500.0, 3280.0, 10672.0, 16111.33, 13225.0, 7500.0, 8000.0, 4625.0, 6118.0, 4400.0, 24000.0, 6000.0, 5496.0, 9680.0, 3260.0, 23719.13, 7300.0, 4550.0, 3800.0, 13186.0, 6450.0, 4333.0, 6231.0, 4144.0, 3463.0, 9200.0, 23755.0, 4269.5, 16500.0, 13625.0, 7216.0, 15013.16, 5000.0, 3929.64, 3854.0, 4500.0, 5585.1, 5300.0, 16560.5, 7750.0, 7093.5, 8509.0, 3750.0, 17000.0, 7650.0, 15013.16, 5000.0, 3760.0, 14470.0, 10459.0, 6530.0, 5687.0, 13186.0, 12000.0, 5065.0, 3500.0, 8509.0, 4108.0, 3295.0, 19000.0, 4701.0, 15693.0, 3873.0, 9303.0, 5500.0, 10050.0, 11903.0, 5498.0, 5166.65, 6000.0, 4799.0, 4799.0, 7000.0, 6000.0, 9002.5, 11750.0, 11050.0, 7622.0, 11000.0] \n",
            "\n",
            "GRP_PROD_NU \n",
            "\n",
            "Outliers: [1000.0, 1886.0, 1000.0, 1130.0, 18061.5, 3835.0, 2575.0, 16220.0, 1000.0, 2500.0, 1897.0, 6187.68, 4075.2, 1500.0, 1900.0, 18061.5, 1000.0, 1000.0, 1000.0, 2056.0, 2620.0, 10050.0, 7675.0, 1400.0, 1102.0, 1500.0, 3454.0, 1313.0, 1125.0, 2100.0, 3022.5, 2750.0, 1102.0, 1195.0, 2750.0, 3300.0, 5450.0, 1680.0, 2825.0, 2620.0, 3660.0, 1000.0, 1000.0, 1367.0, 3750.0, 995.0, 1000.0, 1081.0, 10050.0, 3300.0, 2930.0, 6002.5, 1090.0, 1750.0, 1578.0, 3454.0, 2448.0, 3860.0, 980.0, 3490.0, 2110.0, 3175.0, 1400.0, 2890.0, 2355.0, 4699.0, 1055.0, 1150.0, 15809.0, 2475.0, 4642.0, 2444.0, 3224.75, 1102.0, 3175.0, 4140.0, 3837.5, 14675.0, 2625.0, 1825.0, 1042.0, 4642.0, 2625.0, 2000.0, 1205.0, 1725.0, 2267.0, 3175.0, 1655.0, 3050.0, 2444.0, 4700.0, 6700.0, 3860.0, 1272.0, 2161.0, 1185.0, 1177.0, 1290.0, 1560.0, 3001.0, 2250.0, 11568.0, 1215.0, 3610.0, 3390.0, 1912.0, 1562.0, 2000.0, 12000.0, 2303.0, 3750.0, 1751.0, 20845.0, 3346.0, 5935.0, 1207.0, 2573.0, 2950.0, 975.0, 10682.7, 3700.0, 3775.0, 1530.0, 21875.0, 16560.0, 4020.0, 5985.0, 1525.0, 2985.0, 12080.0, 5250.0, 9041.99, 3030.0, 2890.0, 3598.0, 1320.0, 1610.0, 2575.0, 1605.0, 1911.0, 4000.0, 15809.0, 14675.0, 3420.0, 5550.0, 1460.0, 1200.0, 2422.5, 2812.0, 5733.0, 1725.0, 1760.0, 1077.0, 2325.0, 1184.0, 9684.0, 2450.0, 3521.0, 2395.0, 1822.0, 6700.0, 6250.0, 1450.0, 8250.0, 1030.0, 3001.0, 1159.0, 1512.0, 1585.0, 2900.0, 5831.0, 4075.2, 2180.0, 1545.0, 1022.0, 4315.0, 1000.0, 1300.0, 3088.0, 1221.0, 1212.0, 9041.99, 1400.0, 1785.0, 6000.0, 4500.0, 3022.5, 2825.0, 1310.0, 3660.0, 1000.0, 2461.0, 2612.0, 1230.0, 2765.0, 1785.0, 1600.0, 3700.0, 7675.0, 6193.0, 2325.0, 1450.0, 11410.0, 1942.0, 1886.0, 990.0, 1925.0, 1459.0, 9750.0, 2945.0, 3627.0, 3224.75, 1400.0, 3850.0, 3803.0, 9750.0, 1102.0, 1512.0, 3670.0, 10600.0, 1200.0, 1860.0, 1000.0, 2655.0, 1077.0, 3088.0, 1212.0, 1400.0, 1081.0, 2025.0, 11568.0, 4300.0, 2580.0, 1237.0, 1000.0, 1897.0, 1193.0, 2580.0, 990.0, 3700.0, 2357.0, 2357.0, 1190.0, 1367.0, 1750.0, 1714.0, 1800.0, 2600.0, 3850.0, 2460.0, 1545.0, 2927.0, 2925.12, 1310.0, 1825.0, 1255.0, 1900.0, 3315.0, 1237.0, 1221.0, 2052.0, 6779.0, 2655.0, 3725.0, 16940.0, 1600.0, 1704.0, 1159.0, 1267.0, 4595.0, 1430.0, 2900.0, 4991.0, 6250.0, 15910.0, 3835.0, 6002.5, 3000.0, 1305.0, 1170.0, 3650.0, 2180.0, 1177.0, 2056.0, 2548.0, 2115.0, 2045.0, 3050.0, 2460.0, 2364.0, 2355.0, 7525.0, 1230.0, 1307.0, 2030.0, 1000.0, 1350.0, 7525.0, 1320.0, 2985.0, 1081.0, 1020.0, 2005.0, 1425.0, 1696.0, 2325.0, 4410.0, 1577.0, 7375.0, 2000.0, 1045.0, 3975.0, 1245.0, 2343.0, 2140.0, 1655.0, 1870.0, 1847.0, 1705.0, 2115.0, 13695.0, 2259.0, 1513.0, 1430.0, 1272.0, 4500.0, 3315.0, 3343.14, 1313.0, 2798.0, 2380.0, 4406.0, 3480.0, 1445.0, 2535.0, 1190.0, 2510.0, 1303.0, 2930.0, 4699.0, 1042.0, 1942.0, 2005.0, 1847.0, 4406.0, 1750.0, 8038.96, 2000.0, 6187.68, 2030.0, 1578.0, 2045.0, 1714.0, 1130.0, 1492.0, 5831.0, 1170.0, 5225.0, 5733.0, 10300.0, 10682.7, 1100.0, 2950.0, 1925.0, 6000.0, 1925.0, 1193.0, 1190.0, 20533.69, 10300.0] \n",
            "\n",
            "GRP_PROD_PH \n",
            "\n",
            "Outliers: [3654.0, 2085.0, 6750.0, 5000.0, 11955.0, 3000.0, 3535.0, 3380.0, 2590.0, 2450.15, 3447.31, 2000.0, 1600.0, 2000.0, 2500.0, 2500.0, 2000.0, 2000.0, 2018.0, 2500.0, 5125.0, 2018.0, 2018.0, 2015.0, 5000.0, 2018.0, 1675.0, 1756.5, 8000.0, 2500.0, 5000.0, 2017.0, 2572.0, 2017.0, 2500.0, 2017.0, 2018.0, 2017.0, 2275.0, 5000.0, 4000.0, 4700.0, 3291.0, 1600.0, 2016.0, 2416.0, 2016.0, 5050.0, 5000.0, 2000.0, 2016.0, 2016.0, 2016.0, 2016.0, 2016.0, 2016.0, 2016.0, 2016.0, 2016.0, 5106.0, 5000.0, 2680.0, 2018.0, 2019.0, 5000.0, 2383.0, 2000.0, 3050.0, 5676.0, 6000.0, 10000.0, 2450.0, 5000.0, 7501.0, 2500.0, 3700.0, 4500.0, 2872.2, 2066.0, 2017.0, 2018.0, 3471.0, 3025.68, 6200.0, 2000.0, 9450.0, 2215.0, 2000.0, 3500.0, 23120.0, 1879.65, 6175.0, 5225.0, 6500.0, 7529.0, 5480.0, 20082.0, 2018.0, 2231.0, 4293.0, 3103.0, 5724.0, 2111.0, 2851.0, 2851.0, 13267.67, 17000.0, 5000.0, 2247.35, 6127.0, 1700.0, 3413.0, 1650.0, 11725.0, 2850.0, 2095.0, 7950.0, 4325.0, 3300.0, 2421.0, 3620.0, 5720.0, 1670.0, 2750.0, 1783.0, 3112.15, 12000.0, 14000.0, 6125.0, 6175.0, 3025.0, 1724.0, 1657.0, 3960.0, 2054.0, 3370.0, 6540.0, 1970.0, 2757.0, 2600.0, 3395.0, 4775.0, 2600.0, 3800.0, 2253.0, 2075.0, 6100.0, 2205.0, 6125.0, 7399.8, 7368.0, 12500.0, 6275.0, 6065.0, 3274.0, 9365.0, 4805.0, 2740.0, 3072.0, 3150.0, 8025.0, 15145.0, 2845.0, 8900.0, 8900.0, 4474.0, 3280.0, 8725.0, 20325.0, 8695.0, 6370.0, 13267.67, 4370.0, 2001.0, 7960.0, 2771.0, 2750.0, 21350.0, 9495.0, 1952.5, 4045.0, 6300.0, 2205.0, 8020.0, 3654.0, 2085.0, 11725.0, 16025.0, 6352.0, 5060.0, 4500.0, 2950.0, 21342.08, 2360.0, 2329.0, 3915.0, 2275.0, 3285.0, 1650.0, 1650.0, 3500.0, 2410.0, 3616.0, 1698.0, 1766.0, 3285.0, 5295.0, 4775.0, 7220.0, 6304.0, 5260.0, 1635.0, 1890.0, 11725.0, 5220.0, 1868.0, 2175.0, 6075.0, 1675.0, 1915.0, 4709.4, 2538.0, 13375.0, 2784.0, 5473.0, 7885.0, 2850.0, 2717.0, 2461.0, 4040.0, 15715.0, 1885.0, 1875.0, 2156.0, 3120.0, 1820.0, 2247.35, 2100.0, 11955.0, 4484.0, 6410.0, 4925.0, 3753.0, 3222.0, 4106.0, 2175.0, 7220.0, 2290.0, 2029.17, 2350.0, 2700.0, 2175.0, 1610.0, 2750.0, 3710.0, 2190.0, 6600.0, 5925.0, 1755.0, 3103.0, 7279.0, 5070.0, 3380.0, 3616.0, 5350.0, 1865.0, 3252.0, 3110.0, 5398.0, 15550.0, 6485.0, 4910.0, 5200.0, 4896.34, 12295.83, 5565.0, 12010.0, 1805.0, 2000.0, 4200.0, 3720.0, 7032.5, 3098.0, 21311.0, 2419.0, 1621.0, 8850.0, 2590.0, 23120.0, 4120.0, 6205.0, 8650.0, 3085.0, 1825.0, 2700.0, 3167.0, 6350.0, 3400.0, 13630.0, 8620.0, 6410.0, 1610.0, 6344.0, 15145.0, 3025.68, 13950.0, 5537.0, 3750.0, 8620.0, 9350.0, 7895.0, 7435.0, 4030.0, 2134.0, 6800.0, 2500.0, 3212.0, 8025.0, 2517.0, 3872.0, 5530.0, 2600.0, 5720.0, 3410.0, 1685.0, 5480.0, 5133.0, 2170.0, 7270.0, 12500.0, 19340.0, 3098.0, 2825.0, 2175.0, 2900.0, 2600.0, 23779.92, 2538.0, 2040.0, 1945.0, 10425.0, 6750.0, 4409.5, 6700.0, 2329.0, 1890.0, 1766.0, 6844.24, 1900.0, 3925.0, 4100.0, 5842.0, 2402.0, 4703.0, 3975.0, 2400.0, 9725.0, 7100.0, 8650.0, 3395.0, 2757.0, 6300.0, 1808.33, 2900.0, 2750.0, 2869.0, 2250.0, 5670.0, 2250.0, 5400.0, 6922.9, 3085.0, 4753.0, 9450.0, 2180.0, 5577.0, 1868.0, 3850.0, 3620.0, 2515.0, 2650.0, 2175.0, 2290.0, 3975.0, 9119.0, 1698.0, 4894.9, 1764.0, 1730.0, 4100.0, 11725.0, 1879.65, 1579.0, 6600.0, 1728.0, 3670.0, 2070.0, 1687.0, 1950.0, 2179.0, 10695.0, 2134.0, 14374.0, 2885.0, 6950.0, 2323.0, 1610.0, 13004.9, 21650.0, 3720.0, 2784.0, 15559.8, 2028.0, 1725.0, 1825.0, 6950.0, 6370.0, 20082.0, 15559.8, 1725.0, 7425.0, 2290.0, 3700.0, 7960.0, 2025.0, 2664.0, 2652.0, 1713.0, 2000.0, 5400.0, 2400.0, 3535.0, 2001.0, 6644.0, 13800.0, 3050.0, 2175.0, 2040.0, 13004.9, 1970.0, 6205.0, 3700.0, 4315.0, 3750.0, 3167.0, 5186.0, 10825.0, 5796.2, 2486.9, 1748.0, 1600.0, 7100.6, 6700.0, 2204.5, 1865.0, 3288.0, 4370.0, 5410.0, 6300.0, 2700.0, 3120.0, 2029.17, 2517.0, 2500.0, 2100.0, 2231.0, 3581.0, 15550.0, 10825.0, 7529.0, 1600.0, 2563.0, 1575.0, 2625.0, 2290.0, 2250.0, 2100.0, 6040.0, 5390.0, 15389.9, 5650.0, 2519.0, 1750.0, 6304.0, 5398.0, 1835.0, 2093.0, 3813.0, 3194.0, 1600.0, 4484.0, 1755.0, 1750.0, 4790.0, 2185.0, 1752.0, 6100.0, 1900.0, 1653.0, 3252.0, 4894.9, 2684.55, 6595.0, 2000.0, 2685.0, 1756.5, 5925.0, 1950.0, 9119.0, 6644.0, 6540.0, 12010.0, 3291.0, 4315.0, 3960.0, 2970.0, 2950.0, 1687.0, 2546.0, 20220.0, 2750.0, 2515.0, 4700.0, 1675.0, 3194.0, 6075.0, 11310.0, 11310.0, 3288.0, 3000.0, 3501.0, 2860.0, 3050.0, 2910.0, 6250.0, 1795.0, 10000.0, 6481.0, 1875.0, 2239.0, 2655.0, 1950.0, 20499.28, 2175.0, 2625.0, 1675.0, 4790.0, 3872.0, 5410.0, 13000.0, 5065.0, 11370.0, 2239.0, 2475.0, 1950.0, 2028.0, 6352.0, 2655.0, 2500.0, 5525.0, 10803.0, 2013.0, 10000.0, 6800.0, 2113.0, 2500.0, 3459.0, 5525.0, 2453.0, 2016.0, 10803.0, 5200.0, 2625.0, 10425.0, 3750.0, 2000.0, 1635.0, 5796.2, 5000.0, 3447.31, 7399.8, 4000.0, 2519.0, 11370.0, 4000.0] \n",
            "\n",
            "GRP_PROD_SW \n",
            "\n",
            "Outliers: [1000.0, 1000.0, 1000.0, 3700.0, 3000.0, 1000.0, 1000.0, 900.0, 900.0, 2100.0, 900.0, 1200.0, 1010.0, 925.0, 1420.0, 2060.0, 1000.0, 5000.0, 1000.0, 2500.0, 3300.0, 1594.0, 2500.0, 2055.0, 1000.0, 2500.0, 1300.0, 2375.0, 975.0, 2300.0, 4500.0, 10000.0, 4630.0, 1000.0, 10164.4, 1700.0, 1335.0, 975.0, 13000.0, 1300.0, 1030.0, 965.0, 965.0, 10164.4, 1600.0, 2106.0, 2110.0, 2587.0, 8159.0, 1650.0, 1025.0, 3100.0, 8159.0, 1000.0, 7704.74, 1405.0, 4630.0, 12000.0, 4353.77, 2472.0, 4925.0, 1658.0, 10750.0, 850.0, 1500.0, 1608.5, 1340.0, 1107.0, 875.0, 4500.0, 2520.09, 2450.0, 1000.0, 9250.0, 5000.0, 1453.0, 840.0, 1605.0, 1500.0, 6102.0, 3313.0, 1355.0, 1000.0, 1355.0, 2337.0, 1700.0, 1658.0, 885.0, 2135.0, 1085.0, 1527.0, 3192.0, 1720.0, 1200.0, 2505.0, 1254.0, 11989.0, 3475.0, 2000.0, 895.0, 1695.0, 1120.0, 2785.0, 1380.0, 11989.0, 2627.0, 1210.0, 875.0, 2458.0, 923.0, 1318.0, 4925.0, 1080.0, 2472.0, 985.0, 1000.0, 1280.0, 3000.0, 1365.0, 1776.0, 1854.25, 962.0, 850.0, 1550.0, 1675.0, 2650.0, 25000.0, 1000.0, 1200.0, 7130.0, 1453.0, 3000.0, 1351.0, 1695.0, 7307.0, 1025.0, 2587.0, 3192.0, 1660.0, 2196.0, 1000.0, 3915.0, 1764.5, 1700.0, 9250.0, 1200.0, 850.0, 979.0, 1801.0, 1400.0, 1594.0, 6750.0, 1837.0, 3915.0, 3575.0, 1619.45, 5206.0, 1854.25, 1750.0, 1318.0, 956.0, 1856.0, 1330.0, 1000.0, 3300.0, 1060.0, 7130.0, 2230.0, 2300.0, 5465.0, 2230.0, 2527.0, 4353.77, 2100.0, 16755.0, 2325.0, 3787.0, 2470.0, 2650.0, 25000.0, 3475.0, 2086.0, 1900.0, 9164.69, 1210.0, 1310.0, 2570.0, 1329.0, 1535.0, 1570.0, 1500.0, 1018.0, 7445.0, 1608.5, 1195.0, 1100.0, 1110.0, 1837.0, 2499.0, 1420.0, 5000.0, 1325.0, 1700.0, 7307.0, 864.0, 1003.17, 1100.0, 2760.0, 2200.0, 1400.0, 864.0, 944.0, 1276.0, 7500.0, 1225.0, 2370.0, 2656.0, 1400.0, 1535.0, 1385.0, 1595.0, 7445.0, 1242.0, 2420.0, 1675.0, 1242.0, 1100.0, 1075.0, 1715.0, 1416.5, 3313.0, 6527.0, 4250.0, 960.0, 1150.0, 16000.0, 1615.0, 1000.0, 1416.5, 1351.0, 2196.0, 6750.0, 7500.0, 2470.0, 1050.0, 10750.0, 2400.0, 1107.0, 2420.0, 910.0, 1150.0, 1385.0, 1000.0, 867.0, 4680.0, 1615.0, 1930.0, 1090.0, 8150.0, 3975.0, 9164.69, 12750.0, 1000.0, 5750.0, 1500.0, 1535.0, 2000.0, 6413.89, 1000.0, 1400.0, 1080.0, 5000.0, 5000.0, 3250.0, 1900.0, 1408.0, 2458.0, 1037.0, 840.0, 2000.0, 1190.0, 1302.0, 1100.0, 1003.17, 2400.0, 1075.0, 1700.0, 925.0, 1340.0, 1358.0, 3700.0, 1365.0, 18274.0, 2200.0, 1930.0, 4250.0, 1527.0, 3446.0, 3446.0, 1122.0, 1275.0, 1879.0, 1623.0, 875.0, 1720.0, 1623.0, 3525.0, 1229.0, 2440.0, 1040.0, 2375.0, 1275.0, 1650.0, 1358.0, 1776.0, 2886.0, 1100.0, 2110.0, 2325.0, 1030.0, 1100.0, 962.0, 5206.0, 5465.0, 2570.0, 1000.0, 1000.0, 20000.0, 3700.0, 5400.0, 2149.52, 2337.0, 5000.0, 1595.0, 5000.0, 11000.0, 1535.0, 1040.0, 1100.0, 1535.0, 3000.0] \n",
            "\n",
            "GRP_PROD_TS \n",
            "\n",
            "Outliers: [9697.0, 3185.0, 3416.0, 3590.0, 4398.0, 9136.0, 2570.0, 11649.0, 3579.64, 4240.0, 5754.0, 7030.0, 5758.0, 3600.0, 2959.09, 4944.01, 3010.0, 9618.3, 9136.0, 3010.0, 2659.0, 5761.52, 2751.5, 7495.0, 3447.5, 5010.0, 5510.0, 15870.05, 5468.0, 3417.0, 4015.0, 2796.0, 2557.0, 4005.0, 5900.0, 5807.0, 5570.02, 2937.5, 2705.0, 3158.0, 8726.0, 6710.0, 2977.0, 4721.26, 5628.0, 4238.0, 8770.0, 2927.01, 7695.0, 4710.0, 3075.0, 3418.0, 4892.0, 2700.0, 3345.0, 3010.0, 10616.0, 3100.0, 3095.0, 2943.67, 4115.0, 3325.0, 3214.5, 5169.0, 3268.38, 2775.0, 4925.0, 2617.0, 2570.0, 3075.0, 5932.0, 2557.0, 10915.0, 9666.0, 14879.0, 3866.0, 3373.0, 4012.0, 2724.0, 4210.0, 3410.94, 4634.0, 5799.0, 4450.0, 3745.0, 2915.0, 4488.46, 3000.0, 9110.0, 3212.0, 3247.0, 3956.0, 3268.38, 2971.0, 5011.0, 4012.0, 5200.0, 5900.0, 7990.0, 4240.0, 2988.0, 3330.69, 7691.0, 3625.0, 2720.03, 3120.0, 3803.0, 3200.0, 2959.09, 2971.0, 7541.0, 2690.0, 4038.0, 2758.02, 9523.5, 5090.0, 3058.0, 3729.0, 2640.0, 5820.0, 3192.0, 5200.0, 3668.68, 2742.0, 7546.77, 5484.0, 4710.0, 5238.0, 4862.0, 2559.0, 2701.0, 3155.0, 3435.0, 3595.0, 4408.0, 6446.54, 7555.01, 7234.37, 8604.66, 8255.01, 4045.0, 6014.0, 4783.0, 6051.0, 3522.0, 2644.0, 11730.0, 3395.0, 4132.0, 2747.0, 3395.0, 5799.0, 5560.44, 8788.85, 4632.0, 4492.0, 3678.5, 3224.2, 2555.0, 5411.0, 3009.0, 17675.0, 3506.0, 3723.0, 7730.0, 3483.0, 4396.0, 3135.0, 3055.0, 5168.0, 3182.7, 7001.0, 2797.52, 9381.0, 3196.0, 3590.0, 3153.0, 4630.0, 3480.0, 2701.0, 3025.5, 4288.0, 3795.0, 3016.0, 3098.0, 3355.0, 3983.0, 2628.0, 6850.0, 5323.0, 5168.0, 2700.0, 3658.0, 3356.01, 5890.0, 2770.0, 9802.0, 6621.26, 7691.0, 2775.0, 2800.0, 3192.0, 4132.0, 3668.68, 5754.0, 9666.0, 4140.0, 2960.0, 2758.02, 5408.0, 6014.0, 3093.0, 5090.0, 11570.0, 2672.0, 2720.0, 3015.0, 4458.0, 3047.05, 5844.05, 8655.0, 3898.0, 3460.0, 5470.0, 7495.0, 19680.02, 3493.0, 3166.0, 8118.0, 6185.5, 9210.05, 3165.01, 13631.0, 4344.0, 2979.0, 3185.0, 3657.0, 4485.0, 3605.0, 2593.0, 5205.98, 10134.0, 5320.0, 3471.0, 7257.5, 7541.0, 4603.01, 3026.0, 9697.0, 3311.5, 3175.0, 3723.0, 8697.0, 3983.0, 2601.0, 3729.0, 3469.5, 9312.1, 6194.4, 4569.0, 3292.0, 6896.05, 2996.0, 3634.0, 4290.0, 4381.0, 2620.02, 3619.01, 3605.0, 2915.0, 8415.0, 5460.55, 4306.0, 3443.0, 2826.0, 5296.0, 2785.0, 5367.0, 10655.0, 5296.0, 3417.0, 5207.0, 2641.0, 5391.05, 6640.0, 4585.0, 10416.04, 5493.0, 3263.0, 3635.0, 10922.01, 4605.0, 3439.01, 5587.0, 6733.5, 5370.5, 3909.0, 8230.0, 2785.0, 3095.0, 8335.0, 3747.0, 5120.01, 4462.05, 2677.14, 8477.6, 3055.91, 3370.0, 4575.0, 2630.01, 3421.01, 3830.0, 7420.0, 3196.0, 2583.0, 7337.19, 2797.52, 3421.01, 3961.0, 3635.0, 7445.0, 4547.01, 2725.0, 5540.01, 4026.0, 3668.0, 2841.01, 4120.0, 3909.0, 3014.56, 4866.0, 6194.4, 13631.0, 8535.0, 3432.0, 2585.0, 4547.01, 3105.0, 3542.02, 7445.0, 6480.0, 4050.0, 3285.0, 4380.0, 8604.33, 4815.0, 2902.02, 2789.0, 11713.0, 3366.0, 4340.0, 2902.02, 11971.0, 5138.0, 3123.0, 7990.0, 4080.06, 2620.0, 5383.5, 4266.2, 9474.5, 4510.0, 3108.0, 3305.0, 7500.0, 2555.0, 3030.0, 3832.0, 4000.0, 8385.01, 5068.05, 2677.0, 2715.0, 2950.0, 3305.0, 3196.0, 4355.0, 8120.02, 3247.0, 5570.02, 5468.0, 3968.03, 3455.01, 17398.0, 4560.02, 5355.0, 4050.0, 5510.0, 4635.0, 4355.0, 3003.01, 3780.0, 4050.0, 2985.0, 2841.01, 2810.0, 5540.01, 7989.0, 3724.02, 12419.0, 2974.0, 2656.5, 3365.0, 2602.56, 3455.01, 3677.0, 5425.51, 2898.34, 3183.42, 4347.5, 4728.67, 9170.5, 4454.1, 3108.0, 5747.0, 2602.56, 4306.0, 3345.0, 8295.0, 2874.0, 3605.0, 6480.0, 11815.01, 3105.0, 3300.0, 7444.0, 3403.0, 8043.0, 3865.94, 4830.0, 3776.06, 5885.0, 2724.0, 3166.55, 5960.0, 6850.0, 2790.0, 3555.0, 6120.56, 2735.51, 2932.0, 7029.0, 3487.05, 3578.0, 5224.0, 10240.0, 3768.0, 6725.0, 3757.0, 5894.0, 4045.0, 3373.05, 5214.72, 7220.0, 9170.5, 3619.01, 5707.0, 2981.02, 5425.51, 9381.0, 5372.0, 12088.0, 8459.12, 3525.0, 3366.0, 2652.5, 2838.0, 4391.36, 10344.77, 3668.0, 2800.0, 4989.42, 3628.0, 8092.98, 2560.0, 4330.5, 4686.0, 3552.95, 4423.09, 5830.0, 3552.95, 2873.0, 2620.0, 2835.0, 3803.0, 4780.0, 8726.0, 5110.0, 7029.0, 8120.02, 2759.0, 3116.0, 7989.0, 2840.0, 16409.0, 8513.0, 2993.01, 5005.03, 9727.69, 3471.0, 3019.0, 6760.0, 2586.0, 5364.25, 3166.0, 2854.0, 4010.0, 3599.0, 3883.5, 7699.45, 3606.0, 2596.0, 3870.0, 3220.0, 2735.0, 5734.0, 13016.0, 3122.0, 4170.0, 3207.75, 3658.0, 6571.0, 5633.0, 4170.0, 4665.0, 4398.0, 3126.0, 6714.78, 2728.0, 5633.0, 3214.5, 6186.0, 5597.74, 11815.01, 4239.05, 3255.0, 3435.0, 15833.0, 6428.0, 4515.0, 18600.0, 3645.0, 4550.01, 3014.56, 3693.0, 5350.0, 2677.14, 3218.02, 4666.0, 3929.0, 3929.0, 3362.0, 8558.07, 3506.05, 2626.0, 4422.0, 4262.0, 4005.0, 5197.0, 2835.0, 10979.06, 3680.0, 2835.0, 3809.1, 4305.38, 3795.0, 6763.0, 5625.8, 9333.0, 2690.0, 3620.38, 15286.05, 4126.68, 5762.52, 2808.0, 3780.0, 3019.0, 2917.0, 18899.0, 3515.01, 4802.0, 2838.0, 8225.0, 3047.05, 5547.0, 4605.0, 4714.0, 3066.0, 2619.5, 2856.0, 3925.1, 5391.05, 2600.0, 3470.0, 10410.01, 4847.03, 2766.0, 5761.52, 3004.0, 3460.0, 4866.0, 3316.0, 3416.0, 7934.0, 5243.0, 2703.02, 4721.26, 3519.0, 7740.0, 3545.0, 6840.03, 4970.0, 3224.2, 11971.0, 2688.0, 3754.0, 8513.0, 3864.01, 3980.0, 2981.0, 3201.0, 4492.04, 3201.0, 22003.0, 4295.0, 6076.0, 8295.0, 3378.5, 6387.5, 3830.0, 4923.01, 2728.0, 4293.0, 6074.07, 3751.0, 8535.0, 2647.0, 3040.0, 2839.49, 7794.0, 4068.0, 4073.5, 7093.0, 9240.0, 7615.0, 2752.05, 3463.0, 6626.06, 2962.0, 3860.11, 3026.0, 22329.0, 9827.8, 3026.0, 11695.0, 12197.5, 3765.0, 6640.0, 2645.0, 8069.0, 5810.0, 3637.0, 5233.57, 4488.46, 9833.0, 4666.0, 6055.0, 4462.05, 3432.0, 5295.0, 3330.69, 7480.0, 3293.0, 2696.0, 7500.0, 2620.01, 12088.0, 19494.0, 2703.02, 5355.0, 6600.0, 2866.0, 4053.0, 3980.0, 2560.0, 4454.1, 6840.03, 2877.0, 2709.6, 2965.0, 4290.0, 3465.5, 4685.0, 10162.89, 3370.0, 3566.07, 3113.0, 5068.05, 3833.0, 2831.84, 2840.0, 10000.0, 3465.0, 8255.01, 4800.0, 3958.0, 19494.0, 3870.0, 3315.0, 9160.0, 3545.0, 2789.0, 2927.01, 5408.0, 3616.0, 3695.0, 2845.0, 4349.0, 3506.05, 5747.0, 3416.06, 4068.0, 2960.0, 6090.03, 8397.33, 2962.0, 4191.0, 3956.0, 4923.01, 3775.0, 6074.07, 4031.5, 5430.0, 4340.0, 4572.0, 5090.0, 2555.0, 7593.0, 13415.0, 5844.05, 4266.2, 2625.0, 10365.0, 3865.94, 3393.0, 3813.5, 4126.08, 3620.0, 3281.5, 12125.0, 3845.0, 3519.0, 3182.7, 3254.85, 3904.0, 2597.0, 4635.0, 3640.0, 4038.0, 9693.36, 7220.0, 3007.5, 2795.0, 3316.0, 3019.0, 5670.0, 5670.0, 3164.39, 3678.5, 12005.0, 3322.0, 3015.0, 5707.0, 5690.0, 3949.01, 4288.0, 3325.0, 3693.0, 5467.0, 4798.0, 4126.08, 5226.0, 12775.0, 12775.0, 9802.0, 3560.5, 2685.0, 3663.0, 2585.0, 5547.0, 6831.0, 2720.0, 3465.0, 2719.0, 2620.0, 2647.0, 4973.0, 3632.0, 4228.0, 5643.02, 4660.0, 6786.0, 4140.0, 15870.05, 7420.0, 3025.5, 8385.01, 8178.0, 4190.0, 4685.0, 3105.07, 3983.0, 4325.0, 2626.0, 3375.0, 2853.01, 2879.0, 3166.55, 4250.0, 2845.0, 5226.0, 6713.5, 4630.0, 2680.0, 2700.01, 3838.0, 3828.0, 8858.58, 2785.0, 5805.05, 3765.0, 3066.0, 5628.0, 2565.0, 4318.0, 7695.0, 13415.0, 4080.0, 2791.0, 5597.74, 2592.0, 3866.0, 3788.0, 4170.51, 2630.01, 3964.75, 2985.0, 12783.0, 7660.0, 3835.0, 3680.0, 3375.0, 4240.0, 3035.0, 2675.0, 3663.0, 4010.0, 4603.01, 3782.0, 6713.5, 2890.0, 4875.0, 3961.0, 3397.0, 2750.0, 2750.0, 3290.0, 4752.0, 4538.0, 3233.92, 3539.06, 8178.0, 3432.0, 3823.0, 8825.62, 10979.06, 7415.0, 5475.0, 2981.02, 3285.0, 10856.0, 5700.0, 2660.0, 3555.0, 3300.0, 3122.0, 2890.0, 6831.0, 3470.0, 4665.0, 4572.0, 8321.0, 4892.0, 3460.0, 8380.0, 5090.0, 7593.0, 2975.5, 3038.78, 2936.0, 7093.0, 8321.0, 3299.0, 2765.05, 2839.49, 2690.0, 4274.5, 3378.0, 4575.0, 5050.0, 3968.03, 4325.0, 5755.0, 10134.0, 2831.84, 3809.1, 3070.0, 9210.05, 2654.0, 3579.64, 12878.0, 5144.0, 11283.0, 4800.0, 3395.0, 4560.0, 9160.0, 3634.0, 2596.0, 5417.0, 4068.0, 2877.0, 3185.0, 5805.05, 3145.0, 3031.0, 6186.37, 6186.0, 8745.0, 2614.05, 3585.0, 3592.5, 5205.98, 5295.0, 3299.0, 3539.06, 3620.0, 2981.0, 3756.0, 4647.0, 2563.0, 3117.5, 3946.26, 9471.0, 4549.0, 8459.12, 4381.0, 3318.37, 3055.91, 2580.0, 3145.0, 12005.0, 4020.0, 5138.0, 4570.0, 2723.0, 5452.64, 3397.0, 2760.0, 5820.0, 6055.0, 2846.5, 4620.0, 3718.0, 2738.01, 5224.0, 2679.0, 8045.0, 3578.0, 3290.0, 3756.0, 2620.0, 3565.0, 2853.0, 12125.0, 3785.0, 2720.0, 3988.01, 3578.0, 3378.0, 3946.26, 2866.0, 10808.0, 3823.0, 5620.32, 2725.0, 5010.0, 4970.0, 3525.0, 5493.0, 3616.0, 2791.0, 3355.0, 2993.01, 6387.5, 6076.0, 3155.0, 2735.5, 8858.58, 3255.0, 5700.0, 8006.0, 4989.42, 8092.98, 3751.0, 3833.0, 2838.0, 2581.5, 2980.0, 3595.0, 3436.0, 4605.0, 3101.0, 3832.0, 2660.0, 6571.0, 9080.0, 2625.0, 2975.5, 3315.0, 3463.0, 2765.05, 14648.0, 18122.0, 3658.0, 4015.0, 3953.68, 3038.78, 4605.0, 3716.0, 7271.0, 2751.5, 3755.0, 3016.0, 4190.0, 4238.0, 2752.05, 6417.0, 6400.0, 2628.0, 11801.5, 2950.0, 10513.0, 3175.0, 3608.5, 4549.0, 4352.0, 3512.02, 9333.0, 17169.0, 10808.0, 2765.0, 2720.0, 3941.0, 3555.0, 6600.0, 2735.5, 7063.06, 12419.0, 3101.0, 3393.0, 4347.5, 4391.0, 2573.0, 4020.0, 3469.5, 3973.0, 6417.0, 3026.0, 2628.0, 3042.29, 7108.0, 9195.0, 5214.72, 9471.0, 4305.38, 8069.0, 3724.02, 3310.01, 2699.0, 2617.0, 4290.0, 2719.0, 7934.0, 20300.07, 8118.0, 4611.0, 5875.0, 7063.06, 9727.69, 11831.0, 6847.5, 8745.0, 4293.0, 2830.0, 3545.0, 3030.0, 3113.0, 8225.0, 16409.0, 3125.0, 7615.0, 2800.0, 3031.0, 3088.0, 4262.0, 3180.0, 7271.0, 3625.0, 20013.0, 3052.01, 9312.1, 2738.01, 2558.0, 2723.0, 12197.5, 4193.0, 2860.0, 3838.0, 2810.0, 3908.0, 3052.01, 8010.0, 5350.0, 4240.0, 4239.06, 10410.01, 3650.0, 5320.0, 5890.0, 11801.5, 6090.03, 7660.0, 5230.0, 3915.1, 7337.19, 8010.0, 2680.0, 7257.5, 6276.53, 4600.0, 6185.5, 3254.85, 4660.0, 3883.0, 5372.0, 3210.0, 18122.0, 2965.0, 3813.5, 3777.0, 4031.5, 3592.5, 3424.01, 6708.83, 3566.07, 3973.0, 4830.0, 8604.66, 9110.0, 2565.0, 8604.33, 5014.0, 2933.0, 4862.0, 22003.0, 5960.0, 4569.0, 2719.0, 6537.91, 11500.0, 2853.0, 3305.0, 5625.8, 8825.62, 4405.0, 4073.5, 2844.0, 3438.37, 5224.0, 2600.0, 2720.0, 4405.0, 3170.0, 2850.0, 8558.07, 2759.0, 2720.0, 7009.5, 3148.0, 3512.02, 3042.29, 4510.0, 3418.0, 2850.0, 4296.0, 6725.0, 4025.84, 3755.0, 5444.0, 4318.0, 3418.0, 4572.05, 2971.0, 6910.0, 4063.0, 6945.0, 4025.0, 8570.0, 5276.05, 3561.0, 5276.05, 4075.0, 14648.0, 3170.0, 4572.05, 8415.0, 4344.0, 3792.0, 4848.51, 2747.0, 3126.0, 3599.5, 3151.0, 4638.01, 10915.0, 4986.0, 5225.0, 6733.5, 5775.0, 5775.0, 6431.0, 6792.0, 3883.0, 5815.0, 2650.0, 3776.06, 3883.5, 2641.0, 3327.56, 4349.0, 4757.0, 2555.0, 14291.67, 5927.0, 9908.0, 2592.0, 4946.02, 3310.01, 8000.0, 19680.02, 5958.0, 3305.0, 2660.0, 3130.0, 5958.02, 4876.0, 6446.54, 3295.0, 6411.99, 4260.0, 11488.08, 11713.0, 3285.0, 2720.03, 3775.0, 4728.67, 3171.0, 18899.0, 3880.0, 4053.0, 3620.0, 4020.0, 11695.0, 2980.0, 2652.5, 6051.0, 3010.0, 4175.0, 5320.0, 4745.05, 3378.5, 4611.0, 3285.0, 2621.0, 3669.67, 3145.0, 3451.0, 10162.89, 2720.0, 3677.0, 5207.0, 10675.55, 4714.0, 4848.51, 3657.0, 3418.0, 2619.5, 4200.0, 3416.06, 8477.6, 5016.01, 3220.0, 6896.05, 5762.52, 2840.0, 7320.0, 2916.0, 2860.0, 3561.0, 5367.0, 2600.0, 5367.0, 3906.0, 3015.0, 9426.0, 5587.0, 3153.0, 2844.0, 3218.02, 7695.02, 2680.0, 4847.03, 7108.0, 3785.0, 6708.83, 4638.01, 4946.02, 2879.0, 3035.0, 3171.0, 2761.38, 4391.0, 4876.0, 3953.68, 5690.0, 4164.0, 4164.0, 2647.62, 9523.5, 3493.5, 3365.0, 4272.0, 4272.0, 5392.0, 2720.0, 7520.0, 8335.0, 4986.0, 10240.0, 4550.01, 8000.0, 6457.0, 3480.0, 10922.01, 3578.0, 2990.0, 5688.0, 2608.0, 10080.0, 3155.0, 6530.0, 3151.0, 9462.0, 6770.0, 2808.0, 3210.0, 3435.0, 2874.0, 3765.0, 3625.0, 2932.0, 8043.0, 4400.0, 5470.0, 6945.0, 11283.0, 7009.5, 14879.0, 6792.0, 3098.0, 3180.0, 7030.0, 9618.3, 3455.0, 4428.0, 6431.0, 7521.0, 3487.05, 10760.0, 7555.01, 3983.0, 3293.0, 22329.0, 4575.0, 7444.0, 7699.45, 2709.6, 4301.0, 3125.0, 7234.37, 3197.0, 16346.58, 4228.0, 3311.5, 3617.5, 4492.0, 7356.0, 4301.0, 5364.25, 3864.01, 2555.0, 4453.0, 11488.08, 3740.78, 5927.0, 3183.42, 2701.0, 10760.0, 4757.0, 4080.0, 3001.0, 4988.94, 2728.0, 4485.0, 5120.0, 11570.0, 7356.0, 2590.0, 17169.0, 4625.0, 5807.0, 3105.07, 3362.0, 4780.0, 3555.0, 3768.0, 5932.0, 15035.0, 4505.0, 2935.0, 6710.0, 3000.0, 3001.0, 3628.0, 4260.0, 11831.0, 4505.0, 9102.0, 3265.0, 3370.0, 3418.0, 3165.0, 3632.0, 3220.0, 4453.0, 3650.0, 2879.0, 5460.55, 3158.0, 3757.0, 4174.06, 5758.0, 7480.0, 2916.0, 2639.0, 3803.0, 3881.0, 3908.0, 2700.0, 3123.09, 5444.0, 6776.0, 2881.0, 2593.0, 3093.0, 2846.5, 2688.0, 7320.0, 2775.0, 3693.0, 3220.0, 2654.0, 3373.0, 4191.0, 3003.01, 3075.0, 4600.0, 7265.0, 3135.0, 6240.0, 2736.0, 9693.36, 3777.0, 4150.0, 2979.0, 5132.0, 18600.0, 2712.0, 4115.0, 3004.0, 4150.0, 2736.0, 10969.36, 5958.0, 2800.0, 3362.0, 3015.0] \n",
            "\n",
            "GRP_PROD_UG \n",
            "\n",
            "Outliers: [3750.0, 1000.0, 2000.0, 500.0, 2000.0, 500.0, 600.0, 2000.0, 1500.0, 500.0, 600.0, 700.0, 3000.0, 500.0, 610.0, 500.0, 2500.0, 1000.0, 550.0, 2500.0, 1150.0, 4500.0, 1000.0, 500.0, 600.0, 500.0, 500.0, 500.0, 1900.0, 600.0, 4500.0, 5500.0, 2500.0, 1000.0, 1000.0, 9000.0, 500.0, 1000.0, 400.0, 700.0, 5000.0, 550.0, 610.0, 600.0, 15000.0, 600.0, 1400.0, 700.0, 625.0, 475.0, 14289.0, 500.0, 1000.0, 650.0, 5000.0, 600.0, 700.0, 1000.0, 1000.0, 500.0, 2500.0, 10000.0, 500.0, 600.0, 500.78, 14289.0, 2500.0, 500.0, 3000.0, 500.0, 10000.0, 1400.0, 750.0, 1150.0, 1000.0, 1900.0, 750.0, 2000.0, 500.0, 1000.0, 1000.0] \n",
            "\n",
            "GRP_PROD_VS \n",
            "\n",
            "Outliers: [1000.0, 1649.0, 1649.0, 1479.0, 1084.0, 2629.0, 1079.0, 2800.0, 979.0, 1084.0, 1229.0, 979.0, 1229.0, 1079.0, 2229.0, 1429.0, 2629.0, 1494.0, 1250.0, 1050.0, 1260.0, 1034.0, 1050.0, 1229.0, 3200.0, 1050.0, 2129.0, 1044.0, 1150.0, 1260.0, 1044.0, 1297.0, 6229.0, 1629.0, 7829.0, 7829.0, 1044.0, 1129.0, 1529.0, 944.0, 1629.0, 6229.0, 1000.0, 2834.0, 10579.0, 1129.0, 2729.0, 1711.0, 1044.0, 5004.0, 1729.0, 1000.0, 10629.0, 1229.0, 2904.0, 1129.0, 1000.0, 7304.0, 1000.0, 5004.0, 1129.0, 2504.0, 944.0, 10000.0, 7604.0, 6699.0, 1329.0, 1589.0, 2979.0, 1129.0, 1779.0, 2065.0, 10579.0, 945.0, 2504.0, 1479.0, 2629.0, 3179.0, 2479.0, 1100.0, 3245.0, 1199.0, 1161.0, 2479.0, 1179.0, 2979.0, 1244.0, 6519.0, 1304.0, 3959.0, 1250.0, 1179.0, 1229.0, 1209.0, 1161.0, 2783.0, 2904.0, 1199.0, 1158.0, 999.0, 1129.0, 2729.0, 1494.0, 1304.0, 6519.0, 2783.0, 10144.0, 10000.0, 4915.61, 2354.0, 9854.0, 3000.0, 1334.0, 4779.0, 1544.0, 1494.0, 9854.0, 1159.0, 3179.0, 1129.0, 1129.0, 2400.0, 1000.0, 5010.0, 2125.0, 1050.0, 1404.0, 2509.0, 1129.0, 1000.0, 1129.0, 959.0, 2258.0, 3974.0, 1100.0, 3974.0, 3200.0, 965.0, 3630.0, 2258.0, 2834.0, 1229.0, 959.0, 1229.0, 1114.0, 1114.0, 979.0, 979.0, 985.07, 1500.0, 1030.0, 1000.0, 1168.0, 2837.0, 1355.0, 2418.0, 2837.0, 1000.0, 1168.0, 1297.0, 2042.0, 1168.0, 2418.0, 1068.0, 1110.0, 10129.0, 1250.0, 4000.0, 1355.0, 999.0, 1100.0, 1000.0, 1711.0, 1000.0, 1062.0, 1075.0, 2509.0, 1015.0, 1080.0, 1180.0, 7304.0, 1680.0, 1330.0, 1064.5, 2381.09, 2576.5, 1310.0, 1400.0, 1000.0, 2600.0, 1921.27, 1209.0, 1209.0, 4000.0, 2565.5, 2000.0, 8790.1, 2168.0, 2641.0, 2000.0, 8790.1, 954.0, 2825.0, 5120.0, 1000.0, 1030.0, 1250.0, 1000.0, 1079.0, 1050.0, 1350.0, 1866.0, 1287.0, 1600.0, 1032.5, 1000.0, 3040.0, 4230.0, 1000.0, 1000.0, 1500.0, 1500.0, 1000.0, 1050.0, 2000.0, 2400.0, 2000.0, 1323.12, 22000.0, 1250.0, 1000.0, 1000.0, 1094.0, 1420.0, 2000.0, 5134.25, 5340.0, 1400.0, 3679.0, 2650.0, 3500.0, 1404.0, 3245.0, 2500.0, 1429.0, 1500.0, 1429.0, 7040.2, 3000.0, 1150.0, 2150.0, 2000.0, 1000.0, 1129.0, 1000.0, 1150.0, 1000.0, 1750.0, 1167.0, 1000.0, 1000.0, 1000.0, 1100.0, 1067.7, 1629.0, 1100.0, 1000.0, 2550.0, 1000.0, 1150.0, 1000.0, 1000.0, 2850.0, 1118.0, 4000.0, 4000.0, 1276.5, 1000.0, 7829.0, 1000.0, 1021.0, 1629.0, 979.0, 1000.0, 1679.0, 1000.0, 1500.0, 7394.0, 2100.0, 3000.0, 1284.0, 1000.0, 1200.0, 1035.0, 4095.0, 975.0, 1000.0, 2780.5, 4095.0, 2801.0, 1021.0, 1000.0, 1229.0, 1025.0, 2509.53, 1500.0, 1150.0, 1600.0, 1450.0, 999.0, 2000.0, 1150.0, 1750.0, 2000.0, 1801.0, 1100.0, 2929.0, 5000.0, 1000.0, 1450.0, 1050.0, 1129.0, 1000.0, 2000.0, 1000.0, 1329.0, 1200.0, 1280.0, 1118.0, 2500.0, 1001.0, 1284.0, 3000.0, 1000.0, 3401.6, 1500.0, 1400.0, 15000.0, 4598.06, 990.0, 1000.0, 1855.0, 5340.0, 1129.0, 1229.0, 1000.0, 2000.0, 1400.0, 1850.0, 1230.0, 1000.0, 10930.6, 4550.0, 2570.0, 1240.0, 1000.0, 1000.0, 2168.0, 2000.0, 2000.0, 7604.0, 1025.0, 1346.88, 1000.0, 1000.0, 1000.0, 1500.0, 1129.0, 985.07, 1000.0, 1000.0, 1000.0, 1700.0, 1500.0, 12500.0, 979.0, 2629.0, 1200.0, 4779.0, 2509.53, 1679.0, 2150.0, 2000.0, 10144.0, 8587.22, 1000.0, 1250.0, 1067.7, 4598.06, 1250.0, 3630.0, 1000.0, 10930.6, 1500.0, 1029.75, 1050.0, 1100.0, 2500.0, 1531.05, 2700.0, 1500.0, 1200.0, 2250.0, 1229.0, 5000.0, 3679.0, 2129.0, 1100.0, 1000.0, 1000.0, 1000.0, 1429.0, 1000.0, 1050.0, 3600.0, 9150.0, 2850.0, 2780.5, 8589.0, 1150.0, 1129.0, 1750.0, 6250.0, 3631.95, 1082.0, 950.0, 1000.0, 5025.0, 1347.0, 3631.95, 1429.0, 3000.0, 1875.0, 1000.0, 10129.0, 12500.0, 1921.27, 1150.0, 2900.0, 1450.0, 2500.0, 3040.0, 969.0, 1000.0, 1400.0, 1000.0, 3879.0, 3000.0, 1910.0, 1129.0, 2000.0, 2258.0, 1000.0, 4000.0, 1000.0, 1000.0, 981.0, 2000.0, 1000.0, 3700.0, 2650.0, 1200.0, 3879.0, 1074.0, 1000.0, 2649.0, 1229.0, 2300.0, 5000.0, 1300.0, 9150.0, 7355.0, 1169.0, 1000.0, 1154.0, 1100.0, 5160.0, 1835.0, 3250.0, 1550.0, 1346.88, 1801.0, 2629.0, 2258.0, 7829.0, 1472.0, 1000.0, 1000.0, 5000.0, 1653.0, 3000.0, 950.0, 2425.36, 3100.0, 2000.0, 1230.0, 2140.0, 1000.0, 1158.0, 1221.0, 3100.0, 3100.0, 1450.0, 7325.0, 1000.0, 1000.0, 1154.0, 1200.0, 2929.0, 1224.0, 22000.0, 969.0, 1500.0, 2600.0, 15000.0, 1347.0, 2900.0, 1000.0, 1021.0, 2000.0, 7325.0, 7040.2, 4230.0, 1600.0, 4550.0, 1000.0, 1000.0, 2000.0, 2000.0, 954.0, 1370.0, 4744.0, 1320.0, 1750.0, 2000.0, 1629.0, 1000.0, 1079.0, 1644.0, 1000.0, 1000.0, 10000.0, 1500.0, 1600.0, 3020.0, 5500.0, 1050.0, 3050.0, 7355.0, 1000.0, 1250.0, 1472.0, 8589.0, 1094.0, 2000.0, 8100.0, 2000.0, 1000.0, 1000.0, 1000.0, 1835.0, 1000.0, 990.0, 980.0, 1062.0, 1000.0, 3000.0, 5000.0, 1000.0, 1082.0, 9165.0, 1000.0, 1000.0, 2500.0, 5000.0, 2000.0, 1150.0, 1000.0, 1000.0, 1000.0, 1000.0, 1000.0, 1000.0, 1000.0, 1000.0, 1500.0, 1000.0, 1240.0, 1100.0, 2000.0, 1000.0, 2000.0, 4744.0, 2649.0, 2119.0, 1450.0, 975.0, 1600.0, 2825.0, 1550.0, 1021.0, 1021.0, 2550.0, 1400.0, 1076.0, 3250.0, 1540.0, 2119.0, 1375.0, 4000.0, 1910.0, 1169.0, 1400.0, 2125.0, 1000.0, 1680.0, 1680.0, 1050.0, 965.0, 980.0, 2000.0, 1429.0, 3000.0, 2641.0, 1150.0, 1000.0, 1400.0] \n",
            "\n"
          ],
          "name": "stdout"
        }
      ]
    },
    {
      "cell_type": "code",
      "metadata": {
        "id": "iAA3FWRcPo6V"
      },
      "source": [
        ""
      ],
      "execution_count": null,
      "outputs": []
    }
  ]
}