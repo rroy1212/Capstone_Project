{
  "nbformat": 4,
  "nbformat_minor": 0,
  "metadata": {
    "colab": {
      "name": "Final_Proportion_Analysis.ipynb",
      "provenance": [],
      "collapsed_sections": []
    },
    "kernelspec": {
      "name": "python3",
      "display_name": "Python 3"
    }
  },
  "cells": [
    {
      "cell_type": "code",
      "metadata": {
        "id": "PL9dnECt0Txy"
      },
      "source": [
        "import pandas as pd\r\n",
        "import numpy as np\r\n",
        "import matplotlib.pyplot as plt\r\n",
        "%matplotlib inline\r\n",
        "import seaborn as sns"
      ],
      "execution_count": null,
      "outputs": []
    },
    {
      "cell_type": "code",
      "metadata": {
        "id": "o-97q0ud0V2j"
      },
      "source": [
        "# Making a list of missing value types\r\n",
        "missing_values = [\"-\"]\r\n",
        "df = pd.read_csv(\"Gift_total_by_CSU_Since_FY2015.csv\", na_values = missing_values)"
      ],
      "execution_count": null,
      "outputs": []
    },
    {
      "cell_type": "code",
      "metadata": {
        "colab": {
          "base_uri": "https://localhost:8080/",
          "height": 194
        },
        "id": "PeDyUjp_3gaG",
        "outputId": "4a4da50b-0d44-44b4-c5c0-e50049fff834"
      },
      "source": [
        "df.head()"
      ],
      "execution_count": null,
      "outputs": [
        {
          "output_type": "execute_result",
          "data": {
            "text/html": [
              "<div>\n",
              "<style scoped>\n",
              "    .dataframe tbody tr th:only-of-type {\n",
              "        vertical-align: middle;\n",
              "    }\n",
              "\n",
              "    .dataframe tbody tr th {\n",
              "        vertical-align: top;\n",
              "    }\n",
              "\n",
              "    .dataframe thead th {\n",
              "        text-align: right;\n",
              "    }\n",
              "</style>\n",
              "<table border=\"1\" class=\"dataframe\">\n",
              "  <thead>\n",
              "    <tr style=\"text-align: right;\">\n",
              "      <th></th>\n",
              "      <th>RANDOM_ID</th>\n",
              "      <th>CSU_CODE</th>\n",
              "      <th>FISCAL_YEAR_ENDING</th>\n",
              "      <th>DONOR_INTENT_ID</th>\n",
              "      <th>TOTAL_AMT_2015_2020</th>\n",
              "    </tr>\n",
              "  </thead>\n",
              "  <tbody>\n",
              "    <tr>\n",
              "      <th>0</th>\n",
              "      <td>THTKM076</td>\n",
              "      <td>CF</td>\n",
              "      <td>2020</td>\n",
              "      <td>5294631</td>\n",
              "      <td>50.0</td>\n",
              "    </tr>\n",
              "    <tr>\n",
              "      <th>1</th>\n",
              "      <td>THTKM076</td>\n",
              "      <td>DM</td>\n",
              "      <td>2016</td>\n",
              "      <td>205965</td>\n",
              "      <td>25.0</td>\n",
              "    </tr>\n",
              "    <tr>\n",
              "      <th>2</th>\n",
              "      <td>THTKM076</td>\n",
              "      <td>NS</td>\n",
              "      <td>2019</td>\n",
              "      <td>4808641</td>\n",
              "      <td>25.0</td>\n",
              "    </tr>\n",
              "    <tr>\n",
              "      <th>3</th>\n",
              "      <td>THTKM076</td>\n",
              "      <td>NS</td>\n",
              "      <td>2018</td>\n",
              "      <td>4447701</td>\n",
              "      <td>50.0</td>\n",
              "    </tr>\n",
              "    <tr>\n",
              "      <th>4</th>\n",
              "      <td>THTKM076</td>\n",
              "      <td>NS</td>\n",
              "      <td>2017</td>\n",
              "      <td>264264</td>\n",
              "      <td>25.0</td>\n",
              "    </tr>\n",
              "  </tbody>\n",
              "</table>\n",
              "</div>"
            ],
            "text/plain": [
              "  RANDOM_ID CSU_CODE  FISCAL_YEAR_ENDING  DONOR_INTENT_ID  TOTAL_AMT_2015_2020\n",
              "0  THTKM076       CF                2020          5294631                 50.0\n",
              "1  THTKM076       DM                2016           205965                 25.0\n",
              "2  THTKM076       NS                2019          4808641                 25.0\n",
              "3  THTKM076       NS                2018          4447701                 50.0\n",
              "4  THTKM076       NS                2017           264264                 25.0"
            ]
          },
          "metadata": {
            "tags": []
          },
          "execution_count": 5
        }
      ]
    },
    {
      "cell_type": "code",
      "metadata": {
        "colab": {
          "base_uri": "https://localhost:8080/",
          "height": 194
        },
        "id": "awXnxSAG4POb",
        "outputId": "ee68a06d-69e8-4b94-9213-9004b0ba11d2"
      },
      "source": [
        "df.head()"
      ],
      "execution_count": null,
      "outputs": [
        {
          "output_type": "execute_result",
          "data": {
            "text/html": [
              "<div>\n",
              "<style scoped>\n",
              "    .dataframe tbody tr th:only-of-type {\n",
              "        vertical-align: middle;\n",
              "    }\n",
              "\n",
              "    .dataframe tbody tr th {\n",
              "        vertical-align: top;\n",
              "    }\n",
              "\n",
              "    .dataframe thead th {\n",
              "        text-align: right;\n",
              "    }\n",
              "</style>\n",
              "<table border=\"1\" class=\"dataframe\">\n",
              "  <thead>\n",
              "    <tr style=\"text-align: right;\">\n",
              "      <th></th>\n",
              "      <th>RANDOM_ID</th>\n",
              "      <th>CSU_CODE</th>\n",
              "      <th>FISCAL_YEAR_ENDING</th>\n",
              "      <th>DONOR_INTENT_ID</th>\n",
              "      <th>TOTAL_AMT_2015_2020</th>\n",
              "    </tr>\n",
              "  </thead>\n",
              "  <tbody>\n",
              "    <tr>\n",
              "      <th>0</th>\n",
              "      <td>THTKM076</td>\n",
              "      <td>CF</td>\n",
              "      <td>2020</td>\n",
              "      <td>5294631</td>\n",
              "      <td>50.0</td>\n",
              "    </tr>\n",
              "    <tr>\n",
              "      <th>1</th>\n",
              "      <td>THTKM076</td>\n",
              "      <td>DM</td>\n",
              "      <td>2016</td>\n",
              "      <td>205965</td>\n",
              "      <td>25.0</td>\n",
              "    </tr>\n",
              "    <tr>\n",
              "      <th>2</th>\n",
              "      <td>THTKM076</td>\n",
              "      <td>NS</td>\n",
              "      <td>2019</td>\n",
              "      <td>4808641</td>\n",
              "      <td>25.0</td>\n",
              "    </tr>\n",
              "    <tr>\n",
              "      <th>3</th>\n",
              "      <td>THTKM076</td>\n",
              "      <td>NS</td>\n",
              "      <td>2018</td>\n",
              "      <td>4447701</td>\n",
              "      <td>50.0</td>\n",
              "    </tr>\n",
              "    <tr>\n",
              "      <th>4</th>\n",
              "      <td>THTKM076</td>\n",
              "      <td>NS</td>\n",
              "      <td>2017</td>\n",
              "      <td>264264</td>\n",
              "      <td>25.0</td>\n",
              "    </tr>\n",
              "  </tbody>\n",
              "</table>\n",
              "</div>"
            ],
            "text/plain": [
              "  RANDOM_ID CSU_CODE  FISCAL_YEAR_ENDING  DONOR_INTENT_ID  TOTAL_AMT_2015_2020\n",
              "0  THTKM076       CF                2020          5294631                 50.0\n",
              "1  THTKM076       DM                2016           205965                 25.0\n",
              "2  THTKM076       NS                2019          4808641                 25.0\n",
              "3  THTKM076       NS                2018          4447701                 50.0\n",
              "4  THTKM076       NS                2017           264264                 25.0"
            ]
          },
          "metadata": {
            "tags": []
          },
          "execution_count": 6
        }
      ]
    },
    {
      "cell_type": "code",
      "metadata": {
        "colab": {
          "base_uri": "https://localhost:8080/"
        },
        "id": "j6Qn4OFu4SKd",
        "outputId": "6a40b7ea-9183-45de-e070-ab4c97333a04"
      },
      "source": [
        "df.info()"
      ],
      "execution_count": null,
      "outputs": [
        {
          "output_type": "stream",
          "text": [
            "<class 'pandas.core.frame.DataFrame'>\n",
            "RangeIndex: 258148 entries, 0 to 258147\n",
            "Data columns (total 5 columns):\n",
            " #   Column               Non-Null Count   Dtype  \n",
            "---  ------               --------------   -----  \n",
            " 0   RANDOM_ID            258148 non-null  object \n",
            " 1   CSU_CODE             258148 non-null  object \n",
            " 2   FISCAL_YEAR_ENDING   258148 non-null  int64  \n",
            " 3   DONOR_INTENT_ID      258148 non-null  int64  \n",
            " 4   TOTAL_AMT_2015_2020  258148 non-null  float64\n",
            "dtypes: float64(1), int64(2), object(2)\n",
            "memory usage: 9.8+ MB\n"
          ],
          "name": "stdout"
        }
      ]
    },
    {
      "cell_type": "code",
      "metadata": {
        "colab": {
          "base_uri": "https://localhost:8080/",
          "height": 282
        },
        "id": "ogEII9gP4T-r",
        "outputId": "6727e0c2-2ebd-4e6e-bd1b-14f13cd48d99"
      },
      "source": [
        "df.describe()"
      ],
      "execution_count": null,
      "outputs": [
        {
          "output_type": "execute_result",
          "data": {
            "text/html": [
              "<div>\n",
              "<style scoped>\n",
              "    .dataframe tbody tr th:only-of-type {\n",
              "        vertical-align: middle;\n",
              "    }\n",
              "\n",
              "    .dataframe tbody tr th {\n",
              "        vertical-align: top;\n",
              "    }\n",
              "\n",
              "    .dataframe thead th {\n",
              "        text-align: right;\n",
              "    }\n",
              "</style>\n",
              "<table border=\"1\" class=\"dataframe\">\n",
              "  <thead>\n",
              "    <tr style=\"text-align: right;\">\n",
              "      <th></th>\n",
              "      <th>FISCAL_YEAR_ENDING</th>\n",
              "      <th>DONOR_INTENT_ID</th>\n",
              "      <th>TOTAL_AMT_2015_2020</th>\n",
              "    </tr>\n",
              "  </thead>\n",
              "  <tbody>\n",
              "    <tr>\n",
              "      <th>count</th>\n",
              "      <td>258148.000000</td>\n",
              "      <td>2.581480e+05</td>\n",
              "      <td>258148.000000</td>\n",
              "    </tr>\n",
              "    <tr>\n",
              "      <th>mean</th>\n",
              "      <td>2017.348037</td>\n",
              "      <td>1.447095e+07</td>\n",
              "      <td>691.895821</td>\n",
              "    </tr>\n",
              "    <tr>\n",
              "      <th>std</th>\n",
              "      <td>1.669702</td>\n",
              "      <td>3.373806e+08</td>\n",
              "      <td>3640.849934</td>\n",
              "    </tr>\n",
              "    <tr>\n",
              "      <th>min</th>\n",
              "      <td>2015.000000</td>\n",
              "      <td>1.917000e+04</td>\n",
              "      <td>0.010000</td>\n",
              "    </tr>\n",
              "    <tr>\n",
              "      <th>25%</th>\n",
              "      <td>2016.000000</td>\n",
              "      <td>2.939698e+05</td>\n",
              "      <td>50.000000</td>\n",
              "    </tr>\n",
              "    <tr>\n",
              "      <th>50%</th>\n",
              "      <td>2017.000000</td>\n",
              "      <td>3.789638e+06</td>\n",
              "      <td>100.000000</td>\n",
              "    </tr>\n",
              "    <tr>\n",
              "      <th>75%</th>\n",
              "      <td>2019.000000</td>\n",
              "      <td>4.816206e+06</td>\n",
              "      <td>250.000000</td>\n",
              "    </tr>\n",
              "    <tr>\n",
              "      <th>max</th>\n",
              "      <td>2020.000000</td>\n",
              "      <td>1.001483e+10</td>\n",
              "      <td>99999.240000</td>\n",
              "    </tr>\n",
              "  </tbody>\n",
              "</table>\n",
              "</div>"
            ],
            "text/plain": [
              "       FISCAL_YEAR_ENDING  DONOR_INTENT_ID  TOTAL_AMT_2015_2020\n",
              "count       258148.000000     2.581480e+05        258148.000000\n",
              "mean          2017.348037     1.447095e+07           691.895821\n",
              "std              1.669702     3.373806e+08          3640.849934\n",
              "min           2015.000000     1.917000e+04             0.010000\n",
              "25%           2016.000000     2.939698e+05            50.000000\n",
              "50%           2017.000000     3.789638e+06           100.000000\n",
              "75%           2019.000000     4.816206e+06           250.000000\n",
              "max           2020.000000     1.001483e+10         99999.240000"
            ]
          },
          "metadata": {
            "tags": []
          },
          "execution_count": 8
        }
      ]
    },
    {
      "cell_type": "code",
      "metadata": {
        "colab": {
          "base_uri": "https://localhost:8080/"
        },
        "id": "Jz7IvXbO5Slr",
        "outputId": "3bd309ab-bb6e-4b36-b5b2-d7b095e886fc"
      },
      "source": [
        "# Check the total number of observations in the dataset\r\n",
        "print('Total number of observations in the dataset are:',df.shape[0])"
      ],
      "execution_count": null,
      "outputs": [
        {
          "output_type": "stream",
          "text": [
            "Total number of observations in the dataset are: 258148\n"
          ],
          "name": "stdout"
        }
      ]
    },
    {
      "cell_type": "code",
      "metadata": {
        "colab": {
          "base_uri": "https://localhost:8080/"
        },
        "id": "97WVqsvJ5VGD",
        "outputId": "9aaf4b2d-f6bf-4ac3-d517-d2648f92449f"
      },
      "source": [
        "# Check if data has duplicate entries\r\n",
        "\r\n",
        "print(df.shape)\r\n",
        "df = df.drop_duplicates(keep='first')\r\n",
        "print('Shape after dropping the values: ',df.shape)"
      ],
      "execution_count": null,
      "outputs": [
        {
          "output_type": "stream",
          "text": [
            "(258148, 5)\n",
            "Shape after dropping the values:  (258148, 5)\n"
          ],
          "name": "stdout"
        }
      ]
    },
    {
      "cell_type": "code",
      "metadata": {
        "colab": {
          "base_uri": "https://localhost:8080/"
        },
        "id": "Ib7_fgKG5X7i",
        "outputId": "555a39ca-2fc2-4cba-b11e-e067900a8c05"
      },
      "source": [
        "# Check if data has duplicate entries\r\n",
        "\r\n",
        "print(df.shape)\r\n",
        "df = df.drop_duplicates(keep='first')\r\n",
        "print('Shape after dropping the values: ',df.shape)"
      ],
      "execution_count": null,
      "outputs": [
        {
          "output_type": "stream",
          "text": [
            "(258148, 5)\n",
            "Shape after dropping the values:  (258148, 5)\n"
          ],
          "name": "stdout"
        }
      ]
    },
    {
      "cell_type": "code",
      "metadata": {
        "id": "aQ5oUksA5ZtI"
      },
      "source": [
        "# Check for missing values\r\n",
        "\r\n",
        "\r\n",
        "# if it's a larger dataset and the visualization takes too long can do this.\r\n",
        "# % of missing.\r\n",
        "for col in df.columns:\r\n",
        "    nullcount = df[col].isnull().sum()\r\n",
        "    pct_missing = np.mean(df[col].isnull())\r\n",
        "    if(pct_missing>0):\r\n",
        "      print('{} {} - {}%'.format(col, nullcount, round(pct_missing*100)))"
      ],
      "execution_count": null,
      "outputs": []
    },
    {
      "cell_type": "code",
      "metadata": {
        "colab": {
          "base_uri": "https://localhost:8080/"
        },
        "id": "lvznnwtY5cBg",
        "outputId": "bd6c7850-8e5e-4375-8712-0d66a2706cec"
      },
      "source": [
        "check_col = ['CSU_CODE','FISCAL_YEAR_ENDING','DONOR_INTENT_ID','RANDOM_ID']\r\n",
        "#-Check for zero values that shouldn't be there e.g. age, text, year\r\n",
        "\r\n",
        "for col in check_col:\r\n",
        "  count = 0\r\n",
        "  for i in df[col]:\r\n",
        "    if(i==0):\r\n",
        "      count+=1\r\n",
        "  print('Number of zeroes in ',col,'is -',count)"
      ],
      "execution_count": null,
      "outputs": [
        {
          "output_type": "stream",
          "text": [
            "Number of zeroes in  CSU_CODE is - 0\n",
            "Number of zeroes in  FISCAL_YEAR_ENDING is - 0\n",
            "Number of zeroes in  DONOR_INTENT_ID is - 0\n",
            "Number of zeroes in  RANDOM_ID is - 0\n"
          ],
          "name": "stdout"
        }
      ]
    },
    {
      "cell_type": "code",
      "metadata": {
        "colab": {
          "base_uri": "https://localhost:8080/"
        },
        "id": "OwuteUi95eB3",
        "outputId": "8462cfc3-19fa-4147-dbab-36d3f32fd243"
      },
      "source": [
        "#Check for levels of categorical variables\r\n",
        "\r\n",
        "df['CSU_CODE'].value_counts()"
      ],
      "execution_count": null,
      "outputs": [
        {
          "output_type": "execute_result",
          "data": {
            "text/plain": [
              "GR    44733\n",
              "NS    36418\n",
              "EN    31900\n",
              "LO    31584\n",
              "LA    30856\n",
              "CF    26779\n",
              "CO    13485\n",
              "ED     7528\n",
              "DM     5650\n",
              "NU     5519\n",
              "PH     5181\n",
              "SW     4712\n",
              "JS     4240\n",
              "AT     3659\n",
              "LJ     3567\n",
              "GL     2256\n",
              "GS       81\n",
              "Name: CSU_CODE, dtype: int64"
            ]
          },
          "metadata": {
            "tags": []
          },
          "execution_count": 14
        }
      ]
    },
    {
      "cell_type": "code",
      "metadata": {
        "colab": {
          "base_uri": "https://localhost:8080/",
          "height": 298
        },
        "id": "kNUvP5BH5gAb",
        "outputId": "0dbf4542-3edd-4188-830a-0e9e2004fb64"
      },
      "source": [
        "sns.boxplot(x=df['TOTAL_AMT_2015_2020'])"
      ],
      "execution_count": null,
      "outputs": [
        {
          "output_type": "execute_result",
          "data": {
            "text/plain": [
              "<matplotlib.axes._subplots.AxesSubplot at 0x7f1603e24780>"
            ]
          },
          "metadata": {
            "tags": []
          },
          "execution_count": 15
        },
        {
          "output_type": "display_data",
          "data": {
            "image/png": "[encoded data removed]",
            "text/plain": [
              "<Figure size 432x288 with 1 Axes>"
            ]
          },
          "metadata": {
            "tags": [],
            "needs_background": "light"
          }
        }
      ]
    },
    {
      "cell_type": "code",
      "metadata": {
        "colab": {
          "base_uri": "https://localhost:8080/",
          "height": 298
        },
        "id": "JXkisoHA5i0L",
        "outputId": "bdb5a1ac-a598-4008-c452-495dedf6a538"
      },
      "source": [
        "sns.boxplot(x=df['FISCAL_YEAR_ENDING'])"
      ],
      "execution_count": null,
      "outputs": [
        {
          "output_type": "execute_result",
          "data": {
            "text/plain": [
              "<matplotlib.axes._subplots.AxesSubplot at 0x7f1603d220b8>"
            ]
          },
          "metadata": {
            "tags": []
          },
          "execution_count": 16
        },
        {
          "output_type": "display_data",
          "data": {
            "image/png": "[encoded data removed]",
            "text/plain": [
              "<Figure size 432x288 with 1 Axes>"
            ]
          },
          "metadata": {
            "tags": [],
            "needs_background": "light"
          }
        }
      ]
    },
    {
      "cell_type": "code",
      "metadata": {
        "colab": {
          "base_uri": "https://localhost:8080/"
        },
        "id": "cYbktSLd5keY",
        "outputId": "dffda65d-e569-40ad-a026-b6e1faa0a132"
      },
      "source": [
        "def Zscore_outlier(df):\r\n",
        "    out=[]\r\n",
        "    m = np.mean(df)\r\n",
        "    sd = np.std(df)\r\n",
        "    for i in df: \r\n",
        "        z = (i-m)/sd\r\n",
        "        if np.abs(z) > 3: \r\n",
        "            out.append(i)\r\n",
        "    print(\"Outliers:\",out,'\\n')\r\n",
        "    return out\r\n",
        "\r\n",
        "amnt_outlier = Zscore_outlier(df['TOTAL_AMT_2015_2020'])"
      ],
      "execution_count": null,
      "outputs": [
        {
          "output_type": "stream",
          "text": [
            "Outliers: [50800.5, 49323.0, 50800.5, 49323.0, 25000.0, 25000.0, 25000.0, 25000.0, 30000.0, 30000.0, 50000.0, 50000.0, 25000.0, 50000.0, 25000.0, 50000.0, 60000.0, 60000.0, 25000.0, 25000.0, 50000.0, 50000.0, 25000.0, 12500.0, 25000.0, 25000.0, 12500.0, 25000.0, 25000.0, 25000.0, 25000.0, 25000.0, 50000.0, 50000.0, 25000.0, 12200.0, 12200.0, 50000.0, 50000.0, 12500.0, 12500.0, 50000.0, 25000.0, 50000.0, 25000.0, 25000.0, 25000.0, 50000.0, 50000.0, 12500.0, 12500.0, 50000.0, 50000.0, 25000.0, 25000.0, 25000.0, 25000.0, 25000.0, 25000.0, 30000.0, 25000.0, 30000.0, 25000.0, 25000.0, 25000.0, 50000.0, 50000.0, 25000.0, 37500.0, 25000.0, 37500.0, 12500.0, 12500.0, 25000.0, 22500.0, 25000.0, 22500.0, 20000.0, 12500.0, 20000.0, 12500.0, 50000.0, 50000.0, 41489.75, 41489.75, 25000.0, 25000.0, 25000.0, 25000.0, 58000.0, 25000.0, 25000.0, 26000.0, 26000.0, 50000.0, 50000.0, 15000.0, 25000.0, 25000.0, 25000.0, 25000.0, 25000.0, 15000.0, 15000.0, 50000.0, 50000.0, 20000.0, 20000.0, 25000.0, 25000.0, 51064.65, 51064.65, 25000.0, 24962.2, 25000.0, 25000.0, 24962.2, 25000.0, 75564.26, 25000.0, 25000.0, 15000.0, 15000.0, 50000.0, 50000.0, 50000.0, 50000.0, 50000.0, 50000.0, 50000.0, 25000.0, 25000.0, 25000.0, 25000.0, 25000.0, 25000.0, 25000.0, 25000.0, 50000.0, 50000.0, 25000.0, 25000.0, 15000.0, 15000.0, 25000.0, 25000.0, 20000.0, 25000.0, 25000.0, 20000.0, 20000.0, 50000.0, 50000.0, 44225.0, 50000.0, 50000.0, 25000.0, 25000.0, 25000.0, 50000.0, 50000.0, 20000.0, 20000.0, 50000.0, 47671.0, 50000.0, 47671.0, 25000.0, 25000.0, 25000.0, 25000.0, 25000.0, 25000.0, 25000.0, 25000.0, 25000.0, 25000.0, 25000.0, 25000.0, 25000.0, 25000.0, 25000.0, 25000.0, 25000.0, 25000.0, 50000.0, 50000.0, 50000.0, 50000.0, 50000.0, 50000.0, 20000.0, 20000.0, 50000.0, 50000.0, 25000.0, 25000.0, 97784.0, 25000.0, 25000.0, 50000.0, 50000.0, 50000.0, 50000.0, 50000.0, 50000.0, 25000.0, 25000.0, 50000.0, 50000.0, 50000.0, 50000.0, 50000.0, 12500.0, 50000.0, 12500.0, 50000.0, 50000.0, 50000.0, 50000.0, 50000.0, 50000.0, 25000.0, 25000.0, 20000.0, 75000.0, 20000.0, 75000.0, 25000.0, 25000.0, 25000.0, 25000.0, 20000.0, 20000.0, 50000.0, 50000.0, 50000.0, 50000.0, 25000.0, 25000.0, 16000.0, 16000.0, 50000.0, 50000.0, 50000.0, 50000.0, 75000.0, 25000.0, 75000.0, 25000.0, 25000.0, 25000.0, 25000.0, 25000.0, 12500.0, 12500.0, 24000.0, 25000.0, 24000.0, 25000.0, 25000.0, 25000.0, 45000.0, 45000.0, 50000.0, 50000.0, 19959.69, 25000.0, 27500.0, 27500.0, 13000.0, 12000.0, 12000.0, 12000.0, 15000.0, 15000.0, 50000.0, 50000.0, 80000.0, 80000.0, 25000.0, 25000.0, 50000.0, 50000.0, 21250.0, 21250.0, 50000.0, 50000.0, 25000.0, 25000.0, 20000.0, 25000.0, 25000.0, 50000.0, 50000.0, 75000.0, 75000.0, 25000.0, 25000.0, 50000.0, 50000.0, 25000.0, 25000.0, 12500.0, 12500.0, 38500.0, 38500.0, 25000.0, 25000.0, 25000.0, 25000.0, 50000.0, 50000.0, 50000.0, 50000.0, 50000.0, 50000.0, 25000.0, 25000.0, 25000.0, 75000.0, 25000.0, 75000.0, 20000.0, 20000.0, 25000.0, 25000.0, 50000.0, 50000.0, 25000.0, 25000.0, 25000.0, 25000.0, 25000.0, 25000.0, 25000.0, 25000.0, 50000.0, 25000.0, 50000.0, 50000.0, 25000.0, 25000.0, 25000.0, 25000.0, 25000.0, 50000.0, 50000.0, 30000.0, 30000.0, 50000.0, 50000.0, 25000.0, 25000.0, 12500.0, 12500.0, 25000.0, 25000.0, 75000.0, 75000.0, 25000.0, 25000.0, 24999.7, 24999.7, 26000.0, 26000.0, 50000.0, 50000.0, 50000.0, 50000.0, 25000.0, 25000.0, 50000.0, 50000.0, 25000.0, 25000.0, 18500.0, 67085.45, 25000.0, 25000.0, 43088.12, 14116.2, 13846.97, 20000.0, 42809.0, 40724.6, 43088.12, 14116.2, 13846.97, 20000.0, 42809.0, 40724.6, 25000.0, 25000.0, 25000.0, 50000.0, 25000.0, 75000.0, 75000.0, 30000.0, 25000.0, 25000.0, 25000.0, 25000.0, 25000.0, 25000.0, 50000.0, 50000.0, 50000.0, 50000.0, 50000.0, 50000.0, 25000.0, 25000.0, 75000.0, 42500.0, 42500.0, 75000.0, 25000.0, 25000.0, 12000.0, 12000.0, 12000.0, 12000.0, 12000.0, 12000.0, 12000.0, 12000.0, 12000.0, 12000.0, 50000.0, 50000.0, 20000.0, 20000.0, 50000.0, 50000.0, 25000.0, 25000.0, 50000.0, 50000.0, 25230.49, 25230.49, 14000.0, 14000.0, 37500.0, 37500.0, 50000.0, 50000.0, 25500.0, 25500.0, 50000.0, 50000.0, 50000.0, 50000.0, 53645.0, 50000.0, 50000.0, 20000.0, 20000.0, 50000.0, 50000.0, 50000.0, 50000.0, 25000.0, 25000.0, 50000.0, 50000.0, 25000.0, 25000.0, 25000.0, 25000.0, 50000.0, 30000.0, 50000.0, 30000.0, 25000.0, 25000.0, 12000.0, 12000.0, 25000.0, 25000.0, 25000.0, 25000.0, 50000.0, 50000.0, 25000.0, 25000.0, 20000.0, 20000.0, 25000.0, 25000.0, 27000.0, 12500.0, 12500.0, 12500.0, 12500.0, 50000.0, 50000.0, 50000.0, 50000.0, 25000.0, 25000.0, 25000.0, 25000.0, 25000.0, 25000.0, 25000.0, 25000.0, 25000.0, 25000.0, 28730.89, 11770.18, 16000.0, 18634.43, 25000.0, 25000.0, 15000.0, 30000.0, 30000.0, 15000.0, 30000.0, 30000.0, 99999.24, 99999.24, 50000.0, 50000.0, 50000.0, 50000.0, 25000.0, 25000.0, 15000.0, 15000.0, 25000.0, 25000.0, 50000.0, 50000.0, 25000.0, 25000.0, 28316.25, 50000.0, 50000.0, 25000.0, 75000.0, 25000.0, 75000.0, 50000.0, 50000.0, 12500.0, 12500.0, 17500.0, 17500.0, 16775.0, 50000.0, 50000.0, 50000.0, 50000.0, 50000.0, 50000.0, 12500.0, 12500.0, 50000.0, 50000.0, 25000.0, 25000.0, 12500.0, 12500.0, 50000.0, 50000.0, 25000.0, 25000.0, 12000.0, 12000.0, 20000.0, 20000.0, 25000.0, 25000.0, 25000.0, 25000.0, 50000.0, 50000.0, 25000.0, 50000.0, 13000.0, 13000.0, 50000.0, 25000.0, 20000.0, 20000.0, 25000.0, 14000.0, 15500.0, 14000.0, 15500.0, 40000.0, 30000.0, 35000.0, 35000.0, 35000.0, 12500.0, 12500.0, 50000.0, 50000.0, 25000.0, 25000.0, 12500.0, 12500.0, 20500.0, 20500.0, 50000.0, 50000.0, 25000.0, 25000.0, 25000.0, 25000.0, 25000.0, 25000.0, 25000.0, 15000.0, 25000.0, 25000.0, 15000.0, 20000.0, 20000.0, 50000.0, 50000.0, 50000.0, 50000.0, 35000.0, 35000.0, 25000.0, 25000.0, 50000.0, 50000.0, 25000.0, 25000.0, 50000.0, 50000.0, 50000.0, 50000.0, 50000.0, 50000.0, 50000.0, 50000.0, 25000.0, 25000.0, 25000.0, 25000.0, 25000.0, 25000.0, 25000.0, 25000.0, 50000.0, 50000.0, 30000.0, 30000.0, 25000.0, 25000.0, 50000.0, 50000.0, 25000.0, 25000.0, 25000.0, 25000.0, 50000.0, 50000.0, 50000.0, 50000.0, 25000.0, 25000.0, 50000.0, 50000.0, 25000.0, 25000.0, 25000.0, 25000.0, 25000.0, 50000.0, 50000.0, 50000.0, 50000.0, 12000.0, 63500.0, 12000.0, 63500.0, 25000.0, 24000.0, 35000.0, 24000.0, 35000.0, 25000.0, 25000.0, 25000.0, 25000.0, 25000.0, 25000.0, 25000.0, 25000.0, 20000.0, 20000.0, 20000.0, 20000.0, 20000.0, 20000.0, 20000.0, 20000.0, 50000.0, 50000.0, 25000.0, 25000.0, 12500.0, 12500.0, 12500.0, 12500.0, 25000.0, 35000.0, 35000.0, 25000.0, 20000.0, 20000.0, 20000.0, 20000.0, 20000.0, 20000.0, 50000.0, 50000.0, 50000.0, 50000.0, 50000.0, 50000.0, 50000.0, 50000.0, 50000.0, 50000.0, 20000.0, 20000.0, 50000.0, 50000.0, 40000.0, 40000.0, 25000.0, 25000.0, 25000.0, 25000.0, 50000.0, 50000.0, 50000.0, 50000.0, 50000.0, 50000.0, 25000.0, 25000.0, 50000.0, 50000.0, 25000.0, 25000.0, 25000.0, 25000.0, 25000.0, 75000.0, 75000.0, 25000.0, 20050.26, 20050.26, 60000.0, 12500.0, 12500.0, 23000.0, 23000.0, 25000.0, 25000.0, 25000.0, 25000.0, 50000.0, 50000.0, 12500.0, 12500.0, 30000.0, 30000.0, 25000.0, 25000.0, 60000.0, 40000.0, 40000.0, 60000.0, 13750.0, 13750.0, 50000.0, 50000.0, 25000.0, 25000.0, 25000.0, 25000.0, 25000.0, 25000.0, 30000.0, 30000.0, 50000.0, 50000.0, 50000.0, 25000.0, 25000.0, 25000.0, 25000.0, 25000.0, 15000.0, 25000.0, 25000.0, 25000.0, 15000.0, 25000.0, 25000.0, 15000.0, 25000.0, 15000.0, 25000.0, 15000.0, 15000.0, 12500.0, 12500.0, 50000.0, 50000.0, 25000.0, 18000.0, 25000.0, 18000.0, 25000.0, 25000.0, 20000.0, 20000.0, 16500.0, 16500.0, 52500.0, 52500.0, 34000.0, 34000.0, 50000.0, 50000.0, 51000.0, 51000.0, 50000.0, 25000.0, 50000.0, 50000.0, 50000.0, 50000.0, 25000.0, 25000.0, 50000.0, 50000.0, 50000.0, 50000.0, 50000.0, 12500.0, 50000.0, 50000.0, 50000.0, 50000.0, 50000.0, 50000.0, 25000.0, 25000.0, 70000.0, 30000.0, 70000.0, 30000.0, 25000.0, 25000.0, 50000.0, 15000.0, 50000.0, 50000.0, 20000.0, 20000.0, 75000.0, 75000.0, 50000.0, 50000.0, 12500.0, 12500.0, 20000.0, 20000.0, 25000.0, 21000.0, 23000.0, 18750.0, 25000.0, 21000.0, 23000.0, 18750.0, 30000.0, 30000.0, 25000.0, 25000.0, 50000.0, 40000.0, 50000.0, 50000.0, 25000.0, 25000.0, 50000.0, 50000.0, 50000.0, 25000.0, 50000.0, 25000.0, 12500.0, 12500.0, 25000.0, 25000.0, 25000.0, 20000.0, 25000.0, 20000.0, 14000.0, 14000.0, 25000.0, 25000.0, 50000.0, 50000.0, 50000.0, 50000.0, 50000.0, 50000.0, 54028.8, 54028.8, 25000.0, 25000.0, 20000.0, 20000.0, 25000.0, 20000.0, 20000.0, 20000.0, 20000.0, 20000.0, 25000.0, 20000.0, 15000.0, 15000.0, 12500.0, 12500.0, 15000.0, 15000.0, 25000.0, 23781.0, 25000.0, 23781.0, 30000.0, 30000.0, 50000.0, 50000.0, 50000.0, 50000.0, 20866.25, 20866.25, 25000.0, 25000.0, 25000.0, 26000.0, 26000.0, 25000.0, 25000.0, 20000.0, 20000.0, 15000.0, 15000.0, 75000.0, 75000.0, 25000.0, 15000.0, 20000.0, 20000.0, 31000.0, 20000.0, 25000.0, 25000.0, 25000.0, 15000.0, 20000.0, 20000.0, 20000.0, 25000.0, 31000.0, 25000.0, 25000.0, 25000.0, 25000.0, 34112.0, 25000.0, 34112.0, 12500.0, 12500.0, 25000.0, 25000.0, 20000.0, 50000.0, 20000.0, 50000.0, 30000.0, 30000.0, 25000.0, 25000.0, 50000.0, 50000.0, 25000.0, 25000.0, 25000.0, 25000.0, 25000.0, 25000.0, 28084.88, 26167.75, 28084.88, 26167.75, 12500.0, 12500.0, 50000.0, 50000.0, 50000.0, 50000.0, 50000.0, 50000.0, 15186.88, 15186.88, 50000.0, 50000.0, 16916.0, 16916.0, 25000.0, 25000.0, 25000.0, 25000.0, 25000.0, 25000.0, 50000.0, 50000.0, 50000.0, 50000.0, 12500.0, 12500.0, 50000.0, 50000.0, 12684.68, 12684.68, 50000.0, 50000.0, 12500.0, 12500.0, 25000.0, 25000.0, 50000.0, 50000.0, 15000.0, 15000.0, 25000.0, 25000.0, 25000.0, 50903.5, 25000.0, 50000.0, 25000.0, 50000.0, 25000.0, 50903.5, 25262.55, 25262.55, 50000.0, 50000.0, 15000.0, 15000.0, 12188.0, 25000.0, 25000.0, 12188.0, 25000.0, 25000.0, 25000.0, 15000.0, 15000.0, 15000.0, 15000.0, 25000.0, 25000.0, 25000.0, 25000.0, 55150.28, 55150.28, 13000.0, 13000.0, 50000.0, 19392.0, 50000.0, 19392.0, 75000.0, 75000.0, 50000.0, 50000.0, 20000.0, 20000.0, 50000.0, 50000.0, 55000.0, 55000.0, 25000.0, 25000.0, 25000.0, 59949.86, 39208.67, 59949.86, 39208.67, 25000.0, 25000.0, 50000.0, 50000.0, 15000.0, 15000.0, 18000.0, 18000.0, 50000.0, 50000.0, 25000.0, 25000.0, 29942.3, 29942.3, 25000.0, 25000.0, 20000.0, 20000.0, 20000.0, 20000.0, 50000.0, 50000.0, 25000.0, 25000.0, 50000.0, 50000.0, 50000.0, 50000.0, 30000.0, 30000.0, 30000.0, 30000.0, 20000.0, 20000.0, 50000.0, 50292.65, 50292.65, 50000.0, 25000.0, 12500.0, 25000.0, 12500.0, 15000.0, 15000.0, 25001.19, 25001.19, 50000.0, 50000.0, 46836.0, 46836.0, 50000.0, 50000.0, 15000.0, 15000.0, 25000.0, 25000.0, 25000.0, 25000.0, 24000.0, 24000.0, 30000.0, 23626.4, 23626.4, 25000.0, 25000.0, 25000.0, 25000.0, 25000.0, 50000.0, 50000.0, 50000.0, 50000.0, 30000.0, 30000.0, 57500.0, 57500.0, 25000.0, 25000.0, 30000.0, 30000.0, 50000.0, 50000.0, 50000.0, 50000.0, 52500.0, 25000.0, 25000.0, 25000.0, 25000.0, 25000.0, 25000.0, 25000.0, 25000.0, 20000.0, 20000.0, 15000.0, 15000.0, 30000.0, 30000.0, 25000.0, 25000.0, 25000.0, 25000.0, 25000.0, 25000.0, 25000.0, 25000.0, 50000.0, 50000.0, 50000.0, 50000.0, 50000.0, 50000.0, 25000.0, 25000.0, 25000.0, 25000.0, 25530.75, 50000.0, 50000.0, 25530.75, 25000.0, 25000.0, 50000.0, 50000.0, 20000.0, 20000.0, 50000.0, 50000.0, 30000.0, 30000.0, 25000.0, 50000.0, 25000.0, 50000.0, 50000.0, 50000.0, 42868.8, 50000.0, 50000.0, 50000.0, 50000.0, 50000.0, 50000.0, 62500.0, 62500.0, 25000.0, 25000.0, 50000.0, 50000.0, 27070.29, 19589.95, 47600.0, 26195.0, 67687.5, 27070.29, 19589.95, 47600.0, 26195.0, 67687.5, 33955.75, 33955.75, 25000.0, 25000.0, 25000.0, 25000.0, 25000.0, 25000.0, 50000.0, 50000.0, 17237.0, 17237.0, 25000.0, 25000.0, 25000.0, 25000.0, 50000.0, 50000.0, 50000.0, 25000.0, 25000.0, 22140.0, 12238.29, 21183.8, 12791.04, 14212.52, 11689.6, 15553.93, 23500.0, 23500.0, 25000.0, 25000.0, 25000.0, 50000.0, 50000.0, 25000.0, 25000.0, 27000.0, 27000.0, 27000.0, 25000.0, 25000.0, 27000.0, 27000.0, 27000.0, 45000.0, 45000.0, 30000.0, 30000.0, 20000.0, 20000.0, 25000.0, 25000.0, 25000.0, 25000.0, 25000.0, 40000.0, 25000.0, 40000.0, 50000.0, 50000.0, 50000.0, 25000.0, 25000.0, 25000.0, 25000.0, 25000.0, 25000.0, 25000.0, 25000.0, 25000.0, 25000.0, 25000.0, 25000.0, 25000.0, 25000.0, 50000.0, 25000.0, 25000.0, 25000.0, 25000.0, 50000.0, 50000.0, 25000.0, 25000.0, 30000.0, 30000.0, 50000.0, 50000.0, 25000.0, 25000.0, 50000.0, 50000.0, 13751.2, 50000.0, 50000.0, 13751.2, 40000.0, 40000.0, 25000.0, 25000.0, 15000.0, 15000.0, 35000.0, 15000.0, 35000.0, 15000.0, 25000.0, 25000.0, 50000.0, 50000.0, 50000.0, 50000.0, 50000.0, 50000.0, 25000.0, 25000.0, 20000.0, 20000.0, 50000.0, 50000.0, 25000.0, 25000.0, 25000.0, 25000.0, 25000.0, 25000.0, 34000.0, 34000.0, 25000.0, 25000.0, 41160.0, 41160.0, 25000.0, 20000.0, 20000.0, 25000.0, 50000.0, 50000.0, 25000.0, 25000.0, 75000.0, 75000.0, 50000.0, 50000.0, 75000.0, 50000.0, 50000.0, 75000.0, 20000.0, 20000.0, 57830.69, 50000.0, 57830.69, 50000.0, 49872.27, 41489.75, 41489.75, 25000.0, 25788.0, 25788.0, 50000.0, 50000.0, 50000.0, 50000.0, 12500.0, 50000.0, 50000.0, 37500.0, 25000.0, 37500.0, 25000.0, 25000.0, 25000.0, 25000.0, 25000.0, 25000.0, 25000.0, 25000.0, 25000.0, 13022.48, 11935.64, 11935.64, 13022.48, 25000.0, 60000.0, 25000.0, 60000.0, 50000.0, 50000.0, 60000.0, 60000.0, 70000.0, 30000.0, 60000.0, 60000.0, 60000.0, 70000.0, 30000.0, 60000.0, 25000.0, 25000.0, 23470.0, 23470.0, 36000.0, 50000.0, 50000.0, 14000.0, 50000.0, 50000.0, 25000.0, 25000.0, 50000.0, 50000.0, 25000.0, 25000.0, 50000.0, 50000.0, 26038.35, 26038.35, 25000.0, 25000.0, 25000.0, 16000.0, 25000.0, 16000.0, 25000.0, 25000.0, 25000.0, 25000.0, 15000.0, 15000.0, 50000.0, 50000.0, 15000.0, 12300.0, 15000.0, 12300.0, 25000.0, 25000.0, 25000.0, 25000.0, 50000.0, 50000.0, 30000.0, 30000.0, 25000.0, 25000.0, 50000.0, 50000.0, 25000.0, 25000.0, 27300.0, 27300.0, 25000.0, 25000.0, 30000.0, 30000.0, 25000.0, 25000.0, 23800.0, 23800.0, 50840.53, 50840.53, 15000.0, 20143.17, 50000.0, 50000.0, 50294.4, 50294.4, 60000.0, 50000.0, 60000.0, 50000.0, 50000.0, 50000.0, 25000.0, 25000.0, 50000.0, 50000.0, 50000.0, 50000.0, 52000.0, 52000.0, 20000.0, 20000.0, 25000.0, 25000.0, 12500.0, 12500.0, 50000.0, 50000.0, 25000.0, 25000.0, 25000.0, 25000.0, 25000.0, 25000.0, 25000.0, 50000.0, 25000.0, 50000.0, 20000.0, 20000.0, 12250.0, 12250.0, 25000.0, 25000.0, 25221.2, 25221.2, 15000.0, 15000.0, 50000.0, 15124.0, 15124.0, 25000.0, 25000.0, 50162.88, 25000.0, 25000.0, 50000.0, 50000.0, 12000.0, 25000.0, 25000.0, 25000.0, 25000.0, 12500.0, 12500.0, 25000.0, 25000.0, 25000.0, 30000.0, 50000.0, 30000.0, 50000.0, 20000.0, 15000.0, 15000.0, 20000.0, 25000.0, 25000.0, 25000.0, 25000.0, 25000.0, 25000.0, 50000.0, 50000.0, 25000.0, 25000.0, 12500.0, 12500.0, 25000.0, 25000.0, 20000.0, 20000.0, 25000.0, 25000.0, 12000.0, 12000.0, 12000.0, 25000.0, 25000.0, 25000.0, 25000.0, 50000.0, 25000.0, 25000.0, 30000.0, 30000.0, 50000.0, 50000.0, 15000.0, 50000.0, 50000.0, 20000.0, 20000.0, 50000.0, 50000.0, 50000.0, 50000.0, 47500.0, 47500.0, 50000.0, 50000.0, 50000.0, 50000.0, 25000.0, 25000.0, 50000.0, 50000.0, 25000.0, 25000.0, 15000.0, 15000.0, 25000.0, 25000.0, 50000.0, 50000.0, 50000.0, 50000.0, 50000.0, 50000.0, 15000.0, 15000.0, 12500.0, 37500.0, 50000.0, 12500.0, 50000.0, 37500.0, 25000.0, 25000.0, 50000.0, 50000.0, 15000.0, 50000.0, 57738.3, 14984.59, 50000.0, 57738.3, 14984.59, 11927.39, 17116.53, 12733.05, 12733.05, 25000.0, 25000.0, 50000.0, 20000.0, 20000.0, 50000.0, 25000.0, 25000.0, 25000.0, 25000.0, 39000.0, 39000.0, 25000.0, 25000.0, 50000.0, 25000.0, 50000.0, 25000.0, 25000.0, 25000.0, 50000.0, 50000.0, 50000.0, 50000.0, 50000.0, 50000.0, 50000.0, 50000.0, 30000.0, 30000.0, 50000.0, 50000.0, 24999.99, 24999.99, 25000.0, 25000.0, 25000.0, 25000.0, 24950.6, 12500.0, 12500.0, 24594.93, 24594.93, 50000.0, 50000.0, 50000.0, 15000.0, 90000.0, 50000.0, 50000.0, 25000.0, 25000.0, 12000.0, 45000.0, 50000.0, 45000.0, 50000.0, 15378.75, 15378.75, 50000.0, 50000.0, 17280.0, 17280.0, 20000.0, 20000.0, 25000.0, 25000.0, 50000.0, 50000.0, 25000.0, 25000.0, 50075.02, 50075.02, 15000.0, 15000.0, 50000.0, 50000.0, 25000.0, 25000.0, 25000.0, 25000.0, 75000.0, 75000.0, 25000.0, 25000.0, 25000.0, 25000.0, 50000.0, 25000.0, 50000.0, 50000.0, 50000.0, 20000.0, 20000.0, 50000.0, 25000.0, 25000.0, 50000.0, 50000.0, 25000.0, 25000.0, 12500.0, 12500.0, 32000.0, 32000.0, 50000.0, 25000.0, 25000.0, 50000.0, 15000.0, 15000.0, 50000.0, 50000.0, 12500.0, 12500.0, 15000.0, 25000.0, 25000.0, 50000.0, 50000.0, 25000.0, 25000.0, 50000.0, 50000.0, 25000.0, 25000.0, 50000.0, 50000.0, 25000.0, 25000.0, 25000.0, 25000.0, 25000.0, 25000.0, 25000.0, 25000.0, 25000.0, 25000.0, 25000.0, 25000.0, 25000.0, 25000.0, 12500.0, 12500.0, 25000.0, 25000.0, 25000.0, 25000.0, 25000.0, 25000.0, 15000.0, 15000.0, 50000.0, 50000.0, 25000.0, 25000.0, 50000.0, 50000.0, 50000.0, 50000.0, 12500.0, 12500.0, 15692.39, 12000.0, 12000.0, 12000.0, 12000.0, 15692.39, 25000.0, 25000.0, 50000.0, 25000.0, 25000.0, 50000.0, 50000.0, 25000.0, 25000.0, 20000.0, 20000.0, 50000.0, 50000.0, 50000.0, 50000.0, 25000.0, 50000.0, 25000.0, 50000.0, 25000.0, 25000.0, 25000.0, 25000.0, 25000.0, 25000.0, 25000.0, 60000.0, 58000.0, 58000.0, 25000.0, 60000.0, 50000.0, 50000.0, 50000.0, 50000.0, 75000.0, 75000.0, 25000.0, 25000.0, 25000.0, 25000.0, 12500.0, 12500.0, 50000.0, 20000.0, 50000.0, 20000.0, 50000.0, 50000.0, 20000.0, 20000.0, 50000.0, 50000.0, 25000.0, 25000.0, 50000.0, 50000.0, 50000.0, 50000.0, 25000.0, 25000.0, 25000.0, 15000.0, 75000.0, 25000.0, 70582.5, 25000.0, 25000.0, 25000.0, 20000.0, 50000.0, 25000.0, 25000.0, 58750.0, 49913.04, 25086.96, 42500.0, 42500.0, 75000.0, 25000.0, 25000.0, 25000.0, 25000.0, 25000.0, 25000.0, 25000.0, 25000.0, 20000.0, 25000.0, 22500.0, 20000.0, 95265.0, 38566.61, 17000.0, 50000.0, 25000.0, 25000.0, 27000.0, 52000.0, 50000.0, 24000.0, 25000.0, 15000.0, 20000.0, 15000.0, 25000.0, 25000.0, 50000.0, 25000.0, 12500.0, 25000.0, 25000.0, 50000.0, 50000.0, 60328.0, 15000.0, 12500.0, 25000.0, 25000.0, 50000.0, 50000.0, 50000.0, 20000.0, 25000.0, 25000.0, 17944.5, 25000.0, 15000.0, 20000.0, 16000.0, 16000.0, 15000.0, 25000.0, 25000.0, 50000.0, 20000.0, 20000.0, 25000.0, 25000.0, 50000.0, 50000.0, 25000.0, 30000.0, 20000.0, 25000.0, 25000.0, 50000.0, 25000.0, 50000.0, 25000.0, 25000.0, 25000.0, 12624.75, 19700.0, 53000.0, 50000.0, 11903.0, 22000.0, 15000.0, 62500.0, 50000.0, 15000.0, 25000.0, 25000.0, 25000.0, 25000.0, 25000.0, 75000.0, 30000.0, 50000.0, 12500.0, 25000.0, 50000.0, 12500.0, 25000.0, 12640.0, 50000.0, 25000.0, 50000.0, 50000.0, 25000.0, 26525.0, 42498.0, 25000.0, 50000.0, 25000.0, 25000.0, 24900.0, 25000.0, 25000.0, 50000.0, 25000.0, 25000.0, 25000.0, 25000.0, 25000.0, 25000.0, 25000.0, 25000.0, 17001.28, 50000.0, 37500.0, 25000.0, 50000.0, 25000.0, 49999.92, 25000.0, 25000.0, 25000.0, 20000.0, 15000.0, 15000.0, 25000.0, 20000.0, 16200.0, 17500.0, 20000.0, 68308.47, 25000.0, 50000.0, 50000.0, 25000.0, 25000.0, 12500.0, 25000.0, 25000.0, 35000.0, 65000.0, 50000.0, 15000.0, 25000.0, 50000.0, 24639.63, 50000.0, 24700.0, 25300.0, 25000.0, 25000.0, 16249.0, 25000.0, 80000.0, 25000.0, 12000.0, 25000.0, 50000.0, 25000.0, 20000.0, 25000.0, 12500.0, 13000.0, 13250.0, 50000.0, 50000.0, 20000.0, 25000.0, 75000.0, 25000.0, 25000.0, 50000.0, 25000.0, 25000.0, 50000.0, 23000.0, 50000.0, 20000.0, 15000.0, 15000.0, 15000.0, 15000.0, 25000.0, 12470.0, 25000.0, 25000.0, 15000.0, 25000.0, 25000.0, 40000.0, 50000.0, 50000.0, 50000.0, 16000.0, 20400.0, 15000.0, 50000.0, 12500.0, 50000.0, 85000.0, 25000.0, 30000.0, 49360.95, 25000.0, 25000.0, 25000.0, 25000.0, 20000.0, 50000.0, 12500.0, 50864.64, 25000.0, 25000.0, 25000.0, 50000.0, 12500.0, 50000.0, 25000.0, 50000.0, 25000.0, 25000.0, 50000.0, 50000.0, 50000.0, 40000.0, 14500.0, 33333.34, 25000.0, 22500.0, 60000.0, 12200.0, 15000.0, 20000.0, 20000.0, 25000.0, 15000.0, 37000.0, 40000.0, 30000.0, 30000.0, 50000.0, 18300.0, 50000.0, 50000.0, 25000.0, 50000.0, 75000.0, 12500.0, 75000.0, 32000.0, 50000.0, 50000.0, 72000.0, 50000.0, 20000.0, 30000.0, 25000.0, 25000.0, 12500.0, 25000.0, 50000.0, 12000.0, 25000.0, 50000.0, 25000.0, 30000.0, 25000.0, 12500.0, 25000.0, 50000.0, 20000.0, 75000.0, 50000.0, 25000.0, 20920.0, 50000.0, 50000.0, 30000.0, 25000.0, 12500.0, 50000.0, 25000.0, 25000.0, 12500.0, 12500.0, 50000.0, 25000.0, 24312.0, 24312.0, 17640.0, 24177.0, 20313.0, 69918.24, 15280.0, 25000.0, 25000.0, 11920.0, 25000.0, 25000.0, 12000.0, 15000.0, 25000.0, 37520.0, 50000.0, 25000.0, 50000.0, 25000.0, 25000.0, 12500.0, 15000.0, 15000.0, 15000.0, 13000.0, 16000.0, 50000.0, 50000.0, 25000.0, 25000.0, 15000.0, 19000.0, 12500.0, 52213.39, 25000.0, 18000.0, 22485.0, 20000.0, 20000.0, 20000.0, 50000.0, 25000.0, 50000.0, 12500.0, 25246.0, 50000.0, 12465.52, 56115.0, 22500.0, 20000.0, 25000.0, 30000.0, 50000.0, 25000.0, 11780.0, 15000.0, 24500.0, 25000.0, 15000.0, 25000.0, 58000.0, 15000.0, 25000.0, 28000.0, 25000.0, 32190.0, 30000.0, 24999.34, 31048.16, 31048.16, 50000.0, 25000.0, 25000.0, 25000.0, 15000.0, 75000.0, 25000.0, 25000.0, 25000.0, 25000.0, 25000.0, 25000.0, 25000.0, 12000.0, 12000.0, 12000.0, 12000.0, 12000.0, 50000.0, 25000.0, 40000.0, 30000.0, 60000.0, 22500.0, 25000.0, 30000.0, 15000.0, 20000.0, 20000.0, 20000.0, 25000.0, 11700.0, 75000.0, 25000.0, 20500.0, 15001.0, 12500.0, 16667.0, 14730.0, 14000.0, 50000.0, 25000.0, 19254.0, 27000.0, 41663.0, 63842.0, 35000.0, 50000.0, 41489.75, 25000.0, 25000.0, 25000.0, 30000.0, 12500.0, 25000.0, 50000.0, 16667.0, 50000.0, 20000.0, 12500.0, 50000.0, 25000.0, 13800.0, 50000.0, 75000.0, 15000.0, 50000.0, 25000.0, 25000.0, 25000.0, 25000.0, 15000.0, 50000.0, 25000.0, 25000.0, 25000.0, 12500.0, 25000.0, 25000.0, 50000.0, 50000.0, 25000.0, 15000.0, 16250.0, 25000.0, 12000.0, 12000.0, 12500.0, 25000.0, 15952.0, 50000.0, 15000.0, 50000.0, 15000.0, 15000.0, 25000.0, 15000.0, 15000.0, 50000.0, 20000.0, 25000.0, 15000.0, 25000.0, 25000.0, 50000.0, 25000.0, 25000.0, 50000.0, 25000.0, 25000.0, 50000.0, 12500.0, 26099.64, 15000.0, 37500.0, 25000.0, 25000.0, 25000.0, 50000.0, 50000.0, 25000.0, 25000.0, 15000.0, 25000.0, 12500.0, 15000.0, 20000.0, 21102.83, 15000.0, 25000.0, 50000.0, 25000.0, 25000.0, 50294.4, 15000.0, 25000.0, 15000.0, 20000.0, 25000.0, 25000.0, 25000.0, 40000.0, 25000.0, 25000.0, 60000.0, 50000.0, 50000.0, 50000.0, 50000.0, 25000.0, 25000.0, 60000.0, 50000.0, 60000.0, 25000.0, 25000.0, 25000.0, 25000.0, 50000.0, 50000.0, 62500.0, 62500.0, 25000.0, 25000.0, 50000.0, 50000.0, 50000.0, 50000.0, 16667.0, 16667.0, 67898.55, 12500.0, 12500.0, 50000.0, 50000.0, 25000.0, 50000.0, 15900.0, 15900.0, 25000.0, 25000.0, 33333.3, 33333.3, 50000.0, 25000.0, 25000.0, 50000.0, 50000.0, 25000.0, 25000.0, 25000.0, 25000.0, 25000.0, 25000.0, 50000.0, 50000.0, 50000.0, 50000.0, 50000.0, 25000.0, 25000.0, 25000.0, 17500.0, 25000.0, 25000.0, 22500.0, 45000.0, 50000.0, 50000.0, 21000.0, 21000.0, 25000.0, 25000.0, 25000.0, 25000.0, 22550.0, 50000.0, 15000.0, 50000.0, 50000.0, 25000.0, 25000.0, 25000.0] \n",
            "\n"
          ],
          "name": "stdout"
        }
      ]
    },
    {
      "cell_type": "code",
      "metadata": {
        "colab": {
          "base_uri": "https://localhost:8080/",
          "height": 372
        },
        "id": "5-vZRkGG5pP4",
        "outputId": "40e5ef83-4f34-4f65-cc28-1d6b26f2ddfe"
      },
      "source": [
        "plt.hist(df['TOTAL_AMT_2015_2020'])"
      ],
      "execution_count": null,
      "outputs": [
        {
          "output_type": "execute_result",
          "data": {
            "text/plain": [
              "(array([2.54571e+05, 1.43600e+03, 1.17100e+03, 1.22000e+02, 5.60000e+01,\n",
              "        6.96000e+02, 3.80000e+01, 4.90000e+01, 4.00000e+00, 5.00000e+00]),\n",
              " array([1.0000000e-02, 9.9999330e+03, 1.9999856e+04, 2.9999779e+04,\n",
              "        3.9999702e+04, 4.9999625e+04, 5.9999548e+04, 6.9999471e+04,\n",
              "        7.9999394e+04, 8.9999317e+04, 9.9999240e+04]),\n",
              " <a list of 10 Patch objects>)"
            ]
          },
          "metadata": {
            "tags": []
          },
          "execution_count": 18
        },
        {
          "output_type": "display_data",
          "data": {
            "image/png": "[encoded data removed]",
            "text/plain": [
              "<Figure size 432x288 with 1 Axes>"
            ]
          },
          "metadata": {
            "tags": [],
            "needs_background": "light"
          }
        }
      ]
    },
    {
      "cell_type": "code",
      "metadata": {
        "colab": {
          "base_uri": "https://localhost:8080/",
          "height": 404
        },
        "id": "GgVkyCcF5spk",
        "outputId": "48062b82-0c97-49f4-fafd-cf91da2ce012"
      },
      "source": [
        "ta0_500 = df[\"TOTAL_AMT_2015_2020\"][(df[\"TOTAL_AMT_2015_2020\"] >= 0) & (df[\"TOTAL_AMT_2015_2020\"] <= 500)]\r\n",
        "ta500_1000 = df[\"TOTAL_AMT_2015_2020\"][(df[\"TOTAL_AMT_2015_2020\"] > 500) & (df[\"TOTAL_AMT_2015_2020\"] <= 1000)]\r\n",
        "ta1000_1500 = df[\"TOTAL_AMT_2015_2020\"][(df[\"TOTAL_AMT_2015_2020\"] > 1000) & (df[\"TOTAL_AMT_2015_2020\"] <= 1500)]\r\n",
        "ta1500_2000 = df[\"TOTAL_AMT_2015_2020\"][(df[\"TOTAL_AMT_2015_2020\"] > 1500) & (df[\"TOTAL_AMT_2015_2020\"] <= 2000)]\r\n",
        "ta2000_5000 = df[\"TOTAL_AMT_2015_2020\"][(df[\"TOTAL_AMT_2015_2020\"] > 2000) & (df[\"TOTAL_AMT_2015_2020\"] <= 5000)]\r\n",
        "ta5000_10000 = df[\"TOTAL_AMT_2015_2020\"][(df[\"TOTAL_AMT_2015_2020\"] > 5000) & (df[\"TOTAL_AMT_2015_2020\"] <= 10000)]\r\n",
        "ta1000_20000 = df[\"TOTAL_AMT_2015_2020\"][(df[\"TOTAL_AMT_2015_2020\"] > 10000) & (df[\"TOTAL_AMT_2015_2020\"] <= 20000)]\r\n",
        "ta2000_30000 = df[\"TOTAL_AMT_2015_2020\"][(df[\"TOTAL_AMT_2015_2020\"] > 20000) & (df[\"TOTAL_AMT_2015_2020\"] <= 50000)]\r\n",
        "ta50000 = df[\"TOTAL_AMT_2015_2020\"][(df[\"TOTAL_AMT_2015_2020\"] > 50000)]\r\n",
        "\r\n",
        "aix = [\"$ 0 - 500\", \"$ 500 - 1,000\", \"$ 1,001 - 1,500\", \"$ 1,501 - 2,000\", \"$ 2,001 - 5,000\",\"$ 5,001 - 10,000\",\"$ 10,001 - 20,000\",\"$ 20,001 - 30,000\",\"$ 50,000 >\"]\r\n",
        "aiy = [len(ta0_500.values), len(ta500_1000.values), len(ta1000_1500.values), len(ta1500_2000.values), len(ta2000_5000.values),len(ta5000_10000),len(ta1000_20000),len(ta2000_30000),len(ta50000)]\r\n",
        "\r\n",
        "plt.figure(figsize=(15,6))\r\n",
        "ax = sns.barplot(x=aix, y=aiy, palette=\"Set2\")\r\n",
        "\r\n",
        "\r\n",
        "for i, p in enumerate(ax.patches):\r\n",
        "    height = p.get_height()\r\n",
        "    ax.text(p.get_x()+p.get_width()/2., height + 0.1, aiy[i],ha=\"center\")\r\n",
        "\r\n",
        "plt.title(\"Donor Distribution\")\r\n",
        "plt.xlabel(\"Donation Amount\")\r\n",
        "plt.ylabel(\"Number of Customer\")\r\n",
        "plt.show()"
      ],
      "execution_count": null,
      "outputs": [
        {
          "output_type": "display_data",
          "data": {
            "image/png": "[encoded data removed]",
            "text/plain": [
              "<Figure size 1080x432 with 1 Axes>"
            ]
          },
          "metadata": {
            "tags": [],
            "needs_background": "light"
          }
        }
      ]
    },
    {
      "cell_type": "code",
      "metadata": {
        "colab": {
          "base_uri": "https://localhost:8080/",
          "height": 404
        },
        "id": "UZAXMvl65yaW",
        "outputId": "e148f736-2ff4-40f4-f89a-6ae6baa8e496"
      },
      "source": [
        "ta0_50 = df[\"TOTAL_AMT_2015_2020\"][(df[\"TOTAL_AMT_2015_2020\"] >= 0) & (df[\"TOTAL_AMT_2015_2020\"] <= 50)]\r\n",
        "ta50_100 = df[\"TOTAL_AMT_2015_2020\"][(df[\"TOTAL_AMT_2015_2020\"] > 50) & (df[\"TOTAL_AMT_2015_2020\"] <= 100)]\r\n",
        "ta100_150 = df[\"TOTAL_AMT_2015_2020\"][(df[\"TOTAL_AMT_2015_2020\"] > 100) & (df[\"TOTAL_AMT_2015_2020\"] <= 150)]\r\n",
        "ta150_200 = df[\"TOTAL_AMT_2015_2020\"][(df[\"TOTAL_AMT_2015_2020\"] > 150) & (df[\"TOTAL_AMT_2015_2020\"] <= 200)]\r\n",
        "ta200_250 = df[\"TOTAL_AMT_2015_2020\"][(df[\"TOTAL_AMT_2015_2020\"] > 200) & (df[\"TOTAL_AMT_2015_2020\"] <= 250)]\r\n",
        "ta250_300 = df[\"TOTAL_AMT_2015_2020\"][(df[\"TOTAL_AMT_2015_2020\"] > 250) & (df[\"TOTAL_AMT_2015_2020\"] <= 300)]\r\n",
        "ta300_350 = df[\"TOTAL_AMT_2015_2020\"][(df[\"TOTAL_AMT_2015_2020\"] > 300) & (df[\"TOTAL_AMT_2015_2020\"] <= 350)]\r\n",
        "ta350_400 = df[\"TOTAL_AMT_2015_2020\"][(df[\"TOTAL_AMT_2015_2020\"] > 350) & (df[\"TOTAL_AMT_2015_2020\"] <= 400)]\r\n",
        "ta400_450 = df[\"TOTAL_AMT_2015_2020\"][(df[\"TOTAL_AMT_2015_2020\"] > 400) & (df[\"TOTAL_AMT_2015_2020\"] <= 450)]\r\n",
        "ta450_500 = df[\"TOTAL_AMT_2015_2020\"][(df[\"TOTAL_AMT_2015_2020\"] > 450) & (df[\"TOTAL_AMT_2015_2020\"] <= 500)]\r\n",
        "ta500 = df[\"TOTAL_AMT_2015_2020\"][(df[\"TOTAL_AMT_2015_2020\"] > 500)]\r\n",
        "\r\n",
        "aix1 = [\"$ 0 - 50\", \"$ 50 - 100\", \"$ 100 - 150\", \"$ 150 - 200\", \"$ 200 - 250\",\"$ 250 - 300\",\"$ 300 - 350\",\"$ 350 - 400\",\"$ 400 - 450\",\"$ 450 - 500\",\">$500\"]\r\n",
        "aiy1 = [len(ta0_50.values), len(ta50_100.values), len(ta100_150.values), len(ta150_200.values), len(ta200_250.values),len(ta250_300),len(ta300_350),len(ta350_400),len(ta400_450),len(ta450_500),len(ta500)]\r\n",
        "\r\n",
        "plt.figure(figsize=(15,6))\r\n",
        "ax1 = sns.barplot(x=aix1, y=aiy1, palette=\"Set2\")\r\n",
        "\r\n",
        "\r\n",
        "for i, p in enumerate(ax1.patches):\r\n",
        "    height = p.get_height()\r\n",
        "    ax1.text(p.get_x()+p.get_width()/2., height + 0.1, aiy1[i],ha=\"center\")\r\n",
        "\r\n",
        "plt.title(\"Donor Distribution\")\r\n",
        "plt.xlabel(\"Donation Amount\")\r\n",
        "plt.ylabel(\"Number of Customer\")\r\n",
        "plt.show()"
      ],
      "execution_count": null,
      "outputs": [
        {
          "output_type": "display_data",
          "data": {
            "image/png": "[encoded data removed]",
            "text/plain": [
              "<Figure size 1080x432 with 1 Axes>"
            ]
          },
          "metadata": {
            "tags": [],
            "needs_background": "light"
          }
        }
      ]
    },
    {
      "cell_type": "code",
      "metadata": {
        "colab": {
          "base_uri": "https://localhost:8080/",
          "height": 411
        },
        "id": "4F0zXayQ5vxx",
        "outputId": "21a83726-9c12-4540-f45e-6d1ad8a67681"
      },
      "source": [
        "plt.figure(figsize=(10,6))\r\n",
        "sns.histplot(data=df['FISCAL_YEAR_ENDING'])"
      ],
      "execution_count": null,
      "outputs": [
        {
          "output_type": "execute_result",
          "data": {
            "text/plain": [
              "<matplotlib.axes._subplots.AxesSubplot at 0x7f1602940358>"
            ]
          },
          "metadata": {
            "tags": []
          },
          "execution_count": 31
        },
        {
          "output_type": "display_data",
          "data": {
            "image/png": "[encoded data removed]",
            "text/plain": [
              "<Figure size 720x432 with 1 Axes>"
            ]
          },
          "metadata": {
            "tags": [],
            "needs_background": "light"
          }
        }
      ]
    },
    {
      "cell_type": "code",
      "metadata": {
        "colab": {
          "base_uri": "https://localhost:8080/",
          "height": 407
        },
        "id": "UE2h3XGq85mM",
        "outputId": "3563812f-2d09-4b54-b03c-2e6442facb34"
      },
      "source": [
        "plt.figure(figsize=(12,6))\r\n",
        "sns.histplot(data=df['CSU_CODE'])"
      ],
      "execution_count": null,
      "outputs": [
        {
          "output_type": "execute_result",
          "data": {
            "text/plain": [
              "<matplotlib.axes._subplots.AxesSubplot at 0x7f1602745908>"
            ]
          },
          "metadata": {
            "tags": []
          },
          "execution_count": 32
        },
        {
          "output_type": "display_data",
          "data": {
            "image/png": "[encoded data removed]",
            "text/plain": [
              "<Figure size 864x432 with 1 Axes>"
            ]
          },
          "metadata": {
            "tags": [],
            "needs_background": "light"
          }
        }
      ]
    },
    {
      "cell_type": "code",
      "metadata": {
        "colab": {
          "base_uri": "https://localhost:8080/",
          "height": 404
        },
        "id": "RaRvK-obE2j7",
        "outputId": "fd965c6e-ea3c-47b5-c1cb-c50f45672396"
      },
      "source": [
        "amnt_per_year = df.groupby('FISCAL_YEAR_ENDING')['TOTAL_AMT_2015_2020'].sum()\r\n",
        "amnt_per_year_df=amnt_per_year.to_frame().reset_index()\r\n",
        "amnt_per_year_df\r\n",
        "\r\n",
        "ax = amnt_per_year_df['FISCAL_YEAR_ENDING']\r\n",
        "ay = amnt_per_year_df['TOTAL_AMT_2015_2020']\r\n",
        "\r\n",
        "plt.figure(figsize=(15,6))\r\n",
        "ax = sns.barplot(x=ax, y=ay, palette=\"Set2\")\r\n",
        "\r\n",
        "\r\n",
        "for i, p in enumerate(ax.patches):\r\n",
        "    height = p.get_height()\r\n",
        "    ax.text(p.get_x()+p.get_width()/2., height + 0.1, ay[i],ha=\"center\")\r\n",
        "\r\n",
        "plt.title(\"Yearly Donation Amount\")\r\n",
        "plt.xlabel(\"Donation Fiscal Year\")\r\n",
        "plt.ylabel(\"Total Donation Amount\")\r\n",
        "plt.show()\r\n",
        "\r\n",
        "# Donation amount in 2020 was 26 million approx"
      ],
      "execution_count": null,
      "outputs": [
        {
          "output_type": "display_data",
          "data": {
            "image/png": "[encoded data removed]",
            "text/plain": [
              "<Figure size 1080x432 with 1 Axes>"
            ]
          },
          "metadata": {
            "tags": [],
            "needs_background": "light"
          }
        }
      ]
    },
    {
      "cell_type": "code",
      "metadata": {
        "id": "ioUECa3L86wK"
      },
      "source": [
        "giving_year_count = df.groupby(['RANDOM_ID','FISCAL_YEAR_ENDING'])['TOTAL_AMT_2015_2020'].sum()"
      ],
      "execution_count": null,
      "outputs": []
    },
    {
      "cell_type": "code",
      "metadata": {
        "colab": {
          "base_uri": "https://localhost:8080/"
        },
        "id": "c-GWHo_QFEMv",
        "outputId": "846c7ab8-4dda-4e20-d58e-a7e78bb5fe5d"
      },
      "source": [
        "giving_year_count"
      ],
      "execution_count": null,
      "outputs": [
        {
          "output_type": "execute_result",
          "data": {
            "text/plain": [
              "RANDOM_ID  FISCAL_YEAR_ENDING\n",
              "00017EH9   2015                    15.00\n",
              "000V0H91   2015                   250.00\n",
              "001J3BUD   2015                   500.00\n",
              "           2018                    25.00\n",
              "           2020                   294.23\n",
              "                                  ...   \n",
              "ZZZC54VI   2015                  1499.94\n",
              "           2017                  4999.80\n",
              "ZZZPEPYG   2018                   100.00\n",
              "           2019                   100.00\n",
              "           2020                   250.00\n",
              "Name: TOTAL_AMT_2015_2020, Length: 204258, dtype: float64"
            ]
          },
          "metadata": {
            "tags": []
          },
          "execution_count": 35
        }
      ]
    },
    {
      "cell_type": "code",
      "metadata": {
        "colab": {
          "base_uri": "https://localhost:8080/"
        },
        "id": "oQg9QhsgFI22",
        "outputId": "23641043-6e50-44f4-8bf7-0ad3d62bd6b8"
      },
      "source": [
        "user_yearly_data =  giving_year_count.to_frame().reset_index()\r\n",
        "print(user_yearly_data)"
      ],
      "execution_count": null,
      "outputs": [
        {
          "output_type": "stream",
          "text": [
            "       RANDOM_ID  FISCAL_YEAR_ENDING  TOTAL_AMT_2015_2020\n",
            "0       00017EH9                2015                15.00\n",
            "1       000V0H91                2015               250.00\n",
            "2       001J3BUD                2015               500.00\n",
            "3       001J3BUD                2018                25.00\n",
            "4       001J3BUD                2020               294.23\n",
            "...          ...                 ...                  ...\n",
            "204253  ZZZC54VI                2015              1499.94\n",
            "204254  ZZZC54VI                2017              4999.80\n",
            "204255  ZZZPEPYG                2018               100.00\n",
            "204256  ZZZPEPYG                2019               100.00\n",
            "204257  ZZZPEPYG                2020               250.00\n",
            "\n",
            "[204258 rows x 3 columns]\n"
          ],
          "name": "stdout"
        }
      ]
    },
    {
      "cell_type": "code",
      "metadata": {
        "colab": {
          "base_uri": "https://localhost:8080/",
          "height": 399
        },
        "id": "hnWxF8VpFMLI",
        "outputId": "16b4b1ba-a614-4feb-9130-07de8e65b571"
      },
      "source": [
        "user_yearly_data"
      ],
      "execution_count": null,
      "outputs": [
        {
          "output_type": "execute_result",
          "data": {
            "text/html": [
              "<div>\n",
              "<style scoped>\n",
              "    .dataframe tbody tr th:only-of-type {\n",
              "        vertical-align: middle;\n",
              "    }\n",
              "\n",
              "    .dataframe tbody tr th {\n",
              "        vertical-align: top;\n",
              "    }\n",
              "\n",
              "    .dataframe thead th {\n",
              "        text-align: right;\n",
              "    }\n",
              "</style>\n",
              "<table border=\"1\" class=\"dataframe\">\n",
              "  <thead>\n",
              "    <tr style=\"text-align: right;\">\n",
              "      <th></th>\n",
              "      <th>RANDOM_ID</th>\n",
              "      <th>FISCAL_YEAR_ENDING</th>\n",
              "      <th>TOTAL_AMT_2015_2020</th>\n",
              "    </tr>\n",
              "  </thead>\n",
              "  <tbody>\n",
              "    <tr>\n",
              "      <th>0</th>\n",
              "      <td>00017EH9</td>\n",
              "      <td>2015</td>\n",
              "      <td>15.00</td>\n",
              "    </tr>\n",
              "    <tr>\n",
              "      <th>1</th>\n",
              "      <td>000V0H91</td>\n",
              "      <td>2015</td>\n",
              "      <td>250.00</td>\n",
              "    </tr>\n",
              "    <tr>\n",
              "      <th>2</th>\n",
              "      <td>001J3BUD</td>\n",
              "      <td>2015</td>\n",
              "      <td>500.00</td>\n",
              "    </tr>\n",
              "    <tr>\n",
              "      <th>3</th>\n",
              "      <td>001J3BUD</td>\n",
              "      <td>2018</td>\n",
              "      <td>25.00</td>\n",
              "    </tr>\n",
              "    <tr>\n",
              "      <th>4</th>\n",
              "      <td>001J3BUD</td>\n",
              "      <td>2020</td>\n",
              "      <td>294.23</td>\n",
              "    </tr>\n",
              "    <tr>\n",
              "      <th>...</th>\n",
              "      <td>...</td>\n",
              "      <td>...</td>\n",
              "      <td>...</td>\n",
              "    </tr>\n",
              "    <tr>\n",
              "      <th>204253</th>\n",
              "      <td>ZZZC54VI</td>\n",
              "      <td>2015</td>\n",
              "      <td>1499.94</td>\n",
              "    </tr>\n",
              "    <tr>\n",
              "      <th>204254</th>\n",
              "      <td>ZZZC54VI</td>\n",
              "      <td>2017</td>\n",
              "      <td>4999.80</td>\n",
              "    </tr>\n",
              "    <tr>\n",
              "      <th>204255</th>\n",
              "      <td>ZZZPEPYG</td>\n",
              "      <td>2018</td>\n",
              "      <td>100.00</td>\n",
              "    </tr>\n",
              "    <tr>\n",
              "      <th>204256</th>\n",
              "      <td>ZZZPEPYG</td>\n",
              "      <td>2019</td>\n",
              "      <td>100.00</td>\n",
              "    </tr>\n",
              "    <tr>\n",
              "      <th>204257</th>\n",
              "      <td>ZZZPEPYG</td>\n",
              "      <td>2020</td>\n",
              "      <td>250.00</td>\n",
              "    </tr>\n",
              "  </tbody>\n",
              "</table>\n",
              "<p>204258 rows × 3 columns</p>\n",
              "</div>"
            ],
            "text/plain": [
              "       RANDOM_ID  FISCAL_YEAR_ENDING  TOTAL_AMT_2015_2020\n",
              "0       00017EH9                2015                15.00\n",
              "1       000V0H91                2015               250.00\n",
              "2       001J3BUD                2015               500.00\n",
              "3       001J3BUD                2018                25.00\n",
              "4       001J3BUD                2020               294.23\n",
              "...          ...                 ...                  ...\n",
              "204253  ZZZC54VI                2015              1499.94\n",
              "204254  ZZZC54VI                2017              4999.80\n",
              "204255  ZZZPEPYG                2018               100.00\n",
              "204256  ZZZPEPYG                2019               100.00\n",
              "204257  ZZZPEPYG                2020               250.00\n",
              "\n",
              "[204258 rows x 3 columns]"
            ]
          },
          "metadata": {
            "tags": []
          },
          "execution_count": 37
        }
      ]
    },
    {
      "cell_type": "code",
      "metadata": {
        "colab": {
          "base_uri": "https://localhost:8080/",
          "height": 428
        },
        "id": "erEELR5kFRJz",
        "outputId": "d4b9b4a5-0b1a-4fc8-8374-7c2b09aaa2b7"
      },
      "source": [
        "user_yearly_data_df = user_yearly_data.groupby(['RANDOM_ID']).nunique()\r\n",
        "user_yearly_data_df"
      ],
      "execution_count": null,
      "outputs": [
        {
          "output_type": "execute_result",
          "data": {
            "text/html": [
              "<div>\n",
              "<style scoped>\n",
              "    .dataframe tbody tr th:only-of-type {\n",
              "        vertical-align: middle;\n",
              "    }\n",
              "\n",
              "    .dataframe tbody tr th {\n",
              "        vertical-align: top;\n",
              "    }\n",
              "\n",
              "    .dataframe thead th {\n",
              "        text-align: right;\n",
              "    }\n",
              "</style>\n",
              "<table border=\"1\" class=\"dataframe\">\n",
              "  <thead>\n",
              "    <tr style=\"text-align: right;\">\n",
              "      <th></th>\n",
              "      <th>FISCAL_YEAR_ENDING</th>\n",
              "      <th>TOTAL_AMT_2015_2020</th>\n",
              "    </tr>\n",
              "    <tr>\n",
              "      <th>RANDOM_ID</th>\n",
              "      <th></th>\n",
              "      <th></th>\n",
              "    </tr>\n",
              "  </thead>\n",
              "  <tbody>\n",
              "    <tr>\n",
              "      <th>00017EH9</th>\n",
              "      <td>1</td>\n",
              "      <td>1</td>\n",
              "    </tr>\n",
              "    <tr>\n",
              "      <th>000V0H91</th>\n",
              "      <td>1</td>\n",
              "      <td>1</td>\n",
              "    </tr>\n",
              "    <tr>\n",
              "      <th>001J3BUD</th>\n",
              "      <td>3</td>\n",
              "      <td>3</td>\n",
              "    </tr>\n",
              "    <tr>\n",
              "      <th>001RB8B4</th>\n",
              "      <td>1</td>\n",
              "      <td>1</td>\n",
              "    </tr>\n",
              "    <tr>\n",
              "      <th>001TY1IF</th>\n",
              "      <td>5</td>\n",
              "      <td>3</td>\n",
              "    </tr>\n",
              "    <tr>\n",
              "      <th>...</th>\n",
              "      <td>...</td>\n",
              "      <td>...</td>\n",
              "    </tr>\n",
              "    <tr>\n",
              "      <th>ZZYT6KZ6</th>\n",
              "      <td>3</td>\n",
              "      <td>1</td>\n",
              "    </tr>\n",
              "    <tr>\n",
              "      <th>ZZZ7S81M</th>\n",
              "      <td>1</td>\n",
              "      <td>1</td>\n",
              "    </tr>\n",
              "    <tr>\n",
              "      <th>ZZZBT9C0</th>\n",
              "      <td>1</td>\n",
              "      <td>1</td>\n",
              "    </tr>\n",
              "    <tr>\n",
              "      <th>ZZZC54VI</th>\n",
              "      <td>2</td>\n",
              "      <td>2</td>\n",
              "    </tr>\n",
              "    <tr>\n",
              "      <th>ZZZPEPYG</th>\n",
              "      <td>3</td>\n",
              "      <td>2</td>\n",
              "    </tr>\n",
              "  </tbody>\n",
              "</table>\n",
              "<p>98368 rows × 2 columns</p>\n",
              "</div>"
            ],
            "text/plain": [
              "           FISCAL_YEAR_ENDING  TOTAL_AMT_2015_2020\n",
              "RANDOM_ID                                         \n",
              "00017EH9                    1                    1\n",
              "000V0H91                    1                    1\n",
              "001J3BUD                    3                    3\n",
              "001RB8B4                    1                    1\n",
              "001TY1IF                    5                    3\n",
              "...                       ...                  ...\n",
              "ZZYT6KZ6                    3                    1\n",
              "ZZZ7S81M                    1                    1\n",
              "ZZZBT9C0                    1                    1\n",
              "ZZZC54VI                    2                    2\n",
              "ZZZPEPYG                    3                    2\n",
              "\n",
              "[98368 rows x 2 columns]"
            ]
          },
          "metadata": {
            "tags": []
          },
          "execution_count": 38
        }
      ]
    },
    {
      "cell_type": "code",
      "metadata": {
        "id": "51NyjtScFVRX"
      },
      "source": [
        "user_yearly_data_df = user_yearly_data_df.drop(columns=['TOTAL_AMT_2015_2020'])\r\n",
        "user_yearly_data_df = user_yearly_data_df.rename(columns={'index': 'RANDOM_ID','FISCAL_YEAR_ENDING':'Giving_Year_Count'}).reset_index()"
      ],
      "execution_count": null,
      "outputs": []
    },
    {
      "cell_type": "code",
      "metadata": {
        "colab": {
          "base_uri": "https://localhost:8080/",
          "height": 399
        },
        "id": "ThmhnNrfFasH",
        "outputId": "22af9807-ff25-417f-b262-31c142e6c2e2"
      },
      "source": [
        "user_yearly_data_df"
      ],
      "execution_count": null,
      "outputs": [
        {
          "output_type": "execute_result",
          "data": {
            "text/html": [
              "<div>\n",
              "<style scoped>\n",
              "    .dataframe tbody tr th:only-of-type {\n",
              "        vertical-align: middle;\n",
              "    }\n",
              "\n",
              "    .dataframe tbody tr th {\n",
              "        vertical-align: top;\n",
              "    }\n",
              "\n",
              "    .dataframe thead th {\n",
              "        text-align: right;\n",
              "    }\n",
              "</style>\n",
              "<table border=\"1\" class=\"dataframe\">\n",
              "  <thead>\n",
              "    <tr style=\"text-align: right;\">\n",
              "      <th></th>\n",
              "      <th>RANDOM_ID</th>\n",
              "      <th>Giving_Year_Count</th>\n",
              "    </tr>\n",
              "  </thead>\n",
              "  <tbody>\n",
              "    <tr>\n",
              "      <th>0</th>\n",
              "      <td>00017EH9</td>\n",
              "      <td>1</td>\n",
              "    </tr>\n",
              "    <tr>\n",
              "      <th>1</th>\n",
              "      <td>000V0H91</td>\n",
              "      <td>1</td>\n",
              "    </tr>\n",
              "    <tr>\n",
              "      <th>2</th>\n",
              "      <td>001J3BUD</td>\n",
              "      <td>3</td>\n",
              "    </tr>\n",
              "    <tr>\n",
              "      <th>3</th>\n",
              "      <td>001RB8B4</td>\n",
              "      <td>1</td>\n",
              "    </tr>\n",
              "    <tr>\n",
              "      <th>4</th>\n",
              "      <td>001TY1IF</td>\n",
              "      <td>5</td>\n",
              "    </tr>\n",
              "    <tr>\n",
              "      <th>...</th>\n",
              "      <td>...</td>\n",
              "      <td>...</td>\n",
              "    </tr>\n",
              "    <tr>\n",
              "      <th>98363</th>\n",
              "      <td>ZZYT6KZ6</td>\n",
              "      <td>3</td>\n",
              "    </tr>\n",
              "    <tr>\n",
              "      <th>98364</th>\n",
              "      <td>ZZZ7S81M</td>\n",
              "      <td>1</td>\n",
              "    </tr>\n",
              "    <tr>\n",
              "      <th>98365</th>\n",
              "      <td>ZZZBT9C0</td>\n",
              "      <td>1</td>\n",
              "    </tr>\n",
              "    <tr>\n",
              "      <th>98366</th>\n",
              "      <td>ZZZC54VI</td>\n",
              "      <td>2</td>\n",
              "    </tr>\n",
              "    <tr>\n",
              "      <th>98367</th>\n",
              "      <td>ZZZPEPYG</td>\n",
              "      <td>3</td>\n",
              "    </tr>\n",
              "  </tbody>\n",
              "</table>\n",
              "<p>98368 rows × 2 columns</p>\n",
              "</div>"
            ],
            "text/plain": [
              "      RANDOM_ID  Giving_Year_Count\n",
              "0      00017EH9                  1\n",
              "1      000V0H91                  1\n",
              "2      001J3BUD                  3\n",
              "3      001RB8B4                  1\n",
              "4      001TY1IF                  5\n",
              "...         ...                ...\n",
              "98363  ZZYT6KZ6                  3\n",
              "98364  ZZZ7S81M                  1\n",
              "98365  ZZZBT9C0                  1\n",
              "98366  ZZZC54VI                  2\n",
              "98367  ZZZPEPYG                  3\n",
              "\n",
              "[98368 rows x 2 columns]"
            ]
          },
          "metadata": {
            "tags": []
          },
          "execution_count": 40
        }
      ]
    },
    {
      "cell_type": "code",
      "metadata": {
        "colab": {
          "base_uri": "https://localhost:8080/"
        },
        "id": "2GzzXzVTFcgK",
        "outputId": "104a2433-6ca1-47e7-bca9-e8b3f44a1d94"
      },
      "source": [
        "test = user_yearly_data_df['Giving_Year_Count'].value_counts() \r\n",
        "test"
      ],
      "execution_count": null,
      "outputs": [
        {
          "output_type": "execute_result",
          "data": {
            "text/plain": [
              "1    54694\n",
              "2    16259\n",
              "3     9298\n",
              "4     6840\n",
              "5     5870\n",
              "6     5407\n",
              "Name: Giving_Year_Count, dtype: int64"
            ]
          },
          "metadata": {
            "tags": []
          },
          "execution_count": 41
        }
      ]
    },
    {
      "cell_type": "code",
      "metadata": {
        "colab": {
          "base_uri": "https://localhost:8080/"
        },
        "id": "cDw2S7McFfO4",
        "outputId": "31033173-72c1-47ac-d088-994a4241d0e7"
      },
      "source": [
        "year_data = dict(test)\r\n",
        "donor_count = sum(test)\r\n",
        "year_list = list(year_data.values())\r\n",
        "print(year_data)\r\n",
        "print('Total people who have donated: ',donor_count)"
      ],
      "execution_count": null,
      "outputs": [
        {
          "output_type": "stream",
          "text": [
            "{1: 54694, 2: 16259, 3: 9298, 4: 6840, 5: 5870, 6: 5407}\n",
            "Total people who have donated:  98368\n"
          ],
          "name": "stdout"
        }
      ]
    },
    {
      "cell_type": "code",
      "metadata": {
        "colab": {
          "base_uri": "https://localhost:8080/",
          "height": 579
        },
        "id": "gExpcGUQFg_j",
        "outputId": "e6d4a7cf-0113-4d2e-afa8-2a23155b5d51"
      },
      "source": [
        "#Pie Chart showing donor distribution\r\n",
        "year_list\r\n",
        "\r\n",
        "my_labels = 'One','Two','Three', ' Four','Five','Six'\r\n",
        "textprops = {\"fontsize\":15} # Font size of text in pie chart\r\n",
        "plt.figure(figsize=(20,10))\r\n",
        "explode = [0.03,0,0,0,0,0.2] # To slice the perticuler section\r\n",
        "plt.pie(year_list,labels=my_labels,autopct='%1.2f%%',explode=explode,textprops=textprops)\r\n",
        "plt.axis('equal')\r\n",
        "plt.show()"
      ],
      "execution_count": null,
      "outputs": [
        {
          "output_type": "display_data",
          "data": {
            "image/png": "[encoded data removed]",
            "text/plain": [
              "<Figure size 1440x720 with 1 Axes>"
            ]
          },
          "metadata": {
            "tags": []
          }
        }
      ]
    },
    {
      "cell_type": "code",
      "metadata": {
        "colab": {
          "base_uri": "https://localhost:8080/",
          "height": 419
        },
        "id": "Xl85DQzXFjXa",
        "outputId": "9b93df43-4c44-4082-800a-ea4abf395336"
      },
      "source": [
        "dum_df = pd.get_dummies(df, columns=[\"FISCAL_YEAR_ENDING\"], prefix=[\"Donation_Year_\"])\r\n",
        "dum_df "
      ],
      "execution_count": null,
      "outputs": [
        {
          "output_type": "execute_result",
          "data": {
            "text/html": [
              "<div>\n",
              "<style scoped>\n",
              "    .dataframe tbody tr th:only-of-type {\n",
              "        vertical-align: middle;\n",
              "    }\n",
              "\n",
              "    .dataframe tbody tr th {\n",
              "        vertical-align: top;\n",
              "    }\n",
              "\n",
              "    .dataframe thead th {\n",
              "        text-align: right;\n",
              "    }\n",
              "</style>\n",
              "<table border=\"1\" class=\"dataframe\">\n",
              "  <thead>\n",
              "    <tr style=\"text-align: right;\">\n",
              "      <th></th>\n",
              "      <th>RANDOM_ID</th>\n",
              "      <th>CSU_CODE</th>\n",
              "      <th>DONOR_INTENT_ID</th>\n",
              "      <th>TOTAL_AMT_2015_2020</th>\n",
              "      <th>Donation_Year__2015</th>\n",
              "      <th>Donation_Year__2016</th>\n",
              "      <th>Donation_Year__2017</th>\n",
              "      <th>Donation_Year__2018</th>\n",
              "      <th>Donation_Year__2019</th>\n",
              "      <th>Donation_Year__2020</th>\n",
              "    </tr>\n",
              "  </thead>\n",
              "  <tbody>\n",
              "    <tr>\n",
              "      <th>0</th>\n",
              "      <td>THTKM076</td>\n",
              "      <td>CF</td>\n",
              "      <td>5294631</td>\n",
              "      <td>50.00</td>\n",
              "      <td>0</td>\n",
              "      <td>0</td>\n",
              "      <td>0</td>\n",
              "      <td>0</td>\n",
              "      <td>0</td>\n",
              "      <td>1</td>\n",
              "    </tr>\n",
              "    <tr>\n",
              "      <th>1</th>\n",
              "      <td>THTKM076</td>\n",
              "      <td>DM</td>\n",
              "      <td>205965</td>\n",
              "      <td>25.00</td>\n",
              "      <td>0</td>\n",
              "      <td>1</td>\n",
              "      <td>0</td>\n",
              "      <td>0</td>\n",
              "      <td>0</td>\n",
              "      <td>0</td>\n",
              "    </tr>\n",
              "    <tr>\n",
              "      <th>2</th>\n",
              "      <td>THTKM076</td>\n",
              "      <td>NS</td>\n",
              "      <td>4808641</td>\n",
              "      <td>25.00</td>\n",
              "      <td>0</td>\n",
              "      <td>0</td>\n",
              "      <td>0</td>\n",
              "      <td>0</td>\n",
              "      <td>1</td>\n",
              "      <td>0</td>\n",
              "    </tr>\n",
              "    <tr>\n",
              "      <th>3</th>\n",
              "      <td>THTKM076</td>\n",
              "      <td>NS</td>\n",
              "      <td>4447701</td>\n",
              "      <td>50.00</td>\n",
              "      <td>0</td>\n",
              "      <td>0</td>\n",
              "      <td>0</td>\n",
              "      <td>1</td>\n",
              "      <td>0</td>\n",
              "      <td>0</td>\n",
              "    </tr>\n",
              "    <tr>\n",
              "      <th>4</th>\n",
              "      <td>THTKM076</td>\n",
              "      <td>NS</td>\n",
              "      <td>264264</td>\n",
              "      <td>25.00</td>\n",
              "      <td>0</td>\n",
              "      <td>0</td>\n",
              "      <td>1</td>\n",
              "      <td>0</td>\n",
              "      <td>0</td>\n",
              "      <td>0</td>\n",
              "    </tr>\n",
              "    <tr>\n",
              "      <th>...</th>\n",
              "      <td>...</td>\n",
              "      <td>...</td>\n",
              "      <td>...</td>\n",
              "      <td>...</td>\n",
              "      <td>...</td>\n",
              "      <td>...</td>\n",
              "      <td>...</td>\n",
              "      <td>...</td>\n",
              "      <td>...</td>\n",
              "      <td>...</td>\n",
              "    </tr>\n",
              "    <tr>\n",
              "      <th>258143</th>\n",
              "      <td>PCX8A1SP</td>\n",
              "      <td>GR</td>\n",
              "      <td>3224609</td>\n",
              "      <td>100.00</td>\n",
              "      <td>1</td>\n",
              "      <td>0</td>\n",
              "      <td>0</td>\n",
              "      <td>0</td>\n",
              "      <td>0</td>\n",
              "      <td>0</td>\n",
              "    </tr>\n",
              "    <tr>\n",
              "      <th>258144</th>\n",
              "      <td>F3JAEMON</td>\n",
              "      <td>LA</td>\n",
              "      <td>3492004</td>\n",
              "      <td>40.00</td>\n",
              "      <td>1</td>\n",
              "      <td>0</td>\n",
              "      <td>0</td>\n",
              "      <td>0</td>\n",
              "      <td>0</td>\n",
              "      <td>0</td>\n",
              "    </tr>\n",
              "    <tr>\n",
              "      <th>258145</th>\n",
              "      <td>NQVCEOG8</td>\n",
              "      <td>NS</td>\n",
              "      <td>72452</td>\n",
              "      <td>100.00</td>\n",
              "      <td>1</td>\n",
              "      <td>0</td>\n",
              "      <td>0</td>\n",
              "      <td>0</td>\n",
              "      <td>0</td>\n",
              "      <td>0</td>\n",
              "    </tr>\n",
              "    <tr>\n",
              "      <th>258146</th>\n",
              "      <td>KL31U0S6</td>\n",
              "      <td>ED</td>\n",
              "      <td>83353</td>\n",
              "      <td>20.15</td>\n",
              "      <td>1</td>\n",
              "      <td>0</td>\n",
              "      <td>0</td>\n",
              "      <td>0</td>\n",
              "      <td>0</td>\n",
              "      <td>0</td>\n",
              "    </tr>\n",
              "    <tr>\n",
              "      <th>258147</th>\n",
              "      <td>EJH6I0OT</td>\n",
              "      <td>AT</td>\n",
              "      <td>75213</td>\n",
              "      <td>100.00</td>\n",
              "      <td>1</td>\n",
              "      <td>0</td>\n",
              "      <td>0</td>\n",
              "      <td>0</td>\n",
              "      <td>0</td>\n",
              "      <td>0</td>\n",
              "    </tr>\n",
              "  </tbody>\n",
              "</table>\n",
              "<p>258148 rows × 10 columns</p>\n",
              "</div>"
            ],
            "text/plain": [
              "       RANDOM_ID CSU_CODE  ...  Donation_Year__2019  Donation_Year__2020\n",
              "0       THTKM076       CF  ...                    0                    1\n",
              "1       THTKM076       DM  ...                    0                    0\n",
              "2       THTKM076       NS  ...                    1                    0\n",
              "3       THTKM076       NS  ...                    0                    0\n",
              "4       THTKM076       NS  ...                    0                    0\n",
              "...          ...      ...  ...                  ...                  ...\n",
              "258143  PCX8A1SP       GR  ...                    0                    0\n",
              "258144  F3JAEMON       LA  ...                    0                    0\n",
              "258145  NQVCEOG8       NS  ...                    0                    0\n",
              "258146  KL31U0S6       ED  ...                    0                    0\n",
              "258147  EJH6I0OT       AT  ...                    0                    0\n",
              "\n",
              "[258148 rows x 10 columns]"
            ]
          },
          "metadata": {
            "tags": []
          },
          "execution_count": 44
        }
      ]
    },
    {
      "cell_type": "code",
      "metadata": {
        "colab": {
          "base_uri": "https://localhost:8080/",
          "height": 399
        },
        "id": "5X2DJo4BHz5Q",
        "outputId": "5c02b047-7945-4e49-d4d4-e6dee1737188"
      },
      "source": [
        "## data pre processing\r\n",
        "## Drop CSU_CODE and DONOR_INTENT_ID\r\n",
        "dum_df = dum_df .drop(columns=['CSU_CODE','DONOR_INTENT_ID'])\r\n",
        "dum_df"
      ],
      "execution_count": null,
      "outputs": [
        {
          "output_type": "execute_result",
          "data": {
            "text/html": [
              "<div>\n",
              "<style scoped>\n",
              "    .dataframe tbody tr th:only-of-type {\n",
              "        vertical-align: middle;\n",
              "    }\n",
              "\n",
              "    .dataframe tbody tr th {\n",
              "        vertical-align: top;\n",
              "    }\n",
              "\n",
              "    .dataframe thead th {\n",
              "        text-align: right;\n",
              "    }\n",
              "</style>\n",
              "<table border=\"1\" class=\"dataframe\">\n",
              "  <thead>\n",
              "    <tr style=\"text-align: right;\">\n",
              "      <th></th>\n",
              "      <th>RANDOM_ID</th>\n",
              "      <th>TOTAL_AMT_2015_2020</th>\n",
              "      <th>Donation_Year__2015</th>\n",
              "      <th>Donation_Year__2016</th>\n",
              "      <th>Donation_Year__2017</th>\n",
              "      <th>Donation_Year__2018</th>\n",
              "      <th>Donation_Year__2019</th>\n",
              "      <th>Donation_Year__2020</th>\n",
              "    </tr>\n",
              "  </thead>\n",
              "  <tbody>\n",
              "    <tr>\n",
              "      <th>0</th>\n",
              "      <td>THTKM076</td>\n",
              "      <td>50.00</td>\n",
              "      <td>0</td>\n",
              "      <td>0</td>\n",
              "      <td>0</td>\n",
              "      <td>0</td>\n",
              "      <td>0</td>\n",
              "      <td>1</td>\n",
              "    </tr>\n",
              "    <tr>\n",
              "      <th>1</th>\n",
              "      <td>THTKM076</td>\n",
              "      <td>25.00</td>\n",
              "      <td>0</td>\n",
              "      <td>1</td>\n",
              "      <td>0</td>\n",
              "      <td>0</td>\n",
              "      <td>0</td>\n",
              "      <td>0</td>\n",
              "    </tr>\n",
              "    <tr>\n",
              "      <th>2</th>\n",
              "      <td>THTKM076</td>\n",
              "      <td>25.00</td>\n",
              "      <td>0</td>\n",
              "      <td>0</td>\n",
              "      <td>0</td>\n",
              "      <td>0</td>\n",
              "      <td>1</td>\n",
              "      <td>0</td>\n",
              "    </tr>\n",
              "    <tr>\n",
              "      <th>3</th>\n",
              "      <td>THTKM076</td>\n",
              "      <td>50.00</td>\n",
              "      <td>0</td>\n",
              "      <td>0</td>\n",
              "      <td>0</td>\n",
              "      <td>1</td>\n",
              "      <td>0</td>\n",
              "      <td>0</td>\n",
              "    </tr>\n",
              "    <tr>\n",
              "      <th>4</th>\n",
              "      <td>THTKM076</td>\n",
              "      <td>25.00</td>\n",
              "      <td>0</td>\n",
              "      <td>0</td>\n",
              "      <td>1</td>\n",
              "      <td>0</td>\n",
              "      <td>0</td>\n",
              "      <td>0</td>\n",
              "    </tr>\n",
              "    <tr>\n",
              "      <th>...</th>\n",
              "      <td>...</td>\n",
              "      <td>...</td>\n",
              "      <td>...</td>\n",
              "      <td>...</td>\n",
              "      <td>...</td>\n",
              "      <td>...</td>\n",
              "      <td>...</td>\n",
              "      <td>...</td>\n",
              "    </tr>\n",
              "    <tr>\n",
              "      <th>258143</th>\n",
              "      <td>PCX8A1SP</td>\n",
              "      <td>100.00</td>\n",
              "      <td>1</td>\n",
              "      <td>0</td>\n",
              "      <td>0</td>\n",
              "      <td>0</td>\n",
              "      <td>0</td>\n",
              "      <td>0</td>\n",
              "    </tr>\n",
              "    <tr>\n",
              "      <th>258144</th>\n",
              "      <td>F3JAEMON</td>\n",
              "      <td>40.00</td>\n",
              "      <td>1</td>\n",
              "      <td>0</td>\n",
              "      <td>0</td>\n",
              "      <td>0</td>\n",
              "      <td>0</td>\n",
              "      <td>0</td>\n",
              "    </tr>\n",
              "    <tr>\n",
              "      <th>258145</th>\n",
              "      <td>NQVCEOG8</td>\n",
              "      <td>100.00</td>\n",
              "      <td>1</td>\n",
              "      <td>0</td>\n",
              "      <td>0</td>\n",
              "      <td>0</td>\n",
              "      <td>0</td>\n",
              "      <td>0</td>\n",
              "    </tr>\n",
              "    <tr>\n",
              "      <th>258146</th>\n",
              "      <td>KL31U0S6</td>\n",
              "      <td>20.15</td>\n",
              "      <td>1</td>\n",
              "      <td>0</td>\n",
              "      <td>0</td>\n",
              "      <td>0</td>\n",
              "      <td>0</td>\n",
              "      <td>0</td>\n",
              "    </tr>\n",
              "    <tr>\n",
              "      <th>258147</th>\n",
              "      <td>EJH6I0OT</td>\n",
              "      <td>100.00</td>\n",
              "      <td>1</td>\n",
              "      <td>0</td>\n",
              "      <td>0</td>\n",
              "      <td>0</td>\n",
              "      <td>0</td>\n",
              "      <td>0</td>\n",
              "    </tr>\n",
              "  </tbody>\n",
              "</table>\n",
              "<p>258148 rows × 8 columns</p>\n",
              "</div>"
            ],
            "text/plain": [
              "       RANDOM_ID  TOTAL_AMT_2015_2020  ...  Donation_Year__2019  Donation_Year__2020\n",
              "0       THTKM076                50.00  ...                    0                    1\n",
              "1       THTKM076                25.00  ...                    0                    0\n",
              "2       THTKM076                25.00  ...                    1                    0\n",
              "3       THTKM076                50.00  ...                    0                    0\n",
              "4       THTKM076                25.00  ...                    0                    0\n",
              "...          ...                  ...  ...                  ...                  ...\n",
              "258143  PCX8A1SP               100.00  ...                    0                    0\n",
              "258144  F3JAEMON                40.00  ...                    0                    0\n",
              "258145  NQVCEOG8               100.00  ...                    0                    0\n",
              "258146  KL31U0S6                20.15  ...                    0                    0\n",
              "258147  EJH6I0OT               100.00  ...                    0                    0\n",
              "\n",
              "[258148 rows x 8 columns]"
            ]
          },
          "metadata": {
            "tags": []
          },
          "execution_count": 46
        }
      ]
    },
    {
      "cell_type": "code",
      "metadata": {
        "id": "JfveGj8FH39U"
      },
      "source": [
        "giving_pattern_df = dum_df.groupby(by='RANDOM_ID').agg({'TOTAL_AMT_2015_2020': 'sum',\r\n",
        "                              'Donation_Year__2015': 'sum',\r\n",
        "                              'Donation_Year__2016': 'sum',\r\n",
        "                              'Donation_Year__2017': 'sum',\r\n",
        "                              'Donation_Year__2018': 'sum',\r\n",
        "                              'Donation_Year__2019':'sum',\r\n",
        "                              'Donation_Year__2020':'sum'}).reset_index()"
      ],
      "execution_count": null,
      "outputs": []
    },
    {
      "cell_type": "code",
      "metadata": {
        "colab": {
          "base_uri": "https://localhost:8080/",
          "height": 399
        },
        "id": "bTZa6DibH-pT",
        "outputId": "0fa8364c-18e4-43b0-98d6-89bae27c0dff"
      },
      "source": [
        "giving_pattern_df"
      ],
      "execution_count": null,
      "outputs": [
        {
          "output_type": "execute_result",
          "data": {
            "text/html": [
              "<div>\n",
              "<style scoped>\n",
              "    .dataframe tbody tr th:only-of-type {\n",
              "        vertical-align: middle;\n",
              "    }\n",
              "\n",
              "    .dataframe tbody tr th {\n",
              "        vertical-align: top;\n",
              "    }\n",
              "\n",
              "    .dataframe thead th {\n",
              "        text-align: right;\n",
              "    }\n",
              "</style>\n",
              "<table border=\"1\" class=\"dataframe\">\n",
              "  <thead>\n",
              "    <tr style=\"text-align: right;\">\n",
              "      <th></th>\n",
              "      <th>RANDOM_ID</th>\n",
              "      <th>TOTAL_AMT_2015_2020</th>\n",
              "      <th>Donation_Year__2015</th>\n",
              "      <th>Donation_Year__2016</th>\n",
              "      <th>Donation_Year__2017</th>\n",
              "      <th>Donation_Year__2018</th>\n",
              "      <th>Donation_Year__2019</th>\n",
              "      <th>Donation_Year__2020</th>\n",
              "    </tr>\n",
              "  </thead>\n",
              "  <tbody>\n",
              "    <tr>\n",
              "      <th>0</th>\n",
              "      <td>00017EH9</td>\n",
              "      <td>15.00</td>\n",
              "      <td>1</td>\n",
              "      <td>0</td>\n",
              "      <td>0</td>\n",
              "      <td>0</td>\n",
              "      <td>0</td>\n",
              "      <td>0</td>\n",
              "    </tr>\n",
              "    <tr>\n",
              "      <th>1</th>\n",
              "      <td>000V0H91</td>\n",
              "      <td>250.00</td>\n",
              "      <td>1</td>\n",
              "      <td>0</td>\n",
              "      <td>0</td>\n",
              "      <td>0</td>\n",
              "      <td>0</td>\n",
              "      <td>0</td>\n",
              "    </tr>\n",
              "    <tr>\n",
              "      <th>2</th>\n",
              "      <td>001J3BUD</td>\n",
              "      <td>819.23</td>\n",
              "      <td>1</td>\n",
              "      <td>0</td>\n",
              "      <td>0</td>\n",
              "      <td>1</td>\n",
              "      <td>0</td>\n",
              "      <td>2</td>\n",
              "    </tr>\n",
              "    <tr>\n",
              "      <th>3</th>\n",
              "      <td>001RB8B4</td>\n",
              "      <td>485.14</td>\n",
              "      <td>0</td>\n",
              "      <td>0</td>\n",
              "      <td>0</td>\n",
              "      <td>0</td>\n",
              "      <td>2</td>\n",
              "      <td>0</td>\n",
              "    </tr>\n",
              "    <tr>\n",
              "      <th>4</th>\n",
              "      <td>001TY1IF</td>\n",
              "      <td>1050.00</td>\n",
              "      <td>1</td>\n",
              "      <td>1</td>\n",
              "      <td>1</td>\n",
              "      <td>1</td>\n",
              "      <td>0</td>\n",
              "      <td>3</td>\n",
              "    </tr>\n",
              "    <tr>\n",
              "      <th>...</th>\n",
              "      <td>...</td>\n",
              "      <td>...</td>\n",
              "      <td>...</td>\n",
              "      <td>...</td>\n",
              "      <td>...</td>\n",
              "      <td>...</td>\n",
              "      <td>...</td>\n",
              "      <td>...</td>\n",
              "    </tr>\n",
              "    <tr>\n",
              "      <th>98363</th>\n",
              "      <td>ZZYT6KZ6</td>\n",
              "      <td>150.00</td>\n",
              "      <td>1</td>\n",
              "      <td>0</td>\n",
              "      <td>0</td>\n",
              "      <td>0</td>\n",
              "      <td>1</td>\n",
              "      <td>1</td>\n",
              "    </tr>\n",
              "    <tr>\n",
              "      <th>98364</th>\n",
              "      <td>ZZZ7S81M</td>\n",
              "      <td>500.00</td>\n",
              "      <td>0</td>\n",
              "      <td>1</td>\n",
              "      <td>0</td>\n",
              "      <td>0</td>\n",
              "      <td>0</td>\n",
              "      <td>0</td>\n",
              "    </tr>\n",
              "    <tr>\n",
              "      <th>98365</th>\n",
              "      <td>ZZZBT9C0</td>\n",
              "      <td>35.00</td>\n",
              "      <td>0</td>\n",
              "      <td>0</td>\n",
              "      <td>0</td>\n",
              "      <td>0</td>\n",
              "      <td>1</td>\n",
              "      <td>0</td>\n",
              "    </tr>\n",
              "    <tr>\n",
              "      <th>98366</th>\n",
              "      <td>ZZZC54VI</td>\n",
              "      <td>6499.74</td>\n",
              "      <td>1</td>\n",
              "      <td>0</td>\n",
              "      <td>1</td>\n",
              "      <td>0</td>\n",
              "      <td>0</td>\n",
              "      <td>0</td>\n",
              "    </tr>\n",
              "    <tr>\n",
              "      <th>98367</th>\n",
              "      <td>ZZZPEPYG</td>\n",
              "      <td>450.00</td>\n",
              "      <td>0</td>\n",
              "      <td>0</td>\n",
              "      <td>0</td>\n",
              "      <td>1</td>\n",
              "      <td>1</td>\n",
              "      <td>1</td>\n",
              "    </tr>\n",
              "  </tbody>\n",
              "</table>\n",
              "<p>98368 rows × 8 columns</p>\n",
              "</div>"
            ],
            "text/plain": [
              "      RANDOM_ID  TOTAL_AMT_2015_2020  ...  Donation_Year__2019  Donation_Year__2020\n",
              "0      00017EH9                15.00  ...                    0                    0\n",
              "1      000V0H91               250.00  ...                    0                    0\n",
              "2      001J3BUD               819.23  ...                    0                    2\n",
              "3      001RB8B4               485.14  ...                    2                    0\n",
              "4      001TY1IF              1050.00  ...                    0                    3\n",
              "...         ...                  ...  ...                  ...                  ...\n",
              "98363  ZZYT6KZ6               150.00  ...                    1                    1\n",
              "98364  ZZZ7S81M               500.00  ...                    0                    0\n",
              "98365  ZZZBT9C0                35.00  ...                    1                    0\n",
              "98366  ZZZC54VI              6499.74  ...                    0                    0\n",
              "98367  ZZZPEPYG               450.00  ...                    1                    1\n",
              "\n",
              "[98368 rows x 8 columns]"
            ]
          },
          "metadata": {
            "tags": []
          },
          "execution_count": 48
        }
      ]
    },
    {
      "cell_type": "code",
      "metadata": {
        "colab": {
          "base_uri": "https://localhost:8080/",
          "height": 419
        },
        "id": "BPSvX6DOH_u3",
        "outputId": "a81c56b4-7fe6-4a55-e41e-e80d5773df5b"
      },
      "source": [
        "#user_yearly_data_df \r\n",
        "df_merge = pd.merge(left=giving_pattern_df, right=user_yearly_data_df, left_on='RANDOM_ID', right_on='RANDOM_ID',how='left')\r\n",
        "df_merge"
      ],
      "execution_count": null,
      "outputs": [
        {
          "output_type": "execute_result",
          "data": {
            "text/html": [
              "<div>\n",
              "<style scoped>\n",
              "    .dataframe tbody tr th:only-of-type {\n",
              "        vertical-align: middle;\n",
              "    }\n",
              "\n",
              "    .dataframe tbody tr th {\n",
              "        vertical-align: top;\n",
              "    }\n",
              "\n",
              "    .dataframe thead th {\n",
              "        text-align: right;\n",
              "    }\n",
              "</style>\n",
              "<table border=\"1\" class=\"dataframe\">\n",
              "  <thead>\n",
              "    <tr style=\"text-align: right;\">\n",
              "      <th></th>\n",
              "      <th>RANDOM_ID</th>\n",
              "      <th>TOTAL_AMT_2015_2020</th>\n",
              "      <th>Donation_Year__2015</th>\n",
              "      <th>Donation_Year__2016</th>\n",
              "      <th>Donation_Year__2017</th>\n",
              "      <th>Donation_Year__2018</th>\n",
              "      <th>Donation_Year__2019</th>\n",
              "      <th>Donation_Year__2020</th>\n",
              "      <th>Giving_Year_Count</th>\n",
              "    </tr>\n",
              "  </thead>\n",
              "  <tbody>\n",
              "    <tr>\n",
              "      <th>0</th>\n",
              "      <td>00017EH9</td>\n",
              "      <td>15.00</td>\n",
              "      <td>1</td>\n",
              "      <td>0</td>\n",
              "      <td>0</td>\n",
              "      <td>0</td>\n",
              "      <td>0</td>\n",
              "      <td>0</td>\n",
              "      <td>1</td>\n",
              "    </tr>\n",
              "    <tr>\n",
              "      <th>1</th>\n",
              "      <td>000V0H91</td>\n",
              "      <td>250.00</td>\n",
              "      <td>1</td>\n",
              "      <td>0</td>\n",
              "      <td>0</td>\n",
              "      <td>0</td>\n",
              "      <td>0</td>\n",
              "      <td>0</td>\n",
              "      <td>1</td>\n",
              "    </tr>\n",
              "    <tr>\n",
              "      <th>2</th>\n",
              "      <td>001J3BUD</td>\n",
              "      <td>819.23</td>\n",
              "      <td>1</td>\n",
              "      <td>0</td>\n",
              "      <td>0</td>\n",
              "      <td>1</td>\n",
              "      <td>0</td>\n",
              "      <td>2</td>\n",
              "      <td>3</td>\n",
              "    </tr>\n",
              "    <tr>\n",
              "      <th>3</th>\n",
              "      <td>001RB8B4</td>\n",
              "      <td>485.14</td>\n",
              "      <td>0</td>\n",
              "      <td>0</td>\n",
              "      <td>0</td>\n",
              "      <td>0</td>\n",
              "      <td>2</td>\n",
              "      <td>0</td>\n",
              "      <td>1</td>\n",
              "    </tr>\n",
              "    <tr>\n",
              "      <th>4</th>\n",
              "      <td>001TY1IF</td>\n",
              "      <td>1050.00</td>\n",
              "      <td>1</td>\n",
              "      <td>1</td>\n",
              "      <td>1</td>\n",
              "      <td>1</td>\n",
              "      <td>0</td>\n",
              "      <td>3</td>\n",
              "      <td>5</td>\n",
              "    </tr>\n",
              "    <tr>\n",
              "      <th>...</th>\n",
              "      <td>...</td>\n",
              "      <td>...</td>\n",
              "      <td>...</td>\n",
              "      <td>...</td>\n",
              "      <td>...</td>\n",
              "      <td>...</td>\n",
              "      <td>...</td>\n",
              "      <td>...</td>\n",
              "      <td>...</td>\n",
              "    </tr>\n",
              "    <tr>\n",
              "      <th>98363</th>\n",
              "      <td>ZZYT6KZ6</td>\n",
              "      <td>150.00</td>\n",
              "      <td>1</td>\n",
              "      <td>0</td>\n",
              "      <td>0</td>\n",
              "      <td>0</td>\n",
              "      <td>1</td>\n",
              "      <td>1</td>\n",
              "      <td>3</td>\n",
              "    </tr>\n",
              "    <tr>\n",
              "      <th>98364</th>\n",
              "      <td>ZZZ7S81M</td>\n",
              "      <td>500.00</td>\n",
              "      <td>0</td>\n",
              "      <td>1</td>\n",
              "      <td>0</td>\n",
              "      <td>0</td>\n",
              "      <td>0</td>\n",
              "      <td>0</td>\n",
              "      <td>1</td>\n",
              "    </tr>\n",
              "    <tr>\n",
              "      <th>98365</th>\n",
              "      <td>ZZZBT9C0</td>\n",
              "      <td>35.00</td>\n",
              "      <td>0</td>\n",
              "      <td>0</td>\n",
              "      <td>0</td>\n",
              "      <td>0</td>\n",
              "      <td>1</td>\n",
              "      <td>0</td>\n",
              "      <td>1</td>\n",
              "    </tr>\n",
              "    <tr>\n",
              "      <th>98366</th>\n",
              "      <td>ZZZC54VI</td>\n",
              "      <td>6499.74</td>\n",
              "      <td>1</td>\n",
              "      <td>0</td>\n",
              "      <td>1</td>\n",
              "      <td>0</td>\n",
              "      <td>0</td>\n",
              "      <td>0</td>\n",
              "      <td>2</td>\n",
              "    </tr>\n",
              "    <tr>\n",
              "      <th>98367</th>\n",
              "      <td>ZZZPEPYG</td>\n",
              "      <td>450.00</td>\n",
              "      <td>0</td>\n",
              "      <td>0</td>\n",
              "      <td>0</td>\n",
              "      <td>1</td>\n",
              "      <td>1</td>\n",
              "      <td>1</td>\n",
              "      <td>3</td>\n",
              "    </tr>\n",
              "  </tbody>\n",
              "</table>\n",
              "<p>98368 rows × 9 columns</p>\n",
              "</div>"
            ],
            "text/plain": [
              "      RANDOM_ID  TOTAL_AMT_2015_2020  ...  Donation_Year__2020  Giving_Year_Count\n",
              "0      00017EH9                15.00  ...                    0                  1\n",
              "1      000V0H91               250.00  ...                    0                  1\n",
              "2      001J3BUD               819.23  ...                    2                  3\n",
              "3      001RB8B4               485.14  ...                    0                  1\n",
              "4      001TY1IF              1050.00  ...                    3                  5\n",
              "...         ...                  ...  ...                  ...                ...\n",
              "98363  ZZYT6KZ6               150.00  ...                    1                  3\n",
              "98364  ZZZ7S81M               500.00  ...                    0                  1\n",
              "98365  ZZZBT9C0                35.00  ...                    0                  1\n",
              "98366  ZZZC54VI              6499.74  ...                    0                  2\n",
              "98367  ZZZPEPYG               450.00  ...                    1                  3\n",
              "\n",
              "[98368 rows x 9 columns]"
            ]
          },
          "metadata": {
            "tags": []
          },
          "execution_count": 49
        }
      ]
    },
    {
      "cell_type": "code",
      "metadata": {
        "id": "waYPFcDLITLs"
      },
      "source": [
        "def number_of_years_skipped(Donation_Year__2015,Donation_Year__2016,Donation_Year__2017,Donation_Year__2018,Donation_Year__2019,Donation_Year__2020):\r\n",
        "\r\n",
        "  if ((Donation_Year__2015>0 and Donation_Year__2017>0 and Donation_Year__2019>0) and (Donation_Year__2016>0 and Donation_Year__2018 >0 and Donation_Year__2020 >0)):\r\n",
        "    return 0\r\n",
        "  elif ((Donation_Year__2015>0 and Donation_Year__2017>0 and Donation_Year__2019>0) and (Donation_Year__2016 == 0 and Donation_Year__2018 == 0 and Donation_Year__2020 ==0)):\r\n",
        "    return 1\r\n",
        "\r\n",
        "  elif ((Donation_Year__2016>0 and Donation_Year__2018>0 and Donation_Year__2020>0) and (Donation_Year__2015 == 0 and Donation_Year__2017 == 0 and Donation_Year__2019 ==0)):\r\n",
        "    return 1\r\n",
        "  \r\n",
        "  elif ((Donation_Year__2017>0 and Donation_Year__2019>0) and (Donation_Year__2015 == 0 and Donation_Year__2016 == 0 and Donation_Year__2018 == 0 and Donation_Year__2020 ==0)):\r\n",
        "    return 1\r\n",
        "\r\n",
        "  elif ((Donation_Year__2018>0 and Donation_Year__2020>0) and (Donation_Year__2015 == 0 and Donation_Year__2016 == 0 and Donation_Year__2017 == 0 and Donation_Year__2019 ==0)):\r\n",
        "    return 1\r\n",
        "\r\n",
        "  elif ((Donation_Year__2017>0 and Donation_Year__2019>0) and (Donation_Year__2015 == 0 and Donation_Year__2016 == 0 and Donation_Year__2018 == 0 and Donation_Year__2020 ==0)):\r\n",
        "    return 1\r\n",
        "\r\n",
        "  \r\n",
        "  ### skips two year\r\n",
        "\r\n",
        "  elif ((Donation_Year__2015>0 and Donation_Year__2018>0) and (Donation_Year__2016 == 0 and Donation_Year__2017 == 0 and Donation_Year__2019 == 0 and Donation_Year__2020 ==0)):\r\n",
        "    return 2\r\n",
        "\r\n",
        "  elif ((Donation_Year__2016>0 and Donation_Year__2019>0) and (Donation_Year__2017 == 0 and Donation_Year__2018 == 0 and Donation_Year__2015 == 0 and Donation_Year__2020 ==0)):\r\n",
        "    return 2\r\n",
        "  \r\n",
        "  elif ((Donation_Year__2017>0 and Donation_Year__2020>0) and (Donation_Year__2015 == 0 and Donation_Year__2016 == 0 and Donation_Year__2017 == 0 and Donation_Year__2019 ==0)):\r\n",
        "    return 2\r\n",
        "\r\n",
        "    ### skips three year\r\n",
        "\r\n",
        "  elif ((Donation_Year__2015>0 and Donation_Year__2019>0) and (Donation_Year__2016 == 0 and Donation_Year__2017 == 0 and Donation_Year__2018 == 0 and Donation_Year__2020 ==0)):\r\n",
        "    return 3\r\n",
        "\r\n",
        "  elif ((Donation_Year__2016>0 and Donation_Year__2020>0) and (Donation_Year__2015 == 0 and Donation_Year__2017 == 0 and Donation_Year__2018 == 0 and Donation_Year__2019 ==0)):\r\n",
        "    return 3\r\n",
        "\r\n",
        "    ### skips four year\r\n",
        "\r\n",
        "  elif ((Donation_Year__2015>0 and Donation_Year__2020>0) and (Donation_Year__2016 == 0 and Donation_Year__2017 == 0 and Donation_Year__2018 == 0 and Donation_Year__2019 ==0)):\r\n",
        "    return 4\r\n",
        "\r\n",
        "  else:\r\n",
        "    return 5\r\n",
        "\r\n"
      ],
      "execution_count": null,
      "outputs": []
    },
    {
      "cell_type": "code",
      "metadata": {
        "id": "zMAI5bLjIZGj"
      },
      "source": [
        "df_merge['Skip_Years'] = df_merge.apply(lambda x: number_of_years_skipped(x['Donation_Year__2015'],x['Donation_Year__2016'],x['Donation_Year__2017'],x['Donation_Year__2018'],\r\n",
        "                           x['Donation_Year__2019'],x['Donation_Year__2020']),axis=1)"
      ],
      "execution_count": null,
      "outputs": []
    },
    {
      "cell_type": "code",
      "metadata": {
        "colab": {
          "base_uri": "https://localhost:8080/",
          "height": 419
        },
        "id": "_RkaXZPiIcN2",
        "outputId": "0af8f1c4-0ae6-4233-9058-25f81e8b1584"
      },
      "source": [
        "df_merge"
      ],
      "execution_count": null,
      "outputs": [
        {
          "output_type": "execute_result",
          "data": {
            "text/html": [
              "<div>\n",
              "<style scoped>\n",
              "    .dataframe tbody tr th:only-of-type {\n",
              "        vertical-align: middle;\n",
              "    }\n",
              "\n",
              "    .dataframe tbody tr th {\n",
              "        vertical-align: top;\n",
              "    }\n",
              "\n",
              "    .dataframe thead th {\n",
              "        text-align: right;\n",
              "    }\n",
              "</style>\n",
              "<table border=\"1\" class=\"dataframe\">\n",
              "  <thead>\n",
              "    <tr style=\"text-align: right;\">\n",
              "      <th></th>\n",
              "      <th>RANDOM_ID</th>\n",
              "      <th>TOTAL_AMT_2015_2020</th>\n",
              "      <th>Donation_Year__2015</th>\n",
              "      <th>Donation_Year__2016</th>\n",
              "      <th>Donation_Year__2017</th>\n",
              "      <th>Donation_Year__2018</th>\n",
              "      <th>Donation_Year__2019</th>\n",
              "      <th>Donation_Year__2020</th>\n",
              "      <th>Giving_Year_Count</th>\n",
              "      <th>Skip_Years</th>\n",
              "    </tr>\n",
              "  </thead>\n",
              "  <tbody>\n",
              "    <tr>\n",
              "      <th>0</th>\n",
              "      <td>00017EH9</td>\n",
              "      <td>15.00</td>\n",
              "      <td>1</td>\n",
              "      <td>0</td>\n",
              "      <td>0</td>\n",
              "      <td>0</td>\n",
              "      <td>0</td>\n",
              "      <td>0</td>\n",
              "      <td>1</td>\n",
              "      <td>5</td>\n",
              "    </tr>\n",
              "    <tr>\n",
              "      <th>1</th>\n",
              "      <td>000V0H91</td>\n",
              "      <td>250.00</td>\n",
              "      <td>1</td>\n",
              "      <td>0</td>\n",
              "      <td>0</td>\n",
              "      <td>0</td>\n",
              "      <td>0</td>\n",
              "      <td>0</td>\n",
              "      <td>1</td>\n",
              "      <td>5</td>\n",
              "    </tr>\n",
              "    <tr>\n",
              "      <th>2</th>\n",
              "      <td>001J3BUD</td>\n",
              "      <td>819.23</td>\n",
              "      <td>1</td>\n",
              "      <td>0</td>\n",
              "      <td>0</td>\n",
              "      <td>1</td>\n",
              "      <td>0</td>\n",
              "      <td>2</td>\n",
              "      <td>3</td>\n",
              "      <td>5</td>\n",
              "    </tr>\n",
              "    <tr>\n",
              "      <th>3</th>\n",
              "      <td>001RB8B4</td>\n",
              "      <td>485.14</td>\n",
              "      <td>0</td>\n",
              "      <td>0</td>\n",
              "      <td>0</td>\n",
              "      <td>0</td>\n",
              "      <td>2</td>\n",
              "      <td>0</td>\n",
              "      <td>1</td>\n",
              "      <td>5</td>\n",
              "    </tr>\n",
              "    <tr>\n",
              "      <th>4</th>\n",
              "      <td>001TY1IF</td>\n",
              "      <td>1050.00</td>\n",
              "      <td>1</td>\n",
              "      <td>1</td>\n",
              "      <td>1</td>\n",
              "      <td>1</td>\n",
              "      <td>0</td>\n",
              "      <td>3</td>\n",
              "      <td>5</td>\n",
              "      <td>5</td>\n",
              "    </tr>\n",
              "    <tr>\n",
              "      <th>...</th>\n",
              "      <td>...</td>\n",
              "      <td>...</td>\n",
              "      <td>...</td>\n",
              "      <td>...</td>\n",
              "      <td>...</td>\n",
              "      <td>...</td>\n",
              "      <td>...</td>\n",
              "      <td>...</td>\n",
              "      <td>...</td>\n",
              "      <td>...</td>\n",
              "    </tr>\n",
              "    <tr>\n",
              "      <th>98363</th>\n",
              "      <td>ZZYT6KZ6</td>\n",
              "      <td>150.00</td>\n",
              "      <td>1</td>\n",
              "      <td>0</td>\n",
              "      <td>0</td>\n",
              "      <td>0</td>\n",
              "      <td>1</td>\n",
              "      <td>1</td>\n",
              "      <td>3</td>\n",
              "      <td>5</td>\n",
              "    </tr>\n",
              "    <tr>\n",
              "      <th>98364</th>\n",
              "      <td>ZZZ7S81M</td>\n",
              "      <td>500.00</td>\n",
              "      <td>0</td>\n",
              "      <td>1</td>\n",
              "      <td>0</td>\n",
              "      <td>0</td>\n",
              "      <td>0</td>\n",
              "      <td>0</td>\n",
              "      <td>1</td>\n",
              "      <td>5</td>\n",
              "    </tr>\n",
              "    <tr>\n",
              "      <th>98365</th>\n",
              "      <td>ZZZBT9C0</td>\n",
              "      <td>35.00</td>\n",
              "      <td>0</td>\n",
              "      <td>0</td>\n",
              "      <td>0</td>\n",
              "      <td>0</td>\n",
              "      <td>1</td>\n",
              "      <td>0</td>\n",
              "      <td>1</td>\n",
              "      <td>5</td>\n",
              "    </tr>\n",
              "    <tr>\n",
              "      <th>98366</th>\n",
              "      <td>ZZZC54VI</td>\n",
              "      <td>6499.74</td>\n",
              "      <td>1</td>\n",
              "      <td>0</td>\n",
              "      <td>1</td>\n",
              "      <td>0</td>\n",
              "      <td>0</td>\n",
              "      <td>0</td>\n",
              "      <td>2</td>\n",
              "      <td>5</td>\n",
              "    </tr>\n",
              "    <tr>\n",
              "      <th>98367</th>\n",
              "      <td>ZZZPEPYG</td>\n",
              "      <td>450.00</td>\n",
              "      <td>0</td>\n",
              "      <td>0</td>\n",
              "      <td>0</td>\n",
              "      <td>1</td>\n",
              "      <td>1</td>\n",
              "      <td>1</td>\n",
              "      <td>3</td>\n",
              "      <td>5</td>\n",
              "    </tr>\n",
              "  </tbody>\n",
              "</table>\n",
              "<p>98368 rows × 10 columns</p>\n",
              "</div>"
            ],
            "text/plain": [
              "      RANDOM_ID  TOTAL_AMT_2015_2020  ...  Giving_Year_Count  Skip_Years\n",
              "0      00017EH9                15.00  ...                  1           5\n",
              "1      000V0H91               250.00  ...                  1           5\n",
              "2      001J3BUD               819.23  ...                  3           5\n",
              "3      001RB8B4               485.14  ...                  1           5\n",
              "4      001TY1IF              1050.00  ...                  5           5\n",
              "...         ...                  ...  ...                ...         ...\n",
              "98363  ZZYT6KZ6               150.00  ...                  3           5\n",
              "98364  ZZZ7S81M               500.00  ...                  1           5\n",
              "98365  ZZZBT9C0                35.00  ...                  1           5\n",
              "98366  ZZZC54VI              6499.74  ...                  2           5\n",
              "98367  ZZZPEPYG               450.00  ...                  3           5\n",
              "\n",
              "[98368 rows x 10 columns]"
            ]
          },
          "metadata": {
            "tags": []
          },
          "execution_count": 54
        }
      ]
    },
    {
      "cell_type": "code",
      "metadata": {
        "colab": {
          "base_uri": "https://localhost:8080/",
          "height": 407
        },
        "id": "re-FMJOXKFIt",
        "outputId": "a96cabd4-abca-41b4-fb4c-12071c0df421"
      },
      "source": [
        "plt.figure(figsize=(10,6))\r\n",
        "sns.histplot(data=df_merge['Skip_Years'])"
      ],
      "execution_count": null,
      "outputs": [
        {
          "output_type": "execute_result",
          "data": {
            "text/plain": [
              "<matplotlib.axes._subplots.AxesSubplot at 0x7f1602940b00>"
            ]
          },
          "metadata": {
            "tags": []
          },
          "execution_count": 58
        },
        {
          "output_type": "display_data",
          "data": {
            "image/png": "[encoded data removed]",
            "text/plain": [
              "<Figure size 720x432 with 1 Axes>"
            ]
          },
          "metadata": {
            "tags": [],
            "needs_background": "light"
          }
        }
      ]
    },
    {
      "cell_type": "code",
      "metadata": {
        "colab": {
          "base_uri": "https://localhost:8080/"
        },
        "id": "fDSoLOQUKSGX",
        "outputId": "e90a2122-7991-460c-8a29-a9e7b4d2f0a8"
      },
      "source": [
        "skip_list = df_merge['Skip_Years'].value_counts()\r\n",
        "skip_data = dict(skip_list)\r\n",
        "skip_yr_list = list(skip_data.values())\r\n",
        "print(skip_data)\r\n",
        "skip_yr_list\r\n"
      ],
      "execution_count": null,
      "outputs": [
        {
          "output_type": "stream",
          "text": [
            "{5: 88147, 0: 5407, 1: 2006, 2: 1436, 3: 1020, 4: 352}\n"
          ],
          "name": "stdout"
        },
        {
          "output_type": "execute_result",
          "data": {
            "text/plain": [
              "[88147, 5407, 2006, 1436, 1020, 352]"
            ]
          },
          "metadata": {
            "tags": []
          },
          "execution_count": 60
        }
      ]
    },
    {
      "cell_type": "code",
      "metadata": {
        "colab": {
          "base_uri": "https://localhost:8080/",
          "height": 575
        },
        "id": "dXb5QSKCKJmp",
        "outputId": "631b2f77-ee68-4c5d-c5ff-a94028d8d621"
      },
      "source": [
        "### plotting the skipping pattern\r\n",
        "#Pie Chart showing donor distribution\r\n",
        "skip_yr_list\r\n",
        "\r\n",
        "skip_labels = 'Random','Zero','One', 'Two','Three','Four'\r\n",
        "textprops = {\"fontsize\":15} # Font size of text in pie chart\r\n",
        "plt.figure(figsize=(20,10))\r\n",
        "explode = [0.1,0.0,0.03,0.,0.3,0.0] # To slice the perticuler section\r\n",
        "plt.pie(skip_yr_list,labels=skip_labels,explode=explode, autopct='%1.2f%%',textprops=textprops)\r\n",
        "plt.axis('equal')\r\n",
        "plt.show()"
      ],
      "execution_count": null,
      "outputs": [
        {
          "output_type": "display_data",
          "data": {
            "image/png": "[encoded data removed]",
            "text/plain": [
              "<Figure size 1440x720 with 1 Axes>"
            ]
          },
          "metadata": {
            "tags": []
          }
        }
      ]
    },
    {
      "cell_type": "code",
      "metadata": {
        "colab": {
          "base_uri": "https://localhost:8080/",
          "height": 419
        },
        "id": "wmPMjE8TIeR4",
        "outputId": "75a58e52-54b5-4bf5-a1a3-69d56ec3a0e5"
      },
      "source": [
        "dum_df1 = pd.get_dummies(df_merge, columns=[\"Giving_Year_Count\"], prefix=[\"Giving_Year_Count_\"])\r\n",
        "dum_df1 "
      ],
      "execution_count": null,
      "outputs": [
        {
          "output_type": "execute_result",
          "data": {
            "text/html": [
              "<div>\n",
              "<style scoped>\n",
              "    .dataframe tbody tr th:only-of-type {\n",
              "        vertical-align: middle;\n",
              "    }\n",
              "\n",
              "    .dataframe tbody tr th {\n",
              "        vertical-align: top;\n",
              "    }\n",
              "\n",
              "    .dataframe thead th {\n",
              "        text-align: right;\n",
              "    }\n",
              "</style>\n",
              "<table border=\"1\" class=\"dataframe\">\n",
              "  <thead>\n",
              "    <tr style=\"text-align: right;\">\n",
              "      <th></th>\n",
              "      <th>RANDOM_ID</th>\n",
              "      <th>TOTAL_AMT_2015_2020</th>\n",
              "      <th>Donation_Year__2015</th>\n",
              "      <th>Donation_Year__2016</th>\n",
              "      <th>Donation_Year__2017</th>\n",
              "      <th>Donation_Year__2018</th>\n",
              "      <th>Donation_Year__2019</th>\n",
              "      <th>Donation_Year__2020</th>\n",
              "      <th>Skip_Years</th>\n",
              "      <th>Giving_Year_Count__1</th>\n",
              "      <th>Giving_Year_Count__2</th>\n",
              "      <th>Giving_Year_Count__3</th>\n",
              "      <th>Giving_Year_Count__4</th>\n",
              "      <th>Giving_Year_Count__5</th>\n",
              "      <th>Giving_Year_Count__6</th>\n",
              "    </tr>\n",
              "  </thead>\n",
              "  <tbody>\n",
              "    <tr>\n",
              "      <th>0</th>\n",
              "      <td>00017EH9</td>\n",
              "      <td>15.00</td>\n",
              "      <td>1</td>\n",
              "      <td>0</td>\n",
              "      <td>0</td>\n",
              "      <td>0</td>\n",
              "      <td>0</td>\n",
              "      <td>0</td>\n",
              "      <td>5</td>\n",
              "      <td>1</td>\n",
              "      <td>0</td>\n",
              "      <td>0</td>\n",
              "      <td>0</td>\n",
              "      <td>0</td>\n",
              "      <td>0</td>\n",
              "    </tr>\n",
              "    <tr>\n",
              "      <th>1</th>\n",
              "      <td>000V0H91</td>\n",
              "      <td>250.00</td>\n",
              "      <td>1</td>\n",
              "      <td>0</td>\n",
              "      <td>0</td>\n",
              "      <td>0</td>\n",
              "      <td>0</td>\n",
              "      <td>0</td>\n",
              "      <td>5</td>\n",
              "      <td>1</td>\n",
              "      <td>0</td>\n",
              "      <td>0</td>\n",
              "      <td>0</td>\n",
              "      <td>0</td>\n",
              "      <td>0</td>\n",
              "    </tr>\n",
              "    <tr>\n",
              "      <th>2</th>\n",
              "      <td>001J3BUD</td>\n",
              "      <td>819.23</td>\n",
              "      <td>1</td>\n",
              "      <td>0</td>\n",
              "      <td>0</td>\n",
              "      <td>1</td>\n",
              "      <td>0</td>\n",
              "      <td>2</td>\n",
              "      <td>5</td>\n",
              "      <td>0</td>\n",
              "      <td>0</td>\n",
              "      <td>1</td>\n",
              "      <td>0</td>\n",
              "      <td>0</td>\n",
              "      <td>0</td>\n",
              "    </tr>\n",
              "    <tr>\n",
              "      <th>3</th>\n",
              "      <td>001RB8B4</td>\n",
              "      <td>485.14</td>\n",
              "      <td>0</td>\n",
              "      <td>0</td>\n",
              "      <td>0</td>\n",
              "      <td>0</td>\n",
              "      <td>2</td>\n",
              "      <td>0</td>\n",
              "      <td>5</td>\n",
              "      <td>1</td>\n",
              "      <td>0</td>\n",
              "      <td>0</td>\n",
              "      <td>0</td>\n",
              "      <td>0</td>\n",
              "      <td>0</td>\n",
              "    </tr>\n",
              "    <tr>\n",
              "      <th>4</th>\n",
              "      <td>001TY1IF</td>\n",
              "      <td>1050.00</td>\n",
              "      <td>1</td>\n",
              "      <td>1</td>\n",
              "      <td>1</td>\n",
              "      <td>1</td>\n",
              "      <td>0</td>\n",
              "      <td>3</td>\n",
              "      <td>5</td>\n",
              "      <td>0</td>\n",
              "      <td>0</td>\n",
              "      <td>0</td>\n",
              "      <td>0</td>\n",
              "      <td>1</td>\n",
              "      <td>0</td>\n",
              "    </tr>\n",
              "    <tr>\n",
              "      <th>...</th>\n",
              "      <td>...</td>\n",
              "      <td>...</td>\n",
              "      <td>...</td>\n",
              "      <td>...</td>\n",
              "      <td>...</td>\n",
              "      <td>...</td>\n",
              "      <td>...</td>\n",
              "      <td>...</td>\n",
              "      <td>...</td>\n",
              "      <td>...</td>\n",
              "      <td>...</td>\n",
              "      <td>...</td>\n",
              "      <td>...</td>\n",
              "      <td>...</td>\n",
              "      <td>...</td>\n",
              "    </tr>\n",
              "    <tr>\n",
              "      <th>98363</th>\n",
              "      <td>ZZYT6KZ6</td>\n",
              "      <td>150.00</td>\n",
              "      <td>1</td>\n",
              "      <td>0</td>\n",
              "      <td>0</td>\n",
              "      <td>0</td>\n",
              "      <td>1</td>\n",
              "      <td>1</td>\n",
              "      <td>5</td>\n",
              "      <td>0</td>\n",
              "      <td>0</td>\n",
              "      <td>1</td>\n",
              "      <td>0</td>\n",
              "      <td>0</td>\n",
              "      <td>0</td>\n",
              "    </tr>\n",
              "    <tr>\n",
              "      <th>98364</th>\n",
              "      <td>ZZZ7S81M</td>\n",
              "      <td>500.00</td>\n",
              "      <td>0</td>\n",
              "      <td>1</td>\n",
              "      <td>0</td>\n",
              "      <td>0</td>\n",
              "      <td>0</td>\n",
              "      <td>0</td>\n",
              "      <td>5</td>\n",
              "      <td>1</td>\n",
              "      <td>0</td>\n",
              "      <td>0</td>\n",
              "      <td>0</td>\n",
              "      <td>0</td>\n",
              "      <td>0</td>\n",
              "    </tr>\n",
              "    <tr>\n",
              "      <th>98365</th>\n",
              "      <td>ZZZBT9C0</td>\n",
              "      <td>35.00</td>\n",
              "      <td>0</td>\n",
              "      <td>0</td>\n",
              "      <td>0</td>\n",
              "      <td>0</td>\n",
              "      <td>1</td>\n",
              "      <td>0</td>\n",
              "      <td>5</td>\n",
              "      <td>1</td>\n",
              "      <td>0</td>\n",
              "      <td>0</td>\n",
              "      <td>0</td>\n",
              "      <td>0</td>\n",
              "      <td>0</td>\n",
              "    </tr>\n",
              "    <tr>\n",
              "      <th>98366</th>\n",
              "      <td>ZZZC54VI</td>\n",
              "      <td>6499.74</td>\n",
              "      <td>1</td>\n",
              "      <td>0</td>\n",
              "      <td>1</td>\n",
              "      <td>0</td>\n",
              "      <td>0</td>\n",
              "      <td>0</td>\n",
              "      <td>5</td>\n",
              "      <td>0</td>\n",
              "      <td>1</td>\n",
              "      <td>0</td>\n",
              "      <td>0</td>\n",
              "      <td>0</td>\n",
              "      <td>0</td>\n",
              "    </tr>\n",
              "    <tr>\n",
              "      <th>98367</th>\n",
              "      <td>ZZZPEPYG</td>\n",
              "      <td>450.00</td>\n",
              "      <td>0</td>\n",
              "      <td>0</td>\n",
              "      <td>0</td>\n",
              "      <td>1</td>\n",
              "      <td>1</td>\n",
              "      <td>1</td>\n",
              "      <td>5</td>\n",
              "      <td>0</td>\n",
              "      <td>0</td>\n",
              "      <td>1</td>\n",
              "      <td>0</td>\n",
              "      <td>0</td>\n",
              "      <td>0</td>\n",
              "    </tr>\n",
              "  </tbody>\n",
              "</table>\n",
              "<p>98368 rows × 15 columns</p>\n",
              "</div>"
            ],
            "text/plain": [
              "      RANDOM_ID  ...  Giving_Year_Count__6\n",
              "0      00017EH9  ...                     0\n",
              "1      000V0H91  ...                     0\n",
              "2      001J3BUD  ...                     0\n",
              "3      001RB8B4  ...                     0\n",
              "4      001TY1IF  ...                     0\n",
              "...         ...  ...                   ...\n",
              "98363  ZZYT6KZ6  ...                     0\n",
              "98364  ZZZ7S81M  ...                     0\n",
              "98365  ZZZBT9C0  ...                     0\n",
              "98366  ZZZC54VI  ...                     0\n",
              "98367  ZZZPEPYG  ...                     0\n",
              "\n",
              "[98368 rows x 15 columns]"
            ]
          },
          "metadata": {
            "tags": []
          },
          "execution_count": 56
        }
      ]
    },
    {
      "cell_type": "code",
      "metadata": {
        "colab": {
          "base_uri": "https://localhost:8080/",
          "height": 419
        },
        "id": "91dY2yYeJptN",
        "outputId": "a820a7d0-340a-4353-8685-d13a17fb06e3"
      },
      "source": [
        "dum_df2 = pd.get_dummies(dum_df1, columns=[\"Skip_Years\"], prefix=[\"Skip_Years_Count_\"], sparse=True)\r\n",
        "dum_df2 "
      ],
      "execution_count": null,
      "outputs": [
        {
          "output_type": "execute_result",
          "data": {
            "text/html": [
              "<div>\n",
              "<style scoped>\n",
              "    .dataframe tbody tr th:only-of-type {\n",
              "        vertical-align: middle;\n",
              "    }\n",
              "\n",
              "    .dataframe tbody tr th {\n",
              "        vertical-align: top;\n",
              "    }\n",
              "\n",
              "    .dataframe thead th {\n",
              "        text-align: right;\n",
              "    }\n",
              "</style>\n",
              "<table border=\"1\" class=\"dataframe\">\n",
              "  <thead>\n",
              "    <tr style=\"text-align: right;\">\n",
              "      <th></th>\n",
              "      <th>RANDOM_ID</th>\n",
              "      <th>TOTAL_AMT_2015_2020</th>\n",
              "      <th>Donation_Year__2015</th>\n",
              "      <th>Donation_Year__2016</th>\n",
              "      <th>Donation_Year__2017</th>\n",
              "      <th>Donation_Year__2018</th>\n",
              "      <th>Donation_Year__2019</th>\n",
              "      <th>Donation_Year__2020</th>\n",
              "      <th>Giving_Year_Count__1</th>\n",
              "      <th>Giving_Year_Count__2</th>\n",
              "      <th>Giving_Year_Count__3</th>\n",
              "      <th>Giving_Year_Count__4</th>\n",
              "      <th>Giving_Year_Count__5</th>\n",
              "      <th>Giving_Year_Count__6</th>\n",
              "      <th>Skip_Years_Count__0</th>\n",
              "      <th>Skip_Years_Count__1</th>\n",
              "      <th>Skip_Years_Count__2</th>\n",
              "      <th>Skip_Years_Count__3</th>\n",
              "      <th>Skip_Years_Count__4</th>\n",
              "      <th>Skip_Years_Count__5</th>\n",
              "    </tr>\n",
              "  </thead>\n",
              "  <tbody>\n",
              "    <tr>\n",
              "      <th>0</th>\n",
              "      <td>00017EH9</td>\n",
              "      <td>15.00</td>\n",
              "      <td>1</td>\n",
              "      <td>0</td>\n",
              "      <td>0</td>\n",
              "      <td>0</td>\n",
              "      <td>0</td>\n",
              "      <td>0</td>\n",
              "      <td>1</td>\n",
              "      <td>0</td>\n",
              "      <td>0</td>\n",
              "      <td>0</td>\n",
              "      <td>0</td>\n",
              "      <td>0</td>\n",
              "      <td>0</td>\n",
              "      <td>0</td>\n",
              "      <td>0</td>\n",
              "      <td>0</td>\n",
              "      <td>0</td>\n",
              "      <td>1</td>\n",
              "    </tr>\n",
              "    <tr>\n",
              "      <th>1</th>\n",
              "      <td>000V0H91</td>\n",
              "      <td>250.00</td>\n",
              "      <td>1</td>\n",
              "      <td>0</td>\n",
              "      <td>0</td>\n",
              "      <td>0</td>\n",
              "      <td>0</td>\n",
              "      <td>0</td>\n",
              "      <td>1</td>\n",
              "      <td>0</td>\n",
              "      <td>0</td>\n",
              "      <td>0</td>\n",
              "      <td>0</td>\n",
              "      <td>0</td>\n",
              "      <td>0</td>\n",
              "      <td>0</td>\n",
              "      <td>0</td>\n",
              "      <td>0</td>\n",
              "      <td>0</td>\n",
              "      <td>1</td>\n",
              "    </tr>\n",
              "    <tr>\n",
              "      <th>2</th>\n",
              "      <td>001J3BUD</td>\n",
              "      <td>819.23</td>\n",
              "      <td>1</td>\n",
              "      <td>0</td>\n",
              "      <td>0</td>\n",
              "      <td>1</td>\n",
              "      <td>0</td>\n",
              "      <td>2</td>\n",
              "      <td>0</td>\n",
              "      <td>0</td>\n",
              "      <td>1</td>\n",
              "      <td>0</td>\n",
              "      <td>0</td>\n",
              "      <td>0</td>\n",
              "      <td>0</td>\n",
              "      <td>0</td>\n",
              "      <td>0</td>\n",
              "      <td>0</td>\n",
              "      <td>0</td>\n",
              "      <td>1</td>\n",
              "    </tr>\n",
              "    <tr>\n",
              "      <th>3</th>\n",
              "      <td>001RB8B4</td>\n",
              "      <td>485.14</td>\n",
              "      <td>0</td>\n",
              "      <td>0</td>\n",
              "      <td>0</td>\n",
              "      <td>0</td>\n",
              "      <td>2</td>\n",
              "      <td>0</td>\n",
              "      <td>1</td>\n",
              "      <td>0</td>\n",
              "      <td>0</td>\n",
              "      <td>0</td>\n",
              "      <td>0</td>\n",
              "      <td>0</td>\n",
              "      <td>0</td>\n",
              "      <td>0</td>\n",
              "      <td>0</td>\n",
              "      <td>0</td>\n",
              "      <td>0</td>\n",
              "      <td>1</td>\n",
              "    </tr>\n",
              "    <tr>\n",
              "      <th>4</th>\n",
              "      <td>001TY1IF</td>\n",
              "      <td>1050.00</td>\n",
              "      <td>1</td>\n",
              "      <td>1</td>\n",
              "      <td>1</td>\n",
              "      <td>1</td>\n",
              "      <td>0</td>\n",
              "      <td>3</td>\n",
              "      <td>0</td>\n",
              "      <td>0</td>\n",
              "      <td>0</td>\n",
              "      <td>0</td>\n",
              "      <td>1</td>\n",
              "      <td>0</td>\n",
              "      <td>0</td>\n",
              "      <td>0</td>\n",
              "      <td>0</td>\n",
              "      <td>0</td>\n",
              "      <td>0</td>\n",
              "      <td>1</td>\n",
              "    </tr>\n",
              "    <tr>\n",
              "      <th>...</th>\n",
              "      <td>...</td>\n",
              "      <td>...</td>\n",
              "      <td>...</td>\n",
              "      <td>...</td>\n",
              "      <td>...</td>\n",
              "      <td>...</td>\n",
              "      <td>...</td>\n",
              "      <td>...</td>\n",
              "      <td>...</td>\n",
              "      <td>...</td>\n",
              "      <td>...</td>\n",
              "      <td>...</td>\n",
              "      <td>...</td>\n",
              "      <td>...</td>\n",
              "      <td>...</td>\n",
              "      <td>...</td>\n",
              "      <td>...</td>\n",
              "      <td>...</td>\n",
              "      <td>...</td>\n",
              "      <td>...</td>\n",
              "    </tr>\n",
              "    <tr>\n",
              "      <th>98363</th>\n",
              "      <td>ZZYT6KZ6</td>\n",
              "      <td>150.00</td>\n",
              "      <td>1</td>\n",
              "      <td>0</td>\n",
              "      <td>0</td>\n",
              "      <td>0</td>\n",
              "      <td>1</td>\n",
              "      <td>1</td>\n",
              "      <td>0</td>\n",
              "      <td>0</td>\n",
              "      <td>1</td>\n",
              "      <td>0</td>\n",
              "      <td>0</td>\n",
              "      <td>0</td>\n",
              "      <td>0</td>\n",
              "      <td>0</td>\n",
              "      <td>0</td>\n",
              "      <td>0</td>\n",
              "      <td>0</td>\n",
              "      <td>1</td>\n",
              "    </tr>\n",
              "    <tr>\n",
              "      <th>98364</th>\n",
              "      <td>ZZZ7S81M</td>\n",
              "      <td>500.00</td>\n",
              "      <td>0</td>\n",
              "      <td>1</td>\n",
              "      <td>0</td>\n",
              "      <td>0</td>\n",
              "      <td>0</td>\n",
              "      <td>0</td>\n",
              "      <td>1</td>\n",
              "      <td>0</td>\n",
              "      <td>0</td>\n",
              "      <td>0</td>\n",
              "      <td>0</td>\n",
              "      <td>0</td>\n",
              "      <td>0</td>\n",
              "      <td>0</td>\n",
              "      <td>0</td>\n",
              "      <td>0</td>\n",
              "      <td>0</td>\n",
              "      <td>1</td>\n",
              "    </tr>\n",
              "    <tr>\n",
              "      <th>98365</th>\n",
              "      <td>ZZZBT9C0</td>\n",
              "      <td>35.00</td>\n",
              "      <td>0</td>\n",
              "      <td>0</td>\n",
              "      <td>0</td>\n",
              "      <td>0</td>\n",
              "      <td>1</td>\n",
              "      <td>0</td>\n",
              "      <td>1</td>\n",
              "      <td>0</td>\n",
              "      <td>0</td>\n",
              "      <td>0</td>\n",
              "      <td>0</td>\n",
              "      <td>0</td>\n",
              "      <td>0</td>\n",
              "      <td>0</td>\n",
              "      <td>0</td>\n",
              "      <td>0</td>\n",
              "      <td>0</td>\n",
              "      <td>1</td>\n",
              "    </tr>\n",
              "    <tr>\n",
              "      <th>98366</th>\n",
              "      <td>ZZZC54VI</td>\n",
              "      <td>6499.74</td>\n",
              "      <td>1</td>\n",
              "      <td>0</td>\n",
              "      <td>1</td>\n",
              "      <td>0</td>\n",
              "      <td>0</td>\n",
              "      <td>0</td>\n",
              "      <td>0</td>\n",
              "      <td>1</td>\n",
              "      <td>0</td>\n",
              "      <td>0</td>\n",
              "      <td>0</td>\n",
              "      <td>0</td>\n",
              "      <td>0</td>\n",
              "      <td>0</td>\n",
              "      <td>0</td>\n",
              "      <td>0</td>\n",
              "      <td>0</td>\n",
              "      <td>1</td>\n",
              "    </tr>\n",
              "    <tr>\n",
              "      <th>98367</th>\n",
              "      <td>ZZZPEPYG</td>\n",
              "      <td>450.00</td>\n",
              "      <td>0</td>\n",
              "      <td>0</td>\n",
              "      <td>0</td>\n",
              "      <td>1</td>\n",
              "      <td>1</td>\n",
              "      <td>1</td>\n",
              "      <td>0</td>\n",
              "      <td>0</td>\n",
              "      <td>1</td>\n",
              "      <td>0</td>\n",
              "      <td>0</td>\n",
              "      <td>0</td>\n",
              "      <td>0</td>\n",
              "      <td>0</td>\n",
              "      <td>0</td>\n",
              "      <td>0</td>\n",
              "      <td>0</td>\n",
              "      <td>1</td>\n",
              "    </tr>\n",
              "  </tbody>\n",
              "</table>\n",
              "<p>98368 rows × 20 columns</p>\n",
              "</div>"
            ],
            "text/plain": [
              "      RANDOM_ID  TOTAL_AMT_2015_2020  ...  Skip_Years_Count__4  Skip_Years_Count__5\n",
              "0      00017EH9                15.00  ...                    0                    1\n",
              "1      000V0H91               250.00  ...                    0                    1\n",
              "2      001J3BUD               819.23  ...                    0                    1\n",
              "3      001RB8B4               485.14  ...                    0                    1\n",
              "4      001TY1IF              1050.00  ...                    0                    1\n",
              "...         ...                  ...  ...                  ...                  ...\n",
              "98363  ZZYT6KZ6               150.00  ...                    0                    1\n",
              "98364  ZZZ7S81M               500.00  ...                    0                    1\n",
              "98365  ZZZBT9C0                35.00  ...                    0                    1\n",
              "98366  ZZZC54VI              6499.74  ...                    0                    1\n",
              "98367  ZZZPEPYG               450.00  ...                    0                    1\n",
              "\n",
              "[98368 rows x 20 columns]"
            ]
          },
          "metadata": {
            "tags": []
          },
          "execution_count": 57
        }
      ]
    },
    {
      "cell_type": "code",
      "metadata": {
        "id": "Y-58565zJ82o"
      },
      "source": [
        "df_corr = dum_df2[['Giving_Year_Count__1','Giving_Year_Count__2','Giving_Year_Count__3','Giving_Year_Count__4','Giving_Year_Count__5','Giving_Year_Count__6']]"
      ],
      "execution_count": null,
      "outputs": []
    },
    {
      "cell_type": "code",
      "metadata": {
        "id": "VNH9idqlLlAC"
      },
      "source": [
        "corrMatrix1 = df_corr.corr()"
      ],
      "execution_count": null,
      "outputs": []
    },
    {
      "cell_type": "code",
      "metadata": {
        "colab": {
          "base_uri": "https://localhost:8080/",
          "height": 695
        },
        "id": "tXNm0kaWLogJ",
        "outputId": "359980ad-1deb-453e-b63b-f4e1d9be1963"
      },
      "source": [
        "plt.figure(figsize=(10,10))\r\n",
        "sns.heatmap(corrMatrix1, annot=True)\r\n",
        "plt.show()"
      ],
      "execution_count": null,
      "outputs": [
        {
          "output_type": "display_data",
          "data": {
            "image/png": "[encoded data removed]",
            "text/plain": [
              "<Figure size 720x720 with 2 Axes>"
            ]
          },
          "metadata": {
            "tags": [],
            "needs_background": "light"
          }
        }
      ]
    },
    {
      "cell_type": "code",
      "metadata": {
        "id": "9SYBnOzlLrWT"
      },
      "source": [
        "df_corr_skip = dum_df2[['Skip_Years_Count__1','Skip_Years_Count__2','Skip_Years_Count__3','Skip_Years_Count__4']]"
      ],
      "execution_count": null,
      "outputs": []
    },
    {
      "cell_type": "code",
      "metadata": {
        "id": "w40xZF5uMClf"
      },
      "source": [
        "corrMatrix2 = df_corr_skip.corr()"
      ],
      "execution_count": null,
      "outputs": []
    },
    {
      "cell_type": "code",
      "metadata": {
        "colab": {
          "base_uri": "https://localhost:8080/",
          "height": 610
        },
        "id": "GVyauQ42MFR0",
        "outputId": "4ece0720-a5dc-4bb5-c09f-e9b8b554a8c1"
      },
      "source": [
        "plt.figure(figsize=(15,10))\r\n",
        "sns.heatmap(corrMatrix2, annot=True)\r\n",
        "plt.show()"
      ],
      "execution_count": null,
      "outputs": [
        {
          "output_type": "display_data",
          "data": {
            "image/png": "[encoded data removed]",
            "text/plain": [
              "<Figure size 1080x720 with 2 Axes>"
            ]
          },
          "metadata": {
            "tags": [],
            "needs_background": "light"
          }
        }
      ]
    },
    {
      "cell_type": "code",
      "metadata": {
        "id": "KVZd4fAfMNFF"
      },
      "source": [
        "final_corr = dum_df2[['Giving_Year_Count__1','Giving_Year_Count__2','Giving_Year_Count__3','Giving_Year_Count__4','Giving_Year_Count__5','Giving_Year_Count__6','Skip_Years_Count__1','Skip_Years_Count__2','Skip_Years_Count__3','Skip_Years_Count__4']]"
      ],
      "execution_count": null,
      "outputs": []
    },
    {
      "cell_type": "code",
      "metadata": {
        "colab": {
          "base_uri": "https://localhost:8080/",
          "height": 695
        },
        "id": "zIE8PscpMRby",
        "outputId": "019e1b35-8294-4bb7-f690-f8ab36a7cef8"
      },
      "source": [
        "\r\n",
        "plt.figure(figsize=(15,10))\r\n",
        "corrMatrix3 = final_corr.corr()\r\n",
        "sns.heatmap(corrMatrix3, annot=True)\r\n",
        "plt.show()"
      ],
      "execution_count": null,
      "outputs": [
        {
          "output_type": "display_data",
          "data": {
            "image/png": "[encoded data removed]",
            "text/plain": [
              "<Figure size 1080x720 with 2 Axes>"
            ]
          },
          "metadata": {
            "tags": [],
            "needs_background": "light"
          }
        }
      ]
    },
    {
      "cell_type": "code",
      "metadata": {
        "id": "8kFhnkHSMi9P"
      },
      "source": [
        ""
      ],
      "execution_count": null,
      "outputs": []
    }
  ]
}